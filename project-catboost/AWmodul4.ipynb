{
 "cells": [
  {
   "cell_type": "code",
   "execution_count": null,
   "id": "505a877a",
   "metadata": {},
   "outputs": [],
   "source": [
    "\n"
   ]
  },
  {
   "cell_type": "code",
   "execution_count": 1,
   "id": "83877f27",
   "metadata": {},
   "outputs": [
    {
     "data": {
      "text/plain": [
       "'1.2.7'"
      ]
     },
     "execution_count": 1,
     "metadata": {},
     "output_type": "execute_result"
    }
   ],
   "source": [
    "import aw_client\n",
    "import catboost\n",
    "\n",
    "\n",
    "catboost.__version__"
   ]
  },
  {
   "cell_type": "code",
   "execution_count": null,
   "id": "0e80cf51",
   "metadata": {},
   "outputs": [],
   "source": []
  },
  {
   "cell_type": "code",
   "execution_count": 2,
   "id": "3cf31f77",
   "metadata": {},
   "outputs": [],
   "source": [
    "from aw_client import Session\n",
    "\n",
    "token = open('token_rus.txt').read()\n",
    "\n",
    "session = Session(token=token, aw_url='https://aw-demo.ru')"
   ]
  },
  {
   "cell_type": "code",
   "execution_count": 3,
   "id": "d5fdf21e",
   "metadata": {},
   "outputs": [
    {
     "data": {
      "text/html": [
       "<div>\n",
       "<style scoped>\n",
       "    .dataframe tbody tr th:only-of-type {\n",
       "        vertical-align: middle;\n",
       "    }\n",
       "\n",
       "    .dataframe tbody tr th {\n",
       "        vertical-align: top;\n",
       "    }\n",
       "\n",
       "    .dataframe thead th {\n",
       "        text-align: right;\n",
       "    }\n",
       "</style>\n",
       "<table border=\"1\" class=\"dataframe\">\n",
       "  <thead>\n",
       "    <tr style=\"text-align: right;\">\n",
       "      <th></th>\n",
       "      <th>interval</th>\n",
       "      <th>min_date</th>\n",
       "      <th>max_date</th>\n",
       "      <th>summa</th>\n",
       "      <th>donor_id</th>\n",
       "      <th>recurring_yes</th>\n",
       "    </tr>\n",
       "  </thead>\n",
       "  <tbody>\n",
       "    <tr>\n",
       "      <th>0</th>\n",
       "      <td>0</td>\n",
       "      <td>1089</td>\n",
       "      <td>1089</td>\n",
       "      <td>750</td>\n",
       "      <td>7c81052382eb8800f9dc2d98c0b4a724</td>\n",
       "      <td>0</td>\n",
       "    </tr>\n",
       "    <tr>\n",
       "      <th>1</th>\n",
       "      <td>0</td>\n",
       "      <td>1088</td>\n",
       "      <td>1088</td>\n",
       "      <td>500</td>\n",
       "      <td>ee5cf36a0e29b21bf9fb6ea33294d30a</td>\n",
       "      <td>0</td>\n",
       "    </tr>\n",
       "    <tr>\n",
       "      <th>2</th>\n",
       "      <td>0</td>\n",
       "      <td>1088</td>\n",
       "      <td>1088</td>\n",
       "      <td>1000</td>\n",
       "      <td>6579c30b242298d9e8d245ce29d86727</td>\n",
       "      <td>0</td>\n",
       "    </tr>\n",
       "    <tr>\n",
       "      <th>3</th>\n",
       "      <td>0</td>\n",
       "      <td>1088</td>\n",
       "      <td>1088</td>\n",
       "      <td>300</td>\n",
       "      <td>575a6e0939c1410c56ab518e73676488</td>\n",
       "      <td>0</td>\n",
       "    </tr>\n",
       "    <tr>\n",
       "      <th>4</th>\n",
       "      <td>0</td>\n",
       "      <td>1087</td>\n",
       "      <td>1087</td>\n",
       "      <td>500</td>\n",
       "      <td>21c98cb768103e6f65eef7fc343907de</td>\n",
       "      <td>0</td>\n",
       "    </tr>\n",
       "    <tr>\n",
       "      <th>...</th>\n",
       "      <td>...</td>\n",
       "      <td>...</td>\n",
       "      <td>...</td>\n",
       "      <td>...</td>\n",
       "      <td>...</td>\n",
       "      <td>...</td>\n",
       "    </tr>\n",
       "    <tr>\n",
       "      <th>52984</th>\n",
       "      <td>0</td>\n",
       "      <td>3</td>\n",
       "      <td>3</td>\n",
       "      <td>300</td>\n",
       "      <td>0e6adab328356c5a17eb562398030a25</td>\n",
       "      <td>0</td>\n",
       "    </tr>\n",
       "    <tr>\n",
       "      <th>52985</th>\n",
       "      <td>0</td>\n",
       "      <td>3</td>\n",
       "      <td>3</td>\n",
       "      <td>150</td>\n",
       "      <td>750d500c02b2d16839f2fd443486040e</td>\n",
       "      <td>0</td>\n",
       "    </tr>\n",
       "    <tr>\n",
       "      <th>52986</th>\n",
       "      <td>0</td>\n",
       "      <td>65</td>\n",
       "      <td>65</td>\n",
       "      <td>300</td>\n",
       "      <td>29ff8fb2d364a46eb05e52a134371130</td>\n",
       "      <td>0</td>\n",
       "    </tr>\n",
       "    <tr>\n",
       "      <th>52987</th>\n",
       "      <td>0</td>\n",
       "      <td>18</td>\n",
       "      <td>18</td>\n",
       "      <td>100</td>\n",
       "      <td>c34a2547e40347a44c873b48e59fd35d</td>\n",
       "      <td>0</td>\n",
       "    </tr>\n",
       "    <tr>\n",
       "      <th>52988</th>\n",
       "      <td>0</td>\n",
       "      <td>9</td>\n",
       "      <td>9</td>\n",
       "      <td>1000</td>\n",
       "      <td>a9f973f4c1612b7a331702be31ba411f</td>\n",
       "      <td>0</td>\n",
       "    </tr>\n",
       "  </tbody>\n",
       "</table>\n",
       "<p>52989 rows × 6 columns</p>\n",
       "</div>"
      ],
      "text/plain": [
       "       interval  min_date  max_date  summa                          donor_id  \\\n",
       "0             0      1089      1089    750  7c81052382eb8800f9dc2d98c0b4a724   \n",
       "1             0      1088      1088    500  ee5cf36a0e29b21bf9fb6ea33294d30a   \n",
       "2             0      1088      1088   1000  6579c30b242298d9e8d245ce29d86727   \n",
       "3             0      1088      1088    300  575a6e0939c1410c56ab518e73676488   \n",
       "4             0      1087      1087    500  21c98cb768103e6f65eef7fc343907de   \n",
       "...         ...       ...       ...    ...                               ...   \n",
       "52984         0         3         3    300  0e6adab328356c5a17eb562398030a25   \n",
       "52985         0         3         3    150  750d500c02b2d16839f2fd443486040e   \n",
       "52986         0        65        65    300  29ff8fb2d364a46eb05e52a134371130   \n",
       "52987         0        18        18    100  c34a2547e40347a44c873b48e59fd35d   \n",
       "52988         0         9         9   1000  a9f973f4c1612b7a331702be31ba411f   \n",
       "\n",
       "       recurring_yes  \n",
       "0                  0  \n",
       "1                  0  \n",
       "2                  0  \n",
       "3                  0  \n",
       "4                  0  \n",
       "...              ...  \n",
       "52984              0  \n",
       "52985              0  \n",
       "52986              0  \n",
       "52987              0  \n",
       "52988              0  \n",
       "\n",
       "[52989 rows x 6 columns]"
      ]
     },
     "execution_count": 3,
     "metadata": {},
     "output_type": "execute_result"
    }
   ],
   "source": [
    "df = session.load_model(model_id=13520)\n",
    "\n",
    "df"
   ]
  },
  {
   "cell_type": "code",
   "execution_count": 4,
   "id": "1737cbea",
   "metadata": {},
   "outputs": [
    {
     "name": "stdout",
     "output_type": "stream",
     "text": [
      "<class 'pandas.core.frame.DataFrame'>\n",
      "RangeIndex: 52989 entries, 0 to 52988\n",
      "Data columns (total 6 columns):\n",
      " #   Column         Non-Null Count  Dtype \n",
      "---  ------         --------------  ----- \n",
      " 0   interval       52989 non-null  int64 \n",
      " 1   min_date       52989 non-null  int64 \n",
      " 2   max_date       52989 non-null  int64 \n",
      " 3   summa          52989 non-null  int64 \n",
      " 4   donor_id       52989 non-null  object\n",
      " 5   recurring_yes  52989 non-null  int64 \n",
      "dtypes: int64(5), object(1)\n",
      "memory usage: 2.4+ MB\n"
     ]
    },
    {
     "data": {
      "text/plain": [
       "interval         0\n",
       "min_date         0\n",
       "max_date         0\n",
       "summa            0\n",
       "donor_id         0\n",
       "recurring_yes    0\n",
       "dtype: int64"
      ]
     },
     "execution_count": 4,
     "metadata": {},
     "output_type": "execute_result"
    }
   ],
   "source": [
    "df.info()\n",
    "df.isna().sum()"
   ]
  },
  {
   "cell_type": "code",
   "execution_count": 11,
   "id": "a538de4f",
   "metadata": {},
   "outputs": [],
   "source": [
    "from sklearn.model_selection import train_test_split\n",
    "from catboost import CatBoostClassifier, Pool\n",
    "\n",
    "\n",
    "CAT_FEATURES = ['donor_id']\n",
    "\n",
    "FEATURES = [\n",
    "    'interval',\n",
    "    'min_date',\n",
    "    'max_date',\n",
    "    'summa',\n",
    "] + CAT_FEATURES\n",
    "\n",
    "TARGET = 'recurring_yes'\n",
    "IGNORED_FEATURES = ['donor_id']\n",
    "\n",
    "\n",
    "def fit_model(df, random_state=1):\n",
    "    \"\"\" \n",
    "    Процедура обучения ML-модели \n",
    "    \"\"\"\n",
    "\n",
    "    X_train, X_val, y_train, y_val = train_test_split(df[FEATURES], df[TARGET], test_size=0.2, random_state=random_state )\n",
    "    \n",
    "    train_pool = Pool(X_train, y_train, cat_features=CAT_FEATURES)\n",
    "    eval_pool = Pool(X_val, y_val, cat_features=CAT_FEATURES)\n",
    "\n",
    "    model = CatBoostClassifier(random_seed=random_state, learning_rate=0.005, iterations = 2000, ignored_features = df[IGNORED_FEATURES])\n",
    "    model.fit(train_pool, eval_set=eval_pool, plot=True, verbose=False, use_best_model=True)\n",
    "\n",
    "    return model"
   ]
  },
  {
   "cell_type": "code",
   "execution_count": 12,
   "id": "58ca273b",
   "metadata": {},
   "outputs": [
    {
     "data": {
      "application/vnd.jupyter.widget-view+json": {
       "model_id": "956ddccc63c64f9491be90e07572165a",
       "version_major": 2,
       "version_minor": 0
      },
      "text/plain": [
       "MetricVisualizer(layout=Layout(align_self='stretch', height='500px'))"
      ]
     },
     "metadata": {},
     "output_type": "display_data"
    },
    {
     "name": "stderr",
     "output_type": "stream",
     "text": [
      "Registered model 'Modul4__rustambash7_demo' already exists. Creating a new version of this model...\n",
      "2024/12/11 07:46:11 INFO mlflow.store.model_registry.abstract_store: Waiting up to 300 seconds for model version to finish creation. Model name: Modul4__rustambash7_demo, version 2\n",
      "Created version '2' of model 'Modul4__rustambash7_demo'.\n"
     ]
    }
   ],
   "source": [
    "# Последняя ячейка\n",
    "experiment_id = session.mlflow.setup_experiment('Modul4__rustambash7_demo')\n",
    "\n",
    "with session.mlflow.start_run(experiment_id=experiment_id):\n",
    "    model = fit_model(df)\n",
    "    session.mlflow.log_metrics(model.get_best_score()['validation'])\n",
    "    session.mlflow.catboost.log_model(model, 'model', registered_model_name='Modul4__rustambash7_demo')"
   ]
  },
  {
   "cell_type": "code",
   "execution_count": null,
   "id": "198b920b",
   "metadata": {},
   "outputs": [],
   "source": []
  }
 ],
 "metadata": {
  "kernelspec": {
   "display_name": "Python 3 (ipykernel)",
   "language": "python",
   "name": "python3"
  },
  "language_info": {
   "codemirror_mode": {
    "name": "ipython",
    "version": 3
   },
   "file_extension": ".py",
   "mimetype": "text/x-python",
   "name": "python",
   "nbconvert_exporter": "python",
   "pygments_lexer": "ipython3",
   "version": "3.11.9"
  },
  "widgets": {
   "application/vnd.jupyter.widget-state+json": {
    "state": {
     "39ccf784019649a29f837c0c235bb447": {
      "model_module": "catboost-widget",
      "model_module_version": "^1.0.0",
      "model_name": "CatboostWidgetModel",
      "state": {
       "_model_module_version": "^1.0.0",
       "_view_module_version": "^1.0.0",
       "data": {
        "catboost_info": {
         "content": {
          "data": {
           "iterations": [],
           "meta": {}
          },
          "passed_iterations": 0,
          "total_iterations": 0
         },
         "name": "catboost_info",
         "path": "catboost_info"
        }
       },
       "layout": "IPY_MODEL_56eecf97e4ec4cf8b6dfe2e0759f2728"
      }
     },
     "56eecf97e4ec4cf8b6dfe2e0759f2728": {
      "model_module": "@jupyter-widgets/base",
      "model_module_version": "2.0.0",
      "model_name": "LayoutModel",
      "state": {
       "align_self": "stretch",
       "height": "500px"
      }
     },
     "765ef7100e54497caead5cb96271cb26": {
      "model_module": "@jupyter-widgets/base",
      "model_module_version": "2.0.0",
      "model_name": "LayoutModel",
      "state": {
       "align_self": "stretch",
       "height": "500px"
      }
     },
     "956ddccc63c64f9491be90e07572165a": {
      "model_module": "catboost-widget",
      "model_module_version": "^1.0.0",
      "model_name": "CatboostWidgetModel",
      "state": {
       "_model_module_version": "^1.0.0",
       "_view_module_version": "^1.0.0",
       "data": {
        "catboost_info": {
         "content": {
          "data": {
           "iterations": [
            {
             "iteration": 0,
             "learn": [
              0.6727382075
             ],
             "passed_time": 0.2318523354,
             "remaining_time": 463.4728184,
             "test": [
              0.6728021334
             ]
            },
            {
             "iteration": 1,
             "learn": [
              0.6605227948
             ],
             "passed_time": 0.301962009,
             "remaining_time": 301.660047,
             "test": [
              0.6606413965
             ]
            },
            {
             "iteration": 2,
             "learn": [
              0.6395492667
             ],
             "passed_time": 0.3292192937,
             "remaining_time": 219.1503098,
             "test": [
              0.6397834026
             ]
            },
            {
             "iteration": 3,
             "learn": [
              0.6209609061
             ],
             "passed_time": 0.3677997877,
             "remaining_time": 183.5320941,
             "test": [
              0.6212957481
             ]
            },
            {
             "iteration": 4,
             "learn": [
              0.6044655894
             ],
             "passed_time": 0.4123682072,
             "remaining_time": 164.5349147,
             "test": [
              0.6048643959
             ]
            },
            {
             "iteration": 5,
             "learn": [
              0.5888915946
             ],
             "passed_time": 0.4482623747,
             "remaining_time": 148.9725292,
             "test": [
              0.589351608
             ]
            },
            {
             "iteration": 6,
             "learn": [
              0.5722279381
             ],
             "passed_time": 0.4924317566,
             "remaining_time": 140.2023558,
             "test": [
              0.5727711918
             ]
            },
            {
             "iteration": 7,
             "learn": [
              0.5541179661
             ],
             "passed_time": 0.5206465421,
             "remaining_time": 129.640989,
             "test": [
              0.5546894789
             ]
            },
            {
             "iteration": 8,
             "learn": [
              0.5380476977
             ],
             "passed_time": 0.5432169213,
             "remaining_time": 120.1716545,
             "test": [
              0.5386497213
             ]
            },
            {
             "iteration": 9,
             "learn": [
              0.5204762543
             ],
             "passed_time": 0.5694632531,
             "remaining_time": 113.3231874,
             "test": [
              0.5210962169
             ]
            },
            {
             "iteration": 10,
             "learn": [
              0.504626735
             ],
             "passed_time": 0.5952127301,
             "remaining_time": 107.6252837,
             "test": [
              0.5052976403
             ]
            },
            {
             "iteration": 11,
             "learn": [
              0.4902851788
             ],
             "passed_time": 0.6192735551,
             "remaining_time": 102.5929856,
             "test": [
              0.4909731712
             ]
            },
            {
             "iteration": 12,
             "learn": [
              0.4761720672
             ],
             "passed_time": 0.642432699,
             "remaining_time": 98.19336715,
             "test": [
              0.4768691779
             ]
            },
            {
             "iteration": 13,
             "learn": [
              0.4654448302
             ],
             "passed_time": 0.6684452599,
             "remaining_time": 94.82373472,
             "test": [
              0.4661563551
             ]
            },
            {
             "iteration": 14,
             "learn": [
              0.4523731843
             ],
             "passed_time": 0.6881661932,
             "remaining_time": 91.06732623,
             "test": [
              0.4531067584
             ]
            },
            {
             "iteration": 15,
             "learn": [
              0.4379673628
             ],
             "passed_time": 0.706573307,
             "remaining_time": 87.61509007,
             "test": [
              0.438721615
             ]
            },
            {
             "iteration": 16,
             "learn": [
              0.4302302294
             ],
             "passed_time": 0.7234125406,
             "remaining_time": 84.38394517,
             "test": [
              0.430993777
             ]
            },
            {
             "iteration": 17,
             "learn": [
              0.417451421
             ],
             "passed_time": 0.7400218743,
             "remaining_time": 81.48463082,
             "test": [
              0.4182136472
             ]
            },
            {
             "iteration": 18,
             "learn": [
              0.4099910318
             ],
             "passed_time": 0.7564474652,
             "remaining_time": 78.86960151,
             "test": [
              0.4107985967
             ]
            },
            {
             "iteration": 19,
             "learn": [
              0.4035880859
             ],
             "passed_time": 0.7728514248,
             "remaining_time": 76.51229106,
             "test": [
              0.404400763
             ]
            },
            {
             "iteration": 20,
             "learn": [
              0.3913840561
             ],
             "passed_time": 0.7887716825,
             "remaining_time": 74.33234094,
             "test": [
              0.3922228346
             ]
            },
            {
             "iteration": 21,
             "learn": [
              0.379669317
             ],
             "passed_time": 0.8047833872,
             "remaining_time": 72.35734272,
             "test": [
              0.3805360804
             ]
            },
            {
             "iteration": 22,
             "learn": [
              0.3677115071
             ],
             "passed_time": 0.8213338316,
             "remaining_time": 70.59899935,
             "test": [
              0.3686077534
             ]
            },
            {
             "iteration": 23,
             "learn": [
              0.3558688873
             ],
             "passed_time": 0.8427500438,
             "remaining_time": 69.38642028,
             "test": [
              0.3567827284
             ]
            },
            {
             "iteration": 24,
             "learn": [
              0.3454340044
             ],
             "passed_time": 0.8599101879,
             "remaining_time": 67.93290484,
             "test": [
              0.3463695058
             ]
            },
            {
             "iteration": 25,
             "learn": [
              0.334819326
             ],
             "passed_time": 0.8762656158,
             "remaining_time": 66.52878175,
             "test": [
              0.3357822835
             ]
            },
            {
             "iteration": 26,
             "learn": [
              0.3237948139
             ],
             "passed_time": 0.8982966132,
             "remaining_time": 65.64219325,
             "test": [
              0.3247726461
             ]
            },
            {
             "iteration": 27,
             "learn": [
              0.3145825265
             ],
             "passed_time": 0.9161031647,
             "remaining_time": 64.51983717,
             "test": [
              0.3155956904
             ]
            },
            {
             "iteration": 28,
             "learn": [
              0.3043242524
             ],
             "passed_time": 0.9317773049,
             "remaining_time": 63.32872648,
             "test": [
              0.3053394459
             ]
            },
            {
             "iteration": 29,
             "learn": [
              0.2970601285
             ],
             "passed_time": 0.9466321498,
             "remaining_time": 62.16217784,
             "test": [
              0.2981084811
             ]
            },
            {
             "iteration": 30,
             "learn": [
              0.2892667341
             ],
             "passed_time": 0.9615618915,
             "remaining_time": 61.07468917,
             "test": [
              0.2903475367
             ]
            },
            {
             "iteration": 31,
             "learn": [
              0.2845045763
             ],
             "passed_time": 0.9757642893,
             "remaining_time": 60.00950379,
             "test": [
              0.2855922776
             ]
            },
            {
             "iteration": 32,
             "learn": [
              0.2751442056
             ],
             "passed_time": 0.9936168005,
             "remaining_time": 59.22558323,
             "test": [
              0.2762317999
             ]
            },
            {
             "iteration": 33,
             "learn": [
              0.2679738135
             ],
             "passed_time": 1.024238652,
             "remaining_time": 59.22509381,
             "test": [
              0.2691072974
             ]
            },
            {
             "iteration": 34,
             "learn": [
              0.2613006212
             ],
             "passed_time": 1.043003906,
             "remaining_time": 58.55721929,
             "test": [
              0.2624629353
             ]
            },
            {
             "iteration": 35,
             "learn": [
              0.2537606973
             ],
             "passed_time": 1.057547672,
             "remaining_time": 57.69510079,
             "test": [
              0.2549502496
             ]
            },
            {
             "iteration": 36,
             "learn": [
              0.2454538967
             ],
             "passed_time": 1.071910998,
             "remaining_time": 56.86922405,
             "test": [
              0.2466497295
             ]
            },
            {
             "iteration": 37,
             "learn": [
              0.2394686799
             ],
             "passed_time": 1.086508145,
             "remaining_time": 56.09813105,
             "test": [
              0.2406785521
             ]
            },
            {
             "iteration": 38,
             "learn": [
              0.2325550279
             ],
             "passed_time": 1.100838055,
             "remaining_time": 55.35239556,
             "test": [
              0.2337837012
             ]
            },
            {
             "iteration": 39,
             "learn": [
              0.2258470429
             ],
             "passed_time": 1.115418161,
             "remaining_time": 54.65548989,
             "test": [
              0.227069425
             ]
            },
            {
             "iteration": 40,
             "learn": [
              0.221269891
             ],
             "passed_time": 1.144244526,
             "remaining_time": 54.67256163,
             "test": [
              0.2224983871
             ]
            },
            {
             "iteration": 41,
             "learn": [
              0.2144302138
             ],
             "passed_time": 1.165592819,
             "remaining_time": 54.33882714,
             "test": [
              0.2156574292
             ]
            },
            {
             "iteration": 42,
             "learn": [
              0.2074427937
             ],
             "passed_time": 1.199129451,
             "remaining_time": 54.57433339,
             "test": [
              0.2086679799
             ]
            },
            {
             "iteration": 43,
             "learn": [
              0.2013367732
             ],
             "passed_time": 1.214844974,
             "remaining_time": 54.00538113,
             "test": [
              0.2025601347
             ]
            },
            {
             "iteration": 44,
             "learn": [
              0.194734111
             ],
             "passed_time": 1.233376449,
             "remaining_time": 53.58335462,
             "test": [
              0.1959690863
             ]
            },
            {
             "iteration": 45,
             "learn": [
              0.1887091445
             ],
             "passed_time": 1.249213457,
             "remaining_time": 53.0644151,
             "test": [
              0.1899422033
             ]
            },
            {
             "iteration": 46,
             "learn": [
              0.1826245962
             ],
             "passed_time": 1.264234211,
             "remaining_time": 52.53296625,
             "test": [
              0.1838482663
             ]
            },
            {
             "iteration": 47,
             "learn": [
              0.1768589369
             ],
             "passed_time": 1.281049208,
             "remaining_time": 52.09600111,
             "test": [
              0.1780855403
             ]
            },
            {
             "iteration": 48,
             "learn": [
              0.1714520997
             ],
             "passed_time": 1.297971817,
             "remaining_time": 51.68046969,
             "test": [
              0.1726975486
             ]
            },
            {
             "iteration": 49,
             "learn": [
              0.1660774232
             ],
             "passed_time": 1.314493725,
             "remaining_time": 51.26525527,
             "test": [
              0.1673158787
             ]
            },
            {
             "iteration": 50,
             "learn": [
              0.1624873677
             ],
             "passed_time": 1.330413866,
             "remaining_time": 50.84267892,
             "test": [
              0.1637322286
             ]
            },
            {
             "iteration": 51,
             "learn": [
              0.1572445488
             ],
             "passed_time": 1.364971771,
             "remaining_time": 51.13394251,
             "test": [
              0.1584769159
             ]
            },
            {
             "iteration": 52,
             "learn": [
              0.1526434774
             ],
             "passed_time": 1.382360252,
             "remaining_time": 50.78217757,
             "test": [
              0.1538718464
             ]
            },
            {
             "iteration": 53,
             "learn": [
              0.147782909
             ],
             "passed_time": 1.40201917,
             "remaining_time": 50.52461674,
             "test": [
              0.1490132232
             ]
            },
            {
             "iteration": 54,
             "learn": [
              0.1434945315
             ],
             "passed_time": 1.417229404,
             "remaining_time": 50.11838528,
             "test": [
              0.1447233128
             ]
            },
            {
             "iteration": 55,
             "learn": [
              0.1396678766
             ],
             "passed_time": 1.432940954,
             "remaining_time": 49.7435217,
             "test": [
              0.1409065316
             ]
            },
            {
             "iteration": 56,
             "learn": [
              0.1366832003
             ],
             "passed_time": 1.448932279,
             "remaining_time": 49.3907968,
             "test": [
              0.1379157036
             ]
            },
            {
             "iteration": 57,
             "learn": [
              0.1329128527
             ],
             "passed_time": 1.472444955,
             "remaining_time": 49.30151901,
             "test": [
              0.134157373
             ]
            },
            {
             "iteration": 58,
             "learn": [
              0.1287136914
             ],
             "passed_time": 1.495152317,
             "remaining_time": 49.18797707,
             "test": [
              0.1299425767
             ]
            },
            {
             "iteration": 59,
             "learn": [
              0.1246188827
             ],
             "passed_time": 1.516727975,
             "remaining_time": 49.0408712,
             "test": [
              0.1258469281
             ]
            },
            {
             "iteration": 60,
             "learn": [
              0.1205673184
             ],
             "passed_time": 1.534833041,
             "remaining_time": 48.78756174,
             "test": [
              0.1217853094
             ]
            },
            {
             "iteration": 61,
             "learn": [
              0.1168906825
             ],
             "passed_time": 1.553469775,
             "remaining_time": 48.55845844,
             "test": [
              0.1181017088
             ]
            },
            {
             "iteration": 62,
             "learn": [
              0.1132017796
             ],
             "passed_time": 1.570908002,
             "remaining_time": 48.29918729,
             "test": [
              0.1144019985
             ]
            },
            {
             "iteration": 63,
             "learn": [
              0.1096758035
             ],
             "passed_time": 1.589474076,
             "remaining_time": 48.0815908,
             "test": [
              0.1108631562
             ]
            },
            {
             "iteration": 64,
             "learn": [
              0.1064767996
             ],
             "passed_time": 1.606074624,
             "remaining_time": 47.81160611,
             "test": [
              0.1076673023
             ]
            },
            {
             "iteration": 65,
             "learn": [
              0.103686046
             ],
             "passed_time": 1.644680747,
             "remaining_time": 48.19412977,
             "test": [
              0.1048856077
             ]
            },
            {
             "iteration": 66,
             "learn": [
              0.1004780933
             ],
             "passed_time": 1.67691293,
             "remaining_time": 48.38018945,
             "test": [
              0.1016687985
             ]
            },
            {
             "iteration": 67,
             "learn": [
              0.09736343882
             ],
             "passed_time": 1.714197915,
             "remaining_time": 48.70338781,
             "test": [
              0.09853351179
             ]
            },
            {
             "iteration": 68,
             "learn": [
              0.09434260335
             ],
             "passed_time": 1.736208233,
             "remaining_time": 48.58866809,
             "test": [
              0.09550072356
             ]
            },
            {
             "iteration": 69,
             "learn": [
              0.09148975504
             ],
             "passed_time": 1.758154225,
             "remaining_time": 48.47482364,
             "test": [
              0.09263361814
             ]
            },
            {
             "iteration": 70,
             "learn": [
              0.08873955093
             ],
             "passed_time": 1.779718801,
             "remaining_time": 48.35320518,
             "test": [
              0.08987602731
             ]
            },
            {
             "iteration": 71,
             "learn": [
              0.08611086587
             ],
             "passed_time": 1.799476792,
             "remaining_time": 48.18598965,
             "test": [
              0.08723738747
             ]
            },
            {
             "iteration": 72,
             "learn": [
              0.08347666662
             ],
             "passed_time": 1.815345849,
             "remaining_time": 47.92015687,
             "test": [
              0.08458564228
             ]
            },
            {
             "iteration": 73,
             "learn": [
              0.08092226245
             ],
             "passed_time": 1.830444856,
             "remaining_time": 47.64103774,
             "test": [
              0.08201406964
             ]
            },
            {
             "iteration": 74,
             "learn": [
              0.07856898716
             ],
             "passed_time": 1.845453116,
             "remaining_time": 47.36662997,
             "test": [
              0.07965123567
             ]
            },
            {
             "iteration": 75,
             "learn": [
              0.07623415351
             ],
             "passed_time": 1.860395099,
             "remaining_time": 47.09737067,
             "test": [
              0.07730357151
             ]
            },
            {
             "iteration": 76,
             "learn": [
              0.07430240272
             ],
             "passed_time": 1.874624731,
             "remaining_time": 46.81692672,
             "test": [
              0.07536160388
             ]
            },
            {
             "iteration": 77,
             "learn": [
              0.07205919575
             ],
             "passed_time": 1.889287479,
             "remaining_time": 46.5539812,
             "test": [
              0.07310562946
             ]
            },
            {
             "iteration": 78,
             "learn": [
              0.07016924612
             ],
             "passed_time": 1.903319349,
             "remaining_time": 46.28198064,
             "test": [
              0.07120871907
             ]
            },
            {
             "iteration": 79,
             "learn": [
              0.06808597786
             ],
             "passed_time": 1.917685967,
             "remaining_time": 46.02446321,
             "test": [
              0.06910985974
             ]
            },
            {
             "iteration": 80,
             "learn": [
              0.06710791203
             ],
             "passed_time": 1.931578041,
             "remaining_time": 45.76170693,
             "test": [
              0.06812554819
             ]
            },
            {
             "iteration": 81,
             "learn": [
              0.06513736768
             ],
             "passed_time": 1.945458758,
             "remaining_time": 45.50475485,
             "test": [
              0.06614129387
             ]
            },
            {
             "iteration": 82,
             "learn": [
              0.06319669791
             ],
             "passed_time": 1.964245222,
             "remaining_time": 45.36696494,
             "test": [
              0.06418874383
             ]
            },
            {
             "iteration": 83,
             "learn": [
              0.0615906375
             ],
             "passed_time": 1.994658342,
             "remaining_time": 45.49720694,
             "test": [
              0.06257397845
             ]
            },
            {
             "iteration": 84,
             "learn": [
              0.05981946625
             ],
             "passed_time": 2.010735039,
             "remaining_time": 45.30067763,
             "test": [
              0.06079702407
             ]
            },
            {
             "iteration": 85,
             "learn": [
              0.05804344316
             ],
             "passed_time": 2.024834624,
             "remaining_time": 45.06434268,
             "test": [
              0.05900920941
             ]
            },
            {
             "iteration": 86,
             "learn": [
              0.05656185015
             ],
             "passed_time": 2.038348793,
             "remaining_time": 44.82024415,
             "test": [
              0.05751774099
             ]
            },
            {
             "iteration": 87,
             "learn": [
              0.05501758591
             ],
             "passed_time": 2.05265922,
             "remaining_time": 44.59868669,
             "test": [
              0.05596545257
             ]
            },
            {
             "iteration": 88,
             "learn": [
              0.05340940943
             ],
             "passed_time": 2.072224833,
             "remaining_time": 44.49462535,
             "test": [
              0.05434268327
             ]
            },
            {
             "iteration": 89,
             "learn": [
              0.05183851732
             ],
             "passed_time": 2.099837313,
             "remaining_time": 44.56321408,
             "test": [
              0.05275903215
             ]
            },
            {
             "iteration": 90,
             "learn": [
              0.05032690122
             ],
             "passed_time": 2.127947979,
             "remaining_time": 44.64013948,
             "test": [
              0.05123287775
             ]
            },
            {
             "iteration": 91,
             "learn": [
              0.04885053105
             ],
             "passed_time": 2.152017426,
             "remaining_time": 44.6309701,
             "test": [
              0.04974591458
             ]
            },
            {
             "iteration": 92,
             "learn": [
              0.04739194632
             ],
             "passed_time": 2.169922721,
             "remaining_time": 44.49508204,
             "test": [
              0.04827409434
             ]
            },
            {
             "iteration": 93,
             "learn": [
              0.0460104867
             ],
             "passed_time": 2.184404255,
             "remaining_time": 44.29228202,
             "test": [
              0.04688330851
             ]
            },
            {
             "iteration": 94,
             "learn": [
              0.04472884029
             ],
             "passed_time": 2.199627082,
             "remaining_time": 44.10831148,
             "test": [
              0.04559252749
             ]
            },
            {
             "iteration": 95,
             "learn": [
              0.04346108353
             ],
             "passed_time": 2.214269003,
             "remaining_time": 43.91633523,
             "test": [
              0.04431087661
             ]
            },
            {
             "iteration": 96,
             "learn": [
              0.04222401683
             ],
             "passed_time": 2.228731061,
             "remaining_time": 43.72448668,
             "test": [
              0.04305903009
             ]
            },
            {
             "iteration": 97,
             "learn": [
              0.04108860058
             ],
             "passed_time": 2.242733174,
             "remaining_time": 43.52733159,
             "test": [
              0.04191744909
             ]
            },
            {
             "iteration": 98,
             "learn": [
              0.03991712965
             ],
             "passed_time": 2.257508709,
             "remaining_time": 43.34872784,
             "test": [
              0.04073644286
             ]
            },
            {
             "iteration": 99,
             "learn": [
              0.03877263359
             ],
             "passed_time": 2.271333917,
             "remaining_time": 43.15534442,
             "test": [
              0.03957919621
             ]
            },
            {
             "iteration": 100,
             "learn": [
              0.03763644293
             ],
             "passed_time": 2.285377722,
             "remaining_time": 42.96962667,
             "test": [
              0.03843218891
             ]
            },
            {
             "iteration": 101,
             "learn": [
              0.03654511685
             ],
             "passed_time": 2.299268633,
             "remaining_time": 42.78443006,
             "test": [
              0.03733102373
             ]
            },
            {
             "iteration": 102,
             "learn": [
              0.03556249596
             ],
             "passed_time": 2.327142314,
             "remaining_time": 42.86008709,
             "test": [
              0.0363408697
             ]
            },
            {
             "iteration": 103,
             "learn": [
              0.03457887914
             ],
             "passed_time": 2.349781962,
             "remaining_time": 42.83833269,
             "test": [
              0.03534666222
             ]
            },
            {
             "iteration": 104,
             "learn": [
              0.0336145473
             ],
             "passed_time": 2.366714093,
             "remaining_time": 42.71355434,
             "test": [
              0.03437226509
             ]
            },
            {
             "iteration": 105,
             "learn": [
              0.03269915946
             ],
             "passed_time": 2.380870352,
             "remaining_time": 42.54121176,
             "test": [
              0.03344401539
             ]
            },
            {
             "iteration": 106,
             "learn": [
              0.03175850633
             ],
             "passed_time": 2.395295142,
             "remaining_time": 42.37657667,
             "test": [
              0.03249536475
             ]
            },
            {
             "iteration": 107,
             "learn": [
              0.03094124701
             ],
             "passed_time": 2.409774393,
             "remaining_time": 42.21567734,
             "test": [
              0.03166841366
             ]
            },
            {
             "iteration": 108,
             "learn": [
              0.03011664081
             ],
             "passed_time": 2.423871801,
             "remaining_time": 42.05084015,
             "test": [
              0.03083967716
             ]
            },
            {
             "iteration": 109,
             "learn": [
              0.02928691815
             ],
             "passed_time": 2.438288966,
             "remaining_time": 41.89423768,
             "test": [
              0.03000003485
             ]
            },
            {
             "iteration": 110,
             "learn": [
              0.02859774255
             ],
             "passed_time": 2.46212359,
             "remaining_time": 41.90046361,
             "test": [
              0.02930526909
             ]
            },
            {
             "iteration": 111,
             "learn": [
              0.02782682934
             ],
             "passed_time": 2.480371777,
             "remaining_time": 41.81198139,
             "test": [
              0.02852565813
             ]
            },
            {
             "iteration": 112,
             "learn": [
              0.02712524204
             ],
             "passed_time": 2.496037684,
             "remaining_time": 41.68162043,
             "test": [
              0.02781739091
             ]
            },
            {
             "iteration": 113,
             "learn": [
              0.026379384
             ],
             "passed_time": 2.510731414,
             "remaining_time": 41.53718813,
             "test": [
              0.027063953
             ]
            },
            {
             "iteration": 114,
             "learn": [
              0.0256786131
             ],
             "passed_time": 2.525799164,
             "remaining_time": 41.40114283,
             "test": [
              0.02635452083
             ]
            },
            {
             "iteration": 115,
             "learn": [
              0.02499609157
             ],
             "passed_time": 2.542217497,
             "remaining_time": 41.28911866,
             "test": [
              0.02566318448
             ]
            },
            {
             "iteration": 116,
             "learn": [
              0.02431997429
             ],
             "passed_time": 2.558530618,
             "remaining_time": 41.17703551,
             "test": [
              0.02497803318
             ]
            },
            {
             "iteration": 117,
             "learn": [
              0.02370620096
             ],
             "passed_time": 2.573222365,
             "remaining_time": 41.04071602,
             "test": [
              0.02435854732
             ]
            },
            {
             "iteration": 118,
             "learn": [
              0.02307634501
             ],
             "passed_time": 2.587237089,
             "remaining_time": 40.8957392,
             "test": [
              0.02371809911
             ]
            },
            {
             "iteration": 119,
             "learn": [
              0.02248209773
             ],
             "passed_time": 2.601051358,
             "remaining_time": 40.7498046,
             "test": [
              0.02311821365
             ]
            },
            {
             "iteration": 120,
             "learn": [
              0.02189716229
             ],
             "passed_time": 2.614743819,
             "remaining_time": 40.60416228,
             "test": [
              0.02252526186
             ]
            },
            {
             "iteration": 121,
             "learn": [
              0.02133886999
             ],
             "passed_time": 2.632918596,
             "remaining_time": 40.52968134,
             "test": [
              0.02195850408
             ]
            },
            {
             "iteration": 122,
             "learn": [
              0.02080224089
             ],
             "passed_time": 2.663509692,
             "remaining_time": 40.645591,
             "test": [
              0.021416076
             ]
            },
            {
             "iteration": 123,
             "learn": [
              0.02027142682
             ],
             "passed_time": 2.680493816,
             "remaining_time": 40.55327742,
             "test": [
              0.02087809296
             ]
            },
            {
             "iteration": 124,
             "learn": [
              0.0197576273
             ],
             "passed_time": 2.694223557,
             "remaining_time": 40.41335335,
             "test": [
              0.02035743759
             ]
            },
            {
             "iteration": 125,
             "learn": [
              0.01923911052
             ],
             "passed_time": 2.708332239,
             "remaining_time": 40.28106837,
             "test": [
              0.01983174707
             ]
            },
            {
             "iteration": 126,
             "learn": [
              0.01873949998
             ],
             "passed_time": 2.722014574,
             "remaining_time": 40.14435667,
             "test": [
              0.01932543843
             ]
            },
            {
             "iteration": 127,
             "learn": [
              0.01825261494
             ],
             "passed_time": 2.736781931,
             "remaining_time": 40.02543574,
             "test": [
              0.01883194227
             ]
            },
            {
             "iteration": 128,
             "learn": [
              0.01781913664
             ],
             "passed_time": 2.759293562,
             "remaining_time": 40.02045158,
             "test": [
              0.01839141221
             ]
            },
            {
             "iteration": 129,
             "learn": [
              0.01737181112
             ],
             "passed_time": 2.787232569,
             "remaining_time": 40.09326849,
             "test": [
              0.01793796234
             ]
            },
            {
             "iteration": 130,
             "learn": [
              0.01694033863
             ],
             "passed_time": 2.805534241,
             "remaining_time": 40.02704959,
             "test": [
              0.0174990235
             ]
            },
            {
             "iteration": 131,
             "learn": [
              0.01652321852
             ],
             "passed_time": 2.822903982,
             "remaining_time": 39.94836848,
             "test": [
              0.01707724852
             ]
            },
            {
             "iteration": 132,
             "learn": [
              0.01611207622
             ],
             "passed_time": 2.837183909,
             "remaining_time": 39.82723578,
             "test": [
              0.01666111839
             ]
            },
            {
             "iteration": 133,
             "learn": [
              0.0157238376
             ],
             "passed_time": 2.866011285,
             "remaining_time": 39.91027655,
             "test": [
              0.01626699998
             ]
            },
            {
             "iteration": 134,
             "learn": [
              0.01535655222
             ],
             "passed_time": 2.892416663,
             "remaining_time": 39.95820056,
             "test": [
              0.01589247265
             ]
            },
            {
             "iteration": 135,
             "learn": [
              0.01498614896
             ],
             "passed_time": 2.909570826,
             "remaining_time": 39.87823544,
             "test": [
              0.01551660096
             ]
            },
            {
             "iteration": 136,
             "learn": [
              0.01461082244
             ],
             "passed_time": 2.924124109,
             "remaining_time": 39.76381909,
             "test": [
              0.01513535648
             ]
            },
            {
             "iteration": 137,
             "learn": [
              0.01427485622
             ],
             "passed_time": 2.939931849,
             "remaining_time": 39.66777611,
             "test": [
              0.01479238217
             ]
            },
            {
             "iteration": 138,
             "learn": [
              0.01393793716
             ],
             "passed_time": 2.984918975,
             "remaining_time": 39.96355549,
             "test": [
              0.01444916062
             ]
            },
            {
             "iteration": 139,
             "learn": [
              0.01360118642
             ],
             "passed_time": 3.006798529,
             "remaining_time": 39.94746617,
             "test": [
              0.0141054749
             ]
            },
            {
             "iteration": 140,
             "learn": [
              0.01327916393
             ],
             "passed_time": 3.021046454,
             "remaining_time": 39.8306763,
             "test": [
              0.0137788893
             ]
            },
            {
             "iteration": 141,
             "learn": [
              0.01297300288
             ],
             "passed_time": 3.034858011,
             "remaining_time": 39.70962101,
             "test": [
              0.01346785961
             ]
            },
            {
             "iteration": 142,
             "learn": [
              0.01267041782
             ],
             "passed_time": 3.050108222,
             "remaining_time": 39.60874802,
             "test": [
              0.01315840582
             ]
            },
            {
             "iteration": 143,
             "learn": [
              0.01239164622
             ],
             "passed_time": 3.068838139,
             "remaining_time": 39.55391379,
             "test": [
              0.0128730171
             ]
            },
            {
             "iteration": 144,
             "learn": [
              0.01209451347
             ],
             "passed_time": 3.087696056,
             "remaining_time": 39.50121506,
             "test": [
              0.01257029589
             ]
            },
            {
             "iteration": 145,
             "learn": [
              0.01179428608
             ],
             "passed_time": 3.106774653,
             "remaining_time": 39.45178224,
             "test": [
              0.01226565097
             ]
            },
            {
             "iteration": 146,
             "learn": [
              0.01152831804
             ],
             "passed_time": 3.127576775,
             "remaining_time": 39.42448819,
             "test": [
              0.01199485424
             ]
            },
            {
             "iteration": 147,
             "learn": [
              0.01126288476
             ],
             "passed_time": 3.14855782,
             "remaining_time": 39.39952083,
             "test": [
              0.01172288706
             ]
            },
            {
             "iteration": 148,
             "learn": [
              0.0110096558
             ],
             "passed_time": 3.163070587,
             "remaining_time": 39.29425272,
             "test": [
              0.01146377101
             ]
            },
            {
             "iteration": 149,
             "learn": [
              0.01075367794
             ],
             "passed_time": 3.176870072,
             "remaining_time": 39.18139756,
             "test": [
              0.011204262
             ]
            },
            {
             "iteration": 150,
             "learn": [
              0.0105195977
             ],
             "passed_time": 3.191617984,
             "remaining_time": 39.0814679,
             "test": [
              0.01096506907
             ]
            },
            {
             "iteration": 151,
             "learn": [
              0.01027526052
             ],
             "passed_time": 3.205719351,
             "remaining_time": 38.97479843,
             "test": [
              0.01071514782
             ]
            },
            {
             "iteration": 152,
             "learn": [
              0.01004369236
             ],
             "passed_time": 3.22001622,
             "remaining_time": 38.87169907,
             "test": [
              0.01047742332
             ]
            },
            {
             "iteration": 153,
             "learn": [
              0.009825420401
             ],
             "passed_time": 3.233733909,
             "remaining_time": 38.76281037,
             "test": [
              0.01025496874
             ]
            },
            {
             "iteration": 154,
             "learn": [
              0.009609982274
             ],
             "passed_time": 3.247820412,
             "remaining_time": 38.65953975,
             "test": [
              0.01003432064
             ]
            },
            {
             "iteration": 155,
             "learn": [
              0.009401054889
             ],
             "passed_time": 3.261607115,
             "remaining_time": 38.55386872,
             "test": [
              0.00982122236
             ]
            },
            {
             "iteration": 156,
             "learn": [
              0.009177981394
             ],
             "passed_time": 3.275555839,
             "remaining_time": 38.45127013,
             "test": [
              0.00959422303
             ]
            },
            {
             "iteration": 157,
             "learn": [
              0.008978365323
             ],
             "passed_time": 3.289718825,
             "remaining_time": 38.35229161,
             "test": [
              0.009389824968
             ]
            },
            {
             "iteration": 158,
             "learn": [
              0.008779879668
             ],
             "passed_time": 3.304008481,
             "remaining_time": 38.25584662,
             "test": [
              0.009187030096
             ]
            },
            {
             "iteration": 159,
             "learn": [
              0.008594934363
             ],
             "passed_time": 3.317923558,
             "remaining_time": 38.15612091,
             "test": [
              0.008998339963
             ]
            },
            {
             "iteration": 160,
             "learn": [
              0.008413763691
             ],
             "passed_time": 3.339889656,
             "remaining_time": 38.14942284,
             "test": [
              0.008814443066
             ]
            },
            {
             "iteration": 161,
             "learn": [
              0.008218420435
             ],
             "passed_time": 3.359094525,
             "remaining_time": 38.11120826,
             "test": [
              0.008614632102
             ]
            },
            {
             "iteration": 162,
             "learn": [
              0.008041358722
             ],
             "passed_time": 3.377694998,
             "remaining_time": 38.06641541,
             "test": [
              0.008434001634
             ]
            },
            {
             "iteration": 163,
             "learn": [
              0.007875874844
             ],
             "passed_time": 3.395466096,
             "remaining_time": 38.01265702,
             "test": [
              0.008265206989
             ]
            },
            {
             "iteration": 164,
             "learn": [
              0.007709155043
             ],
             "passed_time": 3.413488153,
             "remaining_time": 37.96212583,
             "test": [
              0.008093916202
             ]
            },
            {
             "iteration": 165,
             "learn": [
              0.007551086891
             ],
             "passed_time": 3.432115971,
             "remaining_time": 37.91867886,
             "test": [
              0.007931443606
             ]
            },
            {
             "iteration": 166,
             "learn": [
              0.007391136496
             ],
             "passed_time": 3.453609125,
             "remaining_time": 37.9069792,
             "test": [
              0.007767511225
             ]
            },
            {
             "iteration": 167,
             "learn": [
              0.007239302569
             ],
             "passed_time": 3.472735564,
             "remaining_time": 37.86935449,
             "test": [
              0.007611802334
             ]
            },
            {
             "iteration": 168,
             "learn": [
              0.007088104232
             ],
             "passed_time": 3.491118008,
             "remaining_time": 37.82388801,
             "test": [
              0.007457018852
             ]
            },
            {
             "iteration": 169,
             "learn": [
              0.006937018876
             ],
             "passed_time": 3.511643108,
             "remaining_time": 37.80180522,
             "test": [
              0.007301329771
             ]
            },
            {
             "iteration": 170,
             "learn": [
              0.006798447904
             ],
             "passed_time": 3.533083258,
             "remaining_time": 37.78952795,
             "test": [
              0.007159924611
             ]
            },
            {
             "iteration": 171,
             "learn": [
              0.006661334391
             ],
             "passed_time": 3.547455019,
             "remaining_time": 37.70202195,
             "test": [
              0.007020760333
             ]
            },
            {
             "iteration": 172,
             "learn": [
              0.006535476456
             ],
             "passed_time": 3.564053088,
             "remaining_time": 37.63887278,
             "test": [
              0.006892492876
             ]
            },
            {
             "iteration": 173,
             "learn": [
              0.006405032511
             ],
             "passed_time": 3.579910613,
             "remaining_time": 37.56848724,
             "test": [
              0.006759655516
             ]
            },
            {
             "iteration": 174,
             "learn": [
              0.006276446118
             ],
             "passed_time": 3.602357891,
             "remaining_time": 37.56744658,
             "test": [
              0.006627675027
             ]
            },
            {
             "iteration": 175,
             "learn": [
              0.006157605145
             ],
             "passed_time": 3.620729266,
             "remaining_time": 37.52392149,
             "test": [
              0.006506258092
             ]
            },
            {
             "iteration": 176,
             "learn": [
              0.006029569774
             ],
             "passed_time": 3.651171629,
             "remaining_time": 37.60500497,
             "test": [
              0.006376033561
             ]
            },
            {
             "iteration": 177,
             "learn": [
              0.00591235393
             ],
             "passed_time": 3.67194506,
             "remaining_time": 37.5858646,
             "test": [
              0.006255744239
             ]
            },
            {
             "iteration": 178,
             "learn": [
              0.005790696019
             ],
             "passed_time": 3.69511802,
             "remaining_time": 37.59111684,
             "test": [
              0.00613046084
             ]
            },
            {
             "iteration": 179,
             "learn": [
              0.005675028216
             ],
             "passed_time": 3.711249016,
             "remaining_time": 37.52485116,
             "test": [
              0.006012145636
             ]
            },
            {
             "iteration": 180,
             "learn": [
              0.005567395515
             ],
             "passed_time": 3.729114776,
             "remaining_time": 37.47657336,
             "test": [
              0.005901604957
             ]
            },
            {
             "iteration": 181,
             "learn": [
              0.005463344589
             ],
             "passed_time": 3.752755016,
             "remaining_time": 37.48631109,
             "test": [
              0.005795138813
             ]
            },
            {
             "iteration": 182,
             "learn": [
              0.005352840145
             ],
             "passed_time": 3.777555678,
             "remaining_time": 37.50720583,
             "test": [
              0.005682929996
             ]
            },
            {
             "iteration": 183,
             "learn": [
              0.005253767754
             ],
             "passed_time": 3.795329412,
             "remaining_time": 37.45825115,
             "test": [
              0.005580737392
             ]
            },
            {
             "iteration": 184,
             "learn": [
              0.005156339225
             ],
             "passed_time": 3.814357906,
             "remaining_time": 37.42194378,
             "test": [
              0.005480029765
             ]
            },
            {
             "iteration": 185,
             "learn": [
              0.005063006512
             ],
             "passed_time": 3.827552797,
             "remaining_time": 37.32892889,
             "test": [
              0.005385154626
             ]
            },
            {
             "iteration": 186,
             "learn": [
              0.004966567423
             ],
             "passed_time": 3.841217057,
             "remaining_time": 37.24131831,
             "test": [
              0.005285858208
             ]
            },
            {
             "iteration": 187,
             "learn": [
              0.00487251089
             ],
             "passed_time": 3.857436733,
             "remaining_time": 37.17912425,
             "test": [
              0.005189126341
             ]
            },
            {
             "iteration": 188,
             "learn": [
              0.004782689369
             ],
             "passed_time": 3.885545989,
             "remaining_time": 37.23134279,
             "test": [
              0.005097385792
             ]
            },
            {
             "iteration": 189,
             "learn": [
              0.004696358754
             ],
             "passed_time": 3.911889809,
             "remaining_time": 37.26589765,
             "test": [
              0.005008670495
             ]
            },
            {
             "iteration": 190,
             "learn": [
              0.004614224595
             ],
             "passed_time": 3.938085223,
             "remaining_time": 37.29840926,
             "test": [
              0.004924775294
             ]
            },
            {
             "iteration": 191,
             "learn": [
              0.004529480064
             ],
             "passed_time": 3.957986756,
             "remaining_time": 37.27104195,
             "test": [
              0.0048370905
             ]
            },
            {
             "iteration": 192,
             "learn": [
              0.004446676547
             ],
             "passed_time": 3.978647662,
             "remaining_time": 37.25086179,
             "test": [
              0.004752129126
             ]
            },
            {
             "iteration": 193,
             "learn": [
              0.004362673237
             ],
             "passed_time": 3.997039867,
             "remaining_time": 37.2095567,
             "test": [
              0.004664478227
             ]
            },
            {
             "iteration": 194,
             "learn": [
              0.004286857595
             ],
             "passed_time": 4.014325298,
             "remaining_time": 37.15824186,
             "test": [
              0.004585852168
             ]
            },
            {
             "iteration": 195,
             "learn": [
              0.004212261162
             ],
             "passed_time": 4.032026514,
             "remaining_time": 37.11110118,
             "test": [
              0.004508765649
             ]
            },
            {
             "iteration": 196,
             "learn": [
              0.004133445041
             ],
             "passed_time": 4.057767128,
             "remaining_time": 37.13783824,
             "test": [
              0.00442719139
             ]
            },
            {
             "iteration": 197,
             "learn": [
              0.004059130391
             ],
             "passed_time": 4.081644371,
             "remaining_time": 37.14708665,
             "test": [
              0.00435086628
             ]
            },
            {
             "iteration": 198,
             "learn": [
              0.003987447026
             ],
             "passed_time": 4.09566505,
             "remaining_time": 37.06679776,
             "test": [
              0.004276783704
             ]
            },
            {
             "iteration": 199,
             "learn": [
              0.003915248905
             ],
             "passed_time": 4.110629605,
             "remaining_time": 36.99566645,
             "test": [
              0.004202842457
             ]
            },
            {
             "iteration": 200,
             "learn": [
              0.003845579846
             ],
             "passed_time": 4.124797724,
             "remaining_time": 36.9179657,
             "test": [
              0.004130854487
             ]
            },
            {
             "iteration": 201,
             "learn": [
              0.00377593834
             ],
             "passed_time": 4.139771216,
             "remaining_time": 36.84806261,
             "test": [
              0.0040588515
             ]
            },
            {
             "iteration": 202,
             "learn": [
              0.003710820252
             ],
             "passed_time": 4.153803525,
             "remaining_time": 36.77036913,
             "test": [
              0.003992410017
             ]
            },
            {
             "iteration": 203,
             "learn": [
              0.003644838871
             ],
             "passed_time": 4.168693545,
             "remaining_time": 36.70085102,
             "test": [
              0.003925014275
             ]
            },
            {
             "iteration": 204,
             "learn": [
              0.003579598907
             ],
             "passed_time": 4.182567379,
             "remaining_time": 36.62296803,
             "test": [
              0.003858142671
             ]
            },
            {
             "iteration": 205,
             "learn": [
              0.00351490206
             ],
             "passed_time": 4.196866152,
             "remaining_time": 36.54940717,
             "test": [
              0.003791676245
             ]
            },
            {
             "iteration": 206,
             "learn": [
              0.003452536645
             ],
             "passed_time": 4.210704409,
             "remaining_time": 36.47242998,
             "test": [
              0.003727926419
             ]
            },
            {
             "iteration": 207,
             "learn": [
              0.003392777371
             ],
             "passed_time": 4.224840108,
             "remaining_time": 36.39862247,
             "test": [
              0.003666167752
             ]
            },
            {
             "iteration": 208,
             "learn": [
              0.003336100423
             ],
             "passed_time": 4.239037951,
             "remaining_time": 36.32591852,
             "test": [
              0.003608685529
             ]
            },
            {
             "iteration": 209,
             "learn": [
              0.003277229531
             ],
             "passed_time": 4.253187186,
             "remaining_time": 36.25335744,
             "test": [
              0.003547420539
             ]
            },
            {
             "iteration": 210,
             "learn": [
              0.003221623266
             ],
             "passed_time": 4.267500286,
             "remaining_time": 36.18273939,
             "test": [
              0.003488629397
             ]
            },
            {
             "iteration": 211,
             "learn": [
              0.003172172966
             ],
             "passed_time": 4.281592796,
             "remaining_time": 36.11079207,
             "test": [
              0.003437617364
             ]
            },
            {
             "iteration": 212,
             "learn": [
              0.003123482741
             ],
             "passed_time": 4.295318858,
             "remaining_time": 36.03631361,
             "test": [
              0.003387405782
             ]
            },
            {
             "iteration": 213,
             "learn": [
              0.003072189341
             ],
             "passed_time": 4.309672905,
             "remaining_time": 35.96764396,
             "test": [
              0.003333792716
             ]
            },
            {
             "iteration": 214,
             "learn": [
              0.003017771882
             ],
             "passed_time": 4.331917107,
             "remaining_time": 35.96498621,
             "test": [
              0.003278625849
             ]
            },
            {
             "iteration": 215,
             "learn": [
              0.002970003087
             ],
             "passed_time": 4.346687581,
             "remaining_time": 35.90041965,
             "test": [
              0.003229158502
             ]
            },
            {
             "iteration": 216,
             "learn": [
              0.002920265265
             ],
             "passed_time": 4.360735399,
             "remaining_time": 35.83037427,
             "test": [
              0.003178507944
             ]
            },
            {
             "iteration": 217,
             "learn": [
              0.002872660032
             ],
             "passed_time": 4.374314311,
             "remaining_time": 35.75700964,
             "test": [
              0.003129162658
             ]
            },
            {
             "iteration": 218,
             "learn": [
              0.002826214601
             ],
             "passed_time": 4.387575203,
             "remaining_time": 35.68160473,
             "test": [
              0.003081254924
             ]
            },
            {
             "iteration": 219,
             "learn": [
              0.0027852493
             ],
             "passed_time": 4.400488153,
             "remaining_time": 35.6039496,
             "test": [
              0.003039002833
             ]
            },
            {
             "iteration": 220,
             "learn": [
              0.002740538549
             ],
             "passed_time": 4.413590198,
             "remaining_time": 35.52840255,
             "test": [
              0.00299332574
             ]
            },
            {
             "iteration": 221,
             "learn": [
              0.002695498559
             ],
             "passed_time": 4.427064359,
             "remaining_time": 35.45639834,
             "test": [
              0.002947173637
             ]
            },
            {
             "iteration": 222,
             "learn": [
              0.002654184001
             ],
             "passed_time": 4.454087073,
             "remaining_time": 35.49288219,
             "test": [
              0.002904982484
             ]
            },
            {
             "iteration": 223,
             "learn": [
              0.002612359114
             ],
             "passed_time": 4.488152354,
             "remaining_time": 35.58463652,
             "test": [
              0.002861404075
             ]
            },
            {
             "iteration": 224,
             "learn": [
              0.00256942619
             ],
             "passed_time": 4.538245878,
             "remaining_time": 35.80171748,
             "test": [
              0.002816733207
             ]
            },
            {
             "iteration": 225,
             "learn": [
              0.002528433428
             ],
             "passed_time": 4.564312137,
             "remaining_time": 35.82783067,
             "test": [
              0.002774909867
             ]
            },
            {
             "iteration": 226,
             "learn": [
              0.002488417574
             ],
             "passed_time": 4.586568308,
             "remaining_time": 35.82372515,
             "test": [
              0.002734180464
             ]
            },
            {
             "iteration": 227,
             "learn": [
              0.002449186914
             ],
             "passed_time": 4.615482614,
             "remaining_time": 35.87120699,
             "test": [
              0.002693127781
             ]
            },
            {
             "iteration": 228,
             "learn": [
              0.002411171697
             ],
             "passed_time": 4.639338758,
             "remaining_time": 35.87890367,
             "test": [
              0.002653389584
             ]
            },
            {
             "iteration": 229,
             "learn": [
              0.00237423953
             ],
             "passed_time": 4.666240928,
             "remaining_time": 35.90976714,
             "test": [
              0.002615225545
             ]
            },
            {
             "iteration": 230,
             "learn": [
              0.002340452727
             ],
             "passed_time": 4.695427464,
             "remaining_time": 35.95762417,
             "test": [
              0.002580230315
             ]
            },
            {
             "iteration": 231,
             "learn": [
              0.002306214497
             ],
             "passed_time": 4.720995819,
             "remaining_time": 35.977244,
             "test": [
              0.002544801902
             ]
            },
            {
             "iteration": 232,
             "learn": [
              0.002272710721
             ],
             "passed_time": 4.751970073,
             "remaining_time": 36.03747262,
             "test": [
              0.002509966778
             ]
            },
            {
             "iteration": 233,
             "learn": [
              0.002237983539
             ],
             "passed_time": 4.776291383,
             "remaining_time": 36.04671189,
             "test": [
              0.002474245497
             ]
            },
            {
             "iteration": 234,
             "learn": [
              0.002203820045
             ],
             "passed_time": 4.797147736,
             "remaining_time": 36.02964151,
             "test": [
              0.002438220714
             ]
            },
            {
             "iteration": 235,
             "learn": [
              0.002169567158
             ],
             "passed_time": 4.813592194,
             "remaining_time": 35.979562,
             "test": [
              0.002402287151
             ]
            },
            {
             "iteration": 236,
             "learn": [
              0.002139309953
             ],
             "passed_time": 4.836987135,
             "remaining_time": 35.9814697,
             "test": [
              0.002371355081
             ]
            },
            {
             "iteration": 237,
             "learn": [
              0.002107459567
             ],
             "passed_time": 4.869831474,
             "remaining_time": 36.05312209,
             "test": [
              0.00233750617
             ]
            },
            {
             "iteration": 238,
             "learn": [
              0.00207957272
             ],
             "passed_time": 4.890673457,
             "remaining_time": 36.03546426,
             "test": [
              0.002308344509
             ]
            },
            {
             "iteration": 239,
             "learn": [
              0.002048783698
             ],
             "passed_time": 4.908490293,
             "remaining_time": 35.99559548,
             "test": [
              0.002275659957
             ]
            },
            {
             "iteration": 240,
             "learn": [
              0.002018328742
             ],
             "passed_time": 4.926551063,
             "remaining_time": 35.95769012,
             "test": [
              0.002244897084
             ]
            },
            {
             "iteration": 241,
             "learn": [
              0.00198871178
             ],
             "passed_time": 4.94208612,
             "remaining_time": 35.90160082,
             "test": [
              0.002214797596
             ]
            },
            {
             "iteration": 242,
             "learn": [
              0.001963477587
             ],
             "passed_time": 4.956771011,
             "remaining_time": 35.83969821,
             "test": [
              0.002188647635
             ]
            },
            {
             "iteration": 243,
             "learn": [
              0.00193557075
             ],
             "passed_time": 4.971437769,
             "remaining_time": 35.77805214,
             "test": [
              0.002160313651
             ]
            },
            {
             "iteration": 244,
             "learn": [
              0.001910056835
             ],
             "passed_time": 4.985580096,
             "remaining_time": 35.71303293,
             "test": [
              0.002133780543
             ]
            },
            {
             "iteration": 245,
             "learn": [
              0.001880665596
             ],
             "passed_time": 5.000258589,
             "remaining_time": 35.65225026,
             "test": [
              0.002103613981
             ]
            },
            {
             "iteration": 246,
             "learn": [
              0.001854535705
             ],
             "passed_time": 5.013716751,
             "remaining_time": 35.58318002,
             "test": [
              0.002076001528
             ]
            },
            {
             "iteration": 247,
             "learn": [
              0.001840468359
             ],
             "passed_time": 5.028445719,
             "remaining_time": 35.52353589,
             "test": [
              0.002062448142
             ]
            },
            {
             "iteration": 248,
             "learn": [
              0.001815253534
             ],
             "passed_time": 5.041915508,
             "remaining_time": 35.45539781,
             "test": [
              0.002037053833
             ]
            },
            {
             "iteration": 249,
             "learn": [
              0.001791025983
             ],
             "passed_time": 5.05545726,
             "remaining_time": 35.38820082,
             "test": [
              0.002011956961
             ]
            },
            {
             "iteration": 250,
             "learn": [
              0.001764668788
             ],
             "passed_time": 5.06866557,
             "remaining_time": 35.31910789,
             "test": [
              0.001984428384
             ]
            },
            {
             "iteration": 251,
             "learn": [
              0.001746821502
             ],
             "passed_time": 5.081915886,
             "remaining_time": 35.25074988,
             "test": [
              0.00196584305
             ]
            },
            {
             "iteration": 252,
             "learn": [
              0.001724836384
             ],
             "passed_time": 5.095190852,
             "remaining_time": 35.1829977,
             "test": [
              0.001942462335
             ]
            },
            {
             "iteration": 253,
             "learn": [
              0.001700380423
             ],
             "passed_time": 5.108283889,
             "remaining_time": 35.1144239,
             "test": [
              0.001916629561
             ]
            },
            {
             "iteration": 254,
             "learn": [
              0.001677342267
             ],
             "passed_time": 5.121982304,
             "remaining_time": 35.05042792,
             "test": [
              0.001892561008
             ]
            },
            {
             "iteration": 255,
             "learn": [
              0.001658203973
             ],
             "passed_time": 5.135318068,
             "remaining_time": 34.98435434,
             "test": [
              0.001872786327
             ]
            },
            {
             "iteration": 256,
             "learn": [
              0.001638693918
             ],
             "passed_time": 5.148753624,
             "remaining_time": 34.91936796,
             "test": [
              0.001852440795
             ]
            },
            {
             "iteration": 257,
             "learn": [
              0.001631636904
             ],
             "passed_time": 5.163869962,
             "remaining_time": 34.86612974,
             "test": [
              0.001845425564
             ]
            },
            {
             "iteration": 258,
             "learn": [
              0.001609321906
             ],
             "passed_time": 5.193152133,
             "remaining_time": 34.90840874,
             "test": [
              0.001822810784
             ]
            },
            {
             "iteration": 259,
             "learn": [
              0.001589149164
             ],
             "passed_time": 5.214213909,
             "remaining_time": 34.89512385,
             "test": [
              0.001801666205
             ]
            },
            {
             "iteration": 260,
             "learn": [
              0.001569244676
             ],
             "passed_time": 5.246285835,
             "remaining_time": 34.95513819,
             "test": [
              0.00178159005
             ]
            },
            {
             "iteration": 261,
             "learn": [
              0.001549785843
             ],
             "passed_time": 5.275089469,
             "remaining_time": 34.99276907,
             "test": [
              0.001760494596
             ]
            },
            {
             "iteration": 262,
             "learn": [
              0.001529105014
             ],
             "passed_time": 5.297541522,
             "remaining_time": 34.98794534,
             "test": [
              0.001738293985
             ]
            },
            {
             "iteration": 263,
             "learn": [
              0.001510430269
             ],
             "passed_time": 5.32041051,
             "remaining_time": 34.98572972,
             "test": [
              0.001718889497
             ]
            },
            {
             "iteration": 264,
             "learn": [
              0.001489478458
             ],
             "passed_time": 5.351024211,
             "remaining_time": 35.03406417,
             "test": [
              0.001697525028
             ]
            },
            {
             "iteration": 265,
             "learn": [
              0.001472455045
             ],
             "passed_time": 5.370877903,
             "remaining_time": 35.01166272,
             "test": [
              0.001679995063
             ]
            },
            {
             "iteration": 266,
             "learn": [
              0.001454783875
             ],
             "passed_time": 5.385413445,
             "remaining_time": 34.95476217,
             "test": [
              0.001661967693
             ]
            },
            {
             "iteration": 267,
             "learn": [
              0.00143561442
             ],
             "passed_time": 5.399631254,
             "remaining_time": 34.89612437,
             "test": [
              0.001642353488
             ]
            },
            {
             "iteration": 268,
             "learn": [
              0.001420374179
             ],
             "passed_time": 5.414299543,
             "remaining_time": 34.84071565,
             "test": [
              0.00162775887
             ]
            },
            {
             "iteration": 269,
             "learn": [
              0.00140158951
             ],
             "passed_time": 5.428524274,
             "remaining_time": 34.78276664,
             "test": [
              0.00160871492
             ]
            },
            {
             "iteration": 270,
             "learn": [
              0.00138590364
             ],
             "passed_time": 5.442932897,
             "remaining_time": 34.72631358,
             "test": [
              0.001592305127
             ]
            },
            {
             "iteration": 271,
             "learn": [
              0.001369370121
             ],
             "passed_time": 5.457456229,
             "remaining_time": 34.6708984,
             "test": [
              0.00157524232
             ]
            },
            {
             "iteration": 272,
             "learn": [
              0.001351603269
             ],
             "passed_time": 5.471614183,
             "remaining_time": 34.6134714,
             "test": [
              0.0015575988
             ]
            },
            {
             "iteration": 273,
             "learn": [
              0.001336661859
             ],
             "passed_time": 5.486483078,
             "remaining_time": 34.56083866,
             "test": [
              0.001541849859
             ]
            },
            {
             "iteration": 274,
             "learn": [
              0.0013185837
             ],
             "passed_time": 5.500698575,
             "remaining_time": 34.50438197,
             "test": [
              0.001523660666
             ]
            },
            {
             "iteration": 275,
             "learn": [
              0.001303318287
             ],
             "passed_time": 5.515031136,
             "remaining_time": 34.4489626,
             "test": [
              0.001507514722
             ]
            },
            {
             "iteration": 276,
             "learn": [
              0.00128691951
             ],
             "passed_time": 5.528983619,
             "remaining_time": 34.39147573,
             "test": [
              0.001491213771
             ]
            },
            {
             "iteration": 277,
             "learn": [
              0.00126993068
             ],
             "passed_time": 5.552872972,
             "remaining_time": 34.39585345,
             "test": [
              0.001473068179
             ]
            },
            {
             "iteration": 278,
             "learn": [
              0.001254038788
             ],
             "passed_time": 5.57417004,
             "remaining_time": 34.38403813,
             "test": [
              0.001455931822
             ]
            },
            {
             "iteration": 279,
             "learn": [
              0.00124039575
             ],
             "passed_time": 5.59209488,
             "remaining_time": 34.35143998,
             "test": [
              0.001441502709
             ]
            },
            {
             "iteration": 280,
             "learn": [
              0.001225358825
             ],
             "passed_time": 5.608131505,
             "remaining_time": 34.30739522,
             "test": [
              0.001425927897
             ]
            },
            {
             "iteration": 281,
             "learn": [
              0.001210783542
             ],
             "passed_time": 5.637091192,
             "remaining_time": 34.34227896,
             "test": [
              0.001411089494
             ]
            },
            {
             "iteration": 282,
             "learn": [
              0.001195696266
             ],
             "passed_time": 5.654365684,
             "remaining_time": 34.30581583,
             "test": [
              0.001396066986
             ]
            },
            {
             "iteration": 283,
             "learn": [
              0.001182744361
             ],
             "passed_time": 5.672196407,
             "remaining_time": 34.27284871,
             "test": [
              0.001382308639
             ]
            },
            {
             "iteration": 284,
             "learn": [
              0.001170100727
             ],
             "passed_time": 5.686514208,
             "remaining_time": 34.21884865,
             "test": [
              0.001370303232
             ]
            },
            {
             "iteration": 285,
             "learn": [
              0.001156208402
             ],
             "passed_time": 5.701345077,
             "remaining_time": 34.16820092,
             "test": [
              0.001356065852
             ]
            },
            {
             "iteration": 286,
             "learn": [
              0.00114223838
             ],
             "passed_time": 5.715656659,
             "remaining_time": 34.11470334,
             "test": [
              0.001342283817
             ]
            },
            {
             "iteration": 287,
             "learn": [
              0.001129411833
             ],
             "passed_time": 5.731192517,
             "remaining_time": 34.06875552,
             "test": [
              0.001329232582
             ]
            },
            {
             "iteration": 288,
             "learn": [
              0.001116133271
             ],
             "passed_time": 5.747692954,
             "remaining_time": 34.02872888,
             "test": [
              0.001315135631
             ]
            },
            {
             "iteration": 289,
             "learn": [
              0.001106889301
             ],
             "passed_time": 5.766912744,
             "remaining_time": 34.00489928,
             "test": [
              0.001304761197
             ]
            },
            {
             "iteration": 290,
             "learn": [
              0.001095485715
             ],
             "passed_time": 5.785657701,
             "remaining_time": 33.97831275,
             "test": [
              0.001292326857
             ]
            },
            {
             "iteration": 291,
             "learn": [
              0.001084019911
             ],
             "passed_time": 5.808532543,
             "remaining_time": 33.97593693,
             "test": [
              0.001280229872
             ]
            },
            {
             "iteration": 292,
             "learn": [
              0.001071769215
             ],
             "passed_time": 5.838121956,
             "remaining_time": 34.01253986,
             "test": [
              0.001266660636
             ]
            },
            {
             "iteration": 293,
             "learn": [
              0.001059201308
             ],
             "passed_time": 5.857465066,
             "remaining_time": 33.98923606,
             "test": [
              0.001253267051
             ]
            },
            {
             "iteration": 294,
             "learn": [
              0.001047480729
             ],
             "passed_time": 5.87180183,
             "remaining_time": 33.93702413,
             "test": [
              0.001240645744
             ]
            },
            {
             "iteration": 295,
             "learn": [
              0.001036998653
             ],
             "passed_time": 5.887323822,
             "remaining_time": 33.89189119,
             "test": [
              0.001229379519
             ]
            },
            {
             "iteration": 296,
             "learn": [
              0.001025284745
             ],
             "passed_time": 5.904435144,
             "remaining_time": 33.85607088,
             "test": [
              0.001216780172
             ]
            },
            {
             "iteration": 297,
             "learn": [
              0.001015930931
             ],
             "passed_time": 5.91920697,
             "remaining_time": 33.8070143,
             "test": [
              0.00120757335
             ]
            },
            {
             "iteration": 298,
             "learn": [
              0.001004151946
             ],
             "passed_time": 5.934143622,
             "remaining_time": 33.75912476,
             "test": [
              0.001195177489
             ]
            },
            {
             "iteration": 299,
             "learn": [
              0.0009951303464
             ],
             "passed_time": 5.948526336,
             "remaining_time": 33.7083159,
             "test": [
              0.00118537812
             ]
            },
            {
             "iteration": 300,
             "learn": [
              0.0009845310633
             ],
             "passed_time": 5.962630098,
             "remaining_time": 33.65617454,
             "test": [
              0.001174826728
             ]
            },
            {
             "iteration": 301,
             "learn": [
              0.00097477812
             ],
             "passed_time": 5.976874944,
             "remaining_time": 33.60507833,
             "test": [
              0.001164865027
             ]
            },
            {
             "iteration": 302,
             "learn": [
              0.0009648381088
             ],
             "passed_time": 5.991257822,
             "remaining_time": 33.55499843,
             "test": [
              0.001154247383
             ]
            },
            {
             "iteration": 303,
             "learn": [
              0.0009544162775
             ],
             "passed_time": 6.005208742,
             "remaining_time": 33.50274351,
             "test": [
              0.001143852652
             ]
            },
            {
             "iteration": 304,
             "learn": [
              0.0009468123
             ],
             "passed_time": 6.01907192,
             "remaining_time": 33.45025214,
             "test": [
              0.001135393831
             ]
            },
            {
             "iteration": 305,
             "learn": [
              0.0009404215934
             ],
             "passed_time": 6.032510604,
             "remaining_time": 33.39566328,
             "test": [
              0.001128861487
             ]
            },
            {
             "iteration": 306,
             "learn": [
              0.0009304403582
             ],
             "passed_time": 6.046425577,
             "remaining_time": 33.34396906,
             "test": [
              0.001118400446
             ]
            },
            {
             "iteration": 307,
             "learn": [
              0.0009221647556
             ],
             "passed_time": 6.060214551,
             "remaining_time": 33.29182799,
             "test": [
              0.001109382903
             ]
            },
            {
             "iteration": 308,
             "learn": [
              0.0009146640965
             ],
             "passed_time": 6.073695049,
             "remaining_time": 33.23824701,
             "test": [
              0.001102417584
             ]
            },
            {
             "iteration": 309,
             "learn": [
              0.0009054046165
             ],
             "passed_time": 6.087515989,
             "remaining_time": 33.18678071,
             "test": [
              0.001092460773
             ]
            },
            {
             "iteration": 310,
             "learn": [
              0.00090317883
             ],
             "passed_time": 6.10452173,
             "remaining_time": 33.15285274,
             "test": [
              0.001090477278
             ]
            },
            {
             "iteration": 311,
             "learn": [
              0.0008967004512
             ],
             "passed_time": 6.133666296,
             "remaining_time": 33.1847074,
             "test": [
              0.001083436531
             ]
            },
            {
             "iteration": 312,
             "learn": [
              0.0008908256186
             ],
             "passed_time": 6.156108689,
             "remaining_time": 33.18004907,
             "test": [
              0.001077079109
             ]
            },
            {
             "iteration": 313,
             "learn": [
              0.0008816748178
             ],
             "passed_time": 6.182471132,
             "remaining_time": 33.19632589,
             "test": [
              0.001067389414
             ]
            },
            {
             "iteration": 314,
             "learn": [
              0.0008751554918
             ],
             "passed_time": 6.212557031,
             "remaining_time": 33.23224951,
             "test": [
              0.001060359322
             ]
            },
            {
             "iteration": 315,
             "learn": [
              0.0008686620482
             ],
             "passed_time": 6.234450603,
             "remaining_time": 33.22409752,
             "test": [
              0.001052909569
             ]
            },
            {
             "iteration": 316,
             "learn": [
              0.0008612154122
             ],
             "passed_time": 6.252467533,
             "remaining_time": 33.19527715,
             "test": [
              0.001045053929
             ]
            },
            {
             "iteration": 317,
             "learn": [
              0.0008522803145
             ],
             "passed_time": 6.266398831,
             "remaining_time": 33.14491457,
             "test": [
              0.001035894958
             ]
            },
            {
             "iteration": 318,
             "learn": [
              0.0008433915225
             ],
             "passed_time": 6.280166845,
             "remaining_time": 33.09391996,
             "test": [
              0.001027180388
             ]
            },
            {
             "iteration": 319,
             "learn": [
              0.0008360124212
             ],
             "passed_time": 6.294530136,
             "remaining_time": 33.04628321,
             "test": [
              0.00101911147
             ]
            },
            {
             "iteration": 320,
             "learn": [
              0.0008271859722
             ],
             "passed_time": 6.308773203,
             "remaining_time": 32.99822495,
             "test": [
              0.001010161438
             ]
            },
            {
             "iteration": 321,
             "learn": [
              0.0008195749039
             ],
             "passed_time": 6.351859297,
             "remaining_time": 33.10068292,
             "test": [
              0.001002503076
             ]
            },
            {
             "iteration": 322,
             "learn": [
              0.0008114053534
             ],
             "passed_time": 6.365846069,
             "remaining_time": 33.05115745,
             "test": [
              0.0009937245214
             ]
            },
            {
             "iteration": 323,
             "learn": [
              0.0008048052588
             ],
             "passed_time": 6.38293316,
             "remaining_time": 33.01788881,
             "test": [
              0.0009875082461
             ]
            },
            {
             "iteration": 324,
             "learn": [
              0.0007975775063
             ],
             "passed_time": 6.398166705,
             "remaining_time": 32.97516687,
             "test": [
              0.0009793028635
             ]
            },
            {
             "iteration": 325,
             "learn": [
              0.0007920998495
             ],
             "passed_time": 6.412414299,
             "remaining_time": 32.92755073,
             "test": [
              0.0009732733873
             ]
            },
            {
             "iteration": 326,
             "learn": [
              0.0007847994431
             ],
             "passed_time": 6.426641526,
             "remaining_time": 32.88003447,
             "test": [
              0.0009654095682
             ]
            },
            {
             "iteration": 327,
             "learn": [
              0.0007776350909
             ],
             "passed_time": 6.440891796,
             "remaining_time": 32.83283867,
             "test": [
              0.0009581707413
             ]
            },
            {
             "iteration": 328,
             "learn": [
              0.0007752542247
             ],
             "passed_time": 6.454900404,
             "remaining_time": 32.78461573,
             "test": [
              0.0009560850388
             ]
            },
            {
             "iteration": 329,
             "learn": [
              0.0007678943839
             ],
             "passed_time": 6.478770395,
             "remaining_time": 32.78650472,
             "test": [
              0.000947764371
             ]
            },
            {
             "iteration": 330,
             "learn": [
              0.0007613797373
             ],
             "passed_time": 6.497653357,
             "remaining_time": 32.763092,
             "test": [
              0.0009405582188
             ]
            },
            {
             "iteration": 331,
             "learn": [
              0.000755591368
             ],
             "passed_time": 6.511666537,
             "remaining_time": 32.71524031,
             "test": [
              0.0009343219358
             ]
            },
            {
             "iteration": 332,
             "learn": [
              0.0007487934469
             ],
             "passed_time": 6.525133911,
             "remaining_time": 32.66485955,
             "test": [
              0.0009276658407
             ]
            },
            {
             "iteration": 333,
             "learn": [
              0.0007417298049
             ],
             "passed_time": 6.538624609,
             "remaining_time": 32.61481616,
             "test": [
              0.00092079656
             ]
            },
            {
             "iteration": 334,
             "learn": [
              0.0007353059255
             ],
             "passed_time": 6.552523039,
             "remaining_time": 32.56701749,
             "test": [
              0.0009137532463
             ]
            },
            {
             "iteration": 335,
             "learn": [
              0.0007288435773
             ],
             "passed_time": 6.566124418,
             "remaining_time": 32.5179495,
             "test": [
              0.0009066392091
             ]
            },
            {
             "iteration": 336,
             "learn": [
              0.0007230295579
             ],
             "passed_time": 6.579849144,
             "remaining_time": 32.46970067,
             "test": [
              0.0009008473971
             ]
            },
            {
             "iteration": 337,
             "learn": [
              0.000718492577
             ],
             "passed_time": 6.605517129,
             "remaining_time": 32.48038304,
             "test": [
              0.0008969742174
             ]
            },
            {
             "iteration": 338,
             "learn": [
              0.0007145738044
             ],
             "passed_time": 6.627307606,
             "remaining_time": 32.47185231,
             "test": [
              0.0008930104648
             ]
            },
            {
             "iteration": 339,
             "learn": [
              0.0007078161947
             ],
             "passed_time": 6.64377657,
             "remaining_time": 32.43726208,
             "test": [
              0.0008862886384
             ]
            },
            {
             "iteration": 340,
             "learn": [
              0.000703944127
             ],
             "passed_time": 6.657850777,
             "remaining_time": 32.39112739,
             "test": [
              0.0008826127085
             ]
            },
            {
             "iteration": 341,
             "learn": [
              0.0006993708044
             ],
             "passed_time": 6.67144445,
             "remaining_time": 32.34285058,
             "test": [
              0.0008772760108
             ]
            },
            {
             "iteration": 342,
             "learn": [
              0.0006929984151
             ],
             "passed_time": 6.68585507,
             "remaining_time": 32.2987226,
             "test": [
              0.0008708339337
             ]
            },
            {
             "iteration": 343,
             "learn": [
              0.0006889348043
             ],
             "passed_time": 6.69959104,
             "remaining_time": 32.25151966,
             "test": [
              0.0008674068475
             ]
            },
            {
             "iteration": 344,
             "learn": [
              0.0006846760517
             ],
             "passed_time": 6.713031897,
             "remaining_time": 32.20309504,
             "test": [
              0.0008633866609
             ]
            },
            {
             "iteration": 345,
             "learn": [
              0.0006777654751
             ],
             "passed_time": 6.742163593,
             "remaining_time": 32.2298803,
             "test": [
              0.0008567148127
             ]
            },
            {
             "iteration": 346,
             "learn": [
              0.0006726627402
             ],
             "passed_time": 6.787443629,
             "remaining_time": 32.33326893,
             "test": [
              0.0008516703168
             ]
            },
            {
             "iteration": 347,
             "learn": [
              0.0006676435986
             ],
             "passed_time": 6.822792999,
             "remaining_time": 32.38866102,
             "test": [
              0.0008467080926
             ]
            },
            {
             "iteration": 348,
             "learn": [
              0.0006613778562
             ],
             "passed_time": 6.847398148,
             "remaining_time": 32.39270585,
             "test": [
              0.0008400736759
             ]
            },
            {
             "iteration": 349,
             "learn": [
              0.0006602449791
             ],
             "passed_time": 6.868380914,
             "remaining_time": 32.37951002,
             "test": [
              0.0008386807064
             ]
            },
            {
             "iteration": 350,
             "learn": [
              0.0006565863922
             ],
             "passed_time": 6.887794139,
             "remaining_time": 32.35889611,
             "test": [
              0.0008346158455
             ]
            },
            {
             "iteration": 351,
             "learn": [
              0.0006512805932
             ],
             "passed_time": 6.906253374,
             "remaining_time": 32.33382261,
             "test": [
              0.0008286481771
             ]
            },
            {
             "iteration": 352,
             "learn": [
              0.0006462045332
             ],
             "passed_time": 6.923926691,
             "remaining_time": 32.30511972,
             "test": [
              0.0008232152586
             ]
            },
            {
             "iteration": 353,
             "learn": [
              0.0006424780017
             ],
             "passed_time": 6.941770376,
             "remaining_time": 32.2772713,
             "test": [
              0.0008189560093
             ]
            },
            {
             "iteration": 354,
             "learn": [
              0.0006416333205
             ],
             "passed_time": 6.959694579,
             "remaining_time": 32.24985234,
             "test": [
              0.0008179989535
             ]
            },
            {
             "iteration": 355,
             "learn": [
              0.0006379094652
             ],
             "passed_time": 6.978013198,
             "remaining_time": 32.22430814,
             "test": [
              0.0008146292159
             ]
            },
            {
             "iteration": 356,
             "learn": [
              0.0006348336528
             ],
             "passed_time": 6.997518672,
             "remaining_time": 32.20426661,
             "test": [
              0.0008116026694
             ]
            },
            {
             "iteration": 357,
             "learn": [
              0.0006294222851
             ],
             "passed_time": 7.014450037,
             "remaining_time": 32.17242168,
             "test": [
              0.0008063714216
             ]
            },
            {
             "iteration": 358,
             "learn": [
              0.0006239561446
             ],
             "passed_time": 7.028872919,
             "remaining_time": 32.12919348,
             "test": [
              0.0008009187931
             ]
            },
            {
             "iteration": 359,
             "learn": [
              0.0006186818664
             ],
             "passed_time": 7.04975473,
             "remaining_time": 32.11554932,
             "test": [
              0.0007951738482
             ]
            },
            {
             "iteration": 360,
             "learn": [
              0.0006178450255
             ],
             "passed_time": 7.068988482,
             "remaining_time": 32.09438261,
             "test": [
              0.0007942558286
             ]
            },
            {
             "iteration": 361,
             "learn": [
              0.0006130421932
             ],
             "passed_time": 7.085030751,
             "remaining_time": 32.05878555,
             "test": [
              0.0007887484047
             ]
            },
            {
             "iteration": 362,
             "learn": [
              0.0006122145718
             ],
             "passed_time": 7.099927871,
             "remaining_time": 32.01813202,
             "test": [
              0.0007878481655
             ]
            },
            {
             "iteration": 363,
             "learn": [
              0.0006094275634
             ],
             "passed_time": 7.115776578,
             "remaining_time": 31.98189693,
             "test": [
              0.0007854455765
             ]
            },
            {
             "iteration": 364,
             "learn": [
              0.0006083825638
             ],
             "passed_time": 7.130507875,
             "remaining_time": 31.94076815,
             "test": [
              0.000784487696
             ]
            },
            {
             "iteration": 365,
             "learn": [
              0.0006038727142
             ],
             "passed_time": 7.145025671,
             "remaining_time": 31.89883046,
             "test": [
              0.0007795269624
             ]
            },
            {
             "iteration": 366,
             "learn": [
              0.0006010411934
             ],
             "passed_time": 7.158163735,
             "remaining_time": 31.85090294,
             "test": [
              0.0007761958361
             ]
            },
            {
             "iteration": 367,
             "learn": [
              0.0005963009304
             ],
             "passed_time": 7.171165652,
             "remaining_time": 31.80256072,
             "test": [
              0.0007709805011
             ]
            },
            {
             "iteration": 368,
             "learn": [
              0.000591130033
             ],
             "passed_time": 7.207706225,
             "remaining_time": 31.85845218,
             "test": [
              0.0007655905368
             ]
            },
            {
             "iteration": 369,
             "learn": [
              0.0005860011814
             ],
             "passed_time": 7.23136399,
             "remaining_time": 31.85709001,
             "test": [
              0.0007608364077
             ]
            },
            {
             "iteration": 370,
             "learn": [
              0.0005817105278
             ],
             "passed_time": 7.245900891,
             "remaining_time": 31.81555944,
             "test": [
              0.0007565268631
             ]
            },
            {
             "iteration": 371,
             "learn": [
              0.0005786228027
             ],
             "passed_time": 7.261106838,
             "remaining_time": 31.77710197,
             "test": [
              0.0007534436505
             ]
            },
            {
             "iteration": 372,
             "learn": [
              0.0005740774029
             ],
             "passed_time": 7.275794713,
             "remaining_time": 31.73650938,
             "test": [
              0.0007489032867
             ]
            },
            {
             "iteration": 373,
             "learn": [
              0.0005732173738
             ],
             "passed_time": 7.292097196,
             "remaining_time": 31.70307497,
             "test": [
              0.0007481038258
             ]
            },
            {
             "iteration": 374,
             "learn": [
              0.0005706501792
             ],
             "passed_time": 7.308208044,
             "remaining_time": 31.66890152,
             "test": [
              0.0007465258759
             ]
            },
            {
             "iteration": 375,
             "learn": [
              0.0005664872774
             ],
             "passed_time": 7.336500621,
             "remaining_time": 31.68743885,
             "test": [
              0.0007423324166
             ]
            },
            {
             "iteration": 376,
             "learn": [
              0.0005610157802
             ],
             "passed_time": 7.352526011,
             "remaining_time": 31.65291702,
             "test": [
              0.0007368052653
             ]
            },
            {
             "iteration": 377,
             "learn": [
              0.0005586003622
             ],
             "passed_time": 7.36794225,
             "remaining_time": 31.61587918,
             "test": [
              0.0007341631188
             ]
            },
            {
             "iteration": 378,
             "learn": [
              0.0005559517399
             ],
             "passed_time": 7.383546963,
             "remaining_time": 31.57976155,
             "test": [
              0.0007319565489
             ]
            },
            {
             "iteration": 379,
             "learn": [
              0.0005521594811
             ],
             "passed_time": 7.399142413,
             "remaining_time": 31.54371239,
             "test": [
              0.0007280326676
             ]
            },
            {
             "iteration": 380,
             "learn": [
              0.0005479250804
             ],
             "passed_time": 7.414084372,
             "remaining_time": 31.5049937,
             "test": [
              0.0007232641202
             ]
            },
            {
             "iteration": 381,
             "learn": [
              0.0005471301819
             ],
             "passed_time": 7.428924186,
             "remaining_time": 31.46596684,
             "test": [
              0.0007225465263
             ]
            },
            {
             "iteration": 382,
             "learn": [
              0.0005428830698
             ],
             "passed_time": 7.444541,
             "remaining_time": 31.43034673,
             "test": [
              0.0007178471899
             ]
            },
            {
             "iteration": 383,
             "learn": [
              0.0005384518872
             ],
             "passed_time": 7.460004509,
             "remaining_time": 31.39418564,
             "test": [
              0.0007137644367
             ]
            },
            {
             "iteration": 384,
             "learn": [
              0.0005352294721
             ],
             "passed_time": 7.475481726,
             "remaining_time": 31.35818958,
             "test": [
              0.0007099157029
             ]
            },
            {
             "iteration": 385,
             "learn": [
              0.0005344933057
             ],
             "passed_time": 7.490524983,
             "remaining_time": 31.32048529,
             "test": [
              0.0007091610309
             ]
            },
            {
             "iteration": 386,
             "learn": [
              0.0005338121685
             ],
             "passed_time": 7.505248876,
             "remaining_time": 31.28156702,
             "test": [
              0.0007085328726
             ]
            },
            {
             "iteration": 387,
             "learn": [
              0.0005307838744
             ],
             "passed_time": 7.519746767,
             "remaining_time": 31.2418345,
             "test": [
              0.0007056936427
             ]
            },
            {
             "iteration": 388,
             "learn": [
              0.0005283099815
             ],
             "passed_time": 7.533986716,
             "remaining_time": 31.2011635,
             "test": [
              0.0007038704519
             ]
            },
            {
             "iteration": 389,
             "learn": [
              0.0005276319061
             ],
             "passed_time": 7.54867436,
             "remaining_time": 31.1624762,
             "test": [
              0.0007032590556
             ]
            },
            {
             "iteration": 390,
             "learn": [
              0.0005238677466
             ],
             "passed_time": 7.562746614,
             "remaining_time": 31.12137929,
             "test": [
              0.00069967933
             ]
            },
            {
             "iteration": 391,
             "learn": [
              0.0005215223542
             ],
             "passed_time": 7.577464617,
             "remaining_time": 31.08306914,
             "test": [
              0.0006974183729
             ]
            },
            {
             "iteration": 392,
             "learn": [
              0.0005183741337
             ],
             "passed_time": 7.592733658,
             "remaining_time": 31.04713229,
             "test": [
              0.0006943287837
             ]
            },
            {
             "iteration": 393,
             "learn": [
              0.0005162030272
             ],
             "passed_time": 7.60736523,
             "remaining_time": 31.00870193,
             "test": [
              0.0006926143408
             ]
            },
            {
             "iteration": 394,
             "learn": [
              0.000512946006
             ],
             "passed_time": 7.621744037,
             "remaining_time": 30.96936501,
             "test": [
              0.0006895678322
             ]
            },
            {
             "iteration": 395,
             "learn": [
              0.0005122512797
             ],
             "passed_time": 7.636428763,
             "remaining_time": 30.93139327,
             "test": [
              0.0006889446041
             ]
            },
            {
             "iteration": 396,
             "learn": [
              0.000508506781
             ],
             "passed_time": 7.650799824,
             "remaining_time": 30.89227234,
             "test": [
              0.000685433586
             ]
            },
            {
             "iteration": 397,
             "learn": [
              0.0005048888623
             ],
             "passed_time": 7.665603141,
             "remaining_time": 30.85501566,
             "test": [
              0.0006813919311
             ]
            },
            {
             "iteration": 398,
             "learn": [
              0.0005043656524
             ],
             "passed_time": 7.680528318,
             "remaining_time": 30.8183605,
             "test": [
              0.0006808471477
             ]
            },
            {
             "iteration": 399,
             "learn": [
              0.0005025205792
             ],
             "passed_time": 7.695714532,
             "remaining_time": 30.78285813,
             "test": [
              0.0006792909133
             ]
            },
            {
             "iteration": 400,
             "learn": [
              0.0005019877899
             ],
             "passed_time": 7.715231697,
             "remaining_time": 30.76472689,
             "test": [
              0.0006787809693
             ]
            },
            {
             "iteration": 401,
             "learn": [
              0.0004990017227
             ],
             "passed_time": 7.741134744,
             "remaining_time": 30.77197343,
             "test": [
              0.0006759016539
             ]
            },
            {
             "iteration": 402,
             "learn": [
              0.0004985095621
             ],
             "passed_time": 7.771250693,
             "remaining_time": 30.79575027,
             "test": [
              0.0006754515392
             ]
            },
            {
             "iteration": 403,
             "learn": [
              0.000495285322
             ],
             "passed_time": 7.794696284,
             "remaining_time": 30.79290908,
             "test": [
              0.0006719447695
             ]
            },
            {
             "iteration": 404,
             "learn": [
              0.0004915771088
             ],
             "passed_time": 7.814072932,
             "remaining_time": 30.77394155,
             "test": [
              0.0006682022597
             ]
            },
            {
             "iteration": 405,
             "learn": [
              0.0004895699929
             ],
             "passed_time": 7.829746462,
             "remaining_time": 30.74043316,
             "test": [
              0.0006663935633
             ]
            },
            {
             "iteration": 406,
             "learn": [
              0.0004859373013
             ],
             "passed_time": 7.843639642,
             "remaining_time": 30.7000441,
             "test": [
              0.0006621701242
             ]
            },
            {
             "iteration": 407,
             "learn": [
              0.0004851583552
             ],
             "passed_time": 7.858496916,
             "remaining_time": 30.66354679,
             "test": [
              0.0006616199508
             ]
            },
            {
             "iteration": 408,
             "learn": [
              0.0004845321239
             ],
             "passed_time": 7.873019136,
             "remaining_time": 30.62585195,
             "test": [
              0.0006611607069
             ]
            },
            {
             "iteration": 409,
             "learn": [
              0.0004816734606
             ],
             "passed_time": 7.887659164,
             "remaining_time": 30.588727,
             "test": [
              0.0006584327403
             ]
            },
            {
             "iteration": 410,
             "learn": [
              0.0004810748419
             ],
             "passed_time": 7.902085201,
             "remaining_time": 30.55088415,
             "test": [
              0.0006579853259
             ]
            },
            {
             "iteration": 411,
             "learn": [
              0.0004790342069
             ],
             "passed_time": 7.91712176,
             "remaining_time": 30.51550814,
             "test": [
              0.0006552086447
             ]
            },
            {
             "iteration": 412,
             "learn": [
              0.0004767236078
             ],
             "passed_time": 7.932103707,
             "remaining_time": 30.48002078,
             "test": [
              0.0006535087488
             ]
            },
            {
             "iteration": 413,
             "learn": [
              0.0004732935663
             ],
             "passed_time": 7.946421338,
             "remaining_time": 30.44208754,
             "test": [
              0.0006497054337
             ]
            },
            {
             "iteration": 414,
             "learn": [
              0.0004700123201
             ],
             "passed_time": 7.96200223,
             "remaining_time": 30.40909285,
             "test": [
              0.0006465666576
             ]
            },
            {
             "iteration": 415,
             "learn": [
              0.0004682083095
             ],
             "passed_time": 7.976673089,
             "remaining_time": 30.37271676,
             "test": [
              0.0006448568672
             ]
            },
            {
             "iteration": 416,
             "learn": [
              0.000467482477
             ],
             "passed_time": 7.992262948,
             "remaining_time": 30.33993345,
             "test": [
              0.0006443326515
             ]
            },
            {
             "iteration": 417,
             "learn": [
              0.0004645014207
             ],
             "passed_time": 8.006930902,
             "remaining_time": 30.30374327,
             "test": [
              0.0006407755373
             ]
            },
            {
             "iteration": 418,
             "learn": [
              0.0004618317941
             ],
             "passed_time": 8.021833186,
             "remaining_time": 30.26854002,
             "test": [
              0.0006384046193
             ]
            },
            {
             "iteration": 419,
             "learn": [
              0.0004601447772
             ],
             "passed_time": 8.036191882,
             "remaining_time": 30.23138851,
             "test": [
              0.0006370537271
             ]
            },
            {
             "iteration": 420,
             "learn": [
              0.0004580975295
             ],
             "passed_time": 8.050445935,
             "remaining_time": 30.1939528,
             "test": [
              0.0006350955622
             ]
            },
            {
             "iteration": 421,
             "learn": [
              0.000454864895
             ],
             "passed_time": 8.065119854,
             "remaining_time": 30.15819699,
             "test": [
              0.0006323441616
             ]
            },
            {
             "iteration": 422,
             "learn": [
              0.0004530583437
             ],
             "passed_time": 8.080032523,
             "remaining_time": 30.12343094,
             "test": [
              0.0006307398523
             ]
            },
            {
             "iteration": 423,
             "learn": [
              0.0004526338769
             ],
             "passed_time": 8.094454378,
             "remaining_time": 30.0869342,
             "test": [
              0.0006303429386
             ]
            },
            {
             "iteration": 424,
             "learn": [
              0.0004523097711
             ],
             "passed_time": 8.108190978,
             "remaining_time": 30.04800186,
             "test": [
              0.0006299198633
             ]
            },
            {
             "iteration": 425,
             "learn": [
              0.0004487725518
             ],
             "passed_time": 8.122916031,
             "remaining_time": 30.01283998,
             "test": [
              0.0006260554622
             ]
            },
            {
             "iteration": 426,
             "learn": [
              0.0004457174919
             ],
             "passed_time": 8.137216098,
             "remaining_time": 29.97620825,
             "test": [
              0.000622137033
             ]
            },
            {
             "iteration": 427,
             "learn": [
              0.0004451643432
             ],
             "passed_time": 8.152009145,
             "remaining_time": 29.94149153,
             "test": [
              0.0006218176072
             ]
            },
            {
             "iteration": 428,
             "learn": [
              0.0004447509734
             ],
             "passed_time": 8.165490407,
             "remaining_time": 29.90206394,
             "test": [
              0.0006214577965
             ]
            },
            {
             "iteration": 429,
             "learn": [
              0.0004443126949
             ],
             "passed_time": 8.18033908,
             "remaining_time": 29.86774967,
             "test": [
              0.0006210780654
             ]
            },
            {
             "iteration": 430,
             "learn": [
              0.0004425365063
             ],
             "passed_time": 8.194569804,
             "remaining_time": 29.83127615,
             "test": [
              0.0006196707378
             ]
            },
            {
             "iteration": 431,
             "learn": [
              0.0004413319738
             ],
             "passed_time": 8.208509787,
             "remaining_time": 29.79385034,
             "test": [
              0.0006184005544
             ]
            },
            {
             "iteration": 432,
             "learn": [
              0.0004406252335
             ],
             "passed_time": 8.222362353,
             "remaining_time": 29.75621664,
             "test": [
              0.0006177700384
             ]
            },
            {
             "iteration": 433,
             "learn": [
              0.000440234259
             ],
             "passed_time": 8.235803761,
             "remaining_time": 29.71720896,
             "test": [
              0.0006174122915
             ]
            },
            {
             "iteration": 434,
             "learn": [
              0.0004382594284
             ],
             "passed_time": 8.250168425,
             "remaining_time": 29.68164042,
             "test": [
              0.0006155389194
             ]
            },
            {
             "iteration": 435,
             "learn": [
              0.0004377591484
             ],
             "passed_time": 8.264000804,
             "remaining_time": 29.64425976,
             "test": [
              0.0006151796681
             ]
            },
            {
             "iteration": 436,
             "learn": [
              0.0004350160106
             ],
             "passed_time": 8.278545477,
             "remaining_time": 29.60953451,
             "test": [
              0.0006116211918
             ]
            },
            {
             "iteration": 437,
             "learn": [
              0.0004341105805
             ],
             "passed_time": 8.292467665,
             "remaining_time": 29.57268149,
             "test": [
              0.0006107759274
             ]
            },
            {
             "iteration": 438,
             "learn": [
              0.0004337382077
             ],
             "passed_time": 8.307447615,
             "remaining_time": 29.53969414,
             "test": [
              0.0006104896606
             ]
            },
            {
             "iteration": 439,
             "learn": [
              0.000431140482
             ],
             "passed_time": 8.350341927,
             "remaining_time": 29.60575774,
             "test": [
              0.0006078651331
             ]
            },
            {
             "iteration": 440,
             "learn": [
              0.0004281638818
             ],
             "passed_time": 8.370044389,
             "remaining_time": 29.5893406,
             "test": [
              0.0006045685009
             ]
            },
            {
             "iteration": 441,
             "learn": [
              0.0004254838559
             ],
             "passed_time": 8.387342667,
             "remaining_time": 29.56443411,
             "test": [
              0.0006020915434
             ]
            },
            {
             "iteration": 442,
             "learn": [
              0.0004251227732
             ],
             "passed_time": 8.40124713,
             "remaining_time": 29.52763382,
             "test": [
              0.0006017266149
             ]
            },
            {
             "iteration": 443,
             "learn": [
              0.0004233929543
             ],
             "passed_time": 8.415570495,
             "remaining_time": 29.49240471,
             "test": [
              0.0006000011149
             ]
            },
            {
             "iteration": 444,
             "learn": [
              0.000422772001
             ],
             "passed_time": 8.429604397,
             "remaining_time": 29.45625806,
             "test": [
              0.0005996387607
             ]
            },
            {
             "iteration": 445,
             "learn": [
              0.0004202379023
             ],
             "passed_time": 8.445889832,
             "remaining_time": 29.4280556,
             "test": [
              0.0005966619052
             ]
            },
            {
             "iteration": 446,
             "learn": [
              0.0004199314819
             ],
             "passed_time": 8.466966827,
             "remaining_time": 29.41655365,
             "test": [
              0.0005963423817
             ]
            },
            {
             "iteration": 447,
             "learn": [
              0.0004195161378
             ],
             "passed_time": 8.496591116,
             "remaining_time": 29.43461922,
             "test": [
              0.0005960368258
             ]
            },
            {
             "iteration": 448,
             "learn": [
              0.0004171135418
             ],
             "passed_time": 8.515706205,
             "remaining_time": 29.41616999,
             "test": [
              0.0005934491719
             ]
            },
            {
             "iteration": 449,
             "learn": [
              0.0004159585427
             ],
             "passed_time": 8.537519371,
             "remaining_time": 29.40701117,
             "test": [
              0.0005926060628
             ]
            },
            {
             "iteration": 450,
             "learn": [
              0.0004146238368
             ],
             "passed_time": 8.563891411,
             "remaining_time": 29.41345409,
             "test": [
              0.0005914410292
             ]
            },
            {
             "iteration": 451,
             "learn": [
              0.0004142788511
             ],
             "passed_time": 8.582621956,
             "remaining_time": 29.39358139,
             "test": [
              0.0005911484723
             ]
            },
            {
             "iteration": 452,
             "learn": [
              0.0004129361946
             ],
             "passed_time": 8.600584988,
             "remaining_time": 29.37109266,
             "test": [
              0.0005900236591
             ]
            },
            {
             "iteration": 453,
             "learn": [
              0.0004125733995
             ],
             "passed_time": 8.618554964,
             "remaining_time": 29.34864752,
             "test": [
              0.0005897240913
             ]
            },
            {
             "iteration": 454,
             "learn": [
              0.0004114048966
             ],
             "passed_time": 8.642853932,
             "remaining_time": 29.3477128,
             "test": [
              0.0005886143819
             ]
            },
            {
             "iteration": 455,
             "learn": [
              0.0004109014219
             ],
             "passed_time": 8.668557264,
             "remaining_time": 29.35143074,
             "test": [
              0.0005881765376
             ]
            },
            {
             "iteration": 456,
             "learn": [
              0.0004095329103
             ],
             "passed_time": 8.694169858,
             "remaining_time": 29.35471355,
             "test": [
              0.0005869614723
             ]
            },
            {
             "iteration": 457,
             "learn": [
              0.0004092024344
             ],
             "passed_time": 8.71540817,
             "remaining_time": 29.34314279,
             "test": [
              0.0005866939013
             ]
            },
            {
             "iteration": 458,
             "learn": [
              0.0004089554914
             ],
             "passed_time": 8.741036512,
             "remaining_time": 29.34626855,
             "test": [
              0.0005864925315
             ]
            },
            {
             "iteration": 459,
             "learn": [
              0.0004087183712
             ],
             "passed_time": 8.763766457,
             "remaining_time": 29.33956596,
             "test": [
              0.0005862560323
             ]
            },
            {
             "iteration": 460,
             "learn": [
              0.0004084007614
             ],
             "passed_time": 8.789142755,
             "remaining_time": 29.34162842,
             "test": [
              0.0005858554855
             ]
            },
            {
             "iteration": 461,
             "learn": [
              0.0004055936801
             ],
             "passed_time": 8.809804308,
             "remaining_time": 29.32787668,
             "test": [
              0.0005826862565
             ]
            },
            {
             "iteration": 462,
             "learn": [
              0.0004034631465
             ],
             "passed_time": 8.824142518,
             "remaining_time": 29.29310378,
             "test": [
              0.0005807389248
             ]
            },
            {
             "iteration": 463,
             "learn": [
              0.0004031805501
             ],
             "passed_time": 8.838828829,
             "remaining_time": 29.2595713,
             "test": [
              0.0005805087417
             ]
            },
            {
             "iteration": 464,
             "learn": [
              0.0004027819125
             ],
             "passed_time": 8.85341257,
             "remaining_time": 29.22578128,
             "test": [
              0.0005800647868
             ]
            },
            {
             "iteration": 465,
             "learn": [
              0.0004025144982
             ],
             "passed_time": 8.867984069,
             "remaining_time": 29.1920334,
             "test": [
              0.0005797984386
             ]
            },
            {
             "iteration": 466,
             "learn": [
              0.0004019478157
             ],
             "passed_time": 8.882374698,
             "remaining_time": 29.1577739,
             "test": [
              0.0005793489826
             ]
            },
            {
             "iteration": 467,
             "learn": [
              0.0004016321057
             ],
             "passed_time": 8.896501522,
             "remaining_time": 29.12273575,
             "test": [
              0.0005790651301
             ]
            },
            {
             "iteration": 468,
             "learn": [
              0.0003997290898
             ],
             "passed_time": 8.91111447,
             "remaining_time": 29.08937367,
             "test": [
              0.0005773574452
             ]
            },
            {
             "iteration": 469,
             "learn": [
              0.0003977564619
             ],
             "passed_time": 8.925397907,
             "remaining_time": 29.05501872,
             "test": [
              0.0005751045581
             ]
            },
            {
             "iteration": 470,
             "learn": [
              0.0003957047886
             ],
             "passed_time": 8.940413701,
             "remaining_time": 29.02312643,
             "test": [
              0.0005724170382
             ]
            },
            {
             "iteration": 471,
             "learn": [
              0.0003940894907
             ],
             "passed_time": 8.955397928,
             "remaining_time": 28.99120346,
             "test": [
              0.0005701006068
             ]
            },
            {
             "iteration": 472,
             "learn": [
              0.0003938489569
             ],
             "passed_time": 8.970150778,
             "remaining_time": 28.95860516,
             "test": [
              0.0005698989863
             ]
            },
            {
             "iteration": 473,
             "learn": [
              0.0003934969205
             ],
             "passed_time": 8.984507659,
             "remaining_time": 28.92480736,
             "test": [
              0.000569755961
             ]
            },
            {
             "iteration": 474,
             "learn": [
              0.0003910895252
             ],
             "passed_time": 8.998982757,
             "remaining_time": 28.89147096,
             "test": [
              0.0005675540688
             ]
            },
            {
             "iteration": 475,
             "learn": [
              0.0003908590948
             ],
             "passed_time": 9.012388425,
             "remaining_time": 28.85478983,
             "test": [
              0.0005673831506
             ]
            },
            {
             "iteration": 476,
             "learn": [
              0.0003893667704
             ],
             "passed_time": 9.026382054,
             "remaining_time": 28.82008358,
             "test": [
              0.0005662392278
             ]
            },
            {
             "iteration": 477,
             "learn": [
              0.0003890278214
             ],
             "passed_time": 9.041397112,
             "remaining_time": 28.78871633,
             "test": [
              0.0005659214531
             ]
            },
            {
             "iteration": 478,
             "learn": [
              0.000388679017
             ],
             "passed_time": 9.055414426,
             "remaining_time": 28.75424915,
             "test": [
              0.000565722215
             ]
            },
            {
             "iteration": 479,
             "learn": [
              0.0003871900823
             ],
             "passed_time": 9.069916752,
             "remaining_time": 28.72140305,
             "test": [
              0.0005634502206
             ]
            },
            {
             "iteration": 480,
             "learn": [
              0.0003868658916
             ],
             "passed_time": 9.083472993,
             "remaining_time": 28.68564548,
             "test": [
              0.0005632363654
             ]
            },
            {
             "iteration": 481,
             "learn": [
              0.0003843121367
             ],
             "passed_time": 9.097382347,
             "remaining_time": 28.65109212,
             "test": [
              0.0005604258644
             ]
            },
            {
             "iteration": 482,
             "learn": [
              0.0003840693455
             ],
             "passed_time": 9.111057866,
             "remaining_time": 28.61588982,
             "test": [
              0.0005601139124
             ]
            },
            {
             "iteration": 483,
             "learn": [
              0.0003838617678
             ],
             "passed_time": 9.12466929,
             "remaining_time": 28.58057571,
             "test": [
              0.0005599395745
             ]
            },
            {
             "iteration": 484,
             "learn": [
              0.0003835476949
             ],
             "passed_time": 9.138502109,
             "remaining_time": 28.54604267,
             "test": [
              0.0005596571701
             ]
            },
            {
             "iteration": 485,
             "learn": [
              0.0003832742873
             ],
             "passed_time": 9.152248961,
             "remaining_time": 28.51132701,
             "test": [
              0.0005593984088
             ]
            },
            {
             "iteration": 486,
             "learn": [
              0.0003808386901
             ],
             "passed_time": 9.16652254,
             "remaining_time": 28.47833389,
             "test": [
              0.0005565883626
             ]
            },
            {
             "iteration": 487,
             "learn": [
              0.000379845728
             ],
             "passed_time": 9.18021354,
             "remaining_time": 28.44361244,
             "test": [
              0.0005556935629
             ]
            },
            {
             "iteration": 488,
             "learn": [
              0.0003794556295
             ],
             "passed_time": 9.194152402,
             "remaining_time": 28.4097429,
             "test": [
              0.0005554700372
             ]
            },
            {
             "iteration": 489,
             "learn": [
              0.0003792616085
             ],
             "passed_time": 9.207503854,
             "remaining_time": 28.37414453,
             "test": [
              0.0005552367857
             ]
            },
            {
             "iteration": 490,
             "learn": [
              0.0003770448478
             ],
             "passed_time": 9.221540266,
             "remaining_time": 28.34074188,
             "test": [
              0.0005531746191
             ]
            },
            {
             "iteration": 491,
             "learn": [
              0.0003767886994
             ],
             "passed_time": 9.236113755,
             "remaining_time": 28.30906411,
             "test": [
              0.0005528478015
             ]
            },
            {
             "iteration": 492,
             "learn": [
              0.0003745298109
             ],
             "passed_time": 9.250409896,
             "remaining_time": 28.27660794,
             "test": [
              0.0005505130996
             ]
            },
            {
             "iteration": 493,
             "learn": [
              0.0003732035235
             ],
             "passed_time": 9.264424581,
             "remaining_time": 28.24336724,
             "test": [
              0.0005490980399
             ]
            },
            {
             "iteration": 494,
             "learn": [
              0.0003729231543
             ],
             "passed_time": 9.277633198,
             "remaining_time": 28.20775346,
             "test": [
              0.0005489019078
             ]
            },
            {
             "iteration": 495,
             "learn": [
              0.0003726721173
             ],
             "passed_time": 9.291449698,
             "remaining_time": 28.17407328,
             "test": [
              0.0005487141833
             ]
            },
            {
             "iteration": 496,
             "learn": [
              0.0003713858027
             ],
             "passed_time": 9.305471337,
             "remaining_time": 28.1410934,
             "test": [
              0.0005477842716
             ]
            },
            {
             "iteration": 497,
             "learn": [
              0.0003711921018
             ],
             "passed_time": 9.328498414,
             "remaining_time": 28.13535064,
             "test": [
              0.0005475953979
             ]
            },
            {
             "iteration": 498,
             "learn": [
              0.0003698407921
             ],
             "passed_time": 9.343553416,
             "remaining_time": 28.10555847,
             "test": [
              0.0005461186801
             ]
            },
            {
             "iteration": 499,
             "learn": [
              0.000369012385
             ],
             "passed_time": 9.374976704,
             "remaining_time": 28.12493011,
             "test": [
              0.0005453003559
             ]
            },
            {
             "iteration": 500,
             "learn": [
              0.000367010257
             ],
             "passed_time": 9.445474782,
             "remaining_time": 28.26101137,
             "test": [
              0.0005427723566
             ]
            },
            {
             "iteration": 501,
             "learn": [
              0.0003651413594
             ],
             "passed_time": 9.465003753,
             "remaining_time": 28.24417455,
             "test": [
              0.0005410952672
             ]
            },
            {
             "iteration": 502,
             "learn": [
              0.0003649321321
             ],
             "passed_time": 9.486430956,
             "remaining_time": 28.23297642,
             "test": [
              0.0005408741115
             ]
            },
            {
             "iteration": 503,
             "learn": [
              0.0003646767706
             ],
             "passed_time": 9.501063181,
             "remaining_time": 28.20156849,
             "test": [
              0.0005406701997
             ]
            },
            {
             "iteration": 504,
             "learn": [
              0.0003642759463
             ],
             "passed_time": 9.515440183,
             "remaining_time": 28.16947143,
             "test": [
              0.0005405564273
             ]
            },
            {
             "iteration": 505,
             "learn": [
              0.0003640618315
             ],
             "passed_time": 9.529125163,
             "remaining_time": 28.13540117,
             "test": [
              0.0005404241643
             ]
            },
            {
             "iteration": 506,
             "learn": [
              0.0003636861986
             ],
             "passed_time": 9.54331155,
             "remaining_time": 28.10288786,
             "test": [
              0.0005402613788
             ]
            },
            {
             "iteration": 507,
             "learn": [
              0.000363515736
             ],
             "passed_time": 9.559680931,
             "remaining_time": 28.07685817,
             "test": [
              0.000540172445
             ]
            },
            {
             "iteration": 508,
             "learn": [
              0.0003616279123
             ],
             "passed_time": 9.576712982,
             "remaining_time": 28.05280758,
             "test": [
              0.0005379729083
             ]
            },
            {
             "iteration": 509,
             "learn": [
              0.0003599361169
             ],
             "passed_time": 9.593235017,
             "remaining_time": 28.02729446,
             "test": [
              0.0005357776481
             ]
            },
            {
             "iteration": 510,
             "learn": [
              0.0003597565555
             ],
             "passed_time": 9.610886962,
             "remaining_time": 28.00510897,
             "test": [
              0.0005355794239
             ]
            },
            {
             "iteration": 511,
             "learn": [
              0.0003576898143
             ],
             "passed_time": 9.62765793,
             "remaining_time": 27.98038086,
             "test": [
              0.0005333355997
             ]
            },
            {
             "iteration": 512,
             "learn": [
              0.0003575204328
             ],
             "passed_time": 9.644076638,
             "remaining_time": 27.95466269,
             "test": [
              0.0005332331466
             ]
            },
            {
             "iteration": 513,
             "learn": [
              0.0003572430733
             ],
             "passed_time": 9.661187175,
             "remaining_time": 27.93098082,
             "test": [
              0.0005330740118
             ]
            },
            {
             "iteration": 514,
             "learn": [
              0.0003569670335
             ],
             "passed_time": 9.675631369,
             "remaining_time": 27.89963608,
             "test": [
              0.000532834454
             ]
            },
            {
             "iteration": 515,
             "learn": [
              0.0003566221937
             ],
             "passed_time": 9.690292495,
             "remaining_time": 27.86898074,
             "test": [
              0.0005326566979
             ]
            },
            {
             "iteration": 516,
             "learn": [
              0.0003563736168
             ],
             "passed_time": 9.704742212,
             "remaining_time": 27.83778085,
             "test": [
              0.0005324889632
             ]
            },
            {
             "iteration": 517,
             "learn": [
              0.0003550756409
             ],
             "passed_time": 9.719339369,
             "remaining_time": 27.80706746,
             "test": [
              0.000531086747
             ]
            },
            {
             "iteration": 518,
             "learn": [
              0.00035474328
             ],
             "passed_time": 9.733759172,
             "remaining_time": 27.77591009,
             "test": [
              0.0005309038247
             ]
            },
            {
             "iteration": 519,
             "learn": [
              0.000353848533
             ],
             "passed_time": 9.748128885,
             "remaining_time": 27.74467452,
             "test": [
              0.0005300784677
             ]
            },
            {
             "iteration": 520,
             "learn": [
              0.0003536840446
             ],
             "passed_time": 9.762292248,
             "remaining_time": 27.71291792,
             "test": [
              0.0005299145604
             ]
            },
            {
             "iteration": 521,
             "learn": [
              0.0003521562448
             ],
             "passed_time": 9.776109148,
             "remaining_time": 27.68024774,
             "test": [
              0.0005285846563
             ]
            },
            {
             "iteration": 522,
             "learn": [
              0.0003519504371
             ],
             "passed_time": 9.791455334,
             "remaining_time": 27.65196851,
             "test": [
              0.0005284327792
             ]
            },
            {
             "iteration": 523,
             "learn": [
              0.0003517493117
             ],
             "passed_time": 9.805818531,
             "remaining_time": 27.62096975,
             "test": [
              0.0005282516833
             ]
            },
            {
             "iteration": 524,
             "learn": [
              0.0003503887089
             ],
             "passed_time": 9.825376404,
             "remaining_time": 27.60462895,
             "test": [
              0.0005271578743
             ]
            },
            {
             "iteration": 525,
             "learn": [
              0.000348528921
             ],
             "passed_time": 9.844599582,
             "remaining_time": 27.58733799,
             "test": [
              0.0005250385943
             ]
            },
            {
             "iteration": 526,
             "learn": [
              0.0003467200546
             ],
             "passed_time": 9.869193449,
             "remaining_time": 27.58505114,
             "test": [
              0.0005226822035
             ]
            },
            {
             "iteration": 527,
             "learn": [
              0.000346519695
             ],
             "passed_time": 9.886833574,
             "remaining_time": 27.5632936,
             "test": [
              0.0005225964346
             ]
            },
            {
             "iteration": 528,
             "learn": [
              0.0003444272615
             ],
             "passed_time": 9.901323709,
             "remaining_time": 27.53279239,
             "test": [
              0.00052058148
             ]
            },
            {
             "iteration": 529,
             "learn": [
              0.0003422895964
             ],
             "passed_time": 9.916064043,
             "remaining_time": 27.50304555,
             "test": [
              0.0005185269987
             ]
            },
            {
             "iteration": 530,
             "learn": [
              0.0003414406815
             ],
             "passed_time": 9.930186957,
             "remaining_time": 27.47164716,
             "test": [
              0.0005179839849
             ]
            },
            {
             "iteration": 531,
             "learn": [
              0.0003412563027
             ],
             "passed_time": 9.944245632,
             "remaining_time": 27.44013644,
             "test": [
              0.0005178830889
             ]
            },
            {
             "iteration": 532,
             "learn": [
              0.0003399452588
             ],
             "passed_time": 9.959132493,
             "remaining_time": 27.41097067,
             "test": [
              0.0005166521615
             ]
            },
            {
             "iteration": 533,
             "learn": [
              0.0003388084339
             ],
             "passed_time": 9.973788712,
             "remaining_time": 27.38122519,
             "test": [
              0.0005155252313
             ]
            },
            {
             "iteration": 534,
             "learn": [
              0.0003385929658
             ],
             "passed_time": 9.987583108,
             "remaining_time": 27.34917617,
             "test": [
              0.0005153917001
             ]
            },
            {
             "iteration": 535,
             "learn": [
              0.0003376382034
             ],
             "passed_time": 10.00133772,
             "remaining_time": 27.31708661,
             "test": [
              0.0005145744693
             ]
            },
            {
             "iteration": 536,
             "learn": [
              0.0003374314646
             ],
             "passed_time": 10.01585631,
             "remaining_time": 27.28714671,
             "test": [
              0.0005144213848
             ]
            },
            {
             "iteration": 537,
             "learn": [
              0.0003366540476
             ],
             "passed_time": 10.03018654,
             "remaining_time": 27.25675226,
             "test": [
              0.0005138781726
             ]
            },
            {
             "iteration": 538,
             "learn": [
              0.0003365331248
             ],
             "passed_time": 10.04537282,
             "remaining_time": 27.22873784,
             "test": [
              0.0005137024231
             ]
            },
            {
             "iteration": 539,
             "learn": [
              0.0003363339082
             ],
             "passed_time": 10.059296,
             "remaining_time": 27.19735584,
             "test": [
              0.0005135111631
             ]
            },
            {
             "iteration": 540,
             "learn": [
              0.00033613148
             ],
             "passed_time": 10.07435532,
             "remaining_time": 27.16910244,
             "test": [
              0.0005132763144
             ]
            },
            {
             "iteration": 541,
             "learn": [
              0.0003343639325
             ],
             "passed_time": 10.08877817,
             "remaining_time": 27.13918555,
             "test": [
              0.000511375038
             ]
            },
            {
             "iteration": 542,
             "learn": [
              0.0003341839445
             ],
             "passed_time": 10.10297623,
             "remaining_time": 27.1087226,
             "test": [
              0.0005111504873
             ]
            },
            {
             "iteration": 543,
             "learn": [
              0.0003332181325
             ],
             "passed_time": 10.11711147,
             "remaining_time": 27.07815128,
             "test": [
              0.0005100619109
             ]
            },
            {
             "iteration": 544,
             "learn": [
              0.0003320612662
             ],
             "passed_time": 10.13123643,
             "remaining_time": 27.04761285,
             "test": [
              0.0005089121475
             ]
            },
            {
             "iteration": 545,
             "learn": [
              0.0003318989397
             ],
             "passed_time": 10.14535464,
             "remaining_time": 27.01711657,
             "test": [
              0.0005088873629
             ]
            },
            {
             "iteration": 546,
             "learn": [
              0.0003317852484
             ],
             "passed_time": 10.1592617,
             "remaining_time": 26.98611929,
             "test": [
              0.0005087454976
             ]
            },
            {
             "iteration": 547,
             "learn": [
              0.0003316645982
             ],
             "passed_time": 10.17380517,
             "remaining_time": 26.95687062,
             "test": [
              0.0005086003922
             ]
            },
            {
             "iteration": 548,
             "learn": [
              0.0003314325853
             ],
             "passed_time": 10.18765706,
             "remaining_time": 26.92584771,
             "test": [
              0.000508360445
             ]
            },
            {
             "iteration": 549,
             "learn": [
              0.0003312332212
             ],
             "passed_time": 10.20145741,
             "remaining_time": 26.89475136,
             "test": [
              0.0005083010661
             ]
            },
            {
             "iteration": 550,
             "learn": [
              0.0003292578755
             ],
             "passed_time": 10.21547299,
             "remaining_time": 26.86428379,
             "test": [
              0.0005060394985
             ]
            },
            {
             "iteration": 551,
             "learn": [
              0.0003276675268
             ],
             "passed_time": 10.23010672,
             "remaining_time": 26.83549734,
             "test": [
              0.000504254988
             ]
            },
            {
             "iteration": 552,
             "learn": [
              0.0003270077536
             ],
             "passed_time": 10.24422372,
             "remaining_time": 26.80541,
             "test": [
              0.0005037320332
             ]
            },
            {
             "iteration": 553,
             "learn": [
              0.0003268793082
             ],
             "passed_time": 10.25780483,
             "remaining_time": 26.77398157,
             "test": [
              0.00050360875
             ]
            },
            {
             "iteration": 554,
             "learn": [
              0.0003251289608
             ],
             "passed_time": 10.27267421,
             "remaining_time": 26.74597159,
             "test": [
              0.0005017914985
             ]
            },
            {
             "iteration": 555,
             "learn": [
              0.0003248741954
             ],
             "passed_time": 10.28526889,
             "remaining_time": 26.71210123,
             "test": [
              0.0005016500701
             ]
            },
            {
             "iteration": 556,
             "learn": [
              0.0003242006527
             ],
             "passed_time": 10.29902055,
             "remaining_time": 26.68130458,
             "test": [
              0.0005012597927
             ]
            },
            {
             "iteration": 557,
             "learn": [
              0.0003226733089
             ],
             "passed_time": 10.31304099,
             "remaining_time": 26.65126363,
             "test": [
              0.0004999113476
             ]
            },
            {
             "iteration": 558,
             "learn": [
              0.0003224703341
             ],
             "passed_time": 10.36249353,
             "remaining_time": 26.71261749,
             "test": [
              0.0004997704696
             ]
            },
            {
             "iteration": 559,
             "learn": [
              0.0003209341996
             ],
             "passed_time": 10.3823929,
             "remaining_time": 26.69758175,
             "test": [
              0.000497591357
             ]
            },
            {
             "iteration": 560,
             "learn": [
              0.0003207830851
             ],
             "passed_time": 10.40010017,
             "remaining_time": 26.67690577,
             "test": [
              0.0004974542272
             ]
            },
            {
             "iteration": 561,
             "learn": [
              0.0003206534396
             ],
             "passed_time": 10.41419007,
             "remaining_time": 26.64698454,
             "test": [
              0.0004973446513
             ]
            },
            {
             "iteration": 562,
             "learn": [
              0.0003205180303
             ],
             "passed_time": 10.42863514,
             "remaining_time": 26.61802611,
             "test": [
              0.0004971690736
             ]
            },
            {
             "iteration": 563,
             "learn": [
              0.0003187417399
             ],
             "passed_time": 10.44272521,
             "remaining_time": 26.58821525,
             "test": [
              0.0004956299287
             ]
            },
            {
             "iteration": 564,
             "learn": [
              0.0003185309698
             ],
             "passed_time": 10.4668925,
             "remaining_time": 26.58405441,
             "test": [
              0.000495535206
             ]
            },
            {
             "iteration": 565,
             "learn": [
              0.0003177241306
             ],
             "passed_time": 10.48385194,
             "remaining_time": 26.56156127,
             "test": [
              0.0004948891214
             ]
            },
            {
             "iteration": 566,
             "learn": [
              0.000316826131
             ],
             "passed_time": 10.50203724,
             "remaining_time": 26.54218583,
             "test": [
              0.0004937311729
             ]
            },
            {
             "iteration": 567,
             "learn": [
              0.0003167124324
             ],
             "passed_time": 10.51945415,
             "remaining_time": 26.52087736,
             "test": [
              0.0004936118762
             ]
            },
            {
             "iteration": 568,
             "learn": [
              0.0003164625675
             ],
             "passed_time": 10.53663937,
             "remaining_time": 26.49899989,
             "test": [
              0.0004936109076
             ]
            },
            {
             "iteration": 569,
             "learn": [
              0.0003163762098
             ],
             "passed_time": 10.55378706,
             "remaining_time": 26.47704472,
             "test": [
              0.0004935161326
             ]
            },
            {
             "iteration": 570,
             "learn": [
              0.0003161095708
             ],
             "passed_time": 10.56862819,
             "remaining_time": 26.44933394,
             "test": [
              0.0004934442882
             ]
            },
            {
             "iteration": 571,
             "learn": [
              0.0003159792953
             ],
             "passed_time": 10.5827096,
             "remaining_time": 26.41977151,
             "test": [
              0.0004933566158
             ]
            },
            {
             "iteration": 572,
             "learn": [
              0.0003158388525
             ],
             "passed_time": 10.597324,
             "remaining_time": 26.39159047,
             "test": [
              0.0004933069699
             ]
            },
            {
             "iteration": 573,
             "learn": [
              0.000314797586
             ],
             "passed_time": 10.61165713,
             "remaining_time": 26.36275795,
             "test": [
              0.000492800311
             ]
            },
            {
             "iteration": 574,
             "learn": [
              0.0003146914876
             ],
             "passed_time": 10.62614036,
             "remaining_time": 26.33434784,
             "test": [
              0.0004927359681
             ]
            },
            {
             "iteration": 575,
             "learn": [
              0.000314598087
             ],
             "passed_time": 10.6413973,
             "remaining_time": 26.30789888,
             "test": [
              0.0004925408443
             ]
            },
            {
             "iteration": 576,
             "learn": [
              0.000314530449
             ],
             "passed_time": 10.65636685,
             "remaining_time": 26.28077995,
             "test": [
              0.0004924639752
             ]
            },
            {
             "iteration": 577,
             "learn": [
              0.0003144032297
             ],
             "passed_time": 10.67039783,
             "remaining_time": 26.25139396,
             "test": [
              0.0004923817996
             ]
            },
            {
             "iteration": 578,
             "learn": [
              0.0003142370713
             ],
             "passed_time": 10.68514471,
             "remaining_time": 26.22381802,
             "test": [
              0.0004923401859
             ]
            },
            {
             "iteration": 579,
             "learn": [
              0.0003127012338
             ],
             "passed_time": 10.69934084,
             "remaining_time": 26.19493791,
             "test": [
              0.0004909177646
             ]
            },
            {
             "iteration": 580,
             "learn": [
              0.0003119018094
             ],
             "passed_time": 10.7140041,
             "remaining_time": 26.16724925,
             "test": [
              0.0004902862366
             ]
            },
            {
             "iteration": 581,
             "learn": [
              0.0003109527269
             ],
             "passed_time": 10.72839005,
             "remaining_time": 26.1389297,
             "test": [
              0.000489472999
             ]
            },
            {
             "iteration": 582,
             "learn": [
              0.0003106989203
             ],
             "passed_time": 10.74387888,
             "remaining_time": 26.11333856,
             "test": [
              0.0004892405727
             ]
            },
            {
             "iteration": 583,
             "learn": [
              0.000309203736
             ],
             "passed_time": 10.7639903,
             "remaining_time": 26.09899017,
             "test": [
              0.0004876934654
             ]
            },
            {
             "iteration": 584,
             "learn": [
              0.0003090397581
             ],
             "passed_time": 10.7848263,
             "remaining_time": 26.08637473,
             "test": [
              0.0004876708476
             ]
            },
            {
             "iteration": 585,
             "learn": [
              0.000308930658
             ],
             "passed_time": 10.80342675,
             "remaining_time": 26.0683369,
             "test": [
              0.0004875987083
             ]
            },
            {
             "iteration": 586,
             "learn": [
              0.0003073560743
             ],
             "passed_time": 10.82211303,
             "remaining_time": 26.05050377,
             "test": [
              0.0004859527982
             ]
            },
            {
             "iteration": 587,
             "learn": [
              0.0003060039005
             ],
             "passed_time": 10.83626518,
             "remaining_time": 26.02177964,
             "test": [
              0.0004841889249
             ]
            },
            {
             "iteration": 588,
             "learn": [
              0.0003057252342
             ],
             "passed_time": 10.85081441,
             "remaining_time": 25.99405624,
             "test": [
              0.0004838544091
             ]
            },
            {
             "iteration": 589,
             "learn": [
              0.0003055360111
             ],
             "passed_time": 10.86455198,
             "remaining_time": 25.96443778,
             "test": [
              0.0004836691091
             ]
            },
            {
             "iteration": 590,
             "learn": [
              0.0003045962755
             ],
             "passed_time": 10.87882972,
             "remaining_time": 25.93616086,
             "test": [
              0.000482760268
             ]
            },
            {
             "iteration": 591,
             "learn": [
              0.0003044710766
             ],
             "passed_time": 10.89036751,
             "remaining_time": 25.90141462,
             "test": [
              0.0004826893162
             ]
            },
            {
             "iteration": 592,
             "learn": [
              0.0003043998391
             ],
             "passed_time": 10.90365509,
             "remaining_time": 25.87089834,
             "test": [
              0.0004826493103
             ]
            },
            {
             "iteration": 593,
             "learn": [
              0.0003031668064
             ],
             "passed_time": 10.91835732,
             "remaining_time": 25.84378854,
             "test": [
              0.0004817191081
             ]
            },
            {
             "iteration": 594,
             "learn": [
              0.0003014932964
             ],
             "passed_time": 10.93283233,
             "remaining_time": 25.8161839,
             "test": [
              0.0004797856395
             ]
            },
            {
             "iteration": 595,
             "learn": [
              0.000301402888
             ],
             "passed_time": 10.94595412,
             "remaining_time": 25.78543554,
             "test": [
              0.0004796980978
             ]
            },
            {
             "iteration": 596,
             "learn": [
              0.0002998392471
             ],
             "passed_time": 10.96060645,
             "remaining_time": 25.75834313,
             "test": [
              0.0004776717602
             ]
            },
            {
             "iteration": 597,
             "learn": [
              0.0002983141026
             ],
             "passed_time": 10.97568742,
             "remaining_time": 25.73229726,
             "test": [
              0.0004757887246
             ]
            },
            {
             "iteration": 598,
             "learn": [
              0.0002969616988
             ],
             "passed_time": 10.98998117,
             "remaining_time": 25.70444678,
             "test": [
              0.0004737712315
             ]
            },
            {
             "iteration": 599,
             "learn": [
              0.0002968472146
             ],
             "passed_time": 11.00305573,
             "remaining_time": 25.6737967,
             "test": [
              0.0004737238761
             ]
            },
            {
             "iteration": 600,
             "learn": [
              0.0002967066224
             ],
             "passed_time": 11.0173958,
             "remaining_time": 25.64615095,
             "test": [
              0.0004736413896
             ]
            },
            {
             "iteration": 601,
             "learn": [
              0.0002966359755
             ],
             "passed_time": 11.03178206,
             "remaining_time": 25.61865667,
             "test": [
              0.0004736009879
             ]
            },
            {
             "iteration": 602,
             "learn": [
              0.0002965309062
             ],
             "passed_time": 11.04788613,
             "remaining_time": 25.5951856,
             "test": [
              0.0004734297299
             ]
            },
            {
             "iteration": 603,
             "learn": [
              0.0002964525112
             ],
             "passed_time": 11.06342473,
             "remaining_time": 25.57043199,
             "test": [
              0.0004733297646
             ]
            },
            {
             "iteration": 604,
             "learn": [
              0.0002963391592
             ],
             "passed_time": 11.07761757,
             "remaining_time": 25.5426058,
             "test": [
              0.0004732548123
             ]
            },
            {
             "iteration": 605,
             "learn": [
              0.0002949421063
             ],
             "passed_time": 11.0918943,
             "remaining_time": 25.51501757,
             "test": [
              0.0004710276253
             ]
            },
            {
             "iteration": 606,
             "learn": [
              0.000294810696
             ],
             "passed_time": 11.1059836,
             "remaining_time": 25.48704308,
             "test": [
              0.0004709679555
             ]
            },
            {
             "iteration": 607,
             "learn": [
              0.000294640627
             ],
             "passed_time": 11.11958442,
             "remaining_time": 25.4579959,
             "test": [
              0.0004709342068
             ]
            },
            {
             "iteration": 608,
             "learn": [
              0.0002943514086
             ],
             "passed_time": 11.13416849,
             "remaining_time": 25.43124526,
             "test": [
              0.0004706165075
             ]
            },
            {
             "iteration": 609,
             "learn": [
              0.0002927423454
             ],
             "passed_time": 11.1489691,
             "remaining_time": 25.40502796,
             "test": [
              0.0004689089931
             ]
            },
            {
             "iteration": 610,
             "learn": [
              0.0002914755687
             ],
             "passed_time": 11.16319158,
             "remaining_time": 25.37753372,
             "test": [
              0.0004676840959
             ]
            },
            {
             "iteration": 611,
             "learn": [
              0.0002902534614
             ],
             "passed_time": 11.17761067,
             "remaining_time": 25.35052878,
             "test": [
              0.0004662737325
             ]
            },
            {
             "iteration": 612,
             "learn": [
              0.0002888622428
             ],
             "passed_time": 11.192117,
             "remaining_time": 25.32376229,
             "test": [
              0.0004648608408
             ]
            },
            {
             "iteration": 613,
             "learn": [
              0.0002887939264
             ],
             "passed_time": 11.20593404,
             "remaining_time": 25.29547978,
             "test": [
              0.0004647933324
             ]
            },
            {
             "iteration": 614,
             "learn": [
              0.0002875840963
             ],
             "passed_time": 11.22120223,
             "remaining_time": 25.27051234,
             "test": [
              0.0004629100685
             ]
            },
            {
             "iteration": 615,
             "learn": [
              0.0002875046984
             ],
             "passed_time": 11.23481254,
             "remaining_time": 25.24185154,
             "test": [
              0.0004628735561
             ]
            },
            {
             "iteration": 616,
             "learn": [
              0.000287435069
             ],
             "passed_time": 11.24865787,
             "remaining_time": 25.21376635,
             "test": [
              0.0004628187269
             ]
            },
            {
             "iteration": 617,
             "learn": [
              0.0002869762599
             ],
             "passed_time": 11.26532875,
             "remaining_time": 25.19204585,
             "test": [
              0.0004627078557
             ]
            },
            {
             "iteration": 618,
             "learn": [
              0.0002853943469
             ],
             "passed_time": 11.28066525,
             "remaining_time": 25.16736463,
             "test": [
              0.0004610529716
             ]
            },
            {
             "iteration": 619,
             "learn": [
              0.0002844604679
             ],
             "passed_time": 11.295724,
             "remaining_time": 25.14209535,
             "test": [
              0.0004601924322
             ]
            },
            {
             "iteration": 620,
             "learn": [
              0.0002843968798
             ],
             "passed_time": 11.3101785,
             "remaining_time": 25.11551716,
             "test": [
              0.0004601820695
             ]
            },
            {
             "iteration": 621,
             "learn": [
              0.0002830881053
             ],
             "passed_time": 11.32483753,
             "remaining_time": 25.08943105,
             "test": [
              0.0004582700207
             ]
            },
            {
             "iteration": 622,
             "learn": [
              0.0002819696613
             ],
             "passed_time": 11.37124865,
             "remaining_time": 25.13356243,
             "test": [
              0.0004573489306
             ]
            },
            {
             "iteration": 623,
             "learn": [
              0.0002810007303
             ],
             "passed_time": 11.39057939,
             "remaining_time": 25.11768789,
             "test": [
              0.0004566116335
             ]
            },
            {
             "iteration": 624,
             "learn": [
              0.0002807701442
             ],
             "passed_time": 11.41073379,
             "remaining_time": 25.10361433,
             "test": [
              0.0004563836884
             ]
            },
            {
             "iteration": 625,
             "learn": [
              0.0002791060446
             ],
             "passed_time": 11.42927427,
             "remaining_time": 25.08597898,
             "test": [
              0.0004544553673
             ]
            },
            {
             "iteration": 626,
             "learn": [
              0.0002785894473
             ],
             "passed_time": 11.44743517,
             "remaining_time": 25.06750955,
             "test": [
              0.0004542691592
             ]
            },
            {
             "iteration": 627,
             "learn": [
              0.0002771464351
             ],
             "passed_time": 11.46545751,
             "remaining_time": 25.04873839,
             "test": [
              0.0004519062413
             ]
            },
            {
             "iteration": 628,
             "learn": [
              0.0002764418621
             ],
             "passed_time": 11.48300027,
             "remaining_time": 25.02892428,
             "test": [
              0.0004509706791
             ]
            },
            {
             "iteration": 629,
             "learn": [
              0.0002763152679
             ],
             "passed_time": 11.49751237,
             "remaining_time": 25.00252689,
             "test": [
              0.0004509394348
             ]
            },
            {
             "iteration": 630,
             "learn": [
              0.0002753188385
             ],
             "passed_time": 11.51219693,
             "remaining_time": 24.97654135,
             "test": [
              0.0004498327075
             ]
            },
            {
             "iteration": 631,
             "learn": [
              0.0002740606175
             ],
             "passed_time": 11.52711841,
             "remaining_time": 24.95110441,
             "test": [
              0.0004483496697
             ]
            },
            {
             "iteration": 632,
             "learn": [
              0.0002739323174
             ],
             "passed_time": 11.54138454,
             "remaining_time": 24.9242854,
             "test": [
              0.0004483641706
             ]
            },
            {
             "iteration": 633,
             "learn": [
              0.0002733132539
             ],
             "passed_time": 11.55635308,
             "remaining_time": 24.8990194,
             "test": [
              0.0004480613989
             ]
            },
            {
             "iteration": 634,
             "learn": [
              0.0002731529448
             ],
             "passed_time": 11.57081665,
             "remaining_time": 24.87270035,
             "test": [
              0.0004480431882
             ]
            },
            {
             "iteration": 635,
             "learn": [
              0.0002723896392
             ],
             "passed_time": 11.58565058,
             "remaining_time": 24.84721287,
             "test": [
              0.000446693902
             ]
            },
            {
             "iteration": 636,
             "learn": [
              0.0002721762581
             ],
             "passed_time": 11.59972389,
             "remaining_time": 24.82013133,
             "test": [
              0.0004466934978
             ]
            },
            {
             "iteration": 637,
             "learn": [
              0.0002720285591
             ],
             "passed_time": 11.61381755,
             "remaining_time": 24.79313401,
             "test": [
              0.0004464640368
             ]
            },
            {
             "iteration": 638,
             "learn": [
              0.0002719347362
             ],
             "passed_time": 11.62930889,
             "remaining_time": 24.769154,
             "test": [
              0.0004464356953
             ]
            },
            {
             "iteration": 639,
             "learn": [
              0.0002718540612
             ],
             "passed_time": 11.64390508,
             "remaining_time": 24.74329829,
             "test": [
              0.0004463070837
             ]
            },
            {
             "iteration": 640,
             "learn": [
              0.0002705542906
             ],
             "passed_time": 11.65859006,
             "remaining_time": 24.71766598,
             "test": [
              0.0004451384053
             ]
            },
            {
             "iteration": 641,
             "learn": [
              0.0002699634367
             ],
             "passed_time": 11.67320349,
             "remaining_time": 24.69191641,
             "test": [
              0.0004442697682
             ]
            },
            {
             "iteration": 642,
             "learn": [
              0.0002691267053
             ],
             "passed_time": 11.6876858,
             "remaining_time": 24.66592478,
             "test": [
              0.0004437519245
             ]
            },
            {
             "iteration": 643,
             "learn": [
              0.0002685048017
             ],
             "passed_time": 11.71105906,
             "remaining_time": 24.65868958,
             "test": [
              0.0004433313501
             ]
            },
            {
             "iteration": 644,
             "learn": [
              0.0002684502662
             ],
             "passed_time": 11.73459379,
             "remaining_time": 24.65174355,
             "test": [
              0.0004432954269
             ]
            },
            {
             "iteration": 645,
             "learn": [
              0.0002677033981
             ],
             "passed_time": 11.7524726,
             "remaining_time": 24.63289149,
             "test": [
              0.0004425476834
             ]
            },
            {
             "iteration": 646,
             "learn": [
              0.0002675787772
             ],
             "passed_time": 11.77399172,
             "remaining_time": 24.62165502,
             "test": [
              0.0004425592403
             ]
            },
            {
             "iteration": 647,
             "learn": [
              0.0002674727276
             ],
             "passed_time": 11.80174657,
             "remaining_time": 24.62339717,
             "test": [
              0.0004426597522
             ]
            },
            {
             "iteration": 648,
             "learn": [
              0.000266407809
             ],
             "passed_time": 11.82611701,
             "remaining_time": 24.61800321,
             "test": [
              0.0004414461234
             ]
            },
            {
             "iteration": 649,
             "learn": [
              0.0002662435995
             ],
             "passed_time": 11.84381243,
             "remaining_time": 24.59868734,
             "test": [
              0.0004414158721
             ]
            },
            {
             "iteration": 650,
             "learn": [
              0.0002661412588
             ],
             "passed_time": 11.85817669,
             "remaining_time": 24.57247366,
             "test": [
              0.0004413341219
             ]
            },
            {
             "iteration": 651,
             "learn": [
              0.0002660400011
             ],
             "passed_time": 11.87224654,
             "remaining_time": 24.54568764,
             "test": [
              0.0004414796284
             ]
            },
            {
             "iteration": 652,
             "learn": [
              0.0002659135687
             ],
             "passed_time": 11.88611015,
             "remaining_time": 24.51851511,
             "test": [
              0.0004415634183
             ]
            },
            {
             "iteration": 653,
             "learn": [
              0.0002657780929
             ],
             "passed_time": 11.90038607,
             "remaining_time": 24.49223188,
             "test": [
              0.0004415313228
             ]
            },
            {
             "iteration": 654,
             "learn": [
              0.0002647598342
             ],
             "passed_time": 11.91481024,
             "remaining_time": 24.46628972,
             "test": [
              0.0004404876914
             ]
            },
            {
             "iteration": 655,
             "learn": [
              0.0002645392835
             ],
             "passed_time": 11.92888806,
             "remaining_time": 24.4396731,
             "test": [
              0.0004404491482
             ]
            },
            {
             "iteration": 656,
             "learn": [
              0.0002644194319
             ],
             "passed_time": 11.94307737,
             "remaining_time": 24.41332253,
             "test": [
              0.0004403751868
             ]
            },
            {
             "iteration": 657,
             "learn": [
              0.0002643498631
             ],
             "passed_time": 11.95721241,
             "remaining_time": 24.38689826,
             "test": [
              0.0004403523461
             ]
            },
            {
             "iteration": 658,
             "learn": [
              0.0002636782801
             ],
             "passed_time": 11.97199407,
             "remaining_time": 24.36182709,
             "test": [
              0.0004398238131
             ]
            },
            {
             "iteration": 659,
             "learn": [
              0.0002626779061
             ],
             "passed_time": 11.98688194,
             "remaining_time": 24.33700272,
             "test": [
              0.0004386267633
             ]
            },
            {
             "iteration": 660,
             "learn": [
              0.0002625737094
             ],
             "passed_time": 12.00080891,
             "remaining_time": 24.31026191,
             "test": [
              0.0004386032006
             ]
            },
            {
             "iteration": 661,
             "learn": [
              0.0002624625473
             ],
             "passed_time": 12.0149711,
             "remaining_time": 24.28403524,
             "test": [
              0.0004385754899
             ]
            },
            {
             "iteration": 662,
             "learn": [
              0.0002623537341
             ],
             "passed_time": 12.02878482,
             "remaining_time": 24.25714225,
             "test": [
              0.0004386062532
             ]
            },
            {
             "iteration": 663,
             "learn": [
              0.0002611049941
             ],
             "passed_time": 12.04291947,
             "remaining_time": 24.23093435,
             "test": [
              0.0004370995893
             ]
            },
            {
             "iteration": 664,
             "learn": [
              0.0002609843974
             ],
             "passed_time": 12.05697534,
             "remaining_time": 24.20460464,
             "test": [
              0.0004370828608
             ]
            },
            {
             "iteration": 665,
             "learn": [
              0.0002608722338
             ],
             "passed_time": 12.06886253,
             "remaining_time": 24.1739679,
             "test": [
              0.0004370533539
             ]
            },
            {
             "iteration": 666,
             "learn": [
              0.0002602044734
             ],
             "passed_time": 12.08260605,
             "remaining_time": 24.14709726,
             "test": [
              0.0004364474557
             ]
            },
            {
             "iteration": 667,
             "learn": [
              0.0002601570322
             ],
             "passed_time": 12.0966308,
             "remaining_time": 24.12082669,
             "test": [
              0.0004363763714
             ]
            },
            {
             "iteration": 668,
             "learn": [
              0.0002600717193
             ],
             "passed_time": 12.10994307,
             "remaining_time": 24.09317523,
             "test": [
              0.0004364753296
             ]
            },
            {
             "iteration": 669,
             "learn": [
              0.0002598635368
             ],
             "passed_time": 12.1245786,
             "remaining_time": 24.06819335,
             "test": [
              0.0004365203461
             ]
            },
            {
             "iteration": 670,
             "learn": [
              0.0002590644703
             ],
             "passed_time": 12.13910083,
             "remaining_time": 24.04301788,
             "test": [
              0.0004358261218
             ]
            },
            {
             "iteration": 671,
             "learn": [
              0.0002576574239
             ],
             "passed_time": 12.1542973,
             "remaining_time": 24.01920657,
             "test": [
              0.0004343477089
             ]
            },
            {
             "iteration": 672,
             "learn": [
              0.0002566106324
             ],
             "passed_time": 12.16914318,
             "remaining_time": 23.99472956,
             "test": [
              0.0004330347538
             ]
            },
            {
             "iteration": 673,
             "learn": [
              0.0002564883061
             ],
             "passed_time": 12.18361954,
             "remaining_time": 23.96955417,
             "test": [
              0.000432969427
             ]
            },
            {
             "iteration": 674,
             "learn": [
              0.0002564128543
             ],
             "passed_time": 12.1982417,
             "remaining_time": 23.94469667,
             "test": [
              0.0004329611755
             ]
            },
            {
             "iteration": 675,
             "learn": [
              0.0002563533919
             ],
             "passed_time": 12.21229036,
             "remaining_time": 23.91874621,
             "test": [
              0.0004328833164
             ]
            },
            {
             "iteration": 676,
             "learn": [
              0.0002562407922
             ],
             "passed_time": 12.22686675,
             "remaining_time": 23.89386221,
             "test": [
              0.0004329893334
             ]
            },
            {
             "iteration": 677,
             "learn": [
              0.0002561669191
             ],
             "passed_time": 12.24212388,
             "remaining_time": 23.87033594,
             "test": [
              0.0004329414788
             ]
            },
            {
             "iteration": 678,
             "learn": [
              0.0002561268726
             ],
             "passed_time": 12.25575238,
             "remaining_time": 23.84366553,
             "test": [
              0.0004329295268
             ]
            },
            {
             "iteration": 679,
             "learn": [
              0.0002549868118
             ],
             "passed_time": 12.27014093,
             "remaining_time": 23.81850886,
             "test": [
              0.0004312166416
             ]
            },
            {
             "iteration": 680,
             "learn": [
              0.0002536816494
             ],
             "passed_time": 12.28471472,
             "remaining_time": 23.79374261,
             "test": [
              0.0004298407311
             ]
            },
            {
             "iteration": 681,
             "learn": [
              0.0002534851554
             ],
             "passed_time": 12.29815743,
             "remaining_time": 23.76682038,
             "test": [
              0.0004298425693
             ]
            },
            {
             "iteration": 682,
             "learn": [
              0.0002533681277
             ],
             "passed_time": 12.3122177,
             "remaining_time": 23.74112842,
             "test": [
              0.0004297666881
             ]
            },
            {
             "iteration": 683,
             "learn": [
              0.0002533323945
             ],
             "passed_time": 12.33102793,
             "remaining_time": 23.72460929,
             "test": [
              0.0004297559264
             ]
            },
            {
             "iteration": 684,
             "learn": [
              0.0002532331099
             ],
             "passed_time": 12.38212278,
             "remaining_time": 23.77006053,
             "test": [
              0.0004298418035
             ]
            },
            {
             "iteration": 685,
             "learn": [
              0.0002526464672
             ],
             "passed_time": 12.39774001,
             "remaining_time": 23.74727459,
             "test": [
              0.0004294804494
             ]
            },
            {
             "iteration": 686,
             "learn": [
              0.0002525808478
             ],
             "passed_time": 12.41396634,
             "remaining_time": 23.72567366,
             "test": [
              0.000429397822
             ]
            },
            {
             "iteration": 687,
             "learn": [
              0.000252513973
             ],
             "passed_time": 12.43081937,
             "remaining_time": 23.70528344,
             "test": [
              0.0004293373662
             ]
            },
            {
             "iteration": 688,
             "learn": [
              0.0002524412489
             ],
             "passed_time": 12.45550722,
             "remaining_time": 23.69981128,
             "test": [
              0.0004292829353
             ]
            },
            {
             "iteration": 689,
             "learn": [
              0.0002519431278
             ],
             "passed_time": 12.47029518,
             "remaining_time": 23.67548795,
             "test": [
              0.0004287712652
             ]
            },
            {
             "iteration": 690,
             "learn": [
              0.0002516471422
             ],
             "passed_time": 12.48399951,
             "remaining_time": 23.64913945,
             "test": [
              0.0004287824706
             ]
            },
            {
             "iteration": 691,
             "learn": [
              0.0002503730551
             ],
             "passed_time": 12.49808039,
             "remaining_time": 23.62353923,
             "test": [
              0.0004276513787
             ]
            },
            {
             "iteration": 692,
             "learn": [
              0.0002495781937
             ],
             "passed_time": 12.51246273,
             "remaining_time": 23.59854082,
             "test": [
              0.0004268847756
             ]
            },
            {
             "iteration": 693,
             "learn": [
              0.0002492490408
             ],
             "passed_time": 12.52634508,
             "remaining_time": 23.5726321,
             "test": [
              0.0004267059928
             ]
            },
            {
             "iteration": 694,
             "learn": [
              0.0002488498204
             ],
             "passed_time": 12.54041547,
             "remaining_time": 23.54711105,
             "test": [
              0.0004265433581
             ]
            },
            {
             "iteration": 695,
             "learn": [
              0.0002486339466
             ],
             "passed_time": 12.5546099,
             "remaining_time": 23.52185533,
             "test": [
              0.0004265980962
             ]
            },
            {
             "iteration": 696,
             "learn": [
              0.0002485490179
             ],
             "passed_time": 12.56900819,
             "remaining_time": 23.49701243,
             "test": [
              0.0004265476861
             ]
            },
            {
             "iteration": 697,
             "learn": [
              0.0002485153095
             ],
             "passed_time": 12.58206468,
             "remaining_time": 23.46969658,
             "test": [
              0.0004265125043
             ]
            },
            {
             "iteration": 698,
             "learn": [
              0.0002480225735
             ],
             "passed_time": 12.59591046,
             "remaining_time": 23.44389057,
             "test": [
              0.0004263514539
             ]
            },
            {
             "iteration": 699,
             "learn": [
              0.0002479768049
             ],
             "passed_time": 12.61043467,
             "remaining_time": 23.41937867,
             "test": [
              0.0004263017284
             ]
            },
            {
             "iteration": 700,
             "learn": [
              0.000247932043
             ],
             "passed_time": 12.62475482,
             "remaining_time": 23.39451714,
             "test": [
              0.0004262632481
             ]
            },
            {
             "iteration": 701,
             "learn": [
              0.0002470133424
             ],
             "passed_time": 12.63929729,
             "remaining_time": 23.3700967,
             "test": [
              0.000425220115
             ]
            },
            {
             "iteration": 702,
             "learn": [
              0.0002469160831
             ],
             "passed_time": 12.65304802,
             "remaining_time": 23.34424364,
             "test": [
              0.0004252786187
             ]
            },
            {
             "iteration": 703,
             "learn": [
              0.0002468712672
             ],
             "passed_time": 12.66632158,
             "remaining_time": 23.31754655,
             "test": [
              0.0004251649989
             ]
            },
            {
             "iteration": 704,
             "learn": [
              0.0002467059546
             ],
             "passed_time": 12.67996678,
             "remaining_time": 23.29157019,
             "test": [
              0.0004250183351
             ]
            },
            {
             "iteration": 705,
             "learn": [
              0.0002466583015
             ],
             "passed_time": 12.69420354,
             "remaining_time": 23.26671301,
             "test": [
              0.00042500629
             ]
            },
            {
             "iteration": 706,
             "learn": [
              0.00024663117
             ],
             "passed_time": 12.71023236,
             "remaining_time": 23.24516328,
             "test": [
              0.0004249511725
             ]
            },
            {
             "iteration": 707,
             "learn": [
              0.0002463472077
             ],
             "passed_time": 12.72385381,
             "remaining_time": 23.21923605,
             "test": [
              0.0004250267608
             ]
            },
            {
             "iteration": 708,
             "learn": [
              0.0002462666716
             ],
             "passed_time": 12.73696607,
             "remaining_time": 23.19241636,
             "test": [
              0.0004250140991
             ]
            },
            {
             "iteration": 709,
             "learn": [
              0.0002456890289
             ],
             "passed_time": 12.75100096,
             "remaining_time": 23.1673116,
             "test": [
              0.0004246003966
             ]
            },
            {
             "iteration": 710,
             "learn": [
              0.0002453481737
             ],
             "passed_time": 12.76445976,
             "remaining_time": 23.14119358,
             "test": [
              0.0004245452407
             ]
            },
            {
             "iteration": 711,
             "learn": [
              0.0002450281481
             ],
             "passed_time": 12.78284693,
             "remaining_time": 23.12402646,
             "test": [
              0.0004245230862
             ]
            },
            {
             "iteration": 712,
             "learn": [
              0.0002447837955
             ],
             "passed_time": 12.80473136,
             "remaining_time": 23.11316867,
             "test": [
              0.0004244916657
             ]
            },
            {
             "iteration": 713,
             "learn": [
              0.0002436184772
             ],
             "passed_time": 12.82452542,
             "remaining_time": 23.09851498,
             "test": [
              0.0004226704912
             ]
            },
            {
             "iteration": 714,
             "learn": [
              0.0002435908767
             ],
             "passed_time": 12.84155504,
             "remaining_time": 23.07887863,
             "test": [
              0.0004226774176
             ]
            },
            {
             "iteration": 715,
             "learn": [
              0.0002435470878
             ],
             "passed_time": 12.86450757,
             "remaining_time": 23.06987111,
             "test": [
              0.0004226804947
             ]
            },
            {
             "iteration": 716,
             "learn": [
              0.0002433614829
             ],
             "passed_time": 12.87834154,
             "remaining_time": 23.04450795,
             "test": [
              0.0004227503042
             ]
            },
            {
             "iteration": 717,
             "learn": [
              0.0002429838802
             ],
             "passed_time": 12.893169,
             "remaining_time": 23.02095078,
             "test": [
              0.0004225052206
             ]
            },
            {
             "iteration": 718,
             "learn": [
              0.0002423187927
             ],
             "passed_time": 12.90747348,
             "remaining_time": 22.99648614,
             "test": [
              0.0004222564263
             ]
            },
            {
             "iteration": 719,
             "learn": [
              0.0002421540394
             ],
             "passed_time": 12.92164019,
             "remaining_time": 22.97180478,
             "test": [
              0.0004222364533
             ]
            },
            {
             "iteration": 720,
             "learn": [
              0.0002420988952
             ],
             "passed_time": 12.93635325,
             "remaining_time": 22.94812178,
             "test": [
              0.0004222421554
             ]
            },
            {
             "iteration": 721,
             "learn": [
              0.0002414990253
             ],
             "passed_time": 12.9502358,
             "remaining_time": 22.92299356,
             "test": [
              0.0004216923252
             ]
            },
            {
             "iteration": 722,
             "learn": [
              0.0002414269407
             ],
             "passed_time": 12.96432416,
             "remaining_time": 22.89825997,
             "test": [
              0.0004217634492
             ]
            },
            {
             "iteration": 723,
             "learn": [
              0.0002408446069
             ],
             "passed_time": 12.97862693,
             "remaining_time": 22.87393365,
             "test": [
              0.0004212324964
             ]
            },
            {
             "iteration": 724,
             "learn": [
              0.0002397618142
             ],
             "passed_time": 12.99350464,
             "remaining_time": 22.85064609,
             "test": [
              0.0004200215715
             ]
            },
            {
             "iteration": 725,
             "learn": [
              0.000239718063
             ],
             "passed_time": 13.00702804,
             "remaining_time": 22.82500512,
             "test": [
              0.0004200117855
             ]
            },
            {
             "iteration": 726,
             "learn": [
              0.000239663254
             ],
             "passed_time": 13.02131957,
             "remaining_time": 22.80074253,
             "test": [
              0.0004199857453
             ]
            },
            {
             "iteration": 727,
             "learn": [
              0.0002395872623
             ],
             "passed_time": 13.03571016,
             "remaining_time": 22.7766804,
             "test": [
              0.0004199607842
             ]
            },
            {
             "iteration": 728,
             "learn": [
              0.000238420527
             ],
             "passed_time": 13.05003539,
             "remaining_time": 22.75253083,
             "test": [
              0.0004185395268
             ]
            },
            {
             "iteration": 729,
             "learn": [
              0.0002378669003
             ],
             "passed_time": 13.06451063,
             "remaining_time": 22.72866918,
             "test": [
              0.0004177993647
             ]
            },
            {
             "iteration": 730,
             "learn": [
              0.0002378214186
             ],
             "passed_time": 13.07828249,
             "remaining_time": 22.70361215,
             "test": [
              0.0004178047442
             ]
            },
            {
             "iteration": 731,
             "learn": [
              0.0002371707537
             ],
             "passed_time": 13.09269369,
             "remaining_time": 22.67969345,
             "test": [
              0.0004166205708
             ]
            },
            {
             "iteration": 732,
             "learn": [
              0.000237129764
             ],
             "passed_time": 13.10636849,
             "remaining_time": 22.6545278,
             "test": [
              0.0004167250779
             ]
            },
            {
             "iteration": 733,
             "learn": [
              0.0002371009206
             ],
             "passed_time": 13.12048704,
             "remaining_time": 22.63015885,
             "test": [
              0.0004166907737
             ]
            },
            {
             "iteration": 734,
             "learn": [
              0.0002370069052
             ],
             "passed_time": 13.1335425,
             "remaining_time": 22.60398811,
             "test": [
              0.000416730479
             ]
            },
            {
             "iteration": 735,
             "learn": [
              0.0002368600931
             ],
             "passed_time": 13.14685924,
             "remaining_time": 22.57830175,
             "test": [
              0.0004166775018
             ]
            },
            {
             "iteration": 736,
             "learn": [
              0.0002367909725
             ],
             "passed_time": 13.16069327,
             "remaining_time": 22.55353541,
             "test": [
              0.0004167021246
             ]
            },
            {
             "iteration": 737,
             "learn": [
              0.0002364006154
             ],
             "passed_time": 13.17404561,
             "remaining_time": 22.52797501,
             "test": [
              0.0004165512401
             ]
            },
            {
             "iteration": 738,
             "learn": [
              0.0002363516635
             ],
             "passed_time": 13.18784058,
             "remaining_time": 22.50320293,
             "test": [
              0.0004165456018
             ]
            },
            {
             "iteration": 739,
             "learn": [
              0.0002361213629
             ],
             "passed_time": 13.20177622,
             "remaining_time": 22.47870005,
             "test": [
              0.0004164389355
             ]
            },
            {
             "iteration": 740,
             "learn": [
              0.0002355760688
             ],
             "passed_time": 13.21593875,
             "remaining_time": 22.45461118,
             "test": [
              0.0004162062421
             ]
            },
            {
             "iteration": 741,
             "learn": [
              0.0002355454031
             ],
             "passed_time": 13.22994741,
             "remaining_time": 22.4302882,
             "test": [
              0.0004162171767
             ]
            },
            {
             "iteration": 742,
             "learn": [
              0.0002355051333
             ],
             "passed_time": 13.24350172,
             "remaining_time": 22.40522431,
             "test": [
              0.0004162001322
             ]
            },
            {
             "iteration": 743,
             "learn": [
              0.0002353305654
             ],
             "passed_time": 13.25939644,
             "remaining_time": 22.38414237,
             "test": [
              0.0004161785717
             ]
            },
            {
             "iteration": 744,
             "learn": [
              0.0002352828715
             ],
             "passed_time": 13.27605352,
             "remaining_time": 22.36435862,
             "test": [
              0.0004160850008
             ]
            },
            {
             "iteration": 745,
             "learn": [
              0.0002352420491
             ],
             "passed_time": 13.29231039,
             "remaining_time": 22.34391049,
             "test": [
              0.0004160559625
             ]
            },
            {
             "iteration": 746,
             "learn": [
              0.0002343374647
             ],
             "passed_time": 13.31019835,
             "remaining_time": 22.32620955,
             "test": [
              0.0004151014179
             ]
            },
            {
             "iteration": 747,
             "learn": [
              0.0002341762119
             ],
             "passed_time": 13.32763364,
             "remaining_time": 22.30775042,
             "test": [
              0.0004149984092
             ]
            },
            {
             "iteration": 748,
             "learn": [
              0.0002336635987
             ],
             "passed_time": 13.3427703,
             "remaining_time": 22.28545479,
             "test": [
              0.0004142805468
             ]
            },
            {
             "iteration": 749,
             "learn": [
              0.0002330209431
             ],
             "passed_time": 13.36210476,
             "remaining_time": 22.2701746,
             "test": [
              0.0004139422301
             ]
            },
            {
             "iteration": 750,
             "learn": [
              0.0002327169026
             ],
             "passed_time": 13.41306699,
             "remaining_time": 22.30748425,
             "test": [
              0.000413892543
             ]
            },
            {
             "iteration": 751,
             "learn": [
              0.0002326847071
             ],
             "passed_time": 13.42890556,
             "remaining_time": 22.2862688,
             "test": [
              0.0004138728771
             ]
            },
            {
             "iteration": 752,
             "learn": [
              0.0002326213497
             ],
             "passed_time": 13.44746115,
             "remaining_time": 22.26956714,
             "test": [
              0.0004139823609
             ]
            },
            {
             "iteration": 753,
             "learn": [
              0.000232584215
             ],
             "passed_time": 13.46108701,
             "remaining_time": 22.24471408,
             "test": [
              0.000413910749
             ]
            },
            {
             "iteration": 754,
             "learn": [
              0.0002325327019
             ],
             "passed_time": 13.47570842,
             "remaining_time": 22.22153243,
             "test": [
              0.0004139421134
             ]
            },
            {
             "iteration": 755,
             "learn": [
              0.0002323561313
             ],
             "passed_time": 13.49333837,
             "remaining_time": 22.20332398,
             "test": [
              0.0004137039409
             ]
            },
            {
             "iteration": 756,
             "learn": [
              0.0002319780001
             ],
             "passed_time": 13.50802898,
             "remaining_time": 22.18029065,
             "test": [
              0.0004133801387
             ]
            },
            {
             "iteration": 757,
             "learn": [
              0.0002318483095
             ],
             "passed_time": 13.52233877,
             "remaining_time": 22.15665534,
             "test": [
              0.0004135297849
             ]
            },
            {
             "iteration": 758,
             "learn": [
              0.0002317887519
             ],
             "passed_time": 13.53606694,
             "remaining_time": 22.13209364,
             "test": [
              0.0004135547776
             ]
            },
            {
             "iteration": 759,
             "learn": [
              0.0002316819937
             ],
             "passed_time": 13.55025573,
             "remaining_time": 22.10831197,
             "test": [
              0.0004136295619
             ]
            },
            {
             "iteration": 760,
             "learn": [
              0.0002307884693
             ],
             "passed_time": 13.56537752,
             "remaining_time": 22.08607457,
             "test": [
              0.000412145227
             ]
            },
            {
             "iteration": 761,
             "learn": [
              0.0002307631994
             ],
             "passed_time": 13.57955035,
             "remaining_time": 22.06231408,
             "test": [
              0.0004121529931
             ]
            },
            {
             "iteration": 762,
             "learn": [
              0.0002306970051
             ],
             "passed_time": 13.5946471,
             "remaining_time": 22.04007663,
             "test": [
              0.0004122648372
             ]
            },
            {
             "iteration": 763,
             "learn": [
              0.0002306397725
             ],
             "passed_time": 13.60868316,
             "remaining_time": 22.01614187,
             "test": [
              0.000412380151
             ]
            },
            {
             "iteration": 764,
             "learn": [
              0.0002295130341
             ],
             "passed_time": 13.6230298,
             "remaining_time": 21.99273438,
             "test": [
              0.0004106786136
             ]
            },
            {
             "iteration": 765,
             "learn": [
              0.0002291115566
             ],
             "passed_time": 13.63780509,
             "remaining_time": 21.97004109,
             "test": [
              0.000410604594
             ]
            },
            {
             "iteration": 766,
             "learn": [
              0.0002281519046
             ],
             "passed_time": 13.65227177,
             "remaining_time": 21.94687235,
             "test": [
              0.0004093473176
             ]
            },
            {
             "iteration": 767,
             "learn": [
              0.0002279336136
             ],
             "passed_time": 13.66675017,
             "remaining_time": 21.92374507,
             "test": [
              0.0004091401714
             ]
            },
            {
             "iteration": 768,
             "learn": [
              0.0002278235958
             ],
             "passed_time": 13.6805596,
             "remaining_time": 21.8995694,
             "test": [
              0.0004091696551
             ]
            },
            {
             "iteration": 769,
             "learn": [
              0.0002267685001
             ],
             "passed_time": 13.69555192,
             "remaining_time": 21.87731022,
             "test": [
              0.0004078721609
             ]
            },
            {
             "iteration": 770,
             "learn": [
              0.0002259451272
             ],
             "passed_time": 13.7098316,
             "remaining_time": 21.85393389,
             "test": [
              0.0004064381716
             ]
            },
            {
             "iteration": 771,
             "learn": [
              0.0002247459051
             ],
             "passed_time": 13.72478519,
             "remaining_time": 21.83165312,
             "test": [
              0.0004051546011
             ]
            },
            {
             "iteration": 772,
             "learn": [
              0.0002243328027
             ],
             "passed_time": 13.73874984,
             "remaining_time": 21.80782154,
             "test": [
              0.0004048270987
             ]
            },
            {
             "iteration": 773,
             "learn": [
              0.0002237422669
             ],
             "passed_time": 13.75333738,
             "remaining_time": 21.7850021,
             "test": [
              0.000404346993
             ]
            },
            {
             "iteration": 774,
             "learn": [
              0.00022271233
             ],
             "passed_time": 13.76774932,
             "remaining_time": 21.76192634,
             "test": [
              0.0004027016939
             ]
            },
            {
             "iteration": 775,
             "learn": [
              0.0002220738132
             ],
             "passed_time": 13.78263153,
             "remaining_time": 21.73961468,
             "test": [
              0.000402476009
             ]
            },
            {
             "iteration": 776,
             "learn": [
              0.0002210400873
             ],
             "passed_time": 13.79911966,
             "remaining_time": 21.71984987,
             "test": [
              0.0004015515478
             ]
            },
            {
             "iteration": 777,
             "learn": [
              0.0002209961578
             ],
             "passed_time": 13.81672423,
             "remaining_time": 21.70184705,
             "test": [
              0.0004016614778
             ]
            },
            {
             "iteration": 778,
             "learn": [
              0.0002205355309
             ],
             "passed_time": 13.8362628,
             "remaining_time": 21.68687662,
             "test": [
              0.0004014484671
             ]
            },
            {
             "iteration": 779,
             "learn": [
              0.000220485053
             ],
             "passed_time": 13.85684041,
             "remaining_time": 21.67351961,
             "test": [
              0.0004014606315
             ]
            },
            {
             "iteration": 780,
             "learn": [
              0.0002204279909
             ],
             "passed_time": 13.8758852,
             "remaining_time": 21.65775168,
             "test": [
              0.0004014331772
             ]
            },
            {
             "iteration": 781,
             "learn": [
              0.0002203638129
             ],
             "passed_time": 13.89075562,
             "remaining_time": 21.63547359,
             "test": [
              0.0004014544701
             ]
            },
            {
             "iteration": 782,
             "learn": [
              0.0002203193435
             ],
             "passed_time": 13.90517909,
             "remaining_time": 21.61251974,
             "test": [
              0.0004014011784
             ]
            },
            {
             "iteration": 783,
             "learn": [
              0.0002202652309
             ],
             "passed_time": 13.91840715,
             "remaining_time": 21.58773354,
             "test": [
              0.0004014052687
             ]
            },
            {
             "iteration": 784,
             "learn": [
              0.0002201708049
             ],
             "passed_time": 13.93206227,
             "remaining_time": 21.56363778,
             "test": [
              0.0004013590603
             ]
            },
            {
             "iteration": 785,
             "learn": [
              0.0002201392595
             ],
             "passed_time": 13.94590028,
             "remaining_time": 21.53985106,
             "test": [
              0.0004013388348
             ]
            },
            {
             "iteration": 786,
             "learn": [
              0.0002199193324
             ],
             "passed_time": 13.95944865,
             "remaining_time": 21.51564322,
             "test": [
              0.0004012065145
             ]
            },
            {
             "iteration": 787,
             "learn": [
              0.0002198685565
             ],
             "passed_time": 13.97319487,
             "remaining_time": 21.49176673,
             "test": [
              0.0004012143839
             ]
            },
            {
             "iteration": 788,
             "learn": [
              0.0002196640776
             ],
             "passed_time": 13.9872503,
             "remaining_time": 21.46839051,
             "test": [
              0.0004013040036
             ]
            },
            {
             "iteration": 789,
             "learn": [
              0.0002195660437
             ],
             "passed_time": 14.00131181,
             "remaining_time": 21.4450472,
             "test": [
              0.0004013470754
             ]
            },
            {
             "iteration": 790,
             "learn": [
              0.0002193921963
             ],
             "passed_time": 14.01552708,
             "remaining_time": 21.42196237,
             "test": [
              0.0004012506811
             ]
            },
            {
             "iteration": 791,
             "learn": [
              0.0002184433288
             ],
             "passed_time": 14.0298685,
             "remaining_time": 21.39909235,
             "test": [
              0.0003998171198
             ]
            },
            {
             "iteration": 792,
             "learn": [
              0.0002173566454
             ],
             "passed_time": 14.04499358,
             "remaining_time": 21.37743663,
             "test": [
              0.0003981568703
             ]
            },
            {
             "iteration": 793,
             "learn": [
              0.000216314429
             ],
             "passed_time": 14.05939215,
             "remaining_time": 21.35469386,
             "test": [
              0.0003974443379
             ]
            },
            {
             "iteration": 794,
             "learn": [
              0.0002162662954
             ],
             "passed_time": 14.07339856,
             "remaining_time": 21.33137769,
             "test": [
              0.0003975529169
             ]
            },
            {
             "iteration": 795,
             "learn": [
              0.0002160746954
             ],
             "passed_time": 14.08769917,
             "remaining_time": 21.3085299,
             "test": [
              0.0003975305067
             ]
            },
            {
             "iteration": 796,
             "learn": [
              0.0002159999895
             ],
             "passed_time": 14.10387847,
             "remaining_time": 21.28853927,
             "test": [
              0.0003975271551
             ]
            },
            {
             "iteration": 797,
             "learn": [
              0.0002159647815
             ],
             "passed_time": 14.11839252,
             "remaining_time": 21.26604988,
             "test": [
              0.0003975364432
             ]
            },
            {
             "iteration": 798,
             "learn": [
              0.0002159207322
             ],
             "passed_time": 14.13289663,
             "remaining_time": 21.24356553,
             "test": [
              0.0003974983723
             ]
            },
            {
             "iteration": 799,
             "learn": [
              0.00021582464
             ],
             "passed_time": 14.1474871,
             "remaining_time": 21.22123065,
             "test": [
              0.0003975731328
             ]
            },
            {
             "iteration": 800,
             "learn": [
              0.0002157795266
             ],
             "passed_time": 14.16070137,
             "remaining_time": 21.19685511,
             "test": [
              0.0003975881679
             ]
            },
            {
             "iteration": 801,
             "learn": [
              0.0002157299132
             ],
             "passed_time": 14.17629053,
             "remaining_time": 21.17605493,
             "test": [
              0.0003975369602
             ]
            },
            {
             "iteration": 802,
             "learn": [
              0.0002156501071
             ],
             "passed_time": 14.19226805,
             "remaining_time": 21.15584664,
             "test": [
              0.000397597202
             ]
            },
            {
             "iteration": 803,
             "learn": [
              0.0002155821388
             ],
             "passed_time": 14.20919423,
             "remaining_time": 21.13706007,
             "test": [
              0.0003976253509
             ]
            },
            {
             "iteration": 804,
             "learn": [
              0.0002155810308
             ],
             "passed_time": 14.22308766,
             "remaining_time": 21.11377609,
             "test": [
              0.0003976252068
             ]
            },
            {
             "iteration": 805,
             "learn": [
              0.0002155553792
             ],
             "passed_time": 14.23940412,
             "remaining_time": 21.09410487,
             "test": [
              0.0003976158087
             ]
            },
            {
             "iteration": 806,
             "learn": [
              0.0002154982316
             ],
             "passed_time": 14.25590238,
             "remaining_time": 21.0747107,
             "test": [
              0.0003977151673
             ]
            },
            {
             "iteration": 807,
             "learn": [
              0.0002147298116
             ],
             "passed_time": 14.27065472,
             "remaining_time": 21.05274806,
             "test": [
              0.0003968271806
             ]
            },
            {
             "iteration": 808,
             "learn": [
              0.0002139408562
             ],
             "passed_time": 14.285257,
             "remaining_time": 21.03058231,
             "test": [
              0.0003959241627
             ]
            },
            {
             "iteration": 809,
             "learn": [
              0.0002139111568
             ],
             "passed_time": 14.29723054,
             "remaining_time": 21.00457326,
             "test": [
              0.0003958919007
             ]
            },
            {
             "iteration": 810,
             "learn": [
              0.0002137814779
             ],
             "passed_time": 14.31014688,
             "remaining_time": 20.97998107,
             "test": [
              0.0003958557202
             ]
            },
            {
             "iteration": 811,
             "learn": [
              0.0002132481605
             ],
             "passed_time": 14.3246822,
             "remaining_time": 20.95778628,
             "test": [
              0.0003953598042
             ]
            },
            {
             "iteration": 812,
             "learn": [
              0.0002130994145
             ],
             "passed_time": 14.33878605,
             "remaining_time": 20.93498037,
             "test": [
              0.0003954904817
             ]
            },
            {
             "iteration": 813,
             "learn": [
              0.0002127694074
             ],
             "passed_time": 14.35301734,
             "remaining_time": 20.91238153,
             "test": [
              0.0003952724197
             ]
            },
            {
             "iteration": 814,
             "learn": [
              0.0002127087232
             ],
             "passed_time": 14.36660062,
             "remaining_time": 20.88886103,
             "test": [
              0.000395338072
             ]
            },
            {
             "iteration": 815,
             "learn": [
              0.0002124096164
             ],
             "passed_time": 14.38065348,
             "remaining_time": 20.86604622,
             "test": [
              0.000395322951
             ]
            },
            {
             "iteration": 816,
             "learn": [
              0.0002123785081
             ],
             "passed_time": 14.41377486,
             "remaining_time": 20.87086371,
             "test": [
              0.0003953256824
             ]
            },
            {
             "iteration": 817,
             "learn": [
              0.0002123222007
             ],
             "passed_time": 14.44295312,
             "remaining_time": 20.8698907,
             "test": [
              0.0003952845321
             ]
            },
            {
             "iteration": 818,
             "learn": [
              0.0002122941615
             ],
             "passed_time": 14.46664807,
             "remaining_time": 20.86094184,
             "test": [
              0.0003953088213
             ]
            },
            {
             "iteration": 819,
             "learn": [
              0.0002122130117
             ],
             "passed_time": 14.48518568,
             "remaining_time": 20.84453548,
             "test": [
              0.0003953923567
             ]
            },
            {
             "iteration": 820,
             "learn": [
              0.0002121427065
             ],
             "passed_time": 14.50034084,
             "remaining_time": 20.82326657,
             "test": [
              0.0003954399287
             ]
            },
            {
             "iteration": 821,
             "learn": [
              0.0002121146561
             ],
             "passed_time": 14.51505941,
             "remaining_time": 20.80138684,
             "test": [
              0.0003954465165
             ]
            },
            {
             "iteration": 822,
             "learn": [
              0.0002120482615
             ],
             "passed_time": 14.53014414,
             "remaining_time": 20.78004818,
             "test": [
              0.0003954815963
             ]
            },
            {
             "iteration": 823,
             "learn": [
              0.0002118464925
             ],
             "passed_time": 14.54450406,
             "remaining_time": 20.75769025,
             "test": [
              0.0003955822599
             ]
            },
            {
             "iteration": 824,
             "learn": [
              0.0002114046039
             ],
             "passed_time": 14.56010185,
             "remaining_time": 20.73711476,
             "test": [
              0.0003949730084
             ]
            },
            {
             "iteration": 825,
             "learn": [
              0.000210978578
             ],
             "passed_time": 14.57613689,
             "remaining_time": 20.71717277,
             "test": [
              0.0003943638244
             ]
            },
            {
             "iteration": 826,
             "learn": [
              0.0002107851272
             ],
             "passed_time": 14.59114431,
             "remaining_time": 20.69578267,
             "test": [
              0.0003944684931
             ]
            },
            {
             "iteration": 827,
             "learn": [
              0.0002099309263
             ],
             "passed_time": 14.60592609,
             "remaining_time": 20.67408861,
             "test": [
              0.0003929140757
             ]
            },
            {
             "iteration": 828,
             "learn": [
              0.0002099034658
             ],
             "passed_time": 14.62040303,
             "remaining_time": 20.65198063,
             "test": [
              0.0003928809588
             ]
            },
            {
             "iteration": 829,
             "learn": [
              0.0002097486207
             ],
             "passed_time": 14.63453545,
             "remaining_time": 20.6294054,
             "test": [
              0.0003930170812
             ]
            },
            {
             "iteration": 830,
             "learn": [
              0.000209733168
             ],
             "passed_time": 14.64932834,
             "remaining_time": 20.60777957,
             "test": [
              0.0003930596179
             ]
            },
            {
             "iteration": 831,
             "learn": [
              0.0002096584906
             ],
             "passed_time": 14.66839068,
             "remaining_time": 20.59216384,
             "test": [
              0.0003931484601
             ]
            },
            {
             "iteration": 832,
             "learn": [
              0.0002095773126
             ],
             "passed_time": 14.68868242,
             "remaining_time": 20.57826216,
             "test": [
              0.000393172255
             ]
            },
            {
             "iteration": 833,
             "learn": [
              0.0002090853014
             ],
             "passed_time": 14.7108349,
             "remaining_time": 20.56694664,
             "test": [
              0.0003929798922
             ]
            },
            {
             "iteration": 834,
             "learn": [
              0.0002089628733
             ],
             "passed_time": 14.73278163,
             "remaining_time": 20.55531808,
             "test": [
              0.000393141503
             ]
            },
            {
             "iteration": 835,
             "learn": [
              0.0002080934962
             ],
             "passed_time": 14.75294019,
             "remaining_time": 20.5411751,
             "test": [
              0.0003923868229
             ]
            },
            {
             "iteration": 836,
             "learn": [
              0.000208032636
             ],
             "passed_time": 14.77642658,
             "remaining_time": 20.53164172,
             "test": [
              0.000392432419
             ]
            },
            {
             "iteration": 837,
             "learn": [
              0.0002075693235
             ],
             "passed_time": 14.79636316,
             "remaining_time": 20.51715274,
             "test": [
              0.0003920237806
             ]
            },
            {
             "iteration": 838,
             "learn": [
              0.0002075481543
             ],
             "passed_time": 14.81031124,
             "remaining_time": 20.49436395,
             "test": [
              0.0003919888266
             ]
            },
            {
             "iteration": 839,
             "learn": [
              0.0002074901052
             ],
             "passed_time": 14.8266503,
             "remaining_time": 20.47489803,
             "test": [
              0.0003919757216
             ]
            },
            {
             "iteration": 840,
             "learn": [
              0.0002074498488
             ],
             "passed_time": 14.84495915,
             "remaining_time": 20.45815417,
             "test": [
              0.0003919759154
             ]
            },
            {
             "iteration": 841,
             "learn": [
              0.0002073899267
             ],
             "passed_time": 14.86606662,
             "remaining_time": 20.44525552,
             "test": [
              0.0003920496277
             ]
            },
            {
             "iteration": 842,
             "learn": [
              0.0002065699158
             ],
             "passed_time": 14.88401741,
             "remaining_time": 20.42800492,
             "test": [
              0.0003905430367
             ]
            },
            {
             "iteration": 843,
             "learn": [
              0.0002061524833
             ],
             "passed_time": 14.9025007,
             "remaining_time": 20.41148201,
             "test": [
              0.0003901799863
             ]
            },
            {
             "iteration": 844,
             "learn": [
              0.0002059762703
             ],
             "passed_time": 14.91735374,
             "remaining_time": 20.38999239,
             "test": [
              0.0003900172661
             ]
            },
            {
             "iteration": 845,
             "learn": [
              0.000205597506
             ],
             "passed_time": 14.93158895,
             "remaining_time": 20.3676757,
             "test": [
              0.0003897520975
             ]
            },
            {
             "iteration": 846,
             "learn": [
              0.0002053294997
             ],
             "passed_time": 14.9496683,
             "remaining_time": 20.35061104,
             "test": [
              0.0003895904776
             ]
            },
            {
             "iteration": 847,
             "learn": [
              0.0002046117234
             ],
             "passed_time": 14.96715948,
             "remaining_time": 20.33274495,
             "test": [
              0.0003887027161
             ]
            },
            {
             "iteration": 848,
             "learn": [
              0.0002043059868
             ],
             "passed_time": 14.98180613,
             "remaining_time": 20.31102339,
             "test": [
              0.0003886325267
             ]
            },
            {
             "iteration": 849,
             "learn": [
              0.0002042744993
             ],
             "passed_time": 14.99658965,
             "remaining_time": 20.28950364,
             "test": [
              0.000388657146
             ]
            },
            {
             "iteration": 850,
             "learn": [
              0.0002039654522
             ],
             "passed_time": 15.01006415,
             "remaining_time": 20.26623233,
             "test": [
              0.0003884902873
             ]
            },
            {
             "iteration": 851,
             "learn": [
              0.0002030380003
             ],
             "passed_time": 15.02473422,
             "remaining_time": 20.24459494,
             "test": [
              0.0003874688592
             ]
            },
            {
             "iteration": 852,
             "learn": [
              0.0002029807733
             ],
             "passed_time": 15.03928338,
             "remaining_time": 20.22281129,
             "test": [
              0.0003874441299
             ]
            },
            {
             "iteration": 853,
             "learn": [
              0.0002021935451
             ],
             "passed_time": 15.05400316,
             "remaining_time": 20.20127355,
             "test": [
              0.0003861110616
             ]
            },
            {
             "iteration": 854,
             "learn": [
              0.0002014548136
             ],
             "passed_time": 15.06806788,
             "remaining_time": 20.17887453,
             "test": [
              0.0003848230616
             ]
            },
            {
             "iteration": 855,
             "learn": [
              0.0002014378694
             ],
             "passed_time": 15.08145273,
             "remaining_time": 20.15558636,
             "test": [
              0.0003848314046
             ]
            },
            {
             "iteration": 856,
             "learn": [
              0.0002010374988
             ],
             "passed_time": 15.09583235,
             "remaining_time": 20.13364805,
             "test": [
              0.0003845716522
             ]
            },
            {
             "iteration": 857,
             "learn": [
              0.0002007032674
             ],
             "passed_time": 15.11274692,
             "remaining_time": 20.11510138,
             "test": [
              0.0003843356852
             ]
            },
            {
             "iteration": 858,
             "learn": [
              0.0002000612514
             ],
             "passed_time": 15.12848166,
             "remaining_time": 20.09499135,
             "test": [
              0.0003838172864
             ]
            },
            {
             "iteration": 859,
             "learn": [
              0.0001995979766
             ],
             "passed_time": 15.1456971,
             "remaining_time": 20.0768543,
             "test": [
              0.0003833804538
             ]
            },
            {
             "iteration": 860,
             "learn": [
              0.0001992937095
             ],
             "passed_time": 15.1615296,
             "remaining_time": 20.05688992,
             "test": [
              0.0003831660009
             ]
            },
            {
             "iteration": 861,
             "learn": [
              0.0001992577604
             ],
             "passed_time": 15.17810808,
             "remaining_time": 20.03791994,
             "test": [
              0.0003831893912
             ]
            },
            {
             "iteration": 862,
             "learn": [
              0.0001992217977
             ],
             "passed_time": 15.19259553,
             "remaining_time": 20.0162006,
             "test": [
              0.0003832303973
             ]
            },
            {
             "iteration": 863,
             "learn": [
              0.0001987237825
             ],
             "passed_time": 15.20664519,
             "remaining_time": 19.99392238,
             "test": [
              0.0003824551088
             ]
            },
            {
             "iteration": 864,
             "learn": [
              0.0001986640534
             ],
             "passed_time": 15.21997167,
             "remaining_time": 19.97071428,
             "test": [
              0.0003824798636
             ]
            },
            {
             "iteration": 865,
             "learn": [
              0.0001985690338
             ],
             "passed_time": 15.23405017,
             "remaining_time": 19.94851373,
             "test": [
              0.000382470795
             ]
            },
            {
             "iteration": 866,
             "learn": [
              0.0001983449677
             ],
             "passed_time": 15.24830752,
             "remaining_time": 19.92656565,
             "test": [
              0.0003824620783
             ]
            },
            {
             "iteration": 867,
             "learn": [
              0.0001983126309
             ],
             "passed_time": 15.26206556,
             "remaining_time": 19.90398412,
             "test": [
              0.0003824352066
             ]
            },
            {
             "iteration": 868,
             "learn": [
              0.0001982876996
             ],
             "passed_time": 15.27537354,
             "remaining_time": 19.88083714,
             "test": [
              0.0003823773405
             ]
            },
            {
             "iteration": 869,
             "learn": [
              0.0001982554665
             ],
             "passed_time": 15.28934747,
             "remaining_time": 19.85857775,
             "test": [
              0.0003823986602
             ]
            },
            {
             "iteration": 870,
             "learn": [
              0.0001978529917
             ],
             "passed_time": 15.30353981,
             "remaining_time": 19.83662049,
             "test": [
              0.0003820238574
             ]
            },
            {
             "iteration": 871,
             "learn": [
              0.0001978054037
             ],
             "passed_time": 15.31764126,
             "remaining_time": 19.81456346,
             "test": [
              0.0003820055541
             ]
            },
            {
             "iteration": 872,
             "learn": [
              0.0001969188881
             ],
             "passed_time": 15.33192594,
             "remaining_time": 19.79276121,
             "test": [
              0.0003807799865
             ]
            },
            {
             "iteration": 873,
             "learn": [
              0.0001965229656
             ],
             "passed_time": 15.34590142,
             "remaining_time": 19.7705778,
             "test": [
              0.0003804274506
             ]
            },
            {
             "iteration": 874,
             "learn": [
              0.0001964859821
             ],
             "passed_time": 15.3606836,
             "remaining_time": 19.74945035,
             "test": [
              0.0003803829864
             ]
            },
            {
             "iteration": 875,
             "learn": [
              0.0001964309627
             ],
             "passed_time": 15.37638314,
             "remaining_time": 19.72951443,
             "test": [
              0.0003803903977
             ]
            },
            {
             "iteration": 876,
             "learn": [
              0.0001963898875
             ],
             "passed_time": 15.39029933,
             "remaining_time": 19.70730461,
             "test": [
              0.0003803828982
             ]
            },
            {
             "iteration": 877,
             "learn": [
              0.0001962797878
             ],
             "passed_time": 15.41740418,
             "remaining_time": 19.70196753,
             "test": [
              0.0003803975498
             ]
            },
            {
             "iteration": 878,
             "learn": [
              0.0001962641805
             ],
             "passed_time": 15.44345728,
             "remaining_time": 19.6952396,
             "test": [
              0.0003804051537
             ]
            },
            {
             "iteration": 879,
             "learn": [
              0.0001954381601
             ],
             "passed_time": 15.45870042,
             "remaining_time": 19.67470962,
             "test": [
              0.000378920254
             ]
            },
            {
             "iteration": 880,
             "learn": [
              0.0001951678417
             ],
             "passed_time": 15.47176608,
             "remaining_time": 19.65142593,
             "test": [
              0.0003787086638
             ]
            },
            {
             "iteration": 881,
             "learn": [
              0.0001943723734
             ],
             "passed_time": 15.48646189,
             "remaining_time": 19.63023173,
             "test": [
              0.0003779824018
             ]
            },
            {
             "iteration": 882,
             "learn": [
              0.000193743186
             ],
             "passed_time": 15.50338059,
             "remaining_time": 19.61186423,
             "test": [
              0.0003767737504
             ]
            },
            {
             "iteration": 883,
             "learn": [
              0.0001933626325
             ],
             "passed_time": 15.51995102,
             "remaining_time": 19.59306034,
             "test": [
              0.0003766024723
             ]
            },
            {
             "iteration": 884,
             "learn": [
              0.000193247692
             ],
             "passed_time": 15.53398247,
             "remaining_time": 19.57106266,
             "test": [
              0.0003767485726
             ]
            },
            {
             "iteration": 885,
             "learn": [
              0.0001929532089
             ],
             "passed_time": 15.54866183,
             "remaining_time": 19.5498976,
             "test": [
              0.0003766296159
             ]
            },
            {
             "iteration": 886,
             "learn": [
              0.0001929130204
             ],
             "passed_time": 15.56236124,
             "remaining_time": 19.52751755,
             "test": [
              0.0003766250967
             ]
            },
            {
             "iteration": 887,
             "learn": [
              0.0001925407507
             ],
             "passed_time": 15.57648699,
             "remaining_time": 19.50569091,
             "test": [
              0.0003762933726
             ]
            },
            {
             "iteration": 888,
             "learn": [
              0.0001924758833
             ],
             "passed_time": 15.5898403,
             "remaining_time": 19.48291628,
             "test": [
              0.000376373551
             ]
            },
            {
             "iteration": 889,
             "learn": [
              0.0001924360673
             ],
             "passed_time": 15.60324209,
             "remaining_time": 19.46022328,
             "test": [
              0.0003763932429
             ]
            },
            {
             "iteration": 890,
             "learn": [
              0.0001923965326
             ],
             "passed_time": 15.61700787,
             "remaining_time": 19.43800418,
             "test": [
              0.0003765035915
             ]
            },
            {
             "iteration": 891,
             "learn": [
              0.000191764428
             ],
             "passed_time": 15.63139652,
             "remaining_time": 19.41657774,
             "test": [
              0.0003757463723
             ]
            },
            {
             "iteration": 892,
             "learn": [
              0.0001909763933
             ],
             "passed_time": 15.64578392,
             "remaining_time": 19.39516551,
             "test": [
              0.0003744019937
             ]
            },
            {
             "iteration": 893,
             "learn": [
              0.0001909555177
             ],
             "passed_time": 15.66009289,
             "remaining_time": 19.37367197,
             "test": [
              0.0003744251432
             ]
            },
            {
             "iteration": 894,
             "learn": [
              0.0001908761132
             ],
             "passed_time": 15.67428755,
             "remaining_time": 19.35205335,
             "test": [
              0.0003744036334
             ]
            },
            {
             "iteration": 895,
             "learn": [
              0.0001908496836
             ],
             "passed_time": 15.6883851,
             "remaining_time": 19.33033164,
             "test": [
              0.0003744315817
             ]
            },
            {
             "iteration": 896,
             "learn": [
              0.0001901691371
             ],
             "passed_time": 15.70269245,
             "remaining_time": 19.30888492,
             "test": [
              0.0003732287777
             ]
            },
            {
             "iteration": 897,
             "learn": [
              0.0001899493482
             ],
             "passed_time": 15.71619141,
             "remaining_time": 19.28646207,
             "test": [
              0.0003730711454
             ]
            },
            {
             "iteration": 898,
             "learn": [
              0.0001893352037
             ],
             "passed_time": 15.7305853,
             "remaining_time": 19.26515508,
             "test": [
              0.0003719164966
             ]
            },
            {
             "iteration": 899,
             "learn": [
              0.0001893109378
             ],
             "passed_time": 15.74394219,
             "remaining_time": 19.24259601,
             "test": [
              0.0003719006692
             ]
            },
            {
             "iteration": 900,
             "learn": [
              0.0001892732513
             ],
             "passed_time": 15.75810514,
             "remaining_time": 19.22104056,
             "test": [
              0.0003719303712
             ]
            },
            {
             "iteration": 901,
             "learn": [
              0.000188596888
             ],
             "passed_time": 15.77265677,
             "remaining_time": 19.19997465,
             "test": [
              0.0003707301901
             ]
            },
            {
             "iteration": 902,
             "learn": [
              0.0001878987997
             ],
             "passed_time": 15.78708423,
             "remaining_time": 19.17877231,
             "test": [
              0.0003695019864
             ]
            },
            {
             "iteration": 903,
             "learn": [
              0.0001876013555
             ],
             "passed_time": 15.80097207,
             "remaining_time": 19.15693074,
             "test": [
              0.0003693375647
             ]
            },
            {
             "iteration": 904,
             "learn": [
              0.0001874696459
             ],
             "passed_time": 15.81524197,
             "remaining_time": 19.13556902,
             "test": [
              0.0003694647116
             ]
            },
            {
             "iteration": 905,
             "learn": [
              0.0001874246748
             ],
             "passed_time": 15.82857323,
             "remaining_time": 19.11308953,
             "test": [
              0.0003695079969
             ]
            },
            {
             "iteration": 906,
             "learn": [
              0.0001873964325
             ],
             "passed_time": 15.84687586,
             "remaining_time": 19.09662108,
             "test": [
              0.0003695493131
             ]
            },
            {
             "iteration": 907,
             "learn": [
              0.0001873724119
             ],
             "passed_time": 15.86496444,
             "remaining_time": 19.07989115,
             "test": [
              0.0003695710572
             ]
            },
            {
             "iteration": 908,
             "learn": [
              0.0001870777798
             ],
             "passed_time": 15.88208045,
             "remaining_time": 19.06199094,
             "test": [
              0.0003693743958
             ]
            },
            {
             "iteration": 909,
             "learn": [
              0.0001870463317
             ],
             "passed_time": 15.89841956,
             "remaining_time": 19.04316189,
             "test": [
              0.0003693969649
             ]
            },
            {
             "iteration": 910,
             "learn": [
              0.0001870039753
             ],
             "passed_time": 15.91246051,
             "remaining_time": 19.0215911,
             "test": [
              0.0003692846916
             ]
            },
            {
             "iteration": 911,
             "learn": [
              0.000186611834
             ],
             "passed_time": 15.92696591,
             "remaining_time": 19.00059091,
             "test": [
              0.0003689699873
             ]
            },
            {
             "iteration": 912,
             "learn": [
              0.0001858909947
             ],
             "passed_time": 15.94166013,
             "remaining_time": 18.97982975,
             "test": [
              0.0003682677126
             ]
            },
            {
             "iteration": 913,
             "learn": [
              0.0001858575945
             ],
             "passed_time": 15.95527241,
             "remaining_time": 18.95779632,
             "test": [
              0.0003682612231
             ]
            },
            {
             "iteration": 914,
             "learn": [
              0.0001855807411
             ],
             "passed_time": 15.96946148,
             "remaining_time": 18.93646525,
             "test": [
              0.0003682283213
             ]
            },
            {
             "iteration": 915,
             "learn": [
              0.0001855415283
             ],
             "passed_time": 15.98427969,
             "remaining_time": 18.9158943,
             "test": [
              0.0003682488721
             ]
            },
            {
             "iteration": 916,
             "learn": [
              0.0001855141712
             ],
             "passed_time": 15.99792247,
             "remaining_time": 18.89394769,
             "test": [
              0.0003683353956
             ]
            },
            {
             "iteration": 917,
             "learn": [
              0.0001854819004
             ],
             "passed_time": 16.01222397,
             "remaining_time": 18.87279557,
             "test": [
              0.0003683538062
             ]
            },
            {
             "iteration": 918,
             "learn": [
              0.0001848608332
             ],
             "passed_time": 16.0286864,
             "remaining_time": 18.85420022,
             "test": [
              0.0003673705151
             ]
            },
            {
             "iteration": 919,
             "learn": [
              0.0001848582865
             ],
             "passed_time": 16.04518602,
             "remaining_time": 18.83565316,
             "test": [
              0.0003673996078
             ]
            },
            {
             "iteration": 920,
             "learn": [
              0.0001848460077
             ],
             "passed_time": 16.06269171,
             "remaining_time": 18.8182892,
             "test": [
              0.0003674171262
             ]
            },
            {
             "iteration": 921,
             "learn": [
              0.0001848471072
             ],
             "passed_time": 16.07546115,
             "remaining_time": 18.79538733,
             "test": [
              0.0003674171012
             ]
            },
            {
             "iteration": 922,
             "learn": [
              0.0001847526869
             ],
             "passed_time": 16.09160289,
             "remaining_time": 18.77644238,
             "test": [
              0.0003674308093
             ]
            },
            {
             "iteration": 923,
             "learn": [
              0.0001847533871
             ],
             "passed_time": 16.10401365,
             "remaining_time": 18.75315876,
             "test": [
              0.0003674308137
             ]
            },
            {
             "iteration": 924,
             "learn": [
              0.0001845466165
             ],
             "passed_time": 16.11833842,
             "remaining_time": 18.73212302,
             "test": [
              0.0003673934408
             ]
            },
            {
             "iteration": 925,
             "learn": [
              0.0001844877276
             ],
             "passed_time": 16.1322582,
             "remaining_time": 18.71063208,
             "test": [
              0.0003674341823
             ]
            },
            {
             "iteration": 926,
             "learn": [
              0.0001844600955
             ],
             "passed_time": 16.14595956,
             "remaining_time": 18.68890465,
             "test": [
              0.0003675449998
             ]
            },
            {
             "iteration": 927,
             "learn": [
              0.0001839601391
             ],
             "passed_time": 16.16026949,
             "remaining_time": 18.66789751,
             "test": [
              0.00036692101
             ]
            },
            {
             "iteration": 928,
             "learn": [
              0.0001839453107
             ],
             "passed_time": 16.17464373,
             "remaining_time": 18.64697894,
             "test": [
              0.0003669368487
             ]
            },
            {
             "iteration": 929,
             "learn": [
              0.0001839137209
             ],
             "passed_time": 16.18911958,
             "remaining_time": 18.62619135,
             "test": [
              0.00036694554
             ]
            },
            {
             "iteration": 930,
             "learn": [
              0.0001838139104
             ],
             "passed_time": 16.20254306,
             "remaining_time": 18.60420895,
             "test": [
              0.0003670934608
             ]
            },
            {
             "iteration": 931,
             "learn": [
              0.0001834891586
             ],
             "passed_time": 16.21718705,
             "remaining_time": 18.58364353,
             "test": [
              0.0003662428436
             ]
            },
            {
             "iteration": 932,
             "learn": [
              0.000183256772
             ],
             "passed_time": 16.23079538,
             "remaining_time": 18.56190639,
             "test": [
              0.0003659255352
             ]
            },
            {
             "iteration": 933,
             "learn": [
              0.0001832374392
             ],
             "passed_time": 16.24525726,
             "remaining_time": 18.54116085,
             "test": [
              0.000365962334
             ]
            },
            {
             "iteration": 934,
             "learn": [
              0.0001823162167
             ],
             "passed_time": 16.25989535,
             "remaining_time": 18.52062946,
             "test": [
              0.0003644057973
             ]
            },
            {
             "iteration": 935,
             "learn": [
              0.0001822693508
             ],
             "passed_time": 16.27357469,
             "remaining_time": 18.4990208,
             "test": [
              0.0003644657422
             ]
            },
            {
             "iteration": 936,
             "learn": [
              0.000181913098
             ],
             "passed_time": 16.28828067,
             "remaining_time": 18.47859376,
             "test": [
              0.000364432365
             ]
            },
            {
             "iteration": 937,
             "learn": [
              0.0001818347108
             ],
             "passed_time": 16.30218471,
             "remaining_time": 18.45727096,
             "test": [
              0.0003643733473
             ]
            },
            {
             "iteration": 938,
             "learn": [
              0.000181807149
             ],
             "passed_time": 16.31514513,
             "remaining_time": 18.43489774,
             "test": [
              0.0003642578665
             ]
            },
            {
             "iteration": 939,
             "learn": [
              0.0001809681602
             ],
             "passed_time": 16.32978718,
             "remaining_time": 18.41444086,
             "test": [
              0.0003629525709
             ]
            },
            {
             "iteration": 940,
             "learn": [
              0.0001807025489
             ],
             "passed_time": 16.34419885,
             "remaining_time": 18.39373707,
             "test": [
              0.0003628727781
             ]
            },
            {
             "iteration": 941,
             "learn": [
              0.000180611822
             ],
             "passed_time": 16.35814259,
             "remaining_time": 18.37252109,
             "test": [
              0.0003628512007
             ]
            },
            {
             "iteration": 942,
             "learn": [
              0.0001799651735
             ],
             "passed_time": 16.37192763,
             "remaining_time": 18.35114264,
             "test": [
              0.0003617022646
             ]
            },
            {
             "iteration": 943,
             "learn": [
              0.0001799649373
             ],
             "passed_time": 16.38317047,
             "remaining_time": 18.32693645,
             "test": [
              0.0003617023055
             ]
            },
            {
             "iteration": 944,
             "learn": [
              0.0001795964022
             ],
             "passed_time": 16.3972043,
             "remaining_time": 18.30587359,
             "test": [
              0.0003613544509
             ]
            },
            {
             "iteration": 945,
             "learn": [
              0.0001795518164
             ],
             "passed_time": 16.41058779,
             "remaining_time": 18.28410098,
             "test": [
              0.0003613832805
             ]
            },
            {
             "iteration": 946,
             "learn": [
              0.0001795278694
             ],
             "passed_time": 16.46929962,
             "remaining_time": 18.31274816,
             "test": [
              0.0003614008143
             ]
            },
            {
             "iteration": 947,
             "learn": [
              0.0001788786625
             ],
             "passed_time": 16.48782575,
             "remaining_time": 18.29661676,
             "test": [
              0.0003601515058
             ]
            },
            {
             "iteration": 948,
             "learn": [
              0.0001788788257
             ],
             "passed_time": 16.49907284,
             "remaining_time": 18.27241892,
             "test": [
              0.0003601514959
             ]
            },
            {
             "iteration": 949,
             "learn": [
              0.0001788252562
             ],
             "passed_time": 16.51490049,
             "remaining_time": 18.25331107,
             "test": [
              0.0003601411815
             ]
            },
            {
             "iteration": 950,
             "learn": [
              0.0001784369479
             ],
             "passed_time": 16.52923433,
             "remaining_time": 18.23256237,
             "test": [
              0.0003593062014
             ]
            },
            {
             "iteration": 951,
             "learn": [
              0.0001783956752
             ],
             "passed_time": 16.54052366,
             "remaining_time": 18.20847562,
             "test": [
              0.0003593081856
             ]
            },
            {
             "iteration": 952,
             "learn": [
              0.0001781960206
             ],
             "passed_time": 16.55479057,
             "remaining_time": 18.18768701,
             "test": [
              0.0003593497699
             ]
            },
            {
             "iteration": 953,
             "learn": [
              0.000178183533
             ],
             "passed_time": 16.56863451,
             "remaining_time": 18.16644832,
             "test": [
              0.0003593388101
             ]
            },
            {
             "iteration": 954,
             "learn": [
              0.0001777731786
             ],
             "passed_time": 16.58288401,
             "remaining_time": 18.14566889,
             "test": [
              0.0003589809238
             ]
            },
            {
             "iteration": 955,
             "learn": [
              0.0001771612462
             ],
             "passed_time": 16.59697726,
             "remaining_time": 18.12473249,
             "test": [
              0.0003582499815
             ]
            },
            {
             "iteration": 956,
             "learn": [
              0.0001765061933
             ],
             "passed_time": 16.61176521,
             "remaining_time": 18.10456752,
             "test": [
              0.0003575242203
             ]
            },
            {
             "iteration": 957,
             "learn": [
              0.0001764779826
             ],
             "passed_time": 16.62462722,
             "remaining_time": 18.08231896,
             "test": [
              0.0003576346154
             ]
            },
            {
             "iteration": 958,
             "learn": [
              0.000176101911
             ],
             "passed_time": 16.6386161,
             "remaining_time": 18.0613132,
             "test": [
              0.0003572946982
             ]
            },
            {
             "iteration": 959,
             "learn": [
              0.0001759262604
             ],
             "passed_time": 16.65313514,
             "remaining_time": 18.0408964,
             "test": [
              0.000357354538
             ]
            },
            {
             "iteration": 960,
             "learn": [
              0.0001758855013
             ],
             "passed_time": 16.66670453,
             "remaining_time": 18.01946515,
             "test": [
              0.0003572670299
             ]
            },
            {
             "iteration": 961,
             "learn": [
              0.0001758548092
             ],
             "passed_time": 16.67991279,
             "remaining_time": 17.99766058,
             "test": [
              0.0003573761417
             ]
            },
            {
             "iteration": 962,
             "learn": [
              0.0001754917989
             ],
             "passed_time": 16.69369295,
             "remaining_time": 17.9764897,
             "test": [
              0.0003565674982
             ]
            },
            {
             "iteration": 963,
             "learn": [
              0.0001754457294
             ],
             "passed_time": 16.70689692,
             "remaining_time": 17.95471495,
             "test": [
              0.0003566416003
             ]
            },
            {
             "iteration": 964,
             "learn": [
              0.0001748492038
             ],
             "passed_time": 16.72145005,
             "remaining_time": 17.93440498,
             "test": [
              0.0003555361632
             ]
            },
            {
             "iteration": 965,
             "learn": [
              0.0001744991838
             ],
             "passed_time": 16.73501384,
             "remaining_time": 17.91304794,
             "test": [
              0.0003552203407
             ]
            },
            {
             "iteration": 966,
             "learn": [
              0.0001744625754
             ],
             "passed_time": 16.75000339,
             "remaining_time": 17.8932301,
             "test": [
              0.0003552078925
             ]
            },
            {
             "iteration": 967,
             "learn": [
              0.0001741379653
             ],
             "passed_time": 16.7643192,
             "remaining_time": 17.87270394,
             "test": [
              0.0003548903802
             ]
            },
            {
             "iteration": 968,
             "learn": [
              0.0001741173878
             ],
             "passed_time": 16.77794422,
             "remaining_time": 17.85145561,
             "test": [
              0.0003549101139
             ]
            },
            {
             "iteration": 969,
             "learn": [
              0.0001740673982
             ],
             "passed_time": 16.79114133,
             "remaining_time": 17.82976863,
             "test": [
              0.0003550312463
             ]
            },
            {
             "iteration": 970,
             "learn": [
              0.0001737614321
             ],
             "passed_time": 16.80584264,
             "remaining_time": 17.80969318,
             "test": [
              0.0003549661331
             ]
            },
            {
             "iteration": 971,
             "learn": [
              0.000173559406
             ],
             "passed_time": 16.8208987,
             "remaining_time": 17.79000398,
             "test": [
              0.0003550672634
             ]
            },
            {
             "iteration": 972,
             "learn": [
              0.0001735245913
             ],
             "passed_time": 16.83513698,
             "remaining_time": 17.76946113,
             "test": [
              0.0003550847456
             ]
            },
            {
             "iteration": 973,
             "learn": [
              0.0001731986612
             ],
             "passed_time": 16.85028394,
             "remaining_time": 17.74988843,
             "test": [
              0.0003547681846
             ]
            },
            {
             "iteration": 974,
             "learn": [
              0.0001730233052
             ],
             "passed_time": 16.86981702,
             "remaining_time": 17.73493585,
             "test": [
              0.0003548069646
             ]
            },
            {
             "iteration": 975,
             "learn": [
              0.0001730109487
             ],
             "passed_time": 16.89054396,
             "remaining_time": 17.72122645,
             "test": [
              0.0003547746725
             ]
            },
            {
             "iteration": 976,
             "learn": [
              0.0001729101001
             ],
             "passed_time": 16.90471233,
             "remaining_time": 17.70063533,
             "test": [
              0.0003549090768
             ]
            },
            {
             "iteration": 977,
             "learn": [
              0.0001727605974
             ],
             "passed_time": 16.92165436,
             "remaining_time": 17.68295578,
             "test": [
              0.0003550414954
             ]
            },
            {
             "iteration": 978,
             "learn": [
              0.0001727188726
             ],
             "passed_time": 16.93996727,
             "remaining_time": 17.66670744,
             "test": [
              0.0003550518185
             ]
            },
            {
             "iteration": 979,
             "learn": [
              0.0001727058953
             ],
             "passed_time": 16.95619535,
             "remaining_time": 17.64828495,
             "test": [
              0.0003550299928
             ]
            },
            {
             "iteration": 980,
             "learn": [
              0.0001726554804
             ],
             "passed_time": 16.97296433,
             "remaining_time": 17.6304288,
             "test": [
              0.0003551236511
             ]
            },
            {
             "iteration": 981,
             "learn": [
              0.0001726196628
             ],
             "passed_time": 16.98996033,
             "remaining_time": 17.6128102,
             "test": [
              0.0003551323579
             ]
            },
            {
             "iteration": 982,
             "learn": [
              0.0001722496795
             ],
             "passed_time": 17.00727068,
             "remaining_time": 17.59551809,
             "test": [
              0.0003543438702
             ]
            },
            {
             "iteration": 983,
             "learn": [
              0.0001722497751
             ],
             "passed_time": 17.0187576,
             "remaining_time": 17.57221313,
             "test": [
              0.0003543436641
             ]
            },
            {
             "iteration": 984,
             "learn": [
              0.0001720918624
             ],
             "passed_time": 17.03341354,
             "remaining_time": 17.55219771,
             "test": [
              0.0003544289005
             ]
            },
            {
             "iteration": 985,
             "learn": [
              0.0001719409389
             ],
             "passed_time": 17.04848095,
             "remaining_time": 17.53261631,
             "test": [
              0.0003544809831
             ]
            },
            {
             "iteration": 986,
             "learn": [
              0.000171599253
             ],
             "passed_time": 17.06252482,
             "remaining_time": 17.51199356,
             "test": [
              0.0003544147799
             ]
            },
            {
             "iteration": 987,
             "learn": [
              0.0001710150714
             ],
             "passed_time": 17.07749178,
             "remaining_time": 17.49232964,
             "test": [
              0.0003535926267
             ]
            },
            {
             "iteration": 988,
             "learn": [
              0.000170812696
             ],
             "passed_time": 17.09125196,
             "remaining_time": 17.47144159,
             "test": [
              0.0003535414311
             ]
            },
            {
             "iteration": 989,
             "learn": [
              0.0001704468869
             ],
             "passed_time": 17.10529276,
             "remaining_time": 17.45085423,
             "test": [
              0.0003527489075
             ]
            },
            {
             "iteration": 990,
             "learn": [
              0.0001704287515
             ],
             "passed_time": 17.11931974,
             "remaining_time": 17.43026601,
             "test": [
              0.0003527195395
             ]
            },
            {
             "iteration": 991,
             "learn": [
              0.0001704181047
             ],
             "passed_time": 17.13375872,
             "remaining_time": 17.41010966,
             "test": [
              0.0003527265198
             ]
            },
            {
             "iteration": 992,
             "learn": [
              0.0001704179051
             ],
             "passed_time": 17.14424363,
             "remaining_time": 17.38595502,
             "test": [
              0.0003527264665
             ]
            },
            {
             "iteration": 993,
             "learn": [
              0.0001703513548
             ],
             "passed_time": 17.15820096,
             "remaining_time": 17.36534222,
             "test": [
              0.0003526712057
             ]
            },
            {
             "iteration": 994,
             "learn": [
              0.0001703267514
             ],
             "passed_time": 17.17207318,
             "remaining_time": 17.34465683,
             "test": [
              0.0003527670031
             ]
            },
            {
             "iteration": 995,
             "learn": [
              0.0001703021975
             ],
             "passed_time": 17.18613946,
             "remaining_time": 17.32418074,
             "test": [
              0.0003528088532
             ]
            },
            {
             "iteration": 996,
             "learn": [
              0.0001703023409
             ],
             "passed_time": 17.19687055,
             "remaining_time": 17.30036224,
             "test": [
              0.0003528088239
             ]
            },
            {
             "iteration": 997,
             "learn": [
              0.0001702831987
             ],
             "passed_time": 17.21052117,
             "remaining_time": 17.27950122,
             "test": [
              0.0003527580997
             ]
            },
            {
             "iteration": 998,
             "learn": [
              0.0001697268841
             ],
             "passed_time": 17.22495167,
             "remaining_time": 17.25943606,
             "test": [
              0.0003521143419
             ]
            },
            {
             "iteration": 999,
             "learn": [
              0.0001696639513
             ],
             "passed_time": 17.23887544,
             "remaining_time": 17.23887544,
             "test": [
              0.0003520766059
             ]
            },
            {
             "iteration": 1000,
             "learn": [
              0.0001696419942
             ],
             "passed_time": 17.25278035,
             "remaining_time": 17.21830926,
             "test": [
              0.0003520838191
             ]
            },
            {
             "iteration": 1001,
             "learn": [
              0.0001695306514
             ],
             "passed_time": 17.26676113,
             "remaining_time": 17.19783194,
             "test": [
              0.0003521945973
             ]
            },
            {
             "iteration": 1002,
             "learn": [
              0.0001695197685
             ],
             "passed_time": 17.28023711,
             "remaining_time": 17.1768658,
             "test": [
              0.000352159043
             ]
            },
            {
             "iteration": 1003,
             "learn": [
              0.0001693592292
             ],
             "passed_time": 17.29418979,
             "remaining_time": 17.15638748,
             "test": [
              0.0003522742055
             ]
            },
            {
             "iteration": 1004,
             "learn": [
              0.0001693206157
             ],
             "passed_time": 17.3082079,
             "remaining_time": 17.13598692,
             "test": [
              0.0003523355542
             ]
            },
            {
             "iteration": 1005,
             "learn": [
              0.0001691170233
             ],
             "passed_time": 17.32146079,
             "remaining_time": 17.11484296,
             "test": [
              0.0003522130079
             ]
            },
            {
             "iteration": 1006,
             "learn": [
              0.0001691170317
             ],
             "passed_time": 17.3323574,
             "remaining_time": 17.09139116,
             "test": [
              0.0003522134101
             ]
            },
            {
             "iteration": 1007,
             "learn": [
              0.000169087596
             ],
             "passed_time": 17.34541826,
             "remaining_time": 17.07009417,
             "test": [
              0.0003523429692
             ]
            },
            {
             "iteration": 1008,
             "learn": [
              0.0001686066341
             ],
             "passed_time": 17.36023544,
             "remaining_time": 17.05053847,
             "test": [
              0.0003513427127
             ]
            },
            {
             "iteration": 1009,
             "learn": [
              0.0001685790808
             ],
             "passed_time": 17.37407565,
             "remaining_time": 17.03003455,
             "test": [
              0.0003513704139
             ]
            },
            {
             "iteration": 1010,
             "learn": [
              0.0001685328195
             ],
             "passed_time": 17.38777127,
             "remaining_time": 17.00940236,
             "test": [
              0.0003513422822
             ]
            },
            {
             "iteration": 1011,
             "learn": [
              0.0001685256643
             ],
             "passed_time": 17.40211791,
             "remaining_time": 16.98941946,
             "test": [
              0.0003513764225
             ]
            },
            {
             "iteration": 1012,
             "learn": [
              0.0001678883709
             ],
             "passed_time": 17.41671227,
             "remaining_time": 16.96968905,
             "test": [
              0.0003500475224
             ]
            },
            {
             "iteration": 1013,
             "learn": [
              0.0001678731798
             ],
             "passed_time": 17.43069656,
             "remaining_time": 16.94937555,
             "test": [
              0.0003500605374
             ]
            },
            {
             "iteration": 1014,
             "learn": [
              0.0001678424515
             ],
             "passed_time": 17.48671469,
             "remaining_time": 16.96986598,
             "test": [
              0.0003501079738
             ]
            },
            {
             "iteration": 1015,
             "learn": [
              0.0001677904062
             ],
             "passed_time": 17.51131835,
             "remaining_time": 16.95978076,
             "test": [
              0.0003501590478
             ]
            },
            {
             "iteration": 1016,
             "learn": [
              0.0001675137398
             ],
             "passed_time": 17.53328334,
             "remaining_time": 16.94711655,
             "test": [
              0.0003498732471
             ]
            },
            {
             "iteration": 1017,
             "learn": [
              0.0001674624492
             ],
             "passed_time": 17.55333093,
             "remaining_time": 16.93258445,
             "test": [
              0.000349936652
             ]
            },
            {
             "iteration": 1018,
             "learn": [
              0.0001674021306
             ],
             "passed_time": 17.57111858,
             "remaining_time": 16.91586588,
             "test": [
              0.0003499117034
             ]
            },
            {
             "iteration": 1019,
             "learn": [
              0.0001672305312
             ],
             "passed_time": 17.58995519,
             "remaining_time": 16.90015302,
             "test": [
              0.0003497749304
             ]
            },
            {
             "iteration": 1020,
             "learn": [
              0.0001671696586
             ],
             "passed_time": 17.60409102,
             "remaining_time": 16.87992665,
             "test": [
              0.0003499007894
             ]
            },
            {
             "iteration": 1021,
             "learn": [
              0.0001666292369
             ],
             "passed_time": 17.61902607,
             "remaining_time": 16.860477,
             "test": [
              0.0003488854354
             ]
            },
            {
             "iteration": 1022,
             "learn": [
              0.0001666002381
             ],
             "passed_time": 17.63267584,
             "remaining_time": 16.8398087,
             "test": [
              0.0003488537288
             ]
            },
            {
             "iteration": 1023,
             "learn": [
              0.0001665990458
             ],
             "passed_time": 17.64524113,
             "remaining_time": 16.81812046,
             "test": [
              0.0003488535243
             ]
            },
            {
             "iteration": 1024,
             "learn": [
              0.0001663012314
             ],
             "passed_time": 17.66284372,
             "remaining_time": 16.80124159,
             "test": [
              0.0003485715056
             ]
            },
            {
             "iteration": 1025,
             "learn": [
              0.0001659715787
             ],
             "passed_time": 17.67721241,
             "remaining_time": 16.78129131,
             "test": [
              0.0003482764087
             ]
            },
            {
             "iteration": 1026,
             "learn": [
              0.0001659704988
             ],
             "passed_time": 17.6899037,
             "remaining_time": 16.7597627,
             "test": [
              0.0003482748197
             ]
            },
            {
             "iteration": 1027,
             "learn": [
              0.0001656253175
             ],
             "passed_time": 17.70418932,
             "remaining_time": 16.73975878,
             "test": [
              0.0003475227502
             ]
            },
            {
             "iteration": 1028,
             "learn": [
              0.0001656066916
             ],
             "passed_time": 17.71857262,
             "remaining_time": 16.71985813,
             "test": [
              0.0003475639082
             ]
            },
            {
             "iteration": 1029,
             "learn": [
              0.000165606402
             ],
             "passed_time": 17.73063441,
             "remaining_time": 16.69778192,
             "test": [
              0.00034756477
             ]
            },
            {
             "iteration": 1030,
             "learn": [
              0.0001655369389
             ],
             "passed_time": 17.74535004,
             "remaining_time": 16.67821939,
             "test": [
              0.0003476284904
             ]
            },
            {
             "iteration": 1031,
             "learn": [
              0.0001655037259
             ],
             "passed_time": 17.75879041,
             "remaining_time": 16.65747007,
             "test": [
              0.0003476797656
             ]
            },
            {
             "iteration": 1032,
             "learn": [
              0.0001653909296
             ],
             "passed_time": 17.7738912,
             "remaining_time": 16.63828924,
             "test": [
              0.0003477856318
             ]
            },
            {
             "iteration": 1033,
             "learn": [
              0.0001651053266
             ],
             "passed_time": 17.78804511,
             "remaining_time": 16.6182317,
             "test": [
              0.0003475148926
             ]
            },
            {
             "iteration": 1034,
             "learn": [
              0.0001650887311
             ],
             "passed_time": 17.80246348,
             "remaining_time": 16.59843213,
             "test": [
              0.0003475049281
             ]
            },
            {
             "iteration": 1035,
             "learn": [
              0.000165069468
             ],
             "passed_time": 17.81950529,
             "remaining_time": 16.58108407,
             "test": [
              0.0003475007598
             ]
            },
            {
             "iteration": 1036,
             "learn": [
              0.0001650516812
             ],
             "passed_time": 17.83454974,
             "remaining_time": 16.56188177,
             "test": [
              0.0003474700178
             ]
            },
            {
             "iteration": 1037,
             "learn": [
              0.0001650444996
             ],
             "passed_time": 17.84681453,
             "remaining_time": 16.54011135,
             "test": [
              0.0003475036278
             ]
            },
            {
             "iteration": 1038,
             "learn": [
              0.0001650292111
             ],
             "passed_time": 17.86169749,
             "remaining_time": 16.52078083,
             "test": [
              0.0003475037878
             ]
            },
            {
             "iteration": 1039,
             "learn": [
              0.0001650076899
             ],
             "passed_time": 17.88336208,
             "remaining_time": 16.50771884,
             "test": [
              0.0003476179998
             ]
            },
            {
             "iteration": 1040,
             "learn": [
              0.0001645509275
             ],
             "passed_time": 17.91479086,
             "remaining_time": 16.50363539,
             "test": [
              0.0003466625849
             ]
            },
            {
             "iteration": 1041,
             "learn": [
              0.0001642718145
             ],
             "passed_time": 17.93574121,
             "remaining_time": 16.48986572,
             "test": [
              0.0003465736142
             ]
            },
            {
             "iteration": 1042,
             "learn": [
              0.0001642718145
             ],
             "passed_time": 17.94872545,
             "remaining_time": 16.46877301,
             "test": [
              0.0003465736142
             ]
            },
            {
             "iteration": 1043,
             "learn": [
              0.000164145256
             ],
             "passed_time": 17.96491328,
             "remaining_time": 16.4506294,
             "test": [
              0.0003466785042
             ]
            },
            {
             "iteration": 1044,
             "learn": [
              0.0001640139309
             ],
             "passed_time": 17.97862194,
             "remaining_time": 16.43022388,
             "test": [
              0.0003467491981
             ]
            },
            {
             "iteration": 1045,
             "learn": [
              0.0001640139984
             ],
             "passed_time": 17.98953651,
             "remaining_time": 16.40728282,
             "test": [
              0.0003467493008
             ]
            },
            {
             "iteration": 1046,
             "learn": [
              0.0001639810001
             ],
             "passed_time": 18.00376766,
             "remaining_time": 16.38738355,
             "test": [
              0.0003467462839
             ]
            },
            {
             "iteration": 1047,
             "learn": [
              0.0001639813263
             ],
             "passed_time": 18.01416015,
             "remaining_time": 16.36400808,
             "test": [
              0.0003467464474
             ]
            },
            {
             "iteration": 1048,
             "learn": [
              0.0001639326033
             ],
             "passed_time": 18.02890064,
             "remaining_time": 16.34459915,
             "test": [
              0.0003467761037
             ]
            },
            {
             "iteration": 1049,
             "learn": [
              0.0001638915275
             ],
             "passed_time": 18.0427873,
             "remaining_time": 16.32442661,
             "test": [
              0.000346822599
             ]
            },
            {
             "iteration": 1050,
             "learn": [
              0.0001637477678
             ],
             "passed_time": 18.05696127,
             "remaining_time": 16.30452544,
             "test": [
              0.000346888001
             ]
            },
            {
             "iteration": 1051,
             "learn": [
              0.0001631216068
             ],
             "passed_time": 18.0718186,
             "remaining_time": 16.28525098,
             "test": [
              0.0003456676958
             ]
            },
            {
             "iteration": 1052,
             "learn": [
              0.0001628172763
             ],
             "passed_time": 18.08601446,
             "remaining_time": 16.26539002,
             "test": [
              0.0003454079994
             ]
            },
            {
             "iteration": 1053,
             "learn": [
              0.0001626399075
             ],
             "passed_time": 18.09992821,
             "remaining_time": 16.24528661,
             "test": [
              0.0003452626626
             ]
            },
            {
             "iteration": 1054,
             "learn": [
              0.0001626038671
             ],
             "passed_time": 18.11365923,
             "remaining_time": 16.22503125,
             "test": [
              0.0003453738647
             ]
            },
            {
             "iteration": 1055,
             "learn": [
              0.0001625875608
             ],
             "passed_time": 18.12699508,
             "remaining_time": 16.20443499,
             "test": [
              0.0003453942024
             ]
            },
            {
             "iteration": 1056,
             "learn": [
              0.0001625162
             ],
             "passed_time": 18.14508578,
             "remaining_time": 16.18809451,
             "test": [
              0.0003453602565
             ]
            },
            {
             "iteration": 1057,
             "learn": [
              0.0001624005014
             ],
             "passed_time": 18.15882401,
             "remaining_time": 16.16787545,
             "test": [
              0.0003454710176
             ]
            },
            {
             "iteration": 1058,
             "learn": [
              0.0001623236948
             ],
             "passed_time": 18.17296181,
             "remaining_time": 16.14802367,
             "test": [
              0.0003456253569
             ]
            },
            {
             "iteration": 1059,
             "learn": [
              0.0001618019945
             ],
             "passed_time": 18.18713229,
             "remaining_time": 16.12821165,
             "test": [
              0.0003448184509
             ]
            },
            {
             "iteration": 1060,
             "learn": [
              0.0001615341746
             ],
             "passed_time": 18.20205771,
             "remaining_time": 16.1090784,
             "test": [
              0.0003441081609
             ]
            },
            {
             "iteration": 1061,
             "learn": [
              0.0001614092729
             ],
             "passed_time": 18.21635735,
             "remaining_time": 16.08940037,
             "test": [
              0.0003440106938
             ]
            },
            {
             "iteration": 1062,
             "learn": [
              0.0001611026245
             ],
             "passed_time": 18.23120773,
             "remaining_time": 16.07021792,
             "test": [
              0.0003433014934
             ]
            },
            {
             "iteration": 1063,
             "learn": [
              0.0001605738959
             ],
             "passed_time": 18.24560815,
             "remaining_time": 16.05064777,
             "test": [
              0.0003426715118
             ]
            },
            {
             "iteration": 1064,
             "learn": [
              0.0001605283568
             ],
             "passed_time": 18.26015093,
             "remaining_time": 16.03121232,
             "test": [
              0.0003427662325
             ]
            },
            {
             "iteration": 1065,
             "learn": [
              0.0001603024646
             ],
             "passed_time": 18.27419313,
             "remaining_time": 16.01134745,
             "test": [
              0.0003426262137
             ]
            },
            {
             "iteration": 1066,
             "learn": [
              0.0001603027177
             ],
             "passed_time": 18.28551624,
             "remaining_time": 15.98911588,
             "test": [
              0.0003426262746
             ]
            },
            {
             "iteration": 1067,
             "learn": [
              0.0001602994781
             ],
             "passed_time": 18.29711066,
             "remaining_time": 15.96714152,
             "test": [
              0.0003426264533
             ]
            },
            {
             "iteration": 1068,
             "learn": [
              0.0001601952023
             ],
             "passed_time": 18.31132007,
             "remaining_time": 15.94746397,
             "test": [
              0.00034271992
             ]
            },
            {
             "iteration": 1069,
             "learn": [
              0.0001600314905
             ],
             "passed_time": 18.32637558,
             "remaining_time": 15.92853204,
             "test": [
              0.0003427470277
             ]
            },
            {
             "iteration": 1070,
             "learn": [
              0.0001595183995
             ],
             "passed_time": 18.34126663,
             "remaining_time": 15.90946471,
             "test": [
              0.0003417478141
             ]
            },
            {
             "iteration": 1071,
             "learn": [
              0.0001592553217
             ],
             "passed_time": 18.35579571,
             "remaining_time": 15.89009181,
             "test": [
              0.0003412171081
             ]
            },
            {
             "iteration": 1072,
             "learn": [
              0.0001592390788
             ],
             "passed_time": 18.3696161,
             "remaining_time": 15.87011568,
             "test": [
              0.0003412097121
             ]
            },
            {
             "iteration": 1073,
             "learn": [
              0.0001592391351
             ],
             "passed_time": 18.380616,
             "remaining_time": 15.8477192,
             "test": [
              0.000341209602
             ]
            },
            {
             "iteration": 1074,
             "learn": [
              0.0001592391351
             ],
             "passed_time": 18.39096368,
             "remaining_time": 15.8247827,
             "test": [
              0.000341209602
             ]
            },
            {
             "iteration": 1075,
             "learn": [
              0.0001592280492
             ],
             "passed_time": 18.40415234,
             "remaining_time": 15.80430926,
             "test": [
              0.0003412160148
             ]
            },
            {
             "iteration": 1076,
             "learn": [
              0.0001590813056
             ],
             "passed_time": 18.4186416,
             "remaining_time": 15.78496397,
             "test": [
              0.0003411687556
             ]
            },
            {
             "iteration": 1077,
             "learn": [
              0.0001590698057
             ],
             "passed_time": 18.43754909,
             "remaining_time": 15.76940655,
             "test": [
              0.000341152715
             ]
            },
            {
             "iteration": 1078,
             "learn": [
              0.0001590256203
             ],
             "passed_time": 18.48874088,
             "remaining_time": 15.78139977,
             "test": [
              0.0003411218944
             ]
            },
            {
             "iteration": 1079,
             "learn": [
              0.0001587540663
             ],
             "passed_time": 18.51372114,
             "remaining_time": 15.77094764,
             "test": [
              0.0003408794286
             ]
            },
            {
             "iteration": 1080,
             "learn": [
              0.0001586173617
             ],
             "passed_time": 18.53180911,
             "remaining_time": 15.75460922,
             "test": [
              0.0003408088715
             ]
            },
            {
             "iteration": 1081,
             "learn": [
              0.0001586032683
             ],
             "passed_time": 18.54942492,
             "remaining_time": 15.73786698,
             "test": [
              0.0003408034462
             ]
            },
            {
             "iteration": 1082,
             "learn": [
              0.0001583486103
             ],
             "passed_time": 18.56344269,
             "remaining_time": 15.71807659,
             "test": [
              0.0003406183119
             ]
            },
            {
             "iteration": 1083,
             "learn": [
              0.0001583486581
             ],
             "passed_time": 18.57511353,
             "remaining_time": 15.69631364,
             "test": [
              0.0003406183552
             ]
            },
            {
             "iteration": 1084,
             "learn": [
              0.000158296029
             ],
             "passed_time": 18.58913042,
             "remaining_time": 15.67654778,
             "test": [
              0.0003405795402
             ]
            },
            {
             "iteration": 1085,
             "learn": [
              0.0001579987444
             ],
             "passed_time": 18.60419487,
             "remaining_time": 15.65767413,
             "test": [
              0.0003398803883
             ]
            },
            {
             "iteration": 1086,
             "learn": [
              0.0001579987444
             ],
             "passed_time": 18.6157225,
             "remaining_time": 15.63583684,
             "test": [
              0.0003398803534
             ]
            },
            {
             "iteration": 1087,
             "learn": [
              0.0001577359558
             ],
             "passed_time": 18.63112028,
             "remaining_time": 15.61726259,
             "test": [
              0.000339357904
             ]
            },
            {
             "iteration": 1088,
             "learn": [
              0.000157719091
             ],
             "passed_time": 18.64455543,
             "remaining_time": 15.59705234,
             "test": [
              0.0003394092058
             ]
            },
            {
             "iteration": 1089,
             "learn": [
              0.0001573149604
             ],
             "passed_time": 18.65940629,
             "remaining_time": 15.57803644,
             "test": [
              0.000338624448
             ]
            },
            {
             "iteration": 1090,
             "learn": [
              0.0001572009237
             ],
             "passed_time": 18.67336631,
             "remaining_time": 15.55828595,
             "test": [
              0.0003385544085
             ]
            },
            {
             "iteration": 1091,
             "learn": [
              0.0001569767401
             ],
             "passed_time": 18.68727716,
             "remaining_time": 15.53850519,
             "test": [
              0.0003383241172
             ]
            },
            {
             "iteration": 1092,
             "learn": [
              0.0001569767148
             ],
             "passed_time": 18.69798659,
             "remaining_time": 15.51607853,
             "test": [
              0.0003383257032
             ]
            },
            {
             "iteration": 1093,
             "learn": [
              0.0001567566286
             ],
             "passed_time": 18.71222783,
             "remaining_time": 15.49659819,
             "test": [
              0.0003382423239
             ]
            },
            {
             "iteration": 1094,
             "learn": [
              0.0001565274433
             ],
             "passed_time": 18.72708168,
             "remaining_time": 15.47763372,
             "test": [
              0.0003380101489
             ]
            },
            {
             "iteration": 1095,
             "learn": [
              0.000156072776
             ],
             "passed_time": 18.7416243,
             "remaining_time": 15.45842004,
             "test": [
              0.0003371061696
             ]
            },
            {
             "iteration": 1096,
             "learn": [
              0.0001559781525
             ],
             "passed_time": 18.75527014,
             "remaining_time": 15.4384767,
             "test": [
              0.0003371892884
             ]
            },
            {
             "iteration": 1097,
             "learn": [
              0.0001559668477
             ],
             "passed_time": 18.76933047,
             "remaining_time": 15.41888532,
             "test": [
              0.0003372004287
             ]
            },
            {
             "iteration": 1098,
             "learn": [
              0.0001559503978
             ],
             "passed_time": 18.78346994,
             "remaining_time": 15.3993689,
             "test": [
              0.0003371735519
             ]
            },
            {
             "iteration": 1099,
             "learn": [
              0.0001559502628
             ],
             "passed_time": 18.79462971,
             "remaining_time": 15.37742431,
             "test": [
              0.0003371738116
             ]
            },
            {
             "iteration": 1100,
             "learn": [
              0.000155665017
             ],
             "passed_time": 18.81154238,
             "remaining_time": 15.36019673,
             "test": [
              0.0003371441781
             ]
            },
            {
             "iteration": 1101,
             "learn": [
              0.0001555216047
             ],
             "passed_time": 18.82822062,
             "remaining_time": 15.34277869,
             "test": [
              0.0003370141449
             ]
            },
            {
             "iteration": 1102,
             "learn": [
              0.0001555139979
             ],
             "passed_time": 18.84425602,
             "remaining_time": 15.32483921,
             "test": [
              0.000337013627
             ]
            },
            {
             "iteration": 1103,
             "learn": [
              0.0001555144928
             ],
             "passed_time": 18.85865791,
             "remaining_time": 15.30557743,
             "test": [
              0.0003370137246
             ]
            },
            {
             "iteration": 1104,
             "learn": [
              0.0001552310913
             ],
             "passed_time": 18.87606572,
             "remaining_time": 15.28875911,
             "test": [
              0.0003363369136
             ]
            },
            {
             "iteration": 1105,
             "learn": [
              0.0001550575319
             ],
             "passed_time": 18.89001128,
             "remaining_time": 15.26914113,
             "test": [
              0.000336241272
             ]
            },
            {
             "iteration": 1106,
             "learn": [
              0.0001549853748
             ],
             "passed_time": 18.90640061,
             "remaining_time": 15.25150474,
             "test": [
              0.0003363814442
             ]
            },
            {
             "iteration": 1107,
             "learn": [
              0.0001549220135
             ],
             "passed_time": 18.92352762,
             "remaining_time": 15.23446447,
             "test": [
              0.0003364467782
             ]
            },
            {
             "iteration": 1108,
             "learn": [
              0.0001544274579
             ],
             "passed_time": 18.94390188,
             "remaining_time": 15.22003298,
             "test": [
              0.0003353144682
             ]
            },
            {
             "iteration": 1109,
             "learn": [
              0.0001544061476
             ],
             "passed_time": 18.96135596,
             "remaining_time": 15.20324937,
             "test": [
              0.000335305173
             ]
            },
            {
             "iteration": 1110,
             "learn": [
              0.0001537538536
             ],
             "passed_time": 18.97905225,
             "remaining_time": 15.18665837,
             "test": [
              0.0003343040887
             ]
            },
            {
             "iteration": 1111,
             "learn": [
              0.0001533878148
             ],
             "passed_time": 18.99352832,
             "remaining_time": 15.16749384,
             "test": [
              0.0003335562619
             ]
            },
            {
             "iteration": 1112,
             "learn": [
              0.0001533877698
             ],
             "passed_time": 19.00414285,
             "remaining_time": 15.1452603,
             "test": [
              0.0003335561186
             ]
            },
            {
             "iteration": 1113,
             "learn": [
              0.0001531611144
             ],
             "passed_time": 19.018418,
             "remaining_time": 15.12595902,
             "test": [
              0.0003333940347
             ]
            },
            {
             "iteration": 1114,
             "learn": [
              0.0001531110893
             ],
             "passed_time": 19.03271601,
             "remaining_time": 15.1066849,
             "test": [
              0.0003333896636
             ]
            },
            {
             "iteration": 1115,
             "learn": [
              0.0001530993683
             ],
             "passed_time": 19.04641261,
             "remaining_time": 15.08694332,
             "test": [
              0.0003333342178
             ]
            },
            {
             "iteration": 1116,
             "learn": [
              0.0001530623533
             ],
             "passed_time": 19.0602786,
             "remaining_time": 15.06734647,
             "test": [
              0.0003333074745
             ]
            },
            {
             "iteration": 1117,
             "learn": [
              0.0001526837977
             ],
             "passed_time": 19.07418198,
             "remaining_time": 15.04778936,
             "test": [
              0.0003325925752
             ]
            },
            {
             "iteration": 1118,
             "learn": [
              0.000152442459
             ],
             "passed_time": 19.08821797,
             "remaining_time": 15.02834677,
             "test": [
              0.0003323772906
             ]
            },
            {
             "iteration": 1119,
             "learn": [
              0.0001523927248
             ],
             "passed_time": 19.10215388,
             "remaining_time": 15.00883519,
             "test": [
              0.0003321608004
             ]
            },
            {
             "iteration": 1120,
             "learn": [
              0.000152392916
             ],
             "passed_time": 19.11378192,
             "remaining_time": 14.98752392,
             "test": [
              0.0003321606193
             ]
            },
            {
             "iteration": 1121,
             "learn": [
              0.0001523499399
             ],
             "passed_time": 19.12899813,
             "remaining_time": 14.96903775,
             "test": [
              0.0003322128831
             ]
            },
            {
             "iteration": 1122,
             "learn": [
              0.0001523067567
             ],
             "passed_time": 19.15548064,
             "remaining_time": 14.95935577,
             "test": [
              0.0003321808049
             ]
            },
            {
             "iteration": 1123,
             "learn": [
              0.0001523064164
             ],
             "passed_time": 19.17394514,
             "remaining_time": 14.94339496,
             "test": [
              0.0003321816224
             ]
            },
            {
             "iteration": 1124,
             "learn": [
              0.0001522520966
             ],
             "passed_time": 19.1958875,
             "remaining_time": 14.93013472,
             "test": [
              0.0003321900787
             ]
            },
            {
             "iteration": 1125,
             "learn": [
              0.0001520198281
             ],
             "passed_time": 19.21483284,
             "remaining_time": 14.91453277,
             "test": [
              0.0003319813013
             ]
            },
            {
             "iteration": 1126,
             "learn": [
              0.0001520192798
             ],
             "passed_time": 19.22641918,
             "remaining_time": 14.89322444,
             "test": [
              0.0003319814054
             ]
            },
            {
             "iteration": 1127,
             "learn": [
              0.0001517906046
             ],
             "passed_time": 19.24169911,
             "remaining_time": 14.87478867,
             "test": [
              0.0003314684517
             ]
            },
            {
             "iteration": 1128,
             "learn": [
              0.0001517497752
             ],
             "passed_time": 19.2566986,
             "remaining_time": 14.85614215,
             "test": [
              0.0003314432018
             ]
            },
            {
             "iteration": 1129,
             "learn": [
              0.0001517249328
             ],
             "passed_time": 19.27114494,
             "remaining_time": 14.8370762,
             "test": [
              0.0003314355462
             ]
            },
            {
             "iteration": 1130,
             "learn": [
              0.0001516546925
             ],
             "passed_time": 19.28611824,
             "remaining_time": 14.8184233,
             "test": [
              0.0003315675112
             ]
            },
            {
             "iteration": 1131,
             "learn": [
              0.0001514417765
             ],
             "passed_time": 19.30079616,
             "remaining_time": 14.79955041,
             "test": [
              0.0003314919007
             ]
            },
            {
             "iteration": 1132,
             "learn": [
              0.0001514303143
             ],
             "passed_time": 19.31350425,
             "remaining_time": 14.77917757,
             "test": [
              0.0003314926746
             ]
            },
            {
             "iteration": 1133,
             "learn": [
              0.0001513243209
             ],
             "passed_time": 19.32781026,
             "remaining_time": 14.76003853,
             "test": [
              0.0003316494153
             ]
            },
            {
             "iteration": 1134,
             "learn": [
              0.000150783854
             ],
             "passed_time": 19.34294239,
             "remaining_time": 14.74153759,
             "test": [
              0.0003305951125
             ]
            },
            {
             "iteration": 1135,
             "learn": [
              0.0001506781261
             ],
             "passed_time": 19.35677727,
             "remaining_time": 14.72205595,
             "test": [
              0.0003305703476
             ]
            },
            {
             "iteration": 1136,
             "learn": [
              0.000150513357
             ],
             "passed_time": 19.372047,
             "remaining_time": 14.70367332,
             "test": [
              0.0003304726256
             ]
            },
            {
             "iteration": 1137,
             "learn": [
              0.000150386403
             ],
             "passed_time": 19.3855319,
             "remaining_time": 14.6839442,
             "test": [
              0.000330387759
             ]
            },
            {
             "iteration": 1138,
             "learn": [
              0.0001503867124
             ],
             "passed_time": 19.39666547,
             "remaining_time": 14.66244861,
             "test": [
              0.000330388214
             ]
            },
            {
             "iteration": 1139,
             "learn": [
              0.0001503603402
             ],
             "passed_time": 19.41087931,
             "remaining_time": 14.64329491,
             "test": [
              0.00033044033
             ]
            },
            {
             "iteration": 1140,
             "learn": [
              0.0001503605004
             ],
             "passed_time": 19.42220917,
             "remaining_time": 14.62197868,
             "test": [
              0.0003304400073
             ]
            },
            {
             "iteration": 1141,
             "learn": [
              0.0001503566
             ],
             "passed_time": 19.43463487,
             "remaining_time": 14.60150326,
             "test": [
              0.0003304337775
             ]
            },
            {
             "iteration": 1142,
             "learn": [
              0.0001500228085
             ],
             "passed_time": 19.44956663,
             "remaining_time": 14.58292091,
             "test": [
              0.000329711579
             ]
            },
            {
             "iteration": 1143,
             "learn": [
              0.0001500228085
             ],
             "passed_time": 19.4600134,
             "remaining_time": 14.56098904,
             "test": [
              0.000329711579
             ]
            },
            {
             "iteration": 1144,
             "learn": [
              0.0001499796545
             ],
             "passed_time": 19.47437767,
             "remaining_time": 14.54200254,
             "test": [
              0.0003296559967
             ]
            },
            {
             "iteration": 1145,
             "learn": [
              0.0001497477798
             ],
             "passed_time": 19.52964792,
             "remaining_time": 14.55350726,
             "test": [
              0.0003292055821
             ]
            },
            {
             "iteration": 1146,
             "learn": [
              0.0001494986272
             ],
             "passed_time": 19.55562831,
             "remaining_time": 14.54311329,
             "test": [
              0.0003285803882
             ]
            },
            {
             "iteration": 1147,
             "learn": [
              0.0001494985232
             ],
             "passed_time": 19.5689628,
             "remaining_time": 14.52330689,
             "test": [
              0.0003285804459
             ]
            },
            {
             "iteration": 1148,
             "learn": [
              0.0001492586862
             ],
             "passed_time": 19.59165323,
             "remaining_time": 14.51044117,
             "test": [
              0.0003281062119
             ]
            },
            {
             "iteration": 1149,
             "learn": [
              0.0001492214996
             ],
             "passed_time": 19.61200344,
             "remaining_time": 14.49582863,
             "test": [
              0.0003282343164
             ]
            },
            {
             "iteration": 1150,
             "learn": [
              0.0001492213871
             ],
             "passed_time": 19.62773464,
             "remaining_time": 14.47779905,
             "test": [
              0.0003282347814
             ]
            },
            {
             "iteration": 1151,
             "learn": [
              0.0001492215249
             ],
             "passed_time": 19.63979486,
             "remaining_time": 14.45707122,
             "test": [
              0.0003282347397
             ]
            },
            {
             "iteration": 1152,
             "learn": [
              0.0001492210525
             ],
             "passed_time": 19.65130086,
             "remaining_time": 14.43595128,
             "test": [
              0.0003282339933
             ]
            },
            {
             "iteration": 1153,
             "learn": [
              0.0001492035936
             ],
             "passed_time": 19.66630368,
             "remaining_time": 14.41741154,
             "test": [
              0.000328254366
             ]
            },
            {
             "iteration": 1154,
             "learn": [
              0.0001492033855
             ],
             "passed_time": 19.67830594,
             "remaining_time": 14.3966827,
             "test": [
              0.0003282544379
             ]
            },
            {
             "iteration": 1155,
             "learn": [
              0.0001489470463
             ],
             "passed_time": 19.69683492,
             "remaining_time": 14.38073415,
             "test": [
              0.0003276222859
             ]
            },
            {
             "iteration": 1156,
             "learn": [
              0.0001485531579
             ],
             "passed_time": 19.71262472,
             "remaining_time": 14.36278534,
             "test": [
              0.0003268223028
             ]
            },
            {
             "iteration": 1157,
             "learn": [
              0.0001484620193
             ],
             "passed_time": 19.7291699,
             "remaining_time": 14.34538951,
             "test": [
              0.0003269184441
             ]
            },
            {
             "iteration": 1158,
             "learn": [
              0.0001484484743
             ],
             "passed_time": 19.74610521,
             "remaining_time": 14.32827824,
             "test": [
              0.0003269057126
             ]
            },
            {
             "iteration": 1159,
             "learn": [
              0.0001482338616
             ],
             "passed_time": 19.76264055,
             "remaining_time": 14.31087764,
             "test": [
              0.000326781378
             ]
            },
            {
             "iteration": 1160,
             "learn": [
              0.0001476351079
             ],
             "passed_time": 19.78060833,
             "remaining_time": 14.29451368,
             "test": [
              0.0003259576347
             ]
            },
            {
             "iteration": 1161,
             "learn": [
              0.0001474349822
             ],
             "passed_time": 19.79822988,
             "remaining_time": 14.27789728,
             "test": [
              0.0003258449357
             ]
            },
            {
             "iteration": 1162,
             "learn": [
              0.0001468109115
             ],
             "passed_time": 19.81337772,
             "remaining_time": 14.25949884,
             "test": [
              0.0003246240494
             ]
            },
            {
             "iteration": 1163,
             "learn": [
              0.0001468109115
             ],
             "passed_time": 19.8244553,
             "remaining_time": 14.23818267,
             "test": [
              0.0003246240494
             ]
            },
            {
             "iteration": 1164,
             "learn": [
              0.0001468006292
             ],
             "passed_time": 19.83907659,
             "remaining_time": 14.219424,
             "test": [
              0.0003246700277
             ]
            },
            {
             "iteration": 1165,
             "learn": [
              0.0001467740872
             ],
             "passed_time": 19.85389798,
             "remaining_time": 14.20081554,
             "test": [
              0.0003246797505
             ]
            },
            {
             "iteration": 1166,
             "learn": [
              0.0001467742419
             ],
             "passed_time": 19.86485654,
             "remaining_time": 14.1794563,
             "test": [
              0.0003246797254
             ]
            },
            {
             "iteration": 1167,
             "learn": [
              0.000146735787
             ],
             "passed_time": 19.87921139,
             "remaining_time": 14.16053414,
             "test": [
              0.0003246447354
             ]
            },
            {
             "iteration": 1168,
             "learn": [
              0.0001461706501
             ],
             "passed_time": 19.89437684,
             "remaining_time": 14.14219603,
             "test": [
              0.0003235118283
             ]
            },
            {
             "iteration": 1169,
             "learn": [
              0.0001456203923
             ],
             "passed_time": 19.90908435,
             "remaining_time": 14.12353847,
             "test": [
              0.000322589429
             ]
            },
            {
             "iteration": 1170,
             "learn": [
              0.0001451809882
             ],
             "passed_time": 19.92670489,
             "remaining_time": 14.10694992,
             "test": [
              0.0003221028243
             ]
            },
            {
             "iteration": 1171,
             "learn": [
              0.0001451809882
             ],
             "passed_time": 19.94103927,
             "remaining_time": 14.08803798,
             "test": [
              0.0003221028243
             ]
            },
            {
             "iteration": 1172,
             "learn": [
              0.0001447305516
             ],
             "passed_time": 19.96354582,
             "remaining_time": 14.07489548,
             "test": [
              0.000321607217
             ]
            },
            {
             "iteration": 1173,
             "learn": [
              0.0001445238968
             ],
             "passed_time": 19.986514,
             "remaining_time": 14.06206181,
             "test": [
              0.000321434791
             ]
            },
            {
             "iteration": 1174,
             "learn": [
              0.0001445003484
             ],
             "passed_time": 20.00111121,
             "remaining_time": 14.0433334,
             "test": [
              0.0003215331252
             ]
            },
            {
             "iteration": 1175,
             "learn": [
              0.0001444427807
             ],
             "passed_time": 20.01648076,
             "remaining_time": 14.02515319,
             "test": [
              0.0003215334137
             ]
            },
            {
             "iteration": 1176,
             "learn": [
              0.0001443275774
             ],
             "passed_time": 20.03100927,
             "remaining_time": 14.00638966,
             "test": [
              0.00032146858
             ]
            },
            {
             "iteration": 1177,
             "learn": [
              0.0001441459842
             ],
             "passed_time": 20.04619052,
             "remaining_time": 13.9880888,
             "test": [
              0.0003213376593
             ]
            },
            {
             "iteration": 1178,
             "learn": [
              0.0001441462064
             ],
             "passed_time": 20.05733906,
             "remaining_time": 13.96698504,
             "test": [
              0.0003213377972
             ]
            },
            {
             "iteration": 1179,
             "learn": [
              0.0001439333692
             ],
             "passed_time": 20.07336318,
             "remaining_time": 13.94928628,
             "test": [
              0.00032119259
             ]
            },
            {
             "iteration": 1180,
             "learn": [
              0.0001439099031
             ],
             "passed_time": 20.08693192,
             "remaining_time": 13.92988759,
             "test": [
              0.0003212111211
             ]
            },
            {
             "iteration": 1181,
             "learn": [
              0.0001438117938
             ],
             "passed_time": 20.10162555,
             "remaining_time": 13.91127724,
             "test": [
              0.0003212705515
             ]
            },
            {
             "iteration": 1182,
             "learn": [
              0.0001434245245
             ],
             "passed_time": 20.11707904,
             "remaining_time": 13.89319829,
             "test": [
              0.0003208207001
             ]
            },
            {
             "iteration": 1183,
             "learn": [
              0.0001432193539
             ],
             "passed_time": 20.13173217,
             "remaining_time": 13.87457217,
             "test": [
              0.0003203510875
             ]
            },
            {
             "iteration": 1184,
             "learn": [
              0.0001428342752
             ],
             "passed_time": 20.14640722,
             "remaining_time": 13.85596784,
             "test": [
              0.000319675797
             ]
            },
            {
             "iteration": 1185,
             "learn": [
              0.0001428205548
             ],
             "passed_time": 20.16011434,
             "remaining_time": 13.8367058,
             "test": [
              0.0003196698118
             ]
            },
            {
             "iteration": 1186,
             "learn": [
              0.0001422916403
             ],
             "passed_time": 20.17476354,
             "remaining_time": 13.81809837,
             "test": [
              0.0003187104998
             ]
            },
            {
             "iteration": 1187,
             "learn": [
              0.0001419558046
             ],
             "passed_time": 20.18919937,
             "remaining_time": 13.79935176,
             "test": [
              0.0003180414935
             ]
            },
            {
             "iteration": 1188,
             "learn": [
              0.000141575493
             ],
             "passed_time": 20.20339144,
             "remaining_time": 13.78044614,
             "test": [
              0.0003172263703
             ]
            },
            {
             "iteration": 1189,
             "learn": [
              0.0001413739735
             ],
             "passed_time": 20.21778237,
             "remaining_time": 13.7616838,
             "test": [
              0.000316658426
             ]
            },
            {
             "iteration": 1190,
             "learn": [
              0.0001413338883
             ],
             "passed_time": 20.23204556,
             "remaining_time": 13.74284203,
             "test": [
              0.0003166414937
             ]
            },
            {
             "iteration": 1191,
             "learn": [
              0.000141333742
             ],
             "passed_time": 20.24320599,
             "remaining_time": 13.72190473,
             "test": [
              0.0003166415605
             ]
            },
            {
             "iteration": 1192,
             "learn": [
              0.0001411391804
             ],
             "passed_time": 20.25745905,
             "remaining_time": 13.70307582,
             "test": [
              0.0003164725584
             ]
            },
            {
             "iteration": 1193,
             "learn": [
              0.0001410748443
             ],
             "passed_time": 20.27182213,
             "remaining_time": 13.68432884,
             "test": [
              0.0003165009843
             ]
            },
            {
             "iteration": 1194,
             "learn": [
              0.0001408517417
             ],
             "passed_time": 20.28663795,
             "remaining_time": 13.66589419,
             "test": [
              0.0003159185773
             ]
            },
            {
             "iteration": 1195,
             "learn": [
              0.0001408515899
             ],
             "passed_time": 20.29767675,
             "remaining_time": 13.64492651,
             "test": [
              0.0003159187115
             ]
            },
            {
             "iteration": 1196,
             "learn": [
              0.0001408516208
             ],
             "passed_time": 20.30860739,
             "remaining_time": 13.62390287,
             "test": [
              0.0003159187276
             ]
            },
            {
             "iteration": 1197,
             "learn": [
              0.0001406361908
             ],
             "passed_time": 20.3232301,
             "remaining_time": 13.60536773,
             "test": [
              0.0003153353124
             ]
            },
            {
             "iteration": 1198,
             "learn": [
              0.0001405116953
             ],
             "passed_time": 20.33711865,
             "remaining_time": 13.58634866,
             "test": [
              0.0003152332069
             ]
            },
            {
             "iteration": 1199,
             "learn": [
              0.0001401432105
             ],
             "passed_time": 20.35126437,
             "remaining_time": 13.56750958,
             "test": [
              0.0003147850281
             ]
            },
            {
             "iteration": 1200,
             "learn": [
              0.0001401055246
             ],
             "passed_time": 20.36561751,
             "remaining_time": 13.54881631,
             "test": [
              0.0003147874009
             ]
            },
            {
             "iteration": 1201,
             "learn": [
              0.000140011877
             ],
             "passed_time": 20.3793678,
             "remaining_time": 13.52973004,
             "test": [
              0.0003147238811
             ]
            },
            {
             "iteration": 1202,
             "learn": [
              0.000139925234
             ],
             "passed_time": 20.39298776,
             "remaining_time": 13.51056629,
             "test": [
              0.0003148243978
             ]
            },
            {
             "iteration": 1203,
             "learn": [
              0.0001399255377
             ],
             "passed_time": 20.40446347,
             "remaining_time": 13.48999412,
             "test": [
              0.0003148244099
             ]
            },
            {
             "iteration": 1204,
             "learn": [
              0.0001399240979
             ],
             "passed_time": 20.41574888,
             "remaining_time": 13.4693115,
             "test": [
              0.0003148245072
             ]
            },
            {
             "iteration": 1205,
             "learn": [
              0.0001396897063
             ],
             "passed_time": 20.43741634,
             "remaining_time": 13.45547974,
             "test": [
              0.0003142679902
             ]
            },
            {
             "iteration": 1206,
             "learn": [
              0.0001395251383
             ],
             "passed_time": 20.45476342,
             "remaining_time": 13.43879651,
             "test": [
              0.0003141080483
             ]
            },
            {
             "iteration": 1207,
             "learn": [
              0.0001395249471
             ],
             "passed_time": 20.46723211,
             "remaining_time": 13.41891377,
             "test": [
              0.0003141085879
             ]
            },
            {
             "iteration": 1208,
             "learn": [
              0.0001394502961
             ],
             "passed_time": 20.48154774,
             "remaining_time": 13.40025166,
             "test": [
              0.0003140608961
             ]
            },
            {
             "iteration": 1209,
             "learn": [
              0.0001391270338
             ],
             "passed_time": 20.49760153,
             "remaining_time": 13.38273158,
             "test": [
              0.0003137522814
             ]
            },
            {
             "iteration": 1210,
             "learn": [
              0.0001391273488
             ],
             "passed_time": 20.56402374,
             "remaining_time": 13.39803033,
             "test": [
              0.0003137523619
             ]
            },
            {
             "iteration": 1211,
             "learn": [
              0.0001391270591
             ],
             "passed_time": 20.58020578,
             "remaining_time": 13.38052983,
             "test": [
              0.0003137523418
             ]
            },
            {
             "iteration": 1212,
             "learn": [
              0.0001389434052
             ],
             "passed_time": 20.59938594,
             "remaining_time": 13.3649767,
             "test": [
              0.0003136389719
             ]
            },
            {
             "iteration": 1213,
             "learn": [
              0.000138753793
             ],
             "passed_time": 20.61415854,
             "remaining_time": 13.34656393,
             "test": [
              0.00031348276
             ]
            },
            {
             "iteration": 1214,
             "learn": [
              0.0001385467905
             ],
             "passed_time": 20.62886692,
             "remaining_time": 13.32811566,
             "test": [
              0.0003130646668
             ]
            },
            {
             "iteration": 1215,
             "learn": [
              0.0001384520823
             ],
             "passed_time": 20.64393118,
             "remaining_time": 13.309903,
             "test": [
              0.0003130155026
             ]
            },
            {
             "iteration": 1216,
             "learn": [
              0.0001382446039
             ],
             "passed_time": 20.66119156,
             "remaining_time": 13.29310846,
             "test": [
              0.0003130137343
             ]
            },
            {
             "iteration": 1217,
             "learn": [
              0.0001380282652
             ],
             "passed_time": 20.67866589,
             "remaining_time": 13.27645051,
             "test": [
              0.0003124684367
             ]
            },
            {
             "iteration": 1218,
             "learn": [
              0.0001374759881
             ],
             "passed_time": 20.6977897,
             "remaining_time": 13.26084803,
             "test": [
              0.0003114253637
             ]
            },
            {
             "iteration": 1219,
             "learn": [
              0.0001373275832
             ],
             "passed_time": 20.71512169,
             "remaining_time": 13.24409419,
             "test": [
              0.0003113416341
             ]
            },
            {
             "iteration": 1220,
             "learn": [
              0.0001369848276
             ],
             "passed_time": 20.7309179,
             "remaining_time": 13.22635958,
             "test": [
              0.0003108974663
             ]
            },
            {
             "iteration": 1221,
             "learn": [
              0.0001369584712
             ],
             "passed_time": 20.74545991,
             "remaining_time": 13.20782963,
             "test": [
              0.0003108692331
             ]
            },
            {
             "iteration": 1222,
             "learn": [
              0.000136958519
             ],
             "passed_time": 20.7571053,
             "remaining_time": 13.18746592,
             "test": [
              0.0003108692712
             ]
            },
            {
             "iteration": 1223,
             "learn": [
              0.000136401206
             ],
             "passed_time": 20.772575,
             "remaining_time": 13.16954101,
             "test": [
              0.0003102405487
             ]
            },
            {
             "iteration": 1224,
             "learn": [
              0.0001363697585
             ],
             "passed_time": 20.78634252,
             "remaining_time": 13.15054323,
             "test": [
              0.0003103283762
             ]
            },
            {
             "iteration": 1225,
             "learn": [
              0.0001363578604
             ],
             "passed_time": 20.80040015,
             "remaining_time": 13.13173713,
             "test": [
              0.0003103081863
             ]
            },
            {
             "iteration": 1226,
             "learn": [
              0.0001363283751
             ],
             "passed_time": 20.81521593,
             "remaining_time": 13.11341639,
             "test": [
              0.0003103225564
             ]
            },
            {
             "iteration": 1227,
             "learn": [
              0.0001363164
             ],
             "passed_time": 20.82895408,
             "remaining_time": 13.0944239,
             "test": [
              0.000310321026
             ]
            },
            {
             "iteration": 1228,
             "learn": [
              0.0001361393039
             ],
             "passed_time": 20.84346106,
             "remaining_time": 13.07592228,
             "test": [
              0.0003101752454
             ]
            },
            {
             "iteration": 1229,
             "learn": [
              0.0001361386881
             ],
             "passed_time": 20.85524995,
             "remaining_time": 13.05572558,
             "test": [
              0.0003101766565
             ]
            },
            {
             "iteration": 1230,
             "learn": [
              0.0001361385756
             ],
             "passed_time": 20.86734338,
             "remaining_time": 13.03573279,
             "test": [
              0.0003101766537
             ]
            },
            {
             "iteration": 1231,
             "learn": [
              0.0001361295571
             ],
             "passed_time": 20.88139509,
             "remaining_time": 13.01697356,
             "test": [
              0.0003101808523
             ]
            },
            {
             "iteration": 1232,
             "learn": [
              0.0001361264525
             ],
             "passed_time": 20.89404436,
             "remaining_time": 12.99734958,
             "test": [
              0.000310176424
             ]
            },
            {
             "iteration": 1233,
             "learn": [
              0.0001358239256
             ],
             "passed_time": 20.90971864,
             "remaining_time": 12.97961465,
             "test": [
              0.0003100984857
             ]
            },
            {
             "iteration": 1234,
             "learn": [
              0.0001354384881
             ],
             "passed_time": 20.9244048,
             "remaining_time": 12.96127099,
             "test": [
              0.0003096449489
             ]
            },
            {
             "iteration": 1235,
             "learn": [
              0.000135417572
             ],
             "passed_time": 20.93754947,
             "remaining_time": 12.94198042,
             "test": [
              0.0003097112799
             ]
            },
            {
             "iteration": 1236,
             "learn": [
              0.0001353870238
             ],
             "passed_time": 20.95193825,
             "remaining_time": 12.92346717,
             "test": [
              0.0003096958278
             ]
            },
            {
             "iteration": 1237,
             "learn": [
              0.0001353704508
             ],
             "passed_time": 20.96975415,
             "remaining_time": 12.90707,
             "test": [
              0.0003097472867
             ]
            },
            {
             "iteration": 1238,
             "learn": [
              0.0001353322721
             ],
             "passed_time": 20.98790796,
             "remaining_time": 12.89087809,
             "test": [
              0.0003098335431
             ]
            },
            {
             "iteration": 1239,
             "learn": [
              0.0001348286843
             ],
             "passed_time": 21.0100421,
             "remaining_time": 12.87712258,
             "test": [
              0.000308892508
             ]
            },
            {
             "iteration": 1240,
             "learn": [
              0.0001348287011
             ],
             "passed_time": 21.02466433,
             "remaining_time": 12.85875925,
             "test": [
              0.0003088926713
             ]
            },
            {
             "iteration": 1241,
             "learn": [
              0.0001346294781
             ],
             "passed_time": 21.03927483,
             "remaining_time": 12.84039478,
             "test": [
              0.0003084917238
             ]
            },
            {
             "iteration": 1242,
             "learn": [
              0.0001345568799
             ],
             "passed_time": 21.05264282,
             "remaining_time": 12.82127966,
             "test": [
              0.000308630793
             ]
            },
            {
             "iteration": 1243,
             "learn": [
              0.0001345573664
             ],
             "passed_time": 21.06341643,
             "remaining_time": 12.80059712,
             "test": [
              0.0003086308496
             ]
            },
            {
             "iteration": 1244,
             "learn": [
              0.0001343361655
             ],
             "passed_time": 21.0770191,
             "remaining_time": 12.78164612,
             "test": [
              0.0003082093861
             ]
            },
            {
             "iteration": 1245,
             "learn": [
              0.0001341949153
             ],
             "passed_time": 21.09067285,
             "remaining_time": 12.76273461,
             "test": [
              0.0003081577648
             ]
            },
            {
             "iteration": 1246,
             "learn": [
              0.0001341458745
             ],
             "passed_time": 21.10406018,
             "remaining_time": 12.74367066,
             "test": [
              0.0003083041514
             ]
            },
            {
             "iteration": 1247,
             "learn": [
              0.0001340967419
             ],
             "passed_time": 21.12100254,
             "remaining_time": 12.72675794,
             "test": [
              0.000308272135
             ]
            },
            {
             "iteration": 1248,
             "learn": [
              0.0001339797187
             ],
             "passed_time": 21.13371765,
             "remaining_time": 12.70730341,
             "test": [
              0.0003081876474
             ]
            },
            {
             "iteration": 1249,
             "learn": [
              0.0001338169512
             ],
             "passed_time": 21.14636017,
             "remaining_time": 12.6878161,
             "test": [
              0.0003080465586
             ]
            },
            {
             "iteration": 1250,
             "learn": [
              0.0001338177301
             ],
             "passed_time": 21.15765381,
             "remaining_time": 12.66753214,
             "test": [
              0.0003080470778
             ]
            },
            {
             "iteration": 1251,
             "learn": [
              0.0001336457898
             ],
             "passed_time": 21.17049294,
             "remaining_time": 12.64818588,
             "test": [
              0.0003079550794
             ]
            },
            {
             "iteration": 1252,
             "learn": [
              0.0001333350805
             ],
             "passed_time": 21.18382058,
             "remaining_time": 12.62914124,
             "test": [
              0.0003073407471
             ]
            },
            {
             "iteration": 1253,
             "learn": [
              0.000133302156
             ],
             "passed_time": 21.19664294,
             "remaining_time": 12.60980513,
             "test": [
              0.0003073289635
             ]
            },
            {
             "iteration": 1254,
             "learn": [
              0.0001332846476
             ],
             "passed_time": 21.2092571,
             "remaining_time": 12.59035581,
             "test": [
              0.0003073294249
             ]
            },
            {
             "iteration": 1255,
             "learn": [
              0.0001328303423
             ],
             "passed_time": 21.22228201,
             "remaining_time": 12.57116068,
             "test": [
              0.0003066503704
             ]
            },
            {
             "iteration": 1256,
             "learn": [
              0.000132349471
             ],
             "passed_time": 21.23542902,
             "remaining_time": 12.55204754,
             "test": [
              0.0003056840855
             ]
            },
            {
             "iteration": 1257,
             "learn": [
              0.0001323131157
             ],
             "passed_time": 21.24779787,
             "remaining_time": 12.53248492,
             "test": [
              0.0003057763593
             ]
            },
            {
             "iteration": 1258,
             "learn": [
              0.0001323130229
             ],
             "passed_time": 21.26215625,
             "remaining_time": 12.51410467,
             "test": [
              0.0003057767975
             ]
            },
            {
             "iteration": 1259,
             "learn": [
              0.0001322518308
             ],
             "passed_time": 21.28486907,
             "remaining_time": 12.50063739,
             "test": [
              0.0003059050292
             ]
            },
            {
             "iteration": 1260,
             "learn": [
              0.0001320785328
             ],
             "passed_time": 21.30589062,
             "remaining_time": 12.48616429,
             "test": [
              0.0003057729917
             ]
            },
            {
             "iteration": 1261,
             "learn": [
              0.000131615742
             ],
             "passed_time": 21.32548988,
             "remaining_time": 12.47084907,
             "test": [
              0.0003051062144
             ]
            },
            {
             "iteration": 1262,
             "learn": [
              0.0001315260332
             ],
             "passed_time": 21.35105711,
             "remaining_time": 12.45900957,
             "test": [
              0.0003050806473
             ]
            },
            {
             "iteration": 1263,
             "learn": [
              0.0001313515766
             ],
             "passed_time": 21.36808522,
             "remaining_time": 12.4421762,
             "test": [
              0.0003049920994
             ]
            },
            {
             "iteration": 1264,
             "learn": [
              0.0001309423558
             ],
             "passed_time": 21.38510569,
             "remaining_time": 12.42533809,
             "test": [
              0.0003045683505
             ]
            },
            {
             "iteration": 1265,
             "learn": [
              0.0001305701128
             ],
             "passed_time": 21.40723235,
             "remaining_time": 12.41146015,
             "test": [
              0.0003039719583
             ]
            },
            {
             "iteration": 1266,
             "learn": [
              0.0001305697388
             ],
             "passed_time": 21.42035276,
             "remaining_time": 12.39235878,
             "test": [
              0.0003039720493
             ]
            },
            {
             "iteration": 1267,
             "learn": [
              0.0001304532246
             ],
             "passed_time": 21.43788387,
             "remaining_time": 12.37581308,
             "test": [
              0.0003038886155
             ]
            },
            {
             "iteration": 1268,
             "learn": [
              0.0001304171336
             ],
             "passed_time": 21.45416473,
             "remaining_time": 12.35854564,
             "test": [
              0.0003038891149
             ]
            },
            {
             "iteration": 1269,
             "learn": [
              0.0001302577677
             ],
             "passed_time": 21.4766916,
             "remaining_time": 12.34486998,
             "test": [
              0.0003036861332
             ]
            },
            {
             "iteration": 1270,
             "learn": [
              0.000130055355
             ],
             "passed_time": 21.50101419,
             "remaining_time": 12.33221034,
             "test": [
              0.0003031618321
             ]
            },
            {
             "iteration": 1271,
             "learn": [
              0.0001295619704
             ],
             "passed_time": 21.52859339,
             "remaining_time": 12.32139622,
             "test": [
              0.000302219112
             ]
            },
            {
             "iteration": 1272,
             "learn": [
              0.0001295267399
             ],
             "passed_time": 21.55577648,
             "remaining_time": 12.31032954,
             "test": [
              0.0003022213284
             ]
            },
            {
             "iteration": 1273,
             "learn": [
              0.0001294502582
             ],
             "passed_time": 21.63602513,
             "remaining_time": 12.32947743,
             "test": [
              0.0003023304063
             ]
            },
            {
             "iteration": 1274,
             "learn": [
              0.0001291536529
             ],
             "passed_time": 21.65631622,
             "remaining_time": 12.31437589,
             "test": [
              0.0003017436383
             ]
            },
            {
             "iteration": 1275,
             "learn": [
              0.0001289806327
             ],
             "passed_time": 21.67072625,
             "remaining_time": 12.29592932,
             "test": [
              0.0003016834181
             ]
            },
            {
             "iteration": 1276,
             "learn": [
              0.0001289073113
             ],
             "passed_time": 21.6894751,
             "remaining_time": 12.27994557,
             "test": [
              0.0003017754045
             ]
            },
            {
             "iteration": 1277,
             "learn": [
              0.0001288992956
             ],
             "passed_time": 21.70298333,
             "remaining_time": 12.26099684,
             "test": [
              0.0003018090433
             ]
            },
            {
             "iteration": 1278,
             "learn": [
              0.00012889938
             ],
             "passed_time": 21.71418917,
             "remaining_time": 12.24075871,
             "test": [
              0.0003018091623
             ]
            },
            {
             "iteration": 1279,
             "learn": [
              0.0001288173443
             ],
             "passed_time": 21.7281813,
             "remaining_time": 12.22210198,
             "test": [
              0.0003017309519
             ]
            },
            {
             "iteration": 1280,
             "learn": [
              0.0001287788063
             ],
             "passed_time": 21.74211437,
             "remaining_time": 12.20341938,
             "test": [
              0.0003017567517
             ]
            },
            {
             "iteration": 1281,
             "learn": [
              0.0001287182959
             ],
             "passed_time": 21.75599485,
             "remaining_time": 12.18471474,
             "test": [
              0.0003017504352
             ]
            },
            {
             "iteration": 1282,
             "learn": [
              0.0001283827102
             ],
             "passed_time": 21.77050014,
             "remaining_time": 12.1663668,
             "test": [
              0.0003013655362
             ]
            },
            {
             "iteration": 1283,
             "learn": [
              0.0001281710069
             ],
             "passed_time": 21.7882316,
             "remaining_time": 12.14982385,
             "test": [
              0.0003009723964
             ]
            },
            {
             "iteration": 1284,
             "learn": [
              0.00012812752
             ],
             "passed_time": 21.81862855,
             "remaining_time": 12.14032639,
             "test": [
              0.0003009688364
             ]
            },
            {
             "iteration": 1285,
             "learn": [
              0.0001279377289
             ],
             "passed_time": 21.83455207,
             "remaining_time": 12.12276064,
             "test": [
              0.0003009681336
             ]
            },
            {
             "iteration": 1286,
             "learn": [
              0.0001277597909
             ],
             "passed_time": 21.85157829,
             "remaining_time": 12.10580833,
             "test": [
              0.0003005926299
             ]
            },
            {
             "iteration": 1287,
             "learn": [
              0.0001275799232
             ],
             "passed_time": 21.86655268,
             "remaining_time": 12.08772167,
             "test": [
              0.0003004750266
             ]
            },
            {
             "iteration": 1288,
             "learn": [
              0.0001275367238
             ],
             "passed_time": 21.88034168,
             "remaining_time": 12.06898598,
             "test": [
              0.000300466364
             ]
            },
            {
             "iteration": 1289,
             "learn": [
              0.0001274675396
             ],
             "passed_time": 21.8946938,
             "remaining_time": 12.05056791,
             "test": [
              0.0003004519034
             ]
            },
            {
             "iteration": 1290,
             "learn": [
              0.0001270961301
             ],
             "passed_time": 21.90891762,
             "remaining_time": 12.03208566,
             "test": [
              0.0003000182606
             ]
            },
            {
             "iteration": 1291,
             "learn": [
              0.000126928601
             ],
             "passed_time": 21.9228345,
             "remaining_time": 12.01344182,
             "test": [
              0.0002999023368
             ]
            },
            {
             "iteration": 1292,
             "learn": [
              0.0001268884819
             ],
             "passed_time": 21.93676818,
             "remaining_time": 11.99481447,
             "test": [
              0.0002998649438
             ]
            },
            {
             "iteration": 1293,
             "learn": [
              0.0001268564601
             ],
             "passed_time": 21.95065974,
             "remaining_time": 11.97617139,
             "test": [
              0.0002998569039
             ]
            },
            {
             "iteration": 1294,
             "learn": [
              0.0001268446537
             ],
             "passed_time": 21.96323117,
             "remaining_time": 11.95681697,
             "test": [
              0.0002999362338
             ]
            },
            {
             "iteration": 1295,
             "learn": [
              0.0001267985431
             ],
             "passed_time": 21.97735327,
             "remaining_time": 11.93831536,
             "test": [
              0.0002999184705
             ]
            },
            {
             "iteration": 1296,
             "learn": [
              0.000126798484
             ],
             "passed_time": 21.99120349,
             "remaining_time": 11.91967314,
             "test": [
              0.0002999184795
             ]
            },
            {
             "iteration": 1297,
             "learn": [
              0.0001267189365
             ],
             "passed_time": 22.02268857,
             "remaining_time": 11.91057579,
             "test": [
              0.0003000164755
             ]
            },
            {
             "iteration": 1298,
             "learn": [
              0.0001263985095
             ],
             "passed_time": 22.04470931,
             "remaining_time": 11.89633659,
             "test": [
              0.0002996840271
             ]
            },
            {
             "iteration": 1299,
             "learn": [
              0.0001263956805
             ],
             "passed_time": 22.06088705,
             "remaining_time": 11.87893918,
             "test": [
              0.0002996829022
             ]
            },
            {
             "iteration": 1300,
             "learn": [
              0.0001263962598
             ],
             "passed_time": 22.07668567,
             "remaining_time": 11.86133996,
             "test": [
              0.0002996830293
             ]
            },
            {
             "iteration": 1301,
             "learn": [
              0.0001260234804
             ],
             "passed_time": 22.09520372,
             "remaining_time": 11.84520138,
             "test": [
              0.0002990497819
             ]
            },
            {
             "iteration": 1302,
             "learn": [
              0.0001256660342
             ],
             "passed_time": 22.10975007,
             "remaining_time": 11.82693461,
             "test": [
              0.000298259417
             ]
            },
            {
             "iteration": 1303,
             "learn": [
              0.0001256665123
             ],
             "passed_time": 22.12121886,
             "remaining_time": 11.80703093,
             "test": [
              0.0002982594054
             ]
            },
            {
             "iteration": 1304,
             "learn": [
              0.000125354119
             ],
             "passed_time": 22.13578365,
             "remaining_time": 11.788789,
             "test": [
              0.0002978973429
             ]
            },
            {
             "iteration": 1305,
             "learn": [
              0.0001251693113
             ],
             "passed_time": 22.14937029,
             "remaining_time": 11.77003291,
             "test": [
              0.0002977856406
             ]
            },
            {
             "iteration": 1306,
             "learn": [
              0.0001251699413
             ],
             "passed_time": 22.15822059,
             "remaining_time": 11.74877343,
             "test": [
              0.0002977855537
             ]
            },
            {
             "iteration": 1307,
             "learn": [
              0.0001251323718
             ],
             "passed_time": 22.17243928,
             "remaining_time": 11.73037308,
             "test": [
              0.0002977900795
             ]
            },
            {
             "iteration": 1308,
             "learn": [
              0.0001250912443
             ],
             "passed_time": 22.18828401,
             "remaining_time": 11.71283747,
             "test": [
              0.0002977777935
             ]
            },
            {
             "iteration": 1309,
             "learn": [
              0.0001250553368
             ],
             "passed_time": 22.22330393,
             "remaining_time": 11.70540436,
             "test": [
              0.0002977598627
             ]
            },
            {
             "iteration": 1310,
             "learn": [
              0.0001250550106
             ],
             "passed_time": 22.24071011,
             "remaining_time": 11.68867221,
             "test": [
              0.0002977598779
             ]
            },
            {
             "iteration": 1311,
             "learn": [
              0.000125054839
             ],
             "passed_time": 22.252318,
             "remaining_time": 11.66889846,
             "test": [
              0.000297759928
             ]
            },
            {
             "iteration": 1312,
             "learn": [
              0.0001245832941
             ],
             "passed_time": 22.26654951,
             "remaining_time": 11.65050991,
             "test": [
              0.0002972836655
             ]
            },
            {
             "iteration": 1313,
             "learn": [
              0.0001241230323
             ],
             "passed_time": 22.28089826,
             "remaining_time": 11.63218889,
             "test": [
              0.000296380514
             ]
            },
            {
             "iteration": 1314,
             "learn": [
              0.0001239497382
             ],
             "passed_time": 22.29491912,
             "remaining_time": 11.61370312,
             "test": [
              0.0002963144018
             ]
            },
            {
             "iteration": 1315,
             "learn": [
              0.0001239493867
             ],
             "passed_time": 22.30588112,
             "remaining_time": 11.59363426,
             "test": [
              0.0002963143127
             ]
            },
            {
             "iteration": 1316,
             "learn": [
              0.0001236420834
             ],
             "passed_time": 22.31990674,
             "remaining_time": 11.57516803,
             "test": [
              0.0002957217391
             ]
            },
            {
             "iteration": 1317,
             "learn": [
              0.0001235180643
             ],
             "passed_time": 22.33301132,
             "remaining_time": 11.55623196,
             "test": [
              0.0002956841636
             ]
            },
            {
             "iteration": 1318,
             "learn": [
              0.0001234537912
             ],
             "passed_time": 22.34637911,
             "remaining_time": 11.53744062,
             "test": [
              0.0002958015921
             ]
            },
            {
             "iteration": 1319,
             "learn": [
              0.0001234246837
             ],
             "passed_time": 22.36008611,
             "remaining_time": 11.51883224,
             "test": [
              0.000295776833
             ]
            },
            {
             "iteration": 1320,
             "learn": [
              0.0001233864939
             ],
             "passed_time": 22.375041,
             "remaining_time": 11.5008727,
             "test": [
              0.000295774657
             ]
            },
            {
             "iteration": 1321,
             "learn": [
              0.0001232706163
             ],
             "passed_time": 22.40280155,
             "remaining_time": 11.48948521,
             "test": [
              0.0002958653586
             ]
            },
            {
             "iteration": 1322,
             "learn": [
              0.000123238333
             ],
             "passed_time": 22.42671554,
             "remaining_time": 11.47610463,
             "test": [
              0.0002959083388
             ]
            },
            {
             "iteration": 1323,
             "learn": [
              0.0001230621301
             ],
             "passed_time": 22.44367675,
             "remaining_time": 11.45915822,
             "test": [
              0.0002958009165
             ]
            },
            {
             "iteration": 1324,
             "learn": [
              0.0001230619529
             ],
             "passed_time": 22.45426694,
             "remaining_time": 11.43896618,
             "test": [
              0.000295800936
             ]
            },
            {
             "iteration": 1325,
             "learn": [
              0.0001227184327
             ],
             "passed_time": 22.46897409,
             "remaining_time": 11.42088125,
             "test": [
              0.0002951927107
             ]
            },
            {
             "iteration": 1326,
             "learn": [
              0.0001222933493
             ],
             "passed_time": 22.48308539,
             "remaining_time": 11.40249922,
             "test": [
              0.0002945422223
             ]
            },
            {
             "iteration": 1327,
             "learn": [
              0.0001221646114
             ],
             "passed_time": 22.51044549,
             "remaining_time": 11.39082784,
             "test": [
              0.0002945515582
             ]
            },
            {
             "iteration": 1328,
             "learn": [
              0.0001221527937
             ],
             "passed_time": 22.53590377,
             "remaining_time": 11.37817263,
             "test": [
              0.00029453594
             ]
            },
            {
             "iteration": 1329,
             "learn": [
              0.0001219768935
             ],
             "passed_time": 22.55059418,
             "remaining_time": 11.36007376,
             "test": [
              0.0002944336429
             ]
            },
            {
             "iteration": 1330,
             "learn": [
              0.0001215180187
             ],
             "passed_time": 22.56521702,
             "remaining_time": 11.34194605,
             "test": [
              0.00029374242
             ]
            },
            {
             "iteration": 1331,
             "learn": [
              0.0001215180187
             ],
             "passed_time": 22.57634393,
             "remaining_time": 11.32207038,
             "test": [
              0.00029374242
             ]
            },
            {
             "iteration": 1332,
             "learn": [
              0.0001212672112
             ],
             "passed_time": 22.60664508,
             "remaining_time": 11.31180215,
             "test": [
              0.000293201866
             ]
            },
            {
             "iteration": 1333,
             "learn": [
              0.0001208295062
             ],
             "passed_time": 22.65286666,
             "remaining_time": 11.30945217,
             "test": [
              0.0002923312977
             ]
            },
            {
             "iteration": 1334,
             "learn": [
              0.0001208290787
             ],
             "passed_time": 22.66442412,
             "remaining_time": 11.28976932,
             "test": [
              0.0002923311667
             ]
            },
            {
             "iteration": 1335,
             "learn": [
              0.0001207910671
             ],
             "passed_time": 22.67832771,
             "remaining_time": 11.27126467,
             "test": [
              0.0002923892991
             ]
            },
            {
             "iteration": 1336,
             "learn": [
              0.0001207501589
             ],
             "passed_time": 22.69545942,
             "remaining_time": 11.25436768,
             "test": [
              0.0002923966454
             ]
            },
            {
             "iteration": 1337,
             "learn": [
              0.000120609732
             ],
             "passed_time": 22.73163404,
             "remaining_time": 11.24689218,
             "test": [
              0.000292089627
             ]
            },
            {
             "iteration": 1338,
             "learn": [
              0.0001205749319
             ],
             "passed_time": 22.75577662,
             "remaining_time": 11.23343417,
             "test": [
              0.0002921829849
             ]
            },
            {
             "iteration": 1339,
             "learn": [
              0.000120563104
             ],
             "passed_time": 22.78633329,
             "remaining_time": 11.22311938,
             "test": [
              0.0002921803722
             ]
            },
            {
             "iteration": 1340,
             "learn": [
              0.0001205632362
             ],
             "passed_time": 22.80116198,
             "remaining_time": 11.2050453,
             "test": [
              0.0002921803691
             ]
            },
            {
             "iteration": 1341,
             "learn": [
              0.0001205636917
             ],
             "passed_time": 22.81274246,
             "remaining_time": 11.18538341,
             "test": [
              0.0002921803784
             ]
            },
            {
             "iteration": 1342,
             "learn": [
              0.0001205285625
             ],
             "passed_time": 22.82655811,
             "remaining_time": 11.16682701,
             "test": [
              0.0002922548402
             ]
            },
            {
             "iteration": 1343,
             "learn": [
              0.0001204479066
             ],
             "passed_time": 22.84040725,
             "remaining_time": 11.14829401,
             "test": [
              0.0002923652388
             ]
            },
            {
             "iteration": 1344,
             "learn": [
              0.0001202806013
             ],
             "passed_time": 22.85470276,
             "remaining_time": 11.12998536,
             "test": [
              0.0002920148661
             ]
            },
            {
             "iteration": 1345,
             "learn": [
              0.0001202801907
             ],
             "passed_time": 22.86348612,
             "remaining_time": 11.1090044,
             "test": [
              0.000292015061
             ]
            },
            {
             "iteration": 1346,
             "learn": [
              0.0001202460176
             ],
             "passed_time": 22.87683447,
             "remaining_time": 11.09025457,
             "test": [
              0.000291941155
             ]
            },
            {
             "iteration": 1347,
             "learn": [
              0.0001202460176
             ],
             "passed_time": 22.88764715,
             "remaining_time": 11.07028631,
             "test": [
              0.000291941155
             ]
            },
            {
             "iteration": 1348,
             "learn": [
              0.0001202394429
             ],
             "passed_time": 22.90169462,
             "remaining_time": 11.05189266,
             "test": [
              0.0002919617191
             ]
            },
            {
             "iteration": 1349,
             "learn": [
              0.0001198064422
             ],
             "passed_time": 22.9157715,
             "remaining_time": 11.03351961,
             "test": [
              0.000291344866
             ]
            },
            {
             "iteration": 1350,
             "learn": [
              0.0001193862596
             ],
             "passed_time": 22.93716327,
             "remaining_time": 11.01866689,
             "test": [
              0.0002908901625
             ]
            },
            {
             "iteration": 1351,
             "learn": [
              0.0001193023089
             ],
             "passed_time": 22.95949737,
             "remaining_time": 11.00425613,
             "test": [
              0.0002910060128
             ]
            },
            {
             "iteration": 1352,
             "learn": [
              0.0001191565963
             ],
             "passed_time": 22.98582622,
             "remaining_time": 10.99174395,
             "test": [
              0.000290909665
             ]
            },
            {
             "iteration": 1353,
             "learn": [
              0.0001187753343
             ],
             "passed_time": 23.01333575,
             "remaining_time": 10.97977466,
             "test": [
              0.0002903544466
             ]
            },
            {
             "iteration": 1354,
             "learn": [
              0.0001187754525
             ],
             "passed_time": 23.02500264,
             "remaining_time": 10.96024111,
             "test": [
              0.0002903550529
             ]
            },
            {
             "iteration": 1355,
             "learn": [
              0.0001187451742
             ],
             "passed_time": 23.04360047,
             "remaining_time": 10.94401084,
             "test": [
              0.0002903466934
             ]
            },
            {
             "iteration": 1356,
             "learn": [
              0.0001187308407
             ],
             "passed_time": 23.05959378,
             "remaining_time": 10.92654296,
             "test": [
              0.0002903536886
             ]
            },
            {
             "iteration": 1357,
             "learn": [
              0.0001185560816
             ],
             "passed_time": 23.08009245,
             "remaining_time": 10.91120718,
             "test": [
              0.0002902935509
             ]
            },
            {
             "iteration": 1358,
             "learn": [
              0.000118524562
             ],
             "passed_time": 23.09811136,
             "remaining_time": 10.89469417,
             "test": [
              0.0002903652651
             ]
            },
            {
             "iteration": 1359,
             "learn": [
              0.000118386251
             ],
             "passed_time": 23.11594867,
             "remaining_time": 10.87809349,
             "test": [
              0.0002903763458
             ]
            },
            {
             "iteration": 1360,
             "learn": [
              0.0001183674609
             ],
             "passed_time": 23.12960168,
             "remaining_time": 10.85952643,
             "test": [
              0.0002904017066
             ]
            },
            {
             "iteration": 1361,
             "learn": [
              0.0001183674581
             ],
             "passed_time": 23.14038723,
             "remaining_time": 10.83962339,
             "test": [
              0.0002904016565
             ]
            },
            {
             "iteration": 1362,
             "learn": [
              0.0001181871636
             ],
             "passed_time": 23.15442653,
             "remaining_time": 10.82125436,
             "test": [
              0.0002899429643
             ]
            },
            {
             "iteration": 1363,
             "learn": [
              0.0001180500663
             ],
             "passed_time": 23.16787911,
             "remaining_time": 10.80261812,
             "test": [
              0.0002899550212
             ]
            },
            {
             "iteration": 1364,
             "learn": [
              0.0001177656042
             ],
             "passed_time": 23.18189737,
             "remaining_time": 10.78425262,
             "test": [
              0.0002893820168
             ]
            },
            {
             "iteration": 1365,
             "learn": [
              0.0001177269812
             ],
             "passed_time": 23.195498,
             "remaining_time": 10.76569966,
             "test": [
              0.0002893748052
             ]
            },
            {
             "iteration": 1366,
             "learn": [
              0.0001176999397
             ],
             "passed_time": 23.20832761,
             "remaining_time": 10.74679691,
             "test": [
              0.0002893683055
             ]
            },
            {
             "iteration": 1367,
             "learn": [
              0.000117559677
             ],
             "passed_time": 23.22577453,
             "remaining_time": 10.73003619,
             "test": [
              0.0002893168672
             ]
            },
            {
             "iteration": 1368,
             "learn": [
              0.0001171486187
             ],
             "passed_time": 23.25028165,
             "remaining_time": 10.71652865,
             "test": [
              0.0002885182691
             ]
            },
            {
             "iteration": 1369,
             "learn": [
              0.0001171338466
             ],
             "passed_time": 23.26713356,
             "remaining_time": 10.69948478,
             "test": [
              0.0002885204359
             ]
            },
            {
             "iteration": 1370,
             "learn": [
              0.0001171215322
             ],
             "passed_time": 23.2829588,
             "remaining_time": 10.68197016,
             "test": [
              0.0002885175523
             ]
            },
            {
             "iteration": 1371,
             "learn": [
              0.0001171013045
             ],
             "passed_time": 23.29535501,
             "remaining_time": 10.66288845,
             "test": [
              0.0002886145861
             ]
            },
            {
             "iteration": 1372,
             "learn": [
              0.0001171013889
             ],
             "passed_time": 23.30938759,
             "remaining_time": 10.64456374,
             "test": [
              0.0002886148254
             ]
            },
            {
             "iteration": 1373,
             "learn": [
              0.0001171015436
             ],
             "passed_time": 23.32924834,
             "remaining_time": 10.62890063,
             "test": [
              0.0002886148905
             ]
            },
            {
             "iteration": 1374,
             "learn": [
              0.0001171015689
             ],
             "passed_time": 23.34627518,
             "remaining_time": 10.61194326,
             "test": [
              0.0002886148512
             ]
            },
            {
             "iteration": 1375,
             "learn": [
              0.0001171011443
             ],
             "passed_time": 23.37143891,
             "remaining_time": 10.59867579,
             "test": [
              0.0002886147766
             ]
            },
            {
             "iteration": 1376,
             "learn": [
              0.0001170780229
             ],
             "passed_time": 23.39333967,
             "remaining_time": 10.58391475,
             "test": [
              0.0002886090703
             ]
            },
            {
             "iteration": 1377,
             "learn": [
              0.0001169609902
             ],
             "passed_time": 23.41125288,
             "remaining_time": 10.56734346,
             "test": [
              0.0002885751061
             ]
            },
            {
             "iteration": 1378,
             "learn": [
              0.00011654782
             ],
             "passed_time": 23.42633473,
             "remaining_time": 10.54949519,
             "test": [
              0.0002879849748
             ]
            },
            {
             "iteration": 1379,
             "learn": [
              0.0001164059122
             ],
             "passed_time": 23.44043319,
             "remaining_time": 10.53120911,
             "test": [
              0.0002876836303
             ]
            },
            {
             "iteration": 1380,
             "learn": [
              0.0001164042502
             ],
             "passed_time": 23.45389837,
             "remaining_time": 10.51264525,
             "test": [
              0.0002876917149
             ]
            },
            {
             "iteration": 1381,
             "learn": [
              0.0001163118311
             ],
             "passed_time": 23.46798412,
             "remaining_time": 10.49436627,
             "test": [
              0.0002878068389
             ]
            },
            {
             "iteration": 1382,
             "learn": [
              0.0001162721508
             ],
             "passed_time": 23.48244648,
             "remaining_time": 10.47626137,
             "test": [
              0.0002878005804
             ]
            },
            {
             "iteration": 1383,
             "learn": [
              0.0001162727132
             ],
             "passed_time": 23.49450788,
             "remaining_time": 10.4570931,
             "test": [
              0.0002878006907
             ]
            },
            {
             "iteration": 1384,
             "learn": [
              0.0001161006515
             ],
             "passed_time": 23.50890725,
             "remaining_time": 10.43897326,
             "test": [
              0.000287712773
             ]
            },
            {
             "iteration": 1385,
             "learn": [
              0.0001161008399
             ],
             "passed_time": 23.52054477,
             "remaining_time": 10.41963527,
             "test": [
              0.0002877129741
             ]
            },
            {
             "iteration": 1386,
             "learn": [
              0.0001161006009
             ],
             "passed_time": 23.53115688,
             "remaining_time": 10.3998552,
             "test": [
              0.0002877129704
             ]
            },
            {
             "iteration": 1387,
             "learn": [
              0.0001157797273
             ],
             "passed_time": 23.5453983,
             "remaining_time": 10.38168859,
             "test": [
              0.0002872915665
             ]
            },
            {
             "iteration": 1388,
             "learn": [
              0.0001157795979
             ],
             "passed_time": 23.55704162,
             "remaining_time": 10.36238476,
             "test": [
              0.0002872924583
             ]
            },
            {
             "iteration": 1389,
             "learn": [
              0.0001157356751
             ],
             "passed_time": 23.58314922,
             "remaining_time": 10.34943959,
             "test": [
              0.0002874044821
             ]
            },
            {
             "iteration": 1390,
             "learn": [
              0.0001157074075
             ],
             "passed_time": 23.60428718,
             "remaining_time": 10.33429971,
             "test": [
              0.0002874249
             ]
            },
            {
             "iteration": 1391,
             "learn": [
              0.00011570752
             ],
             "passed_time": 23.63982127,
             "remaining_time": 10.32543918,
             "test": [
              0.000287424934
             ]
            },
            {
             "iteration": 1392,
             "learn": [
              0.0001157078997
             ],
             "passed_time": 23.69480386,
             "remaining_time": 10.32501503,
             "test": [
              0.0002874250576
             ]
            },
            {
             "iteration": 1393,
             "learn": [
              0.0001154286963
             ],
             "passed_time": 23.71699551,
             "remaining_time": 10.31025773,
             "test": [
              0.0002873474675
             ]
            },
            {
             "iteration": 1394,
             "learn": [
              0.0001151771811
             ],
             "passed_time": 23.73427177,
             "remaining_time": 10.29335801,
             "test": [
              0.0002868399657
             ]
            },
            {
             "iteration": 1395,
             "learn": [
              0.0001151770377
             ],
             "passed_time": 23.7460831,
             "remaining_time": 10.27409326,
             "test": [
              0.0002868399936
             ]
            },
            {
             "iteration": 1396,
             "learn": [
              0.0001150370186
             ],
             "passed_time": 23.76006127,
             "remaining_time": 10.25577448,
             "test": [
              0.0002867534292
             ]
            },
            {
             "iteration": 1397,
             "learn": [
              0.0001150374067
             ],
             "passed_time": 23.77131667,
             "remaining_time": 10.23628944,
             "test": [
              0.0002867534465
             ]
            },
            {
             "iteration": 1398,
             "learn": [
              0.0001150374067
             ],
             "passed_time": 23.78261548,
             "remaining_time": 10.21683481,
             "test": [
              0.0002867534465
             ]
            },
            {
             "iteration": 1399,
             "learn": [
              0.0001149938411
             ],
             "passed_time": 23.79661808,
             "remaining_time": 10.19855061,
             "test": [
              0.0002867324753
             ]
            },
            {
             "iteration": 1400,
             "learn": [
              0.0001149938411
             ],
             "passed_time": 23.80962457,
             "remaining_time": 10.17984662,
             "test": [
              0.0002867324753
             ]
            },
            {
             "iteration": 1401,
             "learn": [
              0.0001149939058
             ],
             "passed_time": 23.82757677,
             "remaining_time": 10.16326028,
             "test": [
              0.0002867323883
             ]
            },
            {
             "iteration": 1402,
             "learn": [
              0.0001149943894
             ],
             "passed_time": 23.84445218,
             "remaining_time": 10.14621379,
             "test": [
              0.0002867324688
             ]
            },
            {
             "iteration": 1403,
             "learn": [
              0.0001149944963
             ],
             "passed_time": 23.86257586,
             "remaining_time": 10.12969744,
             "test": [
              0.0002867325586
             ]
            },
            {
             "iteration": 1404,
             "learn": [
              0.0001149664734
             ],
             "passed_time": 23.884866,
             "remaining_time": 10.11494325,
             "test": [
              0.0002868381823
             ]
            },
            {
             "iteration": 1405,
             "learn": [
              0.0001149664987
             ],
             "passed_time": 23.89988287,
             "remaining_time": 10.09710556,
             "test": [
              0.0002868382195
             ]
            },
            {
             "iteration": 1406,
             "learn": [
              0.0001149065692
             ],
             "passed_time": 23.92746023,
             "remaining_time": 10.08456568,
             "test": [
              0.0002869477893
             ]
            },
            {
             "iteration": 1407,
             "learn": [
              0.0001148723736
             ],
             "passed_time": 23.95057339,
             "remaining_time": 10.07012745,
             "test": [
              0.0002868781441
             ]
            },
            {
             "iteration": 1408,
             "learn": [
              0.000114803888
             ],
             "passed_time": 23.97836695,
             "remaining_time": 10.05764008,
             "test": [
              0.0002869985988
             ]
            },
            {
             "iteration": 1409,
             "learn": [
              0.0001144242789
             ],
             "passed_time": 24.00195822,
             "remaining_time": 10.04337259,
             "test": [
              0.0002864630614
             ]
            },
            {
             "iteration": 1410,
             "learn": [
              0.0001144075304
             ],
             "passed_time": 24.03445244,
             "remaining_time": 10.03280828,
             "test": [
              0.0002864305845
             ]
            },
            {
             "iteration": 1411,
             "learn": [
              0.0001140573437
             ],
             "passed_time": 24.05674562,
             "remaining_time": 10.01796489,
             "test": [
              0.0002858558856
             ]
            },
            {
             "iteration": 1412,
             "learn": [
              0.0001140297679
             ],
             "passed_time": 24.09016779,
             "remaining_time": 10.00773425,
             "test": [
              0.0002858528774
             ]
            },
            {
             "iteration": 1413,
             "learn": [
              0.0001140301278
             ],
             "passed_time": 24.10798538,
             "remaining_time": 9.99100384,
             "test": [
              0.0002858529641
             ]
            },
            {
             "iteration": 1414,
             "learn": [
              0.0001140298129
             ],
             "passed_time": 24.12551945,
             "remaining_time": 9.974154684,
             "test": [
              0.0002858530482
             ]
            },
            {
             "iteration": 1415,
             "learn": [
              0.0001140168798
             ],
             "passed_time": 24.13988835,
             "remaining_time": 9.95599915,
             "test": [
              0.0002858211573
             ]
            },
            {
             "iteration": 1416,
             "learn": [
              0.0001139884688
             ],
             "passed_time": 24.15833375,
             "remaining_time": 9.939526164,
             "test": [
              0.0002858065451
             ]
            },
            {
             "iteration": 1417,
             "learn": [
              0.0001139771247
             ],
             "passed_time": 24.17490814,
             "remaining_time": 9.922282469,
             "test": [
              0.0002858151148
             ]
            },
            {
             "iteration": 1418,
             "learn": [
              0.0001138874467
             ],
             "passed_time": 24.18887029,
             "remaining_time": 9.903970147,
             "test": [
              0.0002857543258
             ]
            },
            {
             "iteration": 1419,
             "learn": [
              0.0001137580006
             ],
             "passed_time": 24.20378365,
             "remaining_time": 9.886052478,
             "test": [
              0.0002857890235
             ]
            },
            {
             "iteration": 1420,
             "learn": [
              0.0001137429524
             ],
             "passed_time": 24.21812868,
             "remaining_time": 9.867907464,
             "test": [
              0.0002858276268
             ]
            },
            {
             "iteration": 1421,
             "learn": [
              0.0001137435289
             ],
             "passed_time": 24.23023166,
             "remaining_time": 9.84885647,
             "test": [
              0.0002858276555
             ]
            },
            {
             "iteration": 1422,
             "learn": [
              0.0001137284109
             ],
             "passed_time": 24.24445991,
             "remaining_time": 9.830676997,
             "test": [
              0.0002858389237
             ]
            },
            {
             "iteration": 1423,
             "learn": [
              0.0001133695716
             ],
             "passed_time": 24.2596358,
             "remaining_time": 9.81288639,
             "test": [
              0.0002852615204
             ]
            },
            {
             "iteration": 1424,
             "learn": [
              0.0001133698697
             ],
             "passed_time": 24.28403044,
             "remaining_time": 9.798819299,
             "test": [
              0.0002852615634
             ]
            },
            {
             "iteration": 1425,
             "learn": [
              0.0001131194959
             ],
             "passed_time": 24.30723585,
             "remaining_time": 9.784259033,
             "test": [
              0.0002847667932
             ]
            },
            {
             "iteration": 1426,
             "learn": [
              0.0001130417516
             ],
             "passed_time": 24.32312652,
             "remaining_time": 9.76674947,
             "test": [
              0.0002848654699
             ]
            },
            {
             "iteration": 1427,
             "learn": [
              0.0001129367003
             ],
             "passed_time": 24.33778961,
             "remaining_time": 9.74875046,
             "test": [
              0.000284998153
             ]
            },
            {
             "iteration": 1428,
             "learn": [
              0.0001129363797
             ],
             "passed_time": 24.35048022,
             "remaining_time": 9.729967952,
             "test": [
              0.0002849993107
             ]
            },
            {
             "iteration": 1429,
             "learn": [
              0.0001128484157
             ],
             "passed_time": 24.36584809,
             "remaining_time": 9.712261126,
             "test": [
              0.0002849596675
             ]
            },
            {
             "iteration": 1430,
             "learn": [
              0.0001124918736
             ],
             "passed_time": 24.38139948,
             "remaining_time": 9.694630539,
             "test": [
              0.0002844221889
             ]
            },
            {
             "iteration": 1431,
             "learn": [
              0.0001124514716
             ],
             "passed_time": 24.3981619,
             "remaining_time": 9.677483213,
             "test": [
              0.0002845234439
             ]
            },
            {
             "iteration": 1432,
             "learn": [
              0.0001123844696
             ],
             "passed_time": 24.43853963,
             "remaining_time": 9.669680371,
             "test": [
              0.0002846441558
             ]
            },
            {
             "iteration": 1433,
             "learn": [
              0.0001123845962
             ],
             "passed_time": 24.45716331,
             "remaining_time": 9.653245769,
             "test": [
              0.0002846441146
             ]
            },
            {
             "iteration": 1434,
             "learn": [
              0.0001121396495
             ],
             "passed_time": 24.47761223,
             "remaining_time": 9.637526765,
             "test": [
              0.0002843401595
             ]
            },
            {
             "iteration": 1435,
             "learn": [
              0.0001121398661
             ],
             "passed_time": 24.49268287,
             "remaining_time": 9.619688815,
             "test": [
              0.0002843401277
             ]
            },
            {
             "iteration": 1436,
             "learn": [
              0.0001121398408
             ],
             "passed_time": 24.50448344,
             "remaining_time": 9.600573542,
             "test": [
              0.0002843401505
             ]
            },
            {
             "iteration": 1437,
             "learn": [
              0.0001120084454
             ],
             "passed_time": 24.51907464,
             "remaining_time": 9.582559072,
             "test": [
              0.0002843160718
             ]
            },
            {
             "iteration": 1438,
             "learn": [
              0.0001120079083
             ],
             "passed_time": 24.53071856,
             "remaining_time": 9.563400357,
             "test": [
              0.000284316111
             ]
            },
            {
             "iteration": 1439,
             "learn": [
              0.000111626612
             ],
             "passed_time": 24.54522721,
             "remaining_time": 9.545366136,
             "test": [
              0.0002837530496
             ]
            },
            {
             "iteration": 1440,
             "learn": [
              0.0001116268679
             ],
             "passed_time": 24.55586445,
             "remaining_time": 9.525834997,
             "test": [
              0.0002837530899
             ]
            },
            {
             "iteration": 1441,
             "learn": [
              0.0001115055101
             ],
             "passed_time": 24.57018074,
             "remaining_time": 9.507739844,
             "test": [
              0.0002834651755
             ]
            },
            {
             "iteration": 1442,
             "learn": [
              0.0001115049674
             ],
             "passed_time": 24.58134063,
             "remaining_time": 9.488431555,
             "test": [
              0.000283466847
             ]
            },
            {
             "iteration": 1443,
             "learn": [
              0.0001112328337
             ],
             "passed_time": 24.59556692,
             "remaining_time": 9.470315243,
             "test": [
              0.0002831685043
             ]
            },
            {
             "iteration": 1444,
             "learn": [
              0.0001112334523
             ],
             "passed_time": 24.60671517,
             "remaining_time": 9.451022089,
             "test": [
              0.0002831685605
             ]
            },
            {
             "iteration": 1445,
             "learn": [
              0.0001111493924
             ],
             "passed_time": 24.62049451,
             "remaining_time": 9.432748244,
             "test": [
              0.0002831080811
             ]
            },
            {
             "iteration": 1446,
             "learn": [
              0.0001111482001
             ],
             "passed_time": 24.64410847,
             "remaining_time": 9.418239106,
             "test": [
              0.0002831094595
             ]
            },
            {
             "iteration": 1447,
             "learn": [
              0.0001107653285
             ],
             "passed_time": 25.13685073,
             "remaining_time": 9.582556354,
             "test": [
              0.0002825037657
             ]
            },
            {
             "iteration": 1448,
             "learn": [
              0.0001105264662
             ],
             "passed_time": 25.15992591,
             "remaining_time": 9.567370032,
             "test": [
              0.0002822092006
             ]
            },
            {
             "iteration": 1449,
             "learn": [
              0.0001105261316
             ],
             "passed_time": 25.17526425,
             "remaining_time": 9.549238165,
             "test": [
              0.0002822093707
             ]
            },
            {
             "iteration": 1450,
             "learn": [
              0.0001104085786
             ],
             "passed_time": 25.20411403,
             "remaining_time": 9.536222333,
             "test": [
              0.0002821986887
             ]
            },
            {
             "iteration": 1451,
             "learn": [
              0.0001104090089
             ],
             "passed_time": 25.22078585,
             "remaining_time": 9.5185886,
             "test": [
              0.0002821986571
             ]
            },
            {
             "iteration": 1452,
             "learn": [
              0.0001104088683
             ],
             "passed_time": 25.23409867,
             "remaining_time": 9.499691654,
             "test": [
              0.0002821986673
             ]
            },
            {
             "iteration": 1453,
             "learn": [
              0.0001101374179
             ],
             "passed_time": 25.25105795,
             "remaining_time": 9.482171691,
             "test": [
              0.0002818509314
             ]
            },
            {
             "iteration": 1454,
             "learn": [
              0.0001101200108
             ],
             "passed_time": 25.26678892,
             "remaining_time": 9.464192412,
             "test": [
              0.0002819536627
             ]
            },
            {
             "iteration": 1455,
             "learn": [
              0.0001099755063
             ],
             "passed_time": 25.28415843,
             "remaining_time": 9.446828425,
             "test": [
              0.0002818983788
             ]
            },
            {
             "iteration": 1456,
             "learn": [
              0.0001098946918
             ],
             "passed_time": 25.30006806,
             "remaining_time": 9.428920356,
             "test": [
              0.0002819098057
             ]
            },
            {
             "iteration": 1457,
             "learn": [
              0.0001098877992
             ],
             "passed_time": 25.31467981,
             "remaining_time": 9.41053255,
             "test": [
              0.0002819483572
             ]
            },
            {
             "iteration": 1458,
             "learn": [
              0.0001098225492
             ],
             "passed_time": 25.33085836,
             "remaining_time": 9.392730893,
             "test": [
              0.0002819106284
             ]
            },
            {
             "iteration": 1459,
             "learn": [
              0.0001096979586
             ],
             "passed_time": 25.34718405,
             "remaining_time": 9.374985883,
             "test": [
              0.0002818737782
             ]
            },
            {
             "iteration": 1460,
             "learn": [
              0.0001096984591
             ],
             "passed_time": 25.36015869,
             "remaining_time": 9.356006527,
             "test": [
              0.0002818743253
             ]
            },
            {
             "iteration": 1461,
             "learn": [
              0.0001096743957
             ],
             "passed_time": 25.37647812,
             "remaining_time": 9.338266231,
             "test": [
              0.0002819542309
             ]
            },
            {
             "iteration": 1462,
             "learn": [
              0.0001095763551
             ],
             "passed_time": 25.40082819,
             "remaining_time": 9.323475555,
             "test": [
              0.0002819388601
             ]
            },
            {
             "iteration": 1463,
             "learn": [
              0.0001095497551
             ],
             "passed_time": 25.4238688,
             "remaining_time": 9.308192401,
             "test": [
              0.0002819416199
             ]
            },
            {
             "iteration": 1464,
             "learn": [
              0.0001092726702
             ],
             "passed_time": 25.44332976,
             "remaining_time": 9.291591413,
             "test": [
              0.0002815850637
             ]
            },
            {
             "iteration": 1465,
             "learn": [
              0.0001089048148
             ],
             "passed_time": 25.45964379,
             "remaining_time": 9.273840236,
             "test": [
              0.0002807410248
             ]
            },
            {
             "iteration": 1466,
             "learn": [
              0.0001089048148
             ],
             "passed_time": 25.47114951,
             "remaining_time": 9.254344028,
             "test": [
              0.0002807410248
             ]
            },
            {
             "iteration": 1467,
             "learn": [
              0.0001089045674
             ],
             "passed_time": 25.48313328,
             "remaining_time": 9.235031952,
             "test": [
              0.0002807410623
             ]
            },
            {
             "iteration": 1468,
             "learn": [
              0.0001089030786
             ],
             "passed_time": 25.49752583,
             "remaining_time": 9.216600556,
             "test": [
              0.0002807822862
             ]
            },
            {
             "iteration": 1469,
             "learn": [
              0.0001089027918
             ],
             "passed_time": 25.50914921,
             "remaining_time": 9.197176245,
             "test": [
              0.0002807823833
             ]
            },
            {
             "iteration": 1470,
             "learn": [
              0.0001088420778
             ],
             "passed_time": 25.52510789,
             "remaining_time": 9.179321601,
             "test": [
              0.0002807719086
             ]
            },
            {
             "iteration": 1471,
             "learn": [
              0.0001087728226
             ],
             "passed_time": 25.54194616,
             "remaining_time": 9.161785037,
             "test": [
              0.0002808854849
             ]
            },
            {
             "iteration": 1472,
             "learn": [
              0.0001085783925
             ],
             "passed_time": 25.56253624,
             "remaining_time": 9.145591715,
             "test": [
              0.0002804123681
             ]
            },
            {
             "iteration": 1473,
             "learn": [
              0.0001084378162
             ],
             "passed_time": 25.58088234,
             "remaining_time": 9.128591662,
             "test": [
              0.0002803301444
             ]
            },
            {
             "iteration": 1474,
             "learn": [
              0.0001082992932
             ],
             "passed_time": 25.59973322,
             "remaining_time": 9.111769452,
             "test": [
              0.0002802536509
             ]
            },
            {
             "iteration": 1475,
             "learn": [
              0.0001082664418
             ],
             "passed_time": 25.62246461,
             "remaining_time": 9.096322125,
             "test": [
              0.0002804351376
             ]
            },
            {
             "iteration": 1476,
             "learn": [
              0.0001081502471
             ],
             "passed_time": 25.64947469,
             "remaining_time": 9.082380001,
             "test": [
              0.0002805083148
             ]
            },
            {
             "iteration": 1477,
             "learn": [
              0.000108149762
             ],
             "passed_time": 25.66555788,
             "remaining_time": 9.064561038,
             "test": [
              0.0002805086626
             ]
            },
            {
             "iteration": 1478,
             "learn": [
              0.0001080884726
             ],
             "passed_time": 25.68065252,
             "remaining_time": 9.04639619,
             "test": [
              0.0002806218276
             ]
            },
            {
             "iteration": 1479,
             "learn": [
              0.0001080884726
             ],
             "passed_time": 25.69183414,
             "remaining_time": 9.026860643,
             "test": [
              0.0002806218276
             ]
            },
            {
             "iteration": 1480,
             "learn": [
              0.0001080020226
             ],
             "passed_time": 25.70648112,
             "remaining_time": 9.008550778,
             "test": [
              0.000280671222
             ]
            },
            {
             "iteration": 1481,
             "learn": [
              0.0001079402245
             ],
             "passed_time": 25.72062668,
             "remaining_time": 8.990070595,
             "test": [
              0.0002806827098
             ]
            },
            {
             "iteration": 1482,
             "learn": [
              0.0001079406927
             ],
             "passed_time": 25.73233256,
             "remaining_time": 8.970745739,
             "test": [
              0.0002806826917
             ]
            },
            {
             "iteration": 1483,
             "learn": [
              0.0001078358647
             ],
             "passed_time": 25.75132572,
             "remaining_time": 8.953965008,
             "test": [
              0.0002804076621
             ]
            },
            {
             "iteration": 1484,
             "learn": [
              0.0001078279724
             ],
             "passed_time": 25.77683868,
             "remaining_time": 8.93944237,
             "test": [
              0.0002803900359
             ]
            },
            {
             "iteration": 1485,
             "learn": [
              0.0001078274592
             ],
             "passed_time": 25.79468316,
             "remaining_time": 8.922252454,
             "test": [
              0.0002803895669
             ]
            },
            {
             "iteration": 1486,
             "learn": [
              0.0001078284238
             ],
             "passed_time": 25.81590986,
             "remaining_time": 8.906228485,
             "test": [
              0.0002803895514
             ]
            },
            {
             "iteration": 1487,
             "learn": [
              0.0001078271035
             ],
             "passed_time": 25.83611043,
             "remaining_time": 8.88984445,
             "test": [
              0.0002803894479
             ]
            },
            {
             "iteration": 1488,
             "learn": [
              0.0001078107372
             ],
             "passed_time": 25.86810692,
             "remaining_time": 8.877503449,
             "test": [
              0.0002804262373
             ]
            },
            {
             "iteration": 1489,
             "learn": [
              0.0001078109059
             ],
             "passed_time": 25.88385304,
             "remaining_time": 8.859573859,
             "test": [
              0.0002804263355
             ]
            },
            {
             "iteration": 1490,
             "learn": [
              0.0001078104883
             ],
             "passed_time": 25.89909936,
             "remaining_time": 8.841476577,
             "test": [
              0.0002804263978
             ]
            },
            {
             "iteration": 1491,
             "learn": [
              0.0001077550523
             ],
             "passed_time": 25.91449228,
             "remaining_time": 8.823433028,
             "test": [
              0.0002805431052
             ]
            },
            {
             "iteration": 1492,
             "learn": [
              0.0001077461613
             ],
             "passed_time": 25.92921122,
             "remaining_time": 8.805164158,
             "test": [
              0.0002806042937
             ]
            },
            {
             "iteration": 1493,
             "learn": [
              0.0001077459968
             ],
             "passed_time": 25.94219724,
             "remaining_time": 8.78631312,
             "test": [
              0.0002806042413
             ]
            },
            {
             "iteration": 1494,
             "learn": [
              0.0001073604876
             ],
             "passed_time": 25.95796127,
             "remaining_time": 8.768408321,
             "test": [
              0.0002802422214
             ]
            },
            {
             "iteration": 1495,
             "learn": [
              0.000107326022
             ],
             "passed_time": 25.97197007,
             "remaining_time": 8.749915051,
             "test": [
              0.0002802770312
             ]
            },
            {
             "iteration": 1496,
             "learn": [
              0.0001072990075
             ],
             "passed_time": 25.98650437,
             "remaining_time": 8.731604342,
             "test": [
              0.0002802748142
             ]
            },
            {
             "iteration": 1497,
             "learn": [
              0.0001072990371
             ],
             "passed_time": 25.99860728,
             "remaining_time": 8.712483882,
             "test": [
              0.0002802746729
             ]
            },
            {
             "iteration": 1498,
             "learn": [
              0.0001072989738
             ],
             "passed_time": 26.01195086,
             "remaining_time": 8.693787445,
             "test": [
              0.0002802746293
             ]
            },
            {
             "iteration": 1499,
             "learn": [
              0.0001072931566
             ],
             "passed_time": 26.03969873,
             "remaining_time": 8.679899576,
             "test": [
              0.0002802704692
             ]
            },
            {
             "iteration": 1500,
             "learn": [
              0.0001072928725
             ],
             "passed_time": 26.05818557,
             "remaining_time": 8.662914458,
             "test": [
              0.0002802709311
             ]
            },
            {
             "iteration": 1501,
             "learn": [
              0.0001072930778
             ],
             "passed_time": 26.07041808,
             "remaining_time": 8.643853665,
             "test": [
              0.000280271034
             ]
            },
            {
             "iteration": 1502,
             "learn": [
              0.0001069749797
             ],
             "passed_time": 26.08560772,
             "remaining_time": 8.625779798,
             "test": [
              0.0002797530251
             ]
            },
            {
             "iteration": 1503,
             "learn": [
              0.0001069755871
             ],
             "passed_time": 26.11928789,
             "remaining_time": 8.613807707,
             "test": [
              0.0002797530557
             ]
            },
            {
             "iteration": 1504,
             "learn": [
              0.0001069734207
             ],
             "passed_time": 26.18700949,
             "remaining_time": 8.61300312,
             "test": [
              0.0002797696342
             ]
            },
            {
             "iteration": 1505,
             "learn": [
              0.00010697302
             ],
             "passed_time": 26.20289976,
             "remaining_time": 8.595107889,
             "test": [
              0.0002797700281
             ]
            },
            {
             "iteration": 1506,
             "learn": [
              0.0001069133394
             ],
             "passed_time": 26.23570356,
             "remaining_time": 8.582748411,
             "test": [
              0.0002797606309
             ]
            },
            {
             "iteration": 1507,
             "learn": [
              0.0001068965861
             ],
             "passed_time": 26.25483372,
             "remaining_time": 8.565900656,
             "test": [
              0.0002797701446
             ]
            },
            {
             "iteration": 1508,
             "learn": [
              0.0001068968701
             ],
             "passed_time": 26.26733338,
             "remaining_time": 8.546892439,
             "test": [
              0.0002797703514
             ]
            },
            {
             "iteration": 1509,
             "learn": [
              0.0001067623544
             ],
             "passed_time": 26.28393155,
             "remaining_time": 8.52922282,
             "test": [
              0.0002792640097
             ]
            },
            {
             "iteration": 1510,
             "learn": [
              0.0001065388579
             ],
             "passed_time": 26.30071387,
             "remaining_time": 8.511614216,
             "test": [
              0.0002789359429
             ]
            },
            {
             "iteration": 1511,
             "learn": [
              0.0001065200897
             ],
             "passed_time": 26.31576203,
             "remaining_time": 8.493447004,
             "test": [
              0.0002789336036
             ]
            },
            {
             "iteration": 1512,
             "learn": [
              0.0001065200897
             ],
             "passed_time": 26.32695377,
             "remaining_time": 8.474042622,
             "test": [
              0.0002789336036
             ]
            },
            {
             "iteration": 1513,
             "learn": [
              0.000106451346
             ],
             "passed_time": 26.34195909,
             "remaining_time": 8.455873262,
             "test": [
              0.0002790294989
             ]
            },
            {
             "iteration": 1514,
             "learn": [
              0.0001063891493
             ],
             "passed_time": 26.35623234,
             "remaining_time": 8.43747372,
             "test": [
              0.0002789935328
             ]
            },
            {
             "iteration": 1515,
             "learn": [
              0.0001063891634
             ],
             "passed_time": 26.36820988,
             "remaining_time": 8.418346691,
             "test": [
              0.0002789945315
             ]
            },
            {
             "iteration": 1516,
             "learn": [
              0.0001063884688
             ],
             "passed_time": 26.38065727,
             "remaining_time": 8.399378684,
             "test": [
              0.0002789947715
             ]
            },
            {
             "iteration": 1517,
             "learn": [
              0.0001063051599
             ],
             "passed_time": 26.39597065,
             "remaining_time": 8.381329285,
             "test": [
              0.0002790147578
             ]
            },
            {
             "iteration": 1518,
             "learn": [
              0.0001062849122
             ],
             "passed_time": 26.41078195,
             "remaining_time": 8.363124501,
             "test": [
              0.000279174934
             ]
            },
            {
             "iteration": 1519,
             "learn": [
              0.0001059398058
             ],
             "passed_time": 26.42633976,
             "remaining_time": 8.345159924,
             "test": [
              0.00027866103
             ]
            },
            {
             "iteration": 1520,
             "learn": [
              0.0001058033247
             ],
             "passed_time": 26.46990135,
             "remaining_time": 8.336017585,
             "test": [
              0.0002783705437
             ]
            },
            {
             "iteration": 1521,
             "learn": [
              0.0001057091305
             ],
             "passed_time": 26.48844617,
             "remaining_time": 8.318973238,
             "test": [
              0.0002784270569
             ]
            },
            {
             "iteration": 1522,
             "learn": [
              0.0001054084282
             ],
             "passed_time": 26.50515405,
             "remaining_time": 8.301351597,
             "test": [
              0.0002776925266
             ]
            },
            {
             "iteration": 1523,
             "learn": [
              0.0001053606715
             ],
             "passed_time": 26.51994482,
             "remaining_time": 8.28313237,
             "test": [
              0.0002777707768
             ]
            },
            {
             "iteration": 1524,
             "learn": [
              0.0001053614307
             ],
             "passed_time": 26.53196974,
             "remaining_time": 8.264056147,
             "test": [
              0.0002777710615
             ]
            },
            {
             "iteration": 1525,
             "learn": [
              0.000105361449
             ],
             "passed_time": 26.5437988,
             "remaining_time": 8.244928328,
             "test": [
              0.0002777711732
             ]
            },
            {
             "iteration": 1526,
             "learn": [
              0.0001053346187
             ],
             "passed_time": 26.55776485,
             "remaining_time": 8.226472018,
             "test": [
              0.0002778495855
             ]
            },
            {
             "iteration": 1527,
             "learn": [
              0.0001051932298
             ],
             "passed_time": 26.57354574,
             "remaining_time": 8.208582191,
             "test": [
              0.000277775498
             ]
            },
            {
             "iteration": 1528,
             "learn": [
              0.0001050566165
             ],
             "passed_time": 26.59094925,
             "remaining_time": 8.191194962,
             "test": [
              0.0002774843554
             ]
            },
            {
             "iteration": 1529,
             "learn": [
              0.0001050287131
             ],
             "passed_time": 26.60860194,
             "remaining_time": 8.173884256,
             "test": [
              0.0002774866778
             ]
            },
            {
             "iteration": 1530,
             "learn": [
              0.0001050196755
             ],
             "passed_time": 26.62586451,
             "remaining_time": 8.156453595,
             "test": [
              0.0002775419679
             ]
            },
            {
             "iteration": 1531,
             "learn": [
              0.0001050017439
             ],
             "passed_time": 26.64446034,
             "remaining_time": 8.139430443,
             "test": [
              0.0002775537811
             ]
            },
            {
             "iteration": 1532,
             "learn": [
              0.0001050015204
             ],
             "passed_time": 26.6576517,
             "remaining_time": 8.120758867,
             "test": [
              0.0002775539037
             ]
            },
            {
             "iteration": 1533,
             "learn": [
              0.0001049339141
             ],
             "passed_time": 26.68886207,
             "remaining_time": 8.10756827,
             "test": [
              0.0002776354172
             ]
            },
            {
             "iteration": 1534,
             "learn": [
              0.0001049338747
             ],
             "passed_time": 26.70399154,
             "remaining_time": 8.089482779,
             "test": [
              0.0002776353181
             ]
            },
            {
             "iteration": 1535,
             "learn": [
              0.0001049338579
             ],
             "passed_time": 26.71603296,
             "remaining_time": 8.070468289,
             "test": [
              0.0002776352985
             ]
            },
            {
             "iteration": 1536,
             "learn": [
              0.0001049206805
             ],
             "passed_time": 26.72998022,
             "remaining_time": 8.052036981,
             "test": [
              0.0002776423562
             ]
            },
            {
             "iteration": 1537,
             "learn": [
              0.0001046154578
             ],
             "passed_time": 26.74422204,
             "remaining_time": 8.03369999,
             "test": [
              0.0002771412469
             ]
            },
            {
             "iteration": 1538,
             "learn": [
              0.0001044921892
             ],
             "passed_time": 26.75801689,
             "remaining_time": 8.015234429,
             "test": [
              0.0002770723374
             ]
            },
            {
             "iteration": 1539,
             "learn": [
              0.0001042324947
             ],
             "passed_time": 26.77224301,
             "remaining_time": 7.996903756,
             "test": [
              0.0002766315389
             ]
            },
            {
             "iteration": 1540,
             "learn": [
              0.0001041033276
             ],
             "passed_time": 26.78588869,
             "remaining_time": 7.97840552,
             "test": [
              0.000276565642
             ]
            },
            {
             "iteration": 1541,
             "learn": [
              0.000103969227
             ],
             "passed_time": 26.79967909,
             "remaining_time": 7.959956566,
             "test": [
              0.0002765010489
             ]
            },
            {
             "iteration": 1542,
             "learn": [
              0.000103857564
             ],
             "passed_time": 26.81467931,
             "remaining_time": 7.941871968,
             "test": [
              0.0002764349961
             ]
            },
            {
             "iteration": 1543,
             "learn": [
              0.0001038577904
             ],
             "passed_time": 26.8261122,
             "remaining_time": 7.922737801,
             "test": [
              0.0002764350217
             ]
            },
            {
             "iteration": 1544,
             "learn": [
              0.0001038579985
             ],
             "passed_time": 26.83969545,
             "remaining_time": 7.904246879,
             "test": [
              0.0002764349191
             ]
            },
            {
             "iteration": 1545,
             "learn": [
              0.0001038581715
             ],
             "passed_time": 26.86425755,
             "remaining_time": 7.888986369,
             "test": [
              0.0002764348547
             ]
            },
            {
             "iteration": 1546,
             "learn": [
              0.0001038581349
             ],
             "passed_time": 26.88033992,
             "remaining_time": 7.871230757,
             "test": [
              0.0002764350339
             ]
            },
            {
             "iteration": 1547,
             "learn": [
              0.0001038115772
             ],
             "passed_time": 26.89469798,
             "remaining_time": 7.852973828,
             "test": [
              0.000276494011
             ]
            },
            {
             "iteration": 1548,
             "learn": [
              0.0001038047085
             ],
             "passed_time": 26.90870367,
             "remaining_time": 7.834619338,
             "test": [
              0.0002765010981
             ]
            },
            {
             "iteration": 1549,
             "learn": [
              0.0001036679118
             ],
             "passed_time": 26.92349707,
             "remaining_time": 7.81649915,
             "test": [
              0.0002764577559
             ]
            },
            {
             "iteration": 1550,
             "learn": [
              0.0001035593082
             ],
             "passed_time": 26.93983792,
             "remaining_time": 7.798831223,
             "test": [
              0.0002761954675
             ]
            },
            {
             "iteration": 1551,
             "learn": [
              0.0001035594418
             ],
             "passed_time": 26.96139546,
             "remaining_time": 7.782670855,
             "test": [
              0.0002761955196
             ]
            },
            {
             "iteration": 1552,
             "learn": [
              0.0001035470985
             ],
             "passed_time": 26.98449498,
             "remaining_time": 7.766947363,
             "test": [
              0.0002762469353
             ]
            },
            {
             "iteration": 1553,
             "learn": [
              0.0001035379014
             ],
             "passed_time": 27.020113,
             "remaining_time": 7.754807205,
             "test": [
              0.0002762412642
             ]
            },
            {
             "iteration": 1554,
             "learn": [
              0.0001034935076
             ],
             "passed_time": 27.03456662,
             "remaining_time": 7.736580159,
             "test": [
              0.0002763539431
             ]
            },
            {
             "iteration": 1555,
             "learn": [
              0.0001034109742
             ],
             "passed_time": 27.0518471,
             "remaining_time": 7.719164597,
             "test": [
              0.000276349809
             ]
            },
            {
             "iteration": 1556,
             "learn": [
              0.0001034067616
             ],
             "passed_time": 27.0662015,
             "remaining_time": 7.700916676,
             "test": [
              0.000276382113
             ]
            },
            {
             "iteration": 1557,
             "learn": [
              0.0001034048733
             ],
             "passed_time": 27.0778481,
             "remaining_time": 7.68190556,
             "test": [
              0.000276386981
             ]
            },
            {
             "iteration": 1558,
             "learn": [
              0.0001031740259
             ],
             "passed_time": 27.09304877,
             "remaining_time": 7.663909241,
             "test": [
              0.0002759436262
             ]
            },
            {
             "iteration": 1559,
             "learn": [
              0.0001031630403
             ],
             "passed_time": 27.11110503,
             "remaining_time": 7.646721932,
             "test": [
              0.0002759410791
             ]
            },
            {
             "iteration": 1560,
             "learn": [
              0.0001031206192
             ],
             "passed_time": 27.18052192,
             "remaining_time": 7.643977657,
             "test": [
              0.000275904068
             ]
            },
            {
             "iteration": 1561,
             "learn": [
              0.0001031157571
             ],
             "passed_time": 27.24323853,
             "remaining_time": 7.63926919,
             "test": [
              0.0002759046019
             ]
            },
            {
             "iteration": 1562,
             "learn": [
              0.0001029914575
             ],
             "passed_time": 27.26215928,
             "remaining_time": 7.622241589,
             "test": [
              0.0002759284327
             ]
            },
            {
             "iteration": 1563,
             "learn": [
              0.0001029311259
             ],
             "passed_time": 27.27643398,
             "remaining_time": 7.603916379,
             "test": [
              0.0002758868056
             ]
            },
            {
             "iteration": 1564,
             "learn": [
              0.0001028881599
             ],
             "passed_time": 27.28998031,
             "remaining_time": 7.585393888,
             "test": [
              0.0002759234912
             ]
            },
            {
             "iteration": 1565,
             "learn": [
              0.000102849628
             ],
             "passed_time": 27.30452788,
             "remaining_time": 7.567155235,
             "test": [
              0.0002759996249
             ]
            },
            {
             "iteration": 1566,
             "learn": [
              0.0001027961207
             ],
             "passed_time": 27.31942645,
             "remaining_time": 7.549018286,
             "test": [
              0.0002760919375
             ]
            },
            {
             "iteration": 1567,
             "learn": [
              0.0001027083519
             ],
             "passed_time": 27.33380332,
             "remaining_time": 7.530741732,
             "test": [
              0.000276116922
             ]
            },
            {
             "iteration": 1568,
             "learn": [
              0.000102601858
             ],
             "passed_time": 27.34814647,
             "remaining_time": 7.512460886,
             "test": [
              0.0002760543691
             ]
            },
            {
             "iteration": 1569,
             "learn": [
              0.0001025829587
             ],
             "passed_time": 27.36175709,
             "remaining_time": 7.493984426,
             "test": [
              0.0002761099584
             ]
            },
            {
             "iteration": 1570,
             "learn": [
              0.0001025825636
             ],
             "passed_time": 27.3740085,
             "remaining_time": 7.475142997,
             "test": [
              0.0002761156629
             ]
            },
            {
             "iteration": 1571,
             "learn": [
              0.0001025785183
             ],
             "passed_time": 27.38781069,
             "remaining_time": 7.456732173,
             "test": [
              0.0002761215652
             ]
            },
            {
             "iteration": 1572,
             "learn": [
              0.0001025646404
             ],
             "passed_time": 27.40029554,
             "remaining_time": 7.437969608,
             "test": [
              0.0002761219078
             ]
            },
            {
             "iteration": 1573,
             "learn": [
              0.0001025126806
             ],
             "passed_time": 27.42246052,
             "remaining_time": 7.42183493,
             "test": [
              0.0002761142124
             ]
            },
            {
             "iteration": 1574,
             "learn": [
              0.000102384405
             ],
             "passed_time": 27.44453109,
             "remaining_time": 7.405667121,
             "test": [
              0.0002760490204
             ]
            },
            {
             "iteration": 1575,
             "learn": [
              0.0001023845695
             ],
             "passed_time": 27.45810107,
             "remaining_time": 7.387204855,
             "test": [
              0.000276048959
             ]
            },
            {
             "iteration": 1576,
             "learn": [
              0.0001020518992
             ],
             "passed_time": 27.47328494,
             "remaining_time": 7.369181694,
             "test": [
              0.0002755682286
             ]
            },
            {
             "iteration": 1577,
             "learn": [
              0.0001019968502
             ],
             "passed_time": 27.48784039,
             "remaining_time": 7.35099407,
             "test": [
              0.0002755403022
             ]
            },
            {
             "iteration": 1578,
             "learn": [
              0.0001019968502
             ],
             "passed_time": 27.49898406,
             "remaining_time": 7.331901388,
             "test": [
              0.0002755403022
             ]
            },
            {
             "iteration": 1579,
             "learn": [
              0.0001019058417
             ],
             "passed_time": 27.51259212,
             "remaining_time": 7.313473855,
             "test": [
              0.0002754968923
             ]
            },
            {
             "iteration": 1580,
             "learn": [
              0.0001019058417
             ],
             "passed_time": 27.52356131,
             "remaining_time": 7.294353061,
             "test": [
              0.0002754968923
             ]
            },
            {
             "iteration": 1581,
             "learn": [
              0.0001019058417
             ],
             "passed_time": 27.53526357,
             "remaining_time": 7.275436267,
             "test": [
              0.0002754968923
             ]
            },
            {
             "iteration": 1582,
             "learn": [
              0.0001018909099
             ],
             "passed_time": 27.54885034,
             "remaining_time": 7.257025012,
             "test": [
              0.0002755234532
             ]
            },
            {
             "iteration": 1583,
             "learn": [
              0.0001018904783
             ],
             "passed_time": 27.55985055,
             "remaining_time": 7.237940548,
             "test": [
              0.0002755231516
             ]
            },
            {
             "iteration": 1584,
             "learn": [
              0.0001016937618
             ],
             "passed_time": 27.57548006,
             "remaining_time": 7.220078376,
             "test": [
              0.0002750803994
             ]
            },
            {
             "iteration": 1585,
             "learn": [
              0.0001014826919
             ],
             "passed_time": 27.58951515,
             "remaining_time": 7.201802819,
             "test": [
              0.0002748208121
             ]
            },
            {
             "iteration": 1586,
             "learn": [
              0.0001014826863
             ],
             "passed_time": 27.60087558,
             "remaining_time": 7.182836557,
             "test": [
              0.0002748209371
             ]
            },
            {
             "iteration": 1587,
             "learn": [
              0.0001014826863
             ],
             "passed_time": 27.61226999,
             "remaining_time": 7.163888687,
             "test": [
              0.0002748209371
             ]
            },
            {
             "iteration": 1588,
             "learn": [
              0.0001013211244
             ],
             "passed_time": 27.62935507,
             "remaining_time": 7.146422237,
             "test": [
              0.0002745916232
             ]
            },
            {
             "iteration": 1589,
             "learn": [
              0.0001013206154
             ],
             "passed_time": 27.64175036,
             "remaining_time": 7.127746948,
             "test": [
              0.0002745916559
             ]
            },
            {
             "iteration": 1590,
             "learn": [
              0.0001013202076
             ],
             "passed_time": 27.65760901,
             "remaining_time": 7.109969883,
             "test": [
              0.0002745918396
             ]
            },
            {
             "iteration": 1591,
             "learn": [
              0.0001012170953
             ],
             "passed_time": 27.67426678,
             "remaining_time": 7.09240003,
             "test": [
              0.0002745728777
             ]
            },
            {
             "iteration": 1592,
             "learn": [
              0.0001011495506
             ],
             "passed_time": 27.70236593,
             "remaining_time": 7.077754509,
             "test": [
              0.0002745536213
             ]
            },
            {
             "iteration": 1593,
             "learn": [
              0.0001011059625
             ],
             "passed_time": 27.72691114,
             "remaining_time": 7.062186904,
             "test": [
              0.0002746788694
             ]
            },
            {
             "iteration": 1594,
             "learn": [
              0.0001007855086
             ],
             "passed_time": 27.74379777,
             "remaining_time": 7.044663385,
             "test": [
              0.000273979223
             ]
            },
            {
             "iteration": 1595,
             "learn": [
              0.0001004841628
             ],
             "passed_time": 27.75764652,
             "remaining_time": 7.026371676,
             "test": [
              0.0002732885438
             ]
            },
            {
             "iteration": 1596,
             "learn": [
              0.0001004842668
             ],
             "passed_time": 27.76835916,
             "remaining_time": 7.00729414,
             "test": [
              0.000273288557
             ]
            },
            {
             "iteration": 1597,
             "learn": [
              0.0001001379229
             ],
             "passed_time": 27.78211694,
             "remaining_time": 6.988993122,
             "test": [
              0.0002727943721
             ]
            },
            {
             "iteration": 1598,
             "learn": [
              0.0001001254665
             ],
             "passed_time": 27.79527852,
             "remaining_time": 6.970548272,
             "test": [
              0.0002727938194
             ]
            },
            {
             "iteration": 1599,
             "learn": [
              0.0001000222956
             ],
             "passed_time": 27.80870433,
             "remaining_time": 6.952176082,
             "test": [
              0.0002728246193
             ]
            },
            {
             "iteration": 1600,
             "learn": [
              0.0001000217781
             ],
             "passed_time": 27.81924012,
             "remaining_time": 6.933089823,
             "test": [
              0.0002728245871
             ]
            },
            {
             "iteration": 1601,
             "learn": [
              0.0001000220186
             ],
             "passed_time": 27.83013526,
             "remaining_time": 6.914103515,
             "test": [
              0.000272824539
             ]
            },
            {
             "iteration": 1602,
             "learn": [
              0.0001000229128
             ],
             "passed_time": 27.84100161,
             "remaining_time": 6.895120175,
             "test": [
              0.0002728251767
             ]
            },
            {
             "iteration": 1603,
             "learn": [
              0.0001000050941
             ],
             "passed_time": 27.85366293,
             "remaining_time": 6.8765901,
             "test": [
              0.0002728397289
             ]
            },
            {
             "iteration": 1604,
             "learn": [
              9.975571371e-05
             ],
             "passed_time": 27.86768432,
             "remaining_time": 6.858402061,
             "test": [
              0.0002725498984
             ]
            },
            {
             "iteration": 1605,
             "learn": [
              9.9535163e-05
             ],
             "passed_time": 27.88141059,
             "remaining_time": 6.840146808,
             "test": [
              0.0002722655017
             ]
            },
            {
             "iteration": 1606,
             "learn": [
              9.953468775e-05
             ],
             "passed_time": 27.89397533,
             "remaining_time": 6.821613134,
             "test": [
              0.0002722653563
             ]
            },
            {
             "iteration": 1607,
             "learn": [
              9.932215553e-05
             ],
             "passed_time": 27.92275528,
             "remaining_time": 6.807039843,
             "test": [
              0.0002720219191
             ]
            },
            {
             "iteration": 1608,
             "learn": [
              9.932234957e-05
             ],
             "passed_time": 27.93524507,
             "remaining_time": 6.788490255,
             "test": [
              0.0002720220199
             ]
            },
            {
             "iteration": 1609,
             "learn": [
              9.904277147e-05
             ],
             "passed_time": 27.95224853,
             "remaining_time": 6.771041569,
             "test": [
              0.0002715588888
             ]
            },
            {
             "iteration": 1610,
             "learn": [
              9.904225966e-05
             ],
             "passed_time": 27.96359628,
             "remaining_time": 6.752227781,
             "test": [
              0.0002715591575
             ]
            },
            {
             "iteration": 1611,
             "learn": [
              9.904223013e-05
             ],
             "passed_time": 27.97437603,
             "remaining_time": 6.733286539,
             "test": [
              0.0002715592984
             ]
            },
            {
             "iteration": 1612,
             "learn": [
              9.904250431e-05
             ],
             "passed_time": 27.98538754,
             "remaining_time": 6.714411021,
             "test": [
              0.0002715591379
             ]
            },
            {
             "iteration": 1613,
             "learn": [
              9.869845268e-05
             ],
             "passed_time": 28.00929082,
             "remaining_time": 6.698628411,
             "test": [
              0.0002708056391
             ]
            },
            {
             "iteration": 1614,
             "learn": [
              9.869841471e-05
             ],
             "passed_time": 28.02500363,
             "remaining_time": 6.680883218,
             "test": [
              0.0002708083537
             ]
            },
            {
             "iteration": 1615,
             "learn": [
              9.8698852e-05
             ],
             "passed_time": 28.03764312,
             "remaining_time": 6.662410247,
             "test": [
              0.0002708088642
             ]
            },
            {
             "iteration": 1616,
             "learn": [
              9.861722085e-05
             ],
             "passed_time": 28.05477654,
             "remaining_time": 6.645008915,
             "test": [
              0.0002708293473
             ]
            },
            {
             "iteration": 1617,
             "learn": [
              9.861743597e-05
             ],
             "passed_time": 28.06596886,
             "remaining_time": 6.626205257,
             "test": [
              0.0002708293002
             ]
            },
            {
             "iteration": 1618,
             "learn": [
              9.858750187e-05
             ],
             "passed_time": 28.07944651,
             "remaining_time": 6.607948808,
             "test": [
              0.0002709054119
             ]
            },
            {
             "iteration": 1619,
             "learn": [
              9.85882274e-05
             ],
             "passed_time": 28.09111472,
             "remaining_time": 6.589273823,
             "test": [
              0.0002709054897
             ]
            },
            {
             "iteration": 1620,
             "learn": [
              9.858755811e-05
             ],
             "passed_time": 28.10274894,
             "remaining_time": 6.570599537,
             "test": [
              0.0002709054113
             ]
            },
            {
             "iteration": 1621,
             "learn": [
              9.858784073e-05
             ],
             "passed_time": 28.11424969,
             "remaining_time": 6.551902825,
             "test": [
              0.0002709058963
             ]
            },
            {
             "iteration": 1622,
             "learn": [
              9.858784073e-05
             ],
             "passed_time": 28.12596205,
             "remaining_time": 6.533264137,
             "test": [
              0.0002709058963
             ]
            },
            {
             "iteration": 1623,
             "learn": [
              9.829979311e-05
             ],
             "passed_time": 28.13964787,
             "remaining_time": 6.515090885,
             "test": [
              0.0002704651208
             ]
            },
            {
             "iteration": 1624,
             "learn": [
              9.829965532e-05
             ],
             "passed_time": 28.15239813,
             "remaining_time": 6.496707261,
             "test": [
              0.0002704652337
             ]
            },
            {
             "iteration": 1625,
             "learn": [
              9.829109549e-05
             ],
             "passed_time": 28.1776125,
             "remaining_time": 6.481197462,
             "test": [
              0.0002704791475
             ]
            },
            {
             "iteration": 1626,
             "learn": [
              9.829109549e-05
             ],
             "passed_time": 28.21319234,
             "remaining_time": 6.468052086,
             "test": [
              0.0002704791475
             ]
            },
            {
             "iteration": 1627,
             "learn": [
              9.829106737e-05
             ],
             "passed_time": 28.26666601,
             "remaining_time": 6.458967909,
             "test": [
              0.0002704792252
             ]
            },
            {
             "iteration": 1628,
             "learn": [
              9.809799373e-05
             ],
             "passed_time": 28.2883826,
             "remaining_time": 6.44259665,
             "test": [
              0.000270207163
             ]
            },
            {
             "iteration": 1629,
             "learn": [
              9.809799373e-05
             ],
             "passed_time": 28.299361,
             "remaining_time": 6.423781332,
             "test": [
              0.000270207163
             ]
            },
            {
             "iteration": 1630,
             "learn": [
              9.807911203e-05
             ],
             "passed_time": 28.31686628,
             "remaining_time": 6.406452273,
             "test": [
              0.0002702616403
             ]
            },
            {
             "iteration": 1631,
             "learn": [
              9.807955635e-05
             ],
             "passed_time": 28.33595677,
             "remaining_time": 6.389480447,
             "test": [
              0.000270261815
             ]
            },
            {
             "iteration": 1632,
             "learn": [
              9.807014694e-05
             ],
             "passed_time": 28.35800488,
             "remaining_time": 6.373170723,
             "test": [
              0.0002702778434
             ]
            },
            {
             "iteration": 1633,
             "learn": [
              9.807039019e-05
             ],
             "passed_time": 28.36878089,
             "remaining_time": 6.354329135,
             "test": [
              0.0002702778997
             ]
            },
            {
             "iteration": 1634,
             "learn": [
              9.777796254e-05
             ],
             "passed_time": 28.38637874,
             "remaining_time": 6.33702033,
             "test": [
              0.0002696338797
             ]
            },
            {
             "iteration": 1635,
             "learn": [
              9.765479946e-05
             ],
             "passed_time": 28.40053978,
             "remaining_time": 6.318946504,
             "test": [
              0.0002695799904
             ]
            },
            {
             "iteration": 1636,
             "learn": [
              9.75709131e-05
             ],
             "passed_time": 28.41403619,
             "remaining_time": 6.300730077,
             "test": [
              0.0002693408063
             ]
            },
            {
             "iteration": 1637,
             "learn": [
              9.745208345e-05
             ],
             "passed_time": 28.42789825,
             "remaining_time": 6.282600223,
             "test": [
              0.0002693149067
             ]
            },
            {
             "iteration": 1638,
             "learn": [
              9.745213266e-05
             ],
             "passed_time": 28.44307305,
             "remaining_time": 6.264764717,
             "test": [
              0.0002693152547
             ]
            },
            {
             "iteration": 1639,
             "learn": [
              9.745213266e-05
             ],
             "passed_time": 28.45406336,
             "remaining_time": 6.246013908,
             "test": [
              0.0002693152547
             ]
            },
            {
             "iteration": 1640,
             "learn": [
              9.743174889e-05
             ],
             "passed_time": 28.46792419,
             "remaining_time": 6.227900538,
             "test": [
              0.0002693898119
             ]
            },
            {
             "iteration": 1641,
             "learn": [
              9.714807306e-05
             ],
             "passed_time": 28.48196095,
             "remaining_time": 6.209830707,
             "test": [
              0.0002689425258
             ]
            },
            {
             "iteration": 1642,
             "learn": [
              9.714781996e-05
             ],
             "passed_time": 28.4931854,
             "remaining_time": 6.19115471,
             "test": [
              0.0002689418011
             ]
            },
            {
             "iteration": 1643,
             "learn": [
              9.714788324e-05
             ],
             "passed_time": 28.50477792,
             "remaining_time": 6.172567483,
             "test": [
              0.000268941801
             ]
            },
            {
             "iteration": 1644,
             "learn": [
              9.712199471e-05
             ],
             "passed_time": 28.52011398,
             "remaining_time": 6.154796634,
             "test": [
              0.0002689391037
             ]
            },
            {
             "iteration": 1645,
             "learn": [
              9.712249527e-05
             ],
             "passed_time": 28.53325373,
             "remaining_time": 6.136556391,
             "test": [
              0.0002689391062
             ]
            },
            {
             "iteration": 1646,
             "learn": [
              9.702143832e-05
             ],
             "passed_time": 28.56379381,
             "remaining_time": 6.122051739,
             "test": [
              0.0002688874421
             ]
            },
            {
             "iteration": 1647,
             "learn": [
              9.671512837e-05
             ],
             "passed_time": 28.58131756,
             "remaining_time": 6.10474744,
             "test": [
              0.000268437838
             ]
            },
            {
             "iteration": 1648,
             "learn": [
              9.671527179e-05
             ],
             "passed_time": 28.5924399,
             "remaining_time": 6.086080293,
             "test": [
              0.0002684376187
             ]
            },
            {
             "iteration": 1649,
             "learn": [
              9.671557409e-05
             ],
             "passed_time": 28.6044138,
             "remaining_time": 6.067602927,
             "test": [
              0.0002684376384
             ]
            },
            {
             "iteration": 1650,
             "learn": [
              9.660937202e-05
             ],
             "passed_time": 28.61847728,
             "remaining_time": 6.049575148,
             "test": [
              0.0002683893682
             ]
            },
            {
             "iteration": 1651,
             "learn": [
              9.660630679e-05
             ],
             "passed_time": 28.63275093,
             "remaining_time": 6.031596442,
             "test": [
              0.0002684071936
             ]
            },
            {
             "iteration": 1652,
             "learn": [
              9.660427362e-05
             ],
             "passed_time": 28.64434728,
             "remaining_time": 6.013060198,
             "test": [
              0.000268410713
             ]
            },
            {
             "iteration": 1653,
             "learn": [
              9.660408802e-05
             ],
             "passed_time": 28.65644601,
             "remaining_time": 5.994637437,
             "test": [
              0.000268410633
             ]
            },
            {
             "iteration": 1654,
             "learn": [
              9.657587385e-05
             ],
             "passed_time": 28.67304402,
             "remaining_time": 5.977160234,
             "test": [
              0.0002683962297
             ]
            },
            {
             "iteration": 1655,
             "learn": [
              9.657596805e-05
             ],
             "passed_time": 28.68609788,
             "remaining_time": 5.958947868,
             "test": [
              0.0002683962692
             ]
            },
            {
             "iteration": 1656,
             "learn": [
              9.655489109e-05
             ],
             "passed_time": 28.70737436,
             "remaining_time": 5.942443817,
             "test": [
              0.000268467798
             ]
            },
            {
             "iteration": 1657,
             "learn": [
              9.652796411e-05
             ],
             "passed_time": 28.74014027,
             "remaining_time": 5.928303964,
             "test": [
              0.0002685616266
             ]
            },
            {
             "iteration": 1658,
             "learn": [
              9.640837378e-05
             ],
             "passed_time": 28.7620329,
             "remaining_time": 5.911906702,
             "test": [
              0.000268300581
             ]
            },
            {
             "iteration": 1659,
             "learn": [
              9.609443028e-05
             ],
             "passed_time": 28.79156612,
             "remaining_time": 5.897067759,
             "test": [
              0.0002678535787
             ]
            },
            {
             "iteration": 1660,
             "learn": [
              9.609502224e-05
             ],
             "passed_time": 28.80574156,
             "remaining_time": 5.879076694,
             "test": [
              0.0002678537459
             ]
            },
            {
             "iteration": 1661,
             "learn": [
              9.609490132e-05
             ],
             "passed_time": 28.82121229,
             "remaining_time": 5.861353643,
             "test": [
              0.0002678537962
             ]
            },
            {
             "iteration": 1662,
             "learn": [
              9.60945273e-05
             ],
             "passed_time": 28.83292934,
             "remaining_time": 5.842872632,
             "test": [
              0.0002678537823
             ]
            },
            {
             "iteration": 1663,
             "learn": [
              9.608835607e-05
             ],
             "passed_time": 28.84730319,
             "remaining_time": 5.824936222,
             "test": [
              0.0002678556382
             ]
            },
            {
             "iteration": 1664,
             "learn": [
              9.608883132e-05
             ],
             "passed_time": 28.85843314,
             "remaining_time": 5.806351413,
             "test": [
              0.0002678556259
             ]
            },
            {
             "iteration": 1665,
             "learn": [
              9.587200279e-05
             ],
             "passed_time": 28.87768155,
             "remaining_time": 5.789403144,
             "test": [
              0.0002675832287
             ]
            },
            {
             "iteration": 1666,
             "learn": [
              9.586249636e-05
             ],
             "passed_time": 28.90564941,
             "remaining_time": 5.774193913,
             "test": [
              0.0002675748164
             ]
            },
            {
             "iteration": 1667,
             "learn": [
              9.580704697e-05
             ],
             "passed_time": 28.92298946,
             "remaining_time": 5.756854016,
             "test": [
              0.0002676885077
             ]
            },
            {
             "iteration": 1668,
             "learn": [
              9.580771064e-05
             ],
             "passed_time": 28.93448518,
             "remaining_time": 5.738355059,
             "test": [
              0.000267688486
             ]
            },
            {
             "iteration": 1669,
             "learn": [
              9.580465947e-05
             ],
             "passed_time": 28.94749724,
             "remaining_time": 5.720164125,
             "test": [
              0.0002676946461
             ]
            },
            {
             "iteration": 1670,
             "learn": [
              9.580399721e-05
             ],
             "passed_time": 28.95854419,
             "remaining_time": 5.701592483,
             "test": [
              0.0002676947261
             ]
            },
            {
             "iteration": 1671,
             "learn": [
              9.580485318e-05
             ],
             "passed_time": 28.97040656,
             "remaining_time": 5.683189804,
             "test": [
              0.0002676950131
             ]
            },
            {
             "iteration": 1672,
             "learn": [
              9.58047871e-05
             ],
             "passed_time": 28.98268995,
             "remaining_time": 5.664877235,
             "test": [
              0.0002676951368
             ]
            },
            {
             "iteration": 1673,
             "learn": [
              9.580540436e-05
             ],
             "passed_time": 28.99448327,
             "remaining_time": 5.646476432,
             "test": [
              0.0002676953007
             ]
            },
            {
             "iteration": 1674,
             "learn": [
              9.571123044e-05
             ],
             "passed_time": 29.00906447,
             "remaining_time": 5.62862445,
             "test": [
              0.0002677276267
             ]
            },
            {
             "iteration": 1675,
             "learn": [
              9.566986813e-05
             ],
             "passed_time": 29.0238482,
             "remaining_time": 5.610815523,
             "test": [
              0.0002678400884
             ]
            },
            {
             "iteration": 1676,
             "learn": [
              9.548985028e-05
             ],
             "passed_time": 29.0385563,
             "remaining_time": 5.592995637,
             "test": [
              0.0002676086129
             ]
            },
            {
             "iteration": 1677,
             "learn": [
              9.521845332e-05
             ],
             "passed_time": 29.05334684,
             "remaining_time": 5.575195281,
             "test": [
              0.0002672329364
             ]
            },
            {
             "iteration": 1678,
             "learn": [
              9.521845332e-05
             ],
             "passed_time": 29.06389299,
             "remaining_time": 5.556587047,
             "test": [
              0.0002672329364
             ]
            },
            {
             "iteration": 1679,
             "learn": [
              9.520813981e-05
             ],
             "passed_time": 29.07679659,
             "remaining_time": 5.538437445,
             "test": [
              0.0002672386862
             ]
            },
            {
             "iteration": 1680,
             "learn": [
              9.51633706e-05
             ],
             "passed_time": 29.09038544,
             "remaining_time": 5.520424126,
             "test": [
              0.0002673547308
             ]
            },
            {
             "iteration": 1681,
             "learn": [
              9.491894593e-05
             ],
             "passed_time": 29.1080016,
             "remaining_time": 5.503177472,
             "test": [
              0.000266989731
             ]
            },
            {
             "iteration": 1682,
             "learn": [
              9.482015276e-05
             ],
             "passed_time": 29.13512685,
             "remaining_time": 5.487721457,
             "test": [
              0.0002669432389
             ]
            },
            {
             "iteration": 1683,
             "learn": [
              9.481997137e-05
             ],
             "passed_time": 29.14742469,
             "remaining_time": 5.469469242,
             "test": [
              0.0002669432599
             ]
            },
            {
             "iteration": 1684,
             "learn": [
              9.481987717e-05
             ],
             "passed_time": 29.15989178,
             "remaining_time": 5.451255733,
             "test": [
              0.0002669432338
             ]
            },
            {
             "iteration": 1685,
             "learn": [
              9.47957142e-05
             ],
             "passed_time": 29.17442119,
             "remaining_time": 5.433433128,
             "test": [
              0.0002669106933
             ]
            },
            {
             "iteration": 1686,
             "learn": [
              9.476868567e-05
             ],
             "passed_time": 29.18811695,
             "remaining_time": 5.415459753,
             "test": [
              0.0002669773236
             ]
            },
            {
             "iteration": 1687,
             "learn": [
              9.476856475e-05
             ],
             "passed_time": 29.19941295,
             "remaining_time": 5.397047891,
             "test": [
              0.0002669773487
             ]
            },
            {
             "iteration": 1688,
             "learn": [
              9.446008804e-05
             ],
             "passed_time": 29.21366371,
             "remaining_time": 5.379188522,
             "test": [
              0.0002662186069
             ]
            },
            {
             "iteration": 1689,
             "learn": [
              9.445998821e-05
             ],
             "passed_time": 29.2246927,
             "remaining_time": 5.360742448,
             "test": [
              0.0002662186909
             ]
            },
            {
             "iteration": 1690,
             "learn": [
              9.446019912e-05
             ],
             "passed_time": 29.26869819,
             "remaining_time": 5.348331011,
             "test": [
              0.0002662187489
             ]
            },
            {
             "iteration": 1691,
             "learn": [
              9.446019912e-05
             ],
             "passed_time": 29.31582496,
             "remaining_time": 5.336450407,
             "test": [
              0.0002662187489
             ]
            },
            {
             "iteration": 1692,
             "learn": [
              9.445934845e-05
             ],
             "passed_time": 29.33404076,
             "remaining_time": 5.319285595,
             "test": [
              0.0002662190218
             ]
            },
            {
             "iteration": 1693,
             "learn": [
              9.436722988e-05
             ],
             "passed_time": 29.34830919,
             "remaining_time": 5.3014065,
             "test": [
              0.0002662105434
             ]
            },
            {
             "iteration": 1694,
             "learn": [
              9.430639621e-05
             ],
             "passed_time": 29.3615455,
             "remaining_time": 5.283345945,
             "test": [
              0.0002663297014
             ]
            },
            {
             "iteration": 1695,
             "learn": [
              9.42236186e-05
             ],
             "passed_time": 29.37769351,
             "remaining_time": 5.265812988,
             "test": [
              0.0002663342624
             ]
            },
            {
             "iteration": 1696,
             "learn": [
              9.422328395e-05
             ],
             "passed_time": 29.38942593,
             "remaining_time": 5.247493256,
             "test": [
              0.0002663348767
             ]
            },
            {
             "iteration": 1697,
             "learn": [
              9.422307163e-05
             ],
             "passed_time": 29.40107582,
             "remaining_time": 5.229166606,
             "test": [
              0.0002663349516
             ]
            },
            {
             "iteration": 1698,
             "learn": [
              9.420713947e-05
             ],
             "passed_time": 29.4144681,
             "remaining_time": 5.211156503,
             "test": [
              0.000266340376
             ]
            },
            {
             "iteration": 1699,
             "learn": [
              9.420655877e-05
             ],
             "passed_time": 29.42565548,
             "remaining_time": 5.192762732,
             "test": [
              0.0002663405428
             ]
            },
            {
             "iteration": 1700,
             "learn": [
              9.419061958e-05
             ],
             "passed_time": 29.43897107,
             "remaining_time": 5.174751529,
             "test": [
              0.0002663490258
             ]
            },
            {
             "iteration": 1701,
             "learn": [
              9.39099939e-05
             ],
             "passed_time": 29.45278223,
             "remaining_time": 5.156832611,
             "test": [
              0.0002659299793
             ]
            },
            {
             "iteration": 1702,
             "learn": [
              9.387185429e-05
             ],
             "passed_time": 29.46611137,
             "remaining_time": 5.138834454,
             "test": [
              0.0002659372429
             ]
            },
            {
             "iteration": 1703,
             "learn": [
              9.387180649e-05
             ],
             "passed_time": 29.47714013,
             "remaining_time": 5.120442182,
             "test": [
              0.0002659373461
             ]
            },
            {
             "iteration": 1704,
             "learn": [
              9.38359458e-05
             ],
             "passed_time": 29.49072603,
             "remaining_time": 5.102500984,
             "test": [
              0.0002660524827
             ]
            },
            {
             "iteration": 1705,
             "learn": [
              9.383561256e-05
             ],
             "passed_time": 29.50111611,
             "remaining_time": 5.084014147,
             "test": [
              0.0002660527324
             ]
            },
            {
             "iteration": 1706,
             "learn": [
              9.383561256e-05
             ],
             "passed_time": 29.51163475,
             "remaining_time": 5.065558865,
             "test": [
              0.0002660527324
             ]
            },
            {
             "iteration": 1707,
             "learn": [
              9.383560272e-05
             ],
             "passed_time": 29.52923321,
             "remaining_time": 5.048323242,
             "test": [
              0.0002660528097
             ]
            },
            {
             "iteration": 1708,
             "learn": [
              9.364535246e-05
             ],
             "passed_time": 29.55117029,
             "remaining_time": 5.031825954,
             "test": [
              0.0002658304567
             ]
            },
            {
             "iteration": 1709,
             "learn": [
              9.364523717e-05
             ],
             "passed_time": 29.56390262,
             "remaining_time": 5.013761264,
             "test": [
              0.0002658304949
             ]
            },
            {
             "iteration": 1710,
             "learn": [
              9.364539746e-05
             ],
             "passed_time": 29.57979117,
             "remaining_time": 4.996235914,
             "test": [
              0.0002658304788
             ]
            },
            {
             "iteration": 1711,
             "learn": [
              9.345433373e-05
             ],
             "passed_time": 29.61174333,
             "remaining_time": 4.981414766,
             "test": [
              0.0002654046741
             ]
            },
            {
             "iteration": 1712,
             "learn": [
              9.334500348e-05
             ],
             "passed_time": 29.63366734,
             "remaining_time": 4.964893477,
             "test": [
              0.0002653618467
             ]
            },
            {
             "iteration": 1713,
             "learn": [
              9.334544498e-05
             ],
             "passed_time": 29.65487651,
             "remaining_time": 4.948246605,
             "test": [
              0.0002653619095
             ]
            },
            {
             "iteration": 1714,
             "learn": [
              9.334555466e-05
             ],
             "passed_time": 29.66881844,
             "remaining_time": 4.930386738,
             "test": [
              0.0002653619052
             ]
            },
            {
             "iteration": 1715,
             "learn": [
              9.334511456e-05
             ],
             "passed_time": 29.67972453,
             "remaining_time": 4.912029001,
             "test": [
              0.0002653619377
             ]
            },
            {
             "iteration": 1716,
             "learn": [
              9.309004627e-05
             ],
             "passed_time": 29.6962475,
             "remaining_time": 4.894605733,
             "test": [
              0.0002649396249
             ]
            },
            {
             "iteration": 1717,
             "learn": [
              9.307013245e-05
             ],
             "passed_time": 29.7103117,
             "remaining_time": 4.876779918,
             "test": [
              0.0002649989891
             ]
            },
            {
             "iteration": 1718,
             "learn": [
              9.301529156e-05
             ],
             "passed_time": 29.72769614,
             "remaining_time": 4.85950123,
             "test": [
              0.0002651167502
             ]
            },
            {
             "iteration": 1719,
             "learn": [
              9.30153239e-05
             ],
             "passed_time": 29.74287174,
             "remaining_time": 4.841862841,
             "test": [
              0.0002651167175
             ]
            },
            {
             "iteration": 1720,
             "learn": [
              9.299986559e-05
             ],
             "passed_time": 29.76183086,
             "remaining_time": 4.82484068,
             "test": [
              0.0002651126463
             ]
            },
            {
             "iteration": 1721,
             "learn": [
              9.29800344e-05
             ],
             "passed_time": 29.79380317,
             "remaining_time": 4.80991712,
             "test": [
              0.0002651096594
             ]
            },
            {
             "iteration": 1722,
             "learn": [
              9.297983333e-05
             ],
             "passed_time": 29.81357729,
             "remaining_time": 4.793012715,
             "test": [
              0.000265109631
             ]
            },
            {
             "iteration": 1723,
             "learn": [
              9.269270637e-05
             ],
             "passed_time": 29.84255469,
             "remaining_time": 4.777578362,
             "test": [
              0.0002644896539
             ]
            },
            {
             "iteration": 1724,
             "learn": [
              9.269270637e-05
             ],
             "passed_time": 29.87347772,
             "remaining_time": 4.762438478,
             "test": [
              0.0002644896539
             ]
            },
            {
             "iteration": 1725,
             "learn": [
              9.264636907e-05
             ],
             "passed_time": 29.91217692,
             "remaining_time": 4.74851476,
             "test": [
              0.0002644824304
             ]
            },
            {
             "iteration": 1726,
             "learn": [
              9.261172028e-05
             ],
             "passed_time": 29.9299053,
             "remaining_time": 4.731247334,
             "test": [
              0.0002645785276
             ]
            },
            {
             "iteration": 1727,
             "learn": [
              9.261234739e-05
             ],
             "passed_time": 29.94349571,
             "remaining_time": 4.713328028,
             "test": [
              0.0002645785018
             ]
            },
            {
             "iteration": 1728,
             "learn": [
              9.261174559e-05
             ],
             "passed_time": 29.95568284,
             "remaining_time": 4.695193782,
             "test": [
              0.0002645784812
             ]
            },
            {
             "iteration": 1729,
             "learn": [
              9.258559413e-05
             ],
             "passed_time": 29.97059768,
             "remaining_time": 4.677492123,
             "test": [
              0.0002646991444
             ]
            },
            {
             "iteration": 1730,
             "learn": [
              9.249118507e-05
             ],
             "passed_time": 29.98540395,
             "remaining_time": 4.659776812,
             "test": [
              0.0002646673321
             ]
            },
            {
             "iteration": 1731,
             "learn": [
              9.249118507e-05
             ],
             "passed_time": 29.99604758,
             "remaining_time": 4.641420757,
             "test": [
              0.0002646673321
             ]
            },
            {
             "iteration": 1732,
             "learn": [
              9.221433373e-05
             ],
             "passed_time": 30.01029328,
             "remaining_time": 4.623628567,
             "test": [
              0.000264296671
             ]
            },
            {
             "iteration": 1733,
             "learn": [
              9.205415991e-05
             ],
             "passed_time": 30.02467459,
             "remaining_time": 4.60586127,
             "test": [
              0.0002640088758
             ]
            },
            {
             "iteration": 1734,
             "learn": [
              9.179774462e-05
             ],
             "passed_time": 30.03913283,
             "remaining_time": 4.588109625,
             "test": [
              0.0002635979589
             ]
            },
            {
             "iteration": 1735,
             "learn": [
              9.179725671e-05
             ],
             "passed_time": 30.0506322,
             "remaining_time": 4.569911809,
             "test": [
              0.0002635990951
             ]
            },
            {
             "iteration": 1736,
             "learn": [
              9.179767572e-05
             ],
             "passed_time": 30.06437234,
             "remaining_time": 4.552060981,
             "test": [
              0.0002635991038
             ]
            },
            {
             "iteration": 1737,
             "learn": [
              9.177958307e-05
             ],
             "passed_time": 30.08986844,
             "remaining_time": 4.535987072,
             "test": [
              0.000263595149
             ]
            },
            {
             "iteration": 1738,
             "learn": [
              9.169549034e-05
             ],
             "passed_time": 30.10527956,
             "remaining_time": 4.51838871,
             "test": [
              0.0002636296157
             ]
            },
            {
             "iteration": 1739,
             "learn": [
              9.16322682e-05
             ],
             "passed_time": 30.12137076,
             "remaining_time": 4.500894481,
             "test": [
              0.0002636298825
             ]
            },
            {
             "iteration": 1740,
             "learn": [
              9.163254379e-05
             ],
             "passed_time": 30.13268148,
             "remaining_time": 4.482690697,
             "test": [
              0.0002636300579
             ]
            },
            {
             "iteration": 1741,
             "learn": [
              9.163275611e-05
             ],
             "passed_time": 30.14408996,
             "remaining_time": 4.464509305,
             "test": [
              0.0002636306936
             ]
            },
            {
             "iteration": 1742,
             "learn": [
              9.160047169e-05
             ],
             "passed_time": 30.15800711,
             "remaining_time": 4.446705581,
             "test": [
              0.0002636861288
             ]
            },
            {
             "iteration": 1743,
             "learn": [
              9.160058137e-05
             ],
             "passed_time": 30.16922665,
             "remaining_time": 4.428510334,
             "test": [
              0.0002636862272
             ]
            },
            {
             "iteration": 1744,
             "learn": [
              9.155544766e-05
             ],
             "passed_time": 30.18274156,
             "remaining_time": 4.410658509,
             "test": [
              0.0002635823956
             ]
            },
            {
             "iteration": 1745,
             "learn": [
              9.151085279e-05
             ],
             "passed_time": 30.19624817,
             "remaining_time": 4.392810445,
             "test": [
              0.0002637029039
             ]
            },
            {
             "iteration": 1746,
             "learn": [
              9.151094137e-05
             ],
             "passed_time": 30.20733113,
             "remaining_time": 4.374616357,
             "test": [
              0.0002637030604
             ]
            },
            {
             "iteration": 1747,
             "learn": [
              9.140419969e-05
             ],
             "passed_time": 30.2217852,
             "remaining_time": 4.356916401,
             "test": [
              0.0002636577035
             ]
            },
            {
             "iteration": 1748,
             "learn": [
              9.140419969e-05
             ],
             "passed_time": 30.23916148,
             "remaining_time": 4.339639526,
             "test": [
              0.0002636577035
             ]
            },
            {
             "iteration": 1749,
             "learn": [
              9.140420954e-05
             ],
             "passed_time": 30.25456661,
             "remaining_time": 4.322080945,
             "test": [
              0.0002636576854
             ]
            },
            {
             "iteration": 1750,
             "learn": [
              9.135148651e-05
             ],
             "passed_time": 30.2693445,
             "remaining_time": 4.304435626,
             "test": [
              0.0002638105398
             ]
            },
            {
             "iteration": 1751,
             "learn": [
              9.135150198e-05
             ],
             "passed_time": 30.31333212,
             "remaining_time": 4.290928291,
             "test": [
              0.0002638105815
             ]
            },
            {
             "iteration": 1752,
             "learn": [
              9.135153994e-05
             ],
             "passed_time": 30.37807359,
             "remaining_time": 4.280310426,
             "test": [
              0.0002638106294
             ]
            },
            {
             "iteration": 1753,
             "learn": [
              9.135152729e-05
             ],
             "passed_time": 30.3916105,
             "remaining_time": 4.262449363,
             "test": [
              0.0002638106027
             ]
            },
            {
             "iteration": 1754,
             "learn": [
              9.118206057e-05
             ],
             "passed_time": 30.40617774,
             "remaining_time": 4.244737064,
             "test": [
              0.000263607241
             ]
            },
            {
             "iteration": 1755,
             "learn": [
              9.117248947e-05
             ],
             "passed_time": 30.42143169,
             "remaining_time": 4.227123766,
             "test": [
              0.0002635900051
             ]
            },
            {
             "iteration": 1756,
             "learn": [
              9.112002062e-05
             ],
             "passed_time": 30.44049841,
             "remaining_time": 4.210040475,
             "test": [
              0.0002636981842
             ]
            },
            {
             "iteration": 1757,
             "learn": [
              9.102866836e-05
             ],
             "passed_time": 30.4584861,
             "remaining_time": 4.192806391,
             "test": [
              0.0002636582905
             ]
            },
            {
             "iteration": 1758,
             "learn": [
              9.102861493e-05
             ],
             "passed_time": 30.48154493,
             "remaining_time": 4.176266247,
             "test": [
              0.0002636582081
             ]
            },
            {
             "iteration": 1759,
             "learn": [
              9.102832668e-05
             ],
             "passed_time": 30.49478552,
             "remaining_time": 4.158379844,
             "test": [
              0.0002636581792
             ]
            },
            {
             "iteration": 1760,
             "learn": [
              9.100991204e-05
             ],
             "passed_time": 30.51304614,
             "remaining_time": 4.141180026,
             "test": [
              0.0002636303079
             ]
            },
            {
             "iteration": 1761,
             "learn": [
              9.070528491e-05
             ],
             "passed_time": 30.52732728,
             "remaining_time": 4.123441483,
             "test": [
              0.000263231123
             ]
            },
            {
             "iteration": 1762,
             "learn": [
              9.07051204e-05
             ],
             "passed_time": 30.5389078,
             "remaining_time": 4.105343817,
             "test": [
              0.0002632312879
             ]
            },
            {
             "iteration": 1763,
             "learn": [
              9.066351764e-05
             ],
             "passed_time": 30.55287371,
             "remaining_time": 4.087572673,
             "test": [
              0.0002632183668
             ]
            },
            {
             "iteration": 1764,
             "learn": [
              9.066333486e-05
             ],
             "passed_time": 30.5643157,
             "remaining_time": 4.069469796,
             "test": [
              0.0002632184212
             ]
            },
            {
             "iteration": 1765,
             "learn": [
              9.063001839e-05
             ],
             "passed_time": 30.57881315,
             "remaining_time": 4.051779319,
             "test": [
              0.0002633184734
             ]
            },
            {
             "iteration": 1766,
             "learn": [
              9.063001839e-05
             ],
             "passed_time": 30.58996651,
             "remaining_time": 4.033651498,
             "test": [
              0.0002633184734
             ]
            },
            {
             "iteration": 1767,
             "learn": [
              9.054050104e-05
             ],
             "passed_time": 30.60390504,
             "remaining_time": 4.015897042,
             "test": [
              0.0002632767341
             ]
            },
            {
             "iteration": 1768,
             "learn": [
              9.037030727e-05
             ],
             "passed_time": 30.62218725,
             "remaining_time": 3.998714106,
             "test": [
              0.0002630738026
             ]
            },
            {
             "iteration": 1769,
             "learn": [
              9.03703607e-05
             ],
             "passed_time": 30.64278617,
             "remaining_time": 3.981830972,
             "test": [
              0.0002630738241
             ]
            },
            {
             "iteration": 1770,
             "learn": [
              9.035246177e-05
             ],
             "passed_time": 30.66020151,
             "remaining_time": 3.964531986,
             "test": [
              0.0002631050734
             ]
            },
            {
             "iteration": 1771,
             "learn": [
              9.034592636e-05
             ],
             "passed_time": 30.69216624,
             "remaining_time": 3.949104911,
             "test": [
              0.0002631274595
             ]
            },
            {
             "iteration": 1772,
             "learn": [
              9.030012585e-05
             ],
             "passed_time": 30.71273723,
             "remaining_time": 3.932200424,
             "test": [
              0.0002631772865
             ]
            },
            {
             "iteration": 1773,
             "learn": [
              9.030843323e-05
             ],
             "passed_time": 30.74133331,
             "remaining_time": 3.916314164,
             "test": [
              0.0002632890378
             ]
            },
            {
             "iteration": 1774,
             "learn": [
              9.025701299e-05
             ],
             "passed_time": 30.77889483,
             "remaining_time": 3.901550048,
             "test": [
              0.0002632830829
             ]
            },
            {
             "iteration": 1775,
             "learn": [
              9.01995501e-05
             ],
             "passed_time": 30.79916537,
             "remaining_time": 3.884579415,
             "test": [
              0.0002633901245
             ]
            },
            {
             "iteration": 1776,
             "learn": [
              9.017846892e-05
             ],
             "passed_time": 30.823699,
             "remaining_time": 3.868140054,
             "test": [
              0.000263440463
             ]
            },
            {
             "iteration": 1777,
             "learn": [
              9.017884293e-05
             ],
             "passed_time": 30.84026048,
             "remaining_time": 3.85069619,
             "test": [
              0.0002634403671
             ]
            },
            {
             "iteration": 1778,
             "learn": [
              9.009747267e-05
             ],
             "passed_time": 30.85972183,
             "remaining_time": 3.83361356,
             "test": [
              0.0002634783082
             ]
            },
            {
             "iteration": 1779,
             "learn": [
              9.009370971e-05
             ],
             "passed_time": 30.87508329,
             "remaining_time": 3.81602153,
             "test": [
              0.0002634955956
             ]
            },
            {
             "iteration": 1780,
             "learn": [
              9.005981362e-05
             ],
             "passed_time": 30.88957318,
             "remaining_time": 3.798324832,
             "test": [
              0.0002634901424
             ]
            },
            {
             "iteration": 1781,
             "learn": [
              9.004769612e-05
             ],
             "passed_time": 30.90312515,
             "remaining_time": 3.780516993,
             "test": [
              0.0002634919437
             ]
            },
            {
             "iteration": 1782,
             "learn": [
              8.97521626e-05
             ],
             "passed_time": 30.91827912,
             "remaining_time": 3.7629089,
             "test": [
              0.0002631132577
             ]
            },
            {
             "iteration": 1783,
             "learn": [
              8.97521626e-05
             ],
             "passed_time": 30.92999584,
             "remaining_time": 3.744887389,
             "test": [
              0.0002631132577
             ]
            },
            {
             "iteration": 1784,
             "learn": [
              8.975277283e-05
             ],
             "passed_time": 30.9417639,
             "remaining_time": 3.726879126,
             "test": [
              0.0002631134877
             ]
            },
            {
             "iteration": 1785,
             "learn": [
              8.967830841e-05
             ],
             "passed_time": 30.95853148,
             "remaining_time": 3.709476896,
             "test": [
              0.0002630614131
             ]
            },
            {
             "iteration": 1786,
             "learn": [
              8.967831825e-05
             ],
             "passed_time": 30.97707229,
             "remaining_time": 3.692286736,
             "test": [
              0.0002630617926
             ]
            },
            {
             "iteration": 1787,
             "learn": [
              8.967832528e-05
             ],
             "passed_time": 31.0016365,
             "remaining_time": 3.675809249,
             "test": [
              0.0002630622527
             ]
            },
            {
             "iteration": 1788,
             "learn": [
              8.967840965e-05
             ],
             "passed_time": 31.01692617,
             "remaining_time": 3.658228855,
             "test": [
              0.0002630622833
             ]
            },
            {
             "iteration": 1789,
             "learn": [
              8.967866133e-05
             ],
             "passed_time": 31.02860827,
             "remaining_time": 3.640227785,
             "test": [
              0.0002630623238
             ]
            },
            {
             "iteration": 1790,
             "learn": [
              8.944223643e-05
             ],
             "passed_time": 31.04346213,
             "remaining_time": 3.622603901,
             "test": [
              0.0002626743636
             ]
            },
            {
             "iteration": 1791,
             "learn": [
              8.944181461e-05
             ],
             "passed_time": 31.05508807,
             "remaining_time": 3.604608437,
             "test": [
              0.0002626743626
             ]
            },
            {
             "iteration": 1792,
             "learn": [
              8.937847935e-05
             ],
             "passed_time": 31.06952533,
             "remaining_time": 3.586944642,
             "test": [
              0.0002627413485
             ]
            },
            {
             "iteration": 1793,
             "learn": [
              8.937894476e-05
             ],
             "passed_time": 31.08068121,
             "remaining_time": 3.568907653,
             "test": [
              0.000262741457
             ]
            },
            {
             "iteration": 1794,
             "learn": [
              8.937847935e-05
             ],
             "passed_time": 31.09201817,
             "remaining_time": 3.550899011,
             "test": [
              0.0002627414873
             ]
            },
            {
             "iteration": 1795,
             "learn": [
              8.937840342e-05
             ],
             "passed_time": 31.10355362,
             "remaining_time": 3.532920344,
             "test": [
              0.0002627418377
             ]
            },
            {
             "iteration": 1796,
             "learn": [
              8.928997361e-05
             ],
             "passed_time": 31.11760607,
             "remaining_time": 3.515233184,
             "test": [
              0.0002627378154
             ]
            },
            {
             "iteration": 1797,
             "learn": [
              8.92870279e-05
             ],
             "passed_time": 31.1313164,
             "remaining_time": 3.497511632,
             "test": [
              0.0002627329467
             ]
            },
            {
             "iteration": 1798,
             "learn": [
              8.92431684e-05
             ],
             "passed_time": 31.1458408,
             "remaining_time": 3.479885493,
             "test": [
              0.0002627300862
             ]
            },
            {
             "iteration": 1799,
             "learn": [
              8.924422436e-05
             ],
             "passed_time": 31.16531501,
             "remaining_time": 3.462812778,
             "test": [
              0.0002627303214
             ]
            },
            {
             "iteration": 1800,
             "learn": [
              8.924386722e-05
             ],
             "passed_time": 31.18483008,
             "remaining_time": 3.445741913,
             "test": [
              0.0002627303444
             ]
            },
            {
             "iteration": 1801,
             "learn": [
              8.915543849e-05
             ],
             "passed_time": 31.2034105,
             "remaining_time": 3.428565637,
             "test": [
              0.0002625468754
             ]
            },
            {
             "iteration": 1802,
             "learn": [
              8.915537241e-05
             ],
             "passed_time": 31.21446173,
             "remaining_time": 3.410565148,
             "test": [
              0.0002625469135
             ]
            },
            {
             "iteration": 1803,
             "learn": [
              8.915559597e-05
             ],
             "passed_time": 31.22610195,
             "remaining_time": 3.392636354,
             "test": [
              0.0002625469
             ]
            },
            {
             "iteration": 1804,
             "learn": [
              8.897330234e-05
             ],
             "passed_time": 31.24055159,
             "remaining_time": 3.375018039,
             "test": [
              0.0002623123856
             ]
            },
            {
             "iteration": 1805,
             "learn": [
              8.879729243e-05
             ],
             "passed_time": 31.25453679,
             "remaining_time": 3.357353343,
             "test": [
              0.0002620872251
             ]
            },
            {
             "iteration": 1806,
             "learn": [
              8.860716699e-05
             ],
             "passed_time": 31.26909689,
             "remaining_time": 3.339754123,
             "test": [
              0.0002617425775
             ]
            },
            {
             "iteration": 1807,
             "learn": [
              8.853292626e-05
             ],
             "passed_time": 31.2830279,
             "remaining_time": 3.322091458,
             "test": [
              0.0002617421348
             ]
            },
            {
             "iteration": 1808,
             "learn": [
              8.853048954e-05
             ],
             "passed_time": 31.29426362,
             "remaining_time": 3.304148342,
             "test": [
              0.0002617422671
             ]
            },
            {
             "iteration": 1809,
             "learn": [
              8.850667592e-05
             ],
             "passed_time": 31.31545296,
             "remaining_time": 3.287257493,
             "test": [
              0.0002617912856
             ]
            },
            {
             "iteration": 1810,
             "learn": [
              8.842719727e-05
             ],
             "passed_time": 31.3618839,
             "remaining_time": 3.272996166,
             "test": [
              0.0002617899163
             ]
            },
            {
             "iteration": 1811,
             "learn": [
              8.826430597e-05
             ],
             "passed_time": 31.4315187,
             "remaining_time": 3.261106797,
             "test": [
              0.0002615994057
             ]
            },
            {
             "iteration": 1812,
             "learn": [
              8.826385322e-05
             ],
             "passed_time": 31.44673505,
             "remaining_time": 3.243540791,
             "test": [
              0.0002615993699
             ]
            },
            {
             "iteration": 1813,
             "learn": [
              8.825131671e-05
             ],
             "passed_time": 31.46147869,
             "remaining_time": 3.225928907,
             "test": [
              0.0002615853921
             ]
            },
            {
             "iteration": 1814,
             "learn": [
              8.823986147e-05
             ],
             "passed_time": 31.48134368,
             "remaining_time": 3.208842193,
             "test": [
              0.0002615859336
             ]
            },
            {
             "iteration": 1815,
             "learn": [
              8.816142254e-05
             ],
             "passed_time": 31.5021597,
             "remaining_time": 3.19184878,
             "test": [
              0.0002615806312
             ]
            },
            {
             "iteration": 1816,
             "learn": [
              8.816190061e-05
             ],
             "passed_time": 31.51747938,
             "remaining_time": 3.174297593,
             "test": [
              0.000261580911
             ]
            },
            {
             "iteration": 1817,
             "learn": [
              8.816195544e-05
             ],
             "passed_time": 31.52947674,
             "remaining_time": 3.156416263,
             "test": [
              0.0002615809503
             ]
            },
            {
             "iteration": 1818,
             "learn": [
              8.806153858e-05
             ],
             "passed_time": 31.543676,
             "remaining_time": 3.138760503,
             "test": [
              0.0002615415432
             ]
            },
            {
             "iteration": 1819,
             "learn": [
              8.806261e-05
             ],
             "passed_time": 31.55595536,
             "remaining_time": 3.120918662,
             "test": [
              0.0002615414128
             ]
            },
            {
             "iteration": 1820,
             "learn": [
              8.806165387e-05
             ],
             "passed_time": 31.56787754,
             "remaining_time": 3.10304782,
             "test": [
              0.0002615415752
             ]
            },
            {
             "iteration": 1821,
             "learn": [
              8.801369148e-05
             ],
             "passed_time": 31.58201161,
             "remaining_time": 3.085399597,
             "test": [
              0.0002615385888
             ]
            },
            {
             "iteration": 1822,
             "learn": [
              8.799816145e-05
             ],
             "passed_time": 31.59640782,
             "remaining_time": 3.067780682,
             "test": [
              0.0002615365969
             ]
            },
            {
             "iteration": 1823,
             "learn": [
              8.792115639e-05
             ],
             "passed_time": 31.61085413,
             "remaining_time": 3.050170135,
             "test": [
              0.0002615722338
             ]
            },
            {
             "iteration": 1824,
             "learn": [
              8.791964346e-05
             ],
             "passed_time": 31.62380489,
             "remaining_time": 3.032419647,
             "test": [
              0.0002615834789
             ]
            },
            {
             "iteration": 1825,
             "learn": [
              8.791970111e-05
             ],
             "passed_time": 31.63615742,
             "remaining_time": 3.01461741,
             "test": [
              0.0002615836511
             ]
            },
            {
             "iteration": 1826,
             "learn": [
              8.792004981e-05
             ],
             "passed_time": 31.64820574,
             "remaining_time": 2.996792333,
             "test": [
              0.0002615837094
             ]
            },
            {
             "iteration": 1827,
             "learn": [
              8.765172154e-05
             ],
             "passed_time": 31.66350059,
             "remaining_time": 2.979279049,
             "test": [
              0.0002610107583
             ]
            },
            {
             "iteration": 1828,
             "learn": [
              8.765162312e-05
             ],
             "passed_time": 31.67521076,
             "remaining_time": 2.961433046,
             "test": [
              0.0002610110754
             ]
            },
            {
             "iteration": 1829,
             "learn": [
              8.75883177e-05
             ],
             "passed_time": 31.68918479,
             "remaining_time": 2.943804051,
             "test": [
              0.0002610878301
             ]
            },
            {
             "iteration": 1830,
             "learn": [
              8.757994002e-05
             ],
             "passed_time": 31.70392742,
             "remaining_time": 2.926249991,
             "test": [
              0.0002610829843
             ]
            },
            {
             "iteration": 1831,
             "learn": [
              8.757904749e-05
             ],
             "passed_time": 31.7162538,
             "remaining_time": 2.908477422,
             "test": [
              0.0002610957798
             ]
            },
            {
             "iteration": 1832,
             "learn": [
              8.75426518e-05
             ],
             "passed_time": 31.73394235,
             "remaining_time": 2.89119933,
             "test": [
              0.0002611430195
             ]
            },
            {
             "iteration": 1833,
             "learn": [
              8.754287536e-05
             ],
             "passed_time": 31.76427514,
             "remaining_time": 2.875065253,
             "test": [
              0.0002611431661
             ]
            },
            {
             "iteration": 1834,
             "learn": [
              8.754255619e-05
             ],
             "passed_time": 31.77970947,
             "remaining_time": 2.857576056,
             "test": [
              0.0002611431732
             ]
            },
            {
             "iteration": 1835,
             "learn": [
              8.74883396e-05
             ],
             "passed_time": 31.79520048,
             "remaining_time": 2.840094161,
             "test": [
              0.0002612142958
             ]
            },
            {
             "iteration": 1836,
             "learn": [
              8.748879657e-05
             ],
             "passed_time": 31.80800313,
             "remaining_time": 2.82237589,
             "test": [
              0.0002612146068
             ]
            },
            {
             "iteration": 1837,
             "learn": [
              8.748870799e-05
             ],
             "passed_time": 31.8228296,
             "remaining_time": 2.804841347,
             "test": [
              0.0002612146087
             ]
            },
            {
             "iteration": 1838,
             "learn": [
              8.748424192e-05
             ],
             "passed_time": 31.84463473,
             "remaining_time": 2.787920713,
             "test": [
              0.0002613206602
             ]
            },
            {
             "iteration": 1839,
             "learn": [
              8.748426442e-05
             ],
             "passed_time": 31.85976876,
             "remaining_time": 2.770414675,
             "test": [
              0.0002613205999
             ]
            },
            {
             "iteration": 1840,
             "learn": [
              8.747939239e-05
             ],
             "passed_time": 31.87577838,
             "remaining_time": 2.752986835,
             "test": [
              0.0002613236878
             ]
            },
            {
             "iteration": 1841,
             "learn": [
              8.739930133e-05
             ],
             "passed_time": 31.89369863,
             "remaining_time": 2.735724421,
             "test": [
              0.0002612910541
             ]
            },
            {
             "iteration": 1842,
             "learn": [
              8.735972933e-05
             ],
             "passed_time": 31.90811511,
             "remaining_time": 2.718162817,
             "test": [
              0.0002613312534
             ]
            },
            {
             "iteration": 1843,
             "learn": [
              8.735746135e-05
             ],
             "passed_time": 31.91980288,
             "remaining_time": 2.700373779,
             "test": [
              0.0002613417037
             ]
            },
            {
             "iteration": 1844,
             "learn": [
              8.735500776e-05
             ],
             "passed_time": 31.9336132,
             "remaining_time": 2.682769672,
             "test": [
              0.0002613495054
             ]
            },
            {
             "iteration": 1845,
             "learn": [
              8.735481653e-05
             ],
             "passed_time": 31.94485417,
             "remaining_time": 2.664955332,
             "test": [
              0.0002613496666
             ]
            },
            {
             "iteration": 1846,
             "learn": [
              8.735358481e-05
             ],
             "passed_time": 31.95831116,
             "remaining_time": 2.647331677,
             "test": [
              0.0002613716091
             ]
            },
            {
             "iteration": 1847,
             "learn": [
              8.735208915e-05
             ],
             "passed_time": 31.96795028,
             "remaining_time": 2.629398508,
             "test": [
              0.0002613733942
             ]
            },
            {
             "iteration": 1848,
             "learn": [
              8.735188667e-05
             ],
             "passed_time": 31.97893505,
             "remaining_time": 2.611584204,
             "test": [
              0.0002613733992
             ]
            },
            {
             "iteration": 1849,
             "learn": [
              8.731885774e-05
             ],
             "passed_time": 31.99629587,
             "remaining_time": 2.59429426,
             "test": [
              0.0002615140394
             ]
            },
            {
             "iteration": 1850,
             "learn": [
              8.731960295e-05
             ],
             "passed_time": 32.0189451,
             "remaining_time": 2.577429941,
             "test": [
              0.0002615140263
             ]
            },
            {
             "iteration": 1851,
             "learn": [
              8.705523565e-05
             ],
             "passed_time": 32.04241199,
             "remaining_time": 2.560624716,
             "test": [
              0.0002611390058
             ]
            },
            {
             "iteration": 1852,
             "learn": [
              8.705486304e-05
             ],
             "passed_time": 32.06187796,
             "remaining_time": 2.543494906,
             "test": [
              0.0002611402145
             ]
            },
            {
             "iteration": 1853,
             "learn": [
              8.70530703e-05
             ],
             "passed_time": 32.07957562,
             "remaining_time": 2.526223323,
             "test": [
              0.0002611420286
             ]
            },
            {
             "iteration": 1854,
             "learn": [
              8.705303093e-05
             ],
             "passed_time": 32.09074008,
             "remaining_time": 2.508440599,
             "test": [
              0.0002611419567
             ]
            },
            {
             "iteration": 1855,
             "learn": [
              8.705285517e-05
             ],
             "passed_time": 32.10874938,
             "remaining_time": 2.491196072,
             "test": [
              0.0002611418541
             ]
            },
            {
             "iteration": 1856,
             "learn": [
              8.69712143e-05
             ],
             "passed_time": 32.12545965,
             "remaining_time": 2.47385069,
             "test": [
              0.000261144431
             ]
            },
            {
             "iteration": 1857,
             "learn": [
              8.69706111e-05
             ],
             "passed_time": 32.13676894,
             "remaining_time": 2.456093213,
             "test": [
              0.0002611450932
             ]
            },
            {
             "iteration": 1858,
             "learn": [
              8.697083607e-05
             ],
             "passed_time": 32.14789225,
             "remaining_time": 2.438328568,
             "test": [
              0.0002611450569
             ]
            },
            {
             "iteration": 1859,
             "learn": [
              8.69688957e-05
             ],
             "passed_time": 32.15958284,
             "remaining_time": 2.420613763,
             "test": [
              0.0002611469862
             ]
            },
            {
             "iteration": 1860,
             "learn": [
              8.696915441e-05
             ],
             "passed_time": 32.17063062,
             "remaining_time": 2.402857419,
             "test": [
              0.0002611470283
             ]
            },
            {
             "iteration": 1861,
             "learn": [
              8.691999654e-05
             ],
             "passed_time": 32.1883242,
             "remaining_time": 2.385600827,
             "test": [
              0.0002611249415
             ]
            },
            {
             "iteration": 1862,
             "learn": [
              8.664292227e-05
             ],
             "passed_time": 32.22120181,
             "remaining_time": 2.369460359,
             "test": [
              0.0002607529267
             ]
            },
            {
             "iteration": 1863,
             "learn": [
              8.664199005e-05
             ],
             "passed_time": 32.23545145,
             "remaining_time": 2.35194281,
             "test": [
              0.0002607532359
             ]
            },
            {
             "iteration": 1864,
             "learn": [
              8.664218127e-05
             ],
             "passed_time": 32.24729316,
             "remaining_time": 2.334254464,
             "test": [
              0.0002607532773
             ]
            },
            {
             "iteration": 1865,
             "learn": [
              8.657477435e-05
             ],
             "passed_time": 32.26151139,
             "remaining_time": 2.316743047,
             "test": [
              0.0002607214854
             ]
            },
            {
             "iteration": 1866,
             "learn": [
              8.657490934e-05
             ],
             "passed_time": 32.27221944,
             "remaining_time": 2.298985102,
             "test": [
              0.0002607215069
             ]
            },
            {
             "iteration": 1867,
             "learn": [
              8.657497964e-05
             ],
             "passed_time": 32.28385271,
             "remaining_time": 2.281300084,
             "test": [
              0.0002607215041
             ]
            },
            {
             "iteration": 1868,
             "learn": [
              8.657493183e-05
             ],
             "passed_time": 32.29549437,
             "remaining_time": 2.263622131,
             "test": [
              0.0002607214494
             ]
            },
            {
             "iteration": 1869,
             "learn": [
              8.657454798e-05
             ],
             "passed_time": 32.30670112,
             "remaining_time": 2.245920398,
             "test": [
              0.0002607215645
             ]
            },
            {
             "iteration": 1870,
             "learn": [
              8.657484325e-05
             ],
             "passed_time": 32.31838064,
             "remaining_time": 2.228258206,
             "test": [
              0.0002607215817
             ]
            },
            {
             "iteration": 1871,
             "learn": [
              8.656752326e-05
             ],
             "passed_time": 32.33297404,
             "remaining_time": 2.210801644,
             "test": [
              0.0002607221747
             ]
            },
            {
             "iteration": 1872,
             "learn": [
              8.656690459e-05
             ],
             "passed_time": 32.34559625,
             "remaining_time": 2.193214481,
             "test": [
              0.0002607221308
             ]
            },
            {
             "iteration": 1873,
             "learn": [
              8.656718299e-05
             ],
             "passed_time": 32.36502967,
             "remaining_time": 2.176090575,
             "test": [
              0.0002607221234
             ]
            },
            {
             "iteration": 1874,
             "learn": [
              8.656732219e-05
             ],
             "passed_time": 32.3863261,
             "remaining_time": 2.159088407,
             "test": [
              0.0002607222663
             ]
            },
            {
             "iteration": 1875,
             "learn": [
              8.650217897e-05
             ],
             "passed_time": 32.42607939,
             "remaining_time": 2.143301623,
             "test": [
              0.000260691132
             ]
            },
            {
             "iteration": 1876,
             "learn": [
              8.644922784e-05
             ],
             "passed_time": 32.50174803,
             "remaining_time": 2.129842838,
             "test": [
              0.0002606636097
             ]
            },
            {
             "iteration": 1877,
             "learn": [
              8.639039303e-05
             ],
             "passed_time": 32.5371043,
             "remaining_time": 2.113699001,
             "test": [
              0.0002607821486
             ]
            },
            {
             "iteration": 1878,
             "learn": [
              8.639094842e-05
             ],
             "passed_time": 32.55355686,
             "remaining_time": 2.096317392,
             "test": [
              0.0002607821027
             ]
            },
            {
             "iteration": 1879,
             "learn": [
              8.639105528e-05
             ],
             "passed_time": 32.56894083,
             "remaining_time": 2.078868564,
             "test": [
              0.0002607819689
             ]
            },
            {
             "iteration": 1880,
             "learn": [
              8.639102435e-05
             ],
             "passed_time": 32.5810477,
             "remaining_time": 2.061214608,
             "test": [
              0.000260782092
             ]
            },
            {
             "iteration": 1881,
             "learn": [
              8.639064753e-05
             ],
             "passed_time": 32.59427252,
             "remaining_time": 2.043636641,
             "test": [
              0.000260782143
             ]
            },
            {
             "iteration": 1882,
             "learn": [
              8.639081907e-05
             ],
             "passed_time": 32.6121557,
             "remaining_time": 2.026352744,
             "test": [
              0.0002607823533
             ]
            },
            {
             "iteration": 1883,
             "learn": [
              8.639060816e-05
             ],
             "passed_time": 32.62471073,
             "remaining_time": 2.008740151,
             "test": [
              0.0002607827421
             ]
            },
            {
             "iteration": 1884,
             "learn": [
              8.639088796e-05
             ],
             "passed_time": 32.63676975,
             "remaining_time": 1.991102664,
             "test": [
              0.0002607828787
             ]
            },
            {
             "iteration": 1885,
             "learn": [
              8.639085e-05
             ],
             "passed_time": 32.64842059,
             "remaining_time": 1.973446419,
             "test": [
              0.0002607827797
             ]
            },
            {
             "iteration": 1886,
             "learn": [
              8.63795199e-05
             ],
             "passed_time": 32.66166546,
             "remaining_time": 1.955891996,
             "test": [
              0.0002607926312
             ]
            },
            {
             "iteration": 1887,
             "learn": [
              8.633902309e-05
             ],
             "passed_time": 32.67726877,
             "remaining_time": 1.938482046,
             "test": [
              0.000260784096
             ]
            },
            {
             "iteration": 1888,
             "learn": [
              8.625636876e-05
             ],
             "passed_time": 32.69252563,
             "remaining_time": 1.92105365,
             "test": [
              0.0002607511515
             ]
            },
            {
             "iteration": 1889,
             "learn": [
              8.625710976e-05
             ],
             "passed_time": 32.70462134,
             "remaining_time": 1.90344357,
             "test": [
              0.0002607520426
             ]
            },
            {
             "iteration": 1890,
             "learn": [
              8.62570507e-05
             ],
             "passed_time": 32.71775062,
             "remaining_time": 1.885898899,
             "test": [
              0.0002607521388
             ]
            },
            {
             "iteration": 1891,
             "learn": [
              8.625684261e-05
             ],
             "passed_time": 32.73047132,
             "remaining_time": 1.868335572,
             "test": [
              0.0002607521194
             ]
            },
            {
             "iteration": 1892,
             "learn": [
              8.625673012e-05
             ],
             "passed_time": 32.74268615,
             "remaining_time": 1.850748768,
             "test": [
              0.0002607521035
             ]
            },
            {
             "iteration": 1893,
             "learn": [
              8.625552653e-05
             ],
             "passed_time": 32.75484345,
             "remaining_time": 1.833164417,
             "test": [
              0.0002607518043
             ]
            },
            {
             "iteration": 1894,
             "learn": [
              8.601140666e-05
             ],
             "passed_time": 32.76985542,
             "remaining_time": 1.815743968,
             "test": [
              0.0002603771958
             ]
            },
            {
             "iteration": 1895,
             "learn": [
              8.601153461e-05
             ],
             "passed_time": 32.78071274,
             "remaining_time": 1.798098167,
             "test": [
              0.0002603773507
             ]
            },
            {
             "iteration": 1896,
             "learn": [
              8.59662789e-05
             ],
             "passed_time": 32.79623778,
             "remaining_time": 1.780712963,
             "test": [
              0.0002603729943
             ]
            },
            {
             "iteration": 1897,
             "learn": [
              8.596658682e-05
             ],
             "passed_time": 32.81609814,
             "remaining_time": 1.763562703,
             "test": [
              0.0002603730417
             ]
            },
            {
             "iteration": 1898,
             "learn": [
              8.588761921e-05
             ],
             "passed_time": 32.84129165,
             "remaining_time": 1.746693237,
             "test": [
              0.0002604124561
             ]
            },
            {
             "iteration": 1899,
             "learn": [
              8.588794542e-05
             ],
             "passed_time": 32.85274998,
             "remaining_time": 1.729092104,
             "test": [
              0.0002604125062
             ]
            },
            {
             "iteration": 1900,
             "learn": [
              8.58650915e-05
             ],
             "passed_time": 32.86681301,
             "remaining_time": 1.711633082,
             "test": [
              0.0002604320104
             ]
            },
            {
             "iteration": 1901,
             "learn": [
              8.565015459e-05
             ],
             "passed_time": 32.88131376,
             "remaining_time": 1.694200183,
             "test": [
              0.0002601101058
             ]
            },
            {
             "iteration": 1902,
             "learn": [
              8.565051313e-05
             ],
             "passed_time": 32.893977,
             "remaining_time": 1.676676705,
             "test": [
              0.0002601102758
             ]
            },
            {
             "iteration": 1903,
             "learn": [
              8.565061015e-05
             ],
             "passed_time": 32.90762533,
             "remaining_time": 1.659208,
             "test": [
              0.0002601109623
             ]
            },
            {
             "iteration": 1904,
             "learn": [
              8.565110509e-05
             ],
             "passed_time": 32.92175234,
             "remaining_time": 1.641767177,
             "test": [
              0.0002601111276
             ]
            },
            {
             "iteration": 1905,
             "learn": [
              8.565060734e-05
             ],
             "passed_time": 32.9392947,
             "remaining_time": 1.624498269,
             "test": [
              0.0002601111972
             ]
            },
            {
             "iteration": 1906,
             "learn": [
              8.56507592e-05
             ],
             "passed_time": 32.95299335,
             "remaining_time": 1.607041627,
             "test": [
              0.0002601113089
             ]
            },
            {
             "iteration": 1907,
             "learn": [
              8.565051876e-05
             ],
             "passed_time": 32.9647058,
             "remaining_time": 1.589493152,
             "test": [
              0.0002601120013
             ]
            },
            {
             "iteration": 1908,
             "learn": [
              8.565042315e-05
             ],
             "passed_time": 32.97623177,
             "remaining_time": 1.571941902,
             "test": [
              0.0002601123609
             ]
            },
            {
             "iteration": 1909,
             "learn": [
              8.555398935e-05
             ],
             "passed_time": 33.00218567,
             "remaining_time": 1.555076811,
             "test": [
              0.0002600790206
             ]
            },
            {
             "iteration": 1910,
             "learn": [
              8.554541936e-05
             ],
             "passed_time": 33.02346411,
             "remaining_time": 1.537984462,
             "test": [
              0.0002600792835
             ]
            },
            {
             "iteration": 1911,
             "learn": [
              8.554563168e-05
             ],
             "passed_time": 33.03877385,
             "remaining_time": 1.520613023,
             "test": [
              0.0002600793435
             ]
            },
            {
             "iteration": 1912,
             "learn": [
              8.554578635e-05
             ],
             "passed_time": 33.05088016,
             "remaining_time": 1.503098052,
             "test": [
              0.0002600792957
             ]
            },
            {
             "iteration": 1913,
             "learn": [
              8.554551779e-05
             ],
             "passed_time": 33.06277484,
             "remaining_time": 1.485579225,
             "test": [
              0.0002600796709
             ]
            },
            {
             "iteration": 1914,
             "learn": [
              8.549637557e-05
             ],
             "passed_time": 33.07679546,
             "remaining_time": 1.468160634,
             "test": [
              0.0002601634708
             ]
            },
            {
             "iteration": 1915,
             "learn": [
              8.549614779e-05
             ],
             "passed_time": 33.08859069,
             "remaining_time": 1.450648026,
             "test": [
              0.0002601636097
             ]
            },
            {
             "iteration": 1916,
             "learn": [
              8.544975207e-05
             ],
             "passed_time": 33.1021704,
             "remaining_time": 1.433218645,
             "test": [
              0.0002602769703
             ]
            },
            {
             "iteration": 1917,
             "learn": [
              8.545005297e-05
             ],
             "passed_time": 33.12159872,
             "remaining_time": 1.416043324,
             "test": [
              0.0002602770349
             ]
            },
            {
             "iteration": 1918,
             "learn": [
              8.54502456e-05
             ],
             "passed_time": 33.1389999,
             "remaining_time": 1.39878009,
             "test": [
              0.0002602770573
             ]
            },
            {
             "iteration": 1919,
             "learn": [
              8.544893514e-05
             ],
             "passed_time": 33.15846521,
             "remaining_time": 1.381602717,
             "test": [
              0.0002602810494
             ]
            },
            {
             "iteration": 1920,
             "learn": [
              8.544880157e-05
             ],
             "passed_time": 33.17944324,
             "remaining_time": 1.364485172,
             "test": [
              0.0002602809927
             ]
            },
            {
             "iteration": 1921,
             "learn": [
              8.537310447e-05
             ],
             "passed_time": 33.19988725,
             "remaining_time": 1.347341938,
             "test": [
              0.0002602870406
             ]
            },
            {
             "iteration": 1922,
             "learn": [
              8.534045416e-05
             ],
             "passed_time": 33.21423166,
             "remaining_time": 1.329951034,
             "test": [
              0.0002604065965
             ]
            },
            {
             "iteration": 1923,
             "learn": [
              8.530812973e-05
             ],
             "passed_time": 33.22793166,
             "remaining_time": 1.312537841,
             "test": [
              0.0002605414394
             ]
            },
            {
             "iteration": 1924,
             "learn": [
              8.530864857e-05
             ],
             "passed_time": 33.23887774,
             "remaining_time": 1.29502121,
             "test": [
              0.0002605414319
             ]
            },
            {
             "iteration": 1925,
             "learn": [
              8.530820988e-05
             ],
             "passed_time": 33.2502078,
             "remaining_time": 1.277526156,
             "test": [
              0.0002605416709
             ]
            },
            {
             "iteration": 1926,
             "learn": [
              8.509120495e-05
             ],
             "passed_time": 33.2647067,
             "remaining_time": 1.260157545,
             "test": [
              0.0002601819086
             ]
            },
            {
             "iteration": 1927,
             "learn": [
              8.509120214e-05
             ],
             "passed_time": 33.27576662,
             "remaining_time": 1.242663484,
             "test": [
              0.0002601819829
             ]
            },
            {
             "iteration": 1928,
             "learn": [
              8.500976688e-05
             ],
             "passed_time": 33.28967593,
             "remaining_time": 1.22528097,
             "test": [
              0.0002601484348
             ]
            },
            {
             "iteration": 1929,
             "learn": [
              8.500976688e-05
             ],
             "passed_time": 33.30077987,
             "remaining_time": 1.207800306,
             "test": [
              0.0002601484348
             ]
            },
            {
             "iteration": 1930,
             "learn": [
              8.496428792e-05
             ],
             "passed_time": 33.3167508,
             "remaining_time": 1.190500158,
             "test": [
              0.0002601398954
             ]
            },
            {
             "iteration": 1931,
             "learn": [
              8.496428792e-05
             ],
             "passed_time": 33.33493126,
             "remaining_time": 1.173279154,
             "test": [
              0.0002601398954
             ]
            },
            {
             "iteration": 1932,
             "learn": [
              8.496428792e-05
             ],
             "passed_time": 33.34932563,
             "remaining_time": 1.155925927,
             "test": [
              0.0002601398954
             ]
            },
            {
             "iteration": 1933,
             "learn": [
              8.496478988e-05
             ],
             "passed_time": 33.36579956,
             "remaining_time": 1.138646727,
             "test": [
              0.0002601398446
             ]
            },
            {
             "iteration": 1934,
             "learn": [
              8.49649797e-05
             ],
             "passed_time": 33.37687865,
             "remaining_time": 1.121187138,
             "test": [
              0.0002601398359
             ]
            },
            {
             "iteration": 1935,
             "learn": [
              8.492438338e-05
             ],
             "passed_time": 33.39089125,
             "remaining_time": 1.103831116,
             "test": [
              0.0002601367659
             ]
            },
            {
             "iteration": 1936,
             "learn": [
              8.492440025e-05
             ],
             "passed_time": 33.40193897,
             "remaining_time": 1.086382114,
             "test": [
              0.0002601367517
             ]
            },
            {
             "iteration": 1937,
             "learn": [
              8.492397843e-05
             ],
             "passed_time": 33.41333602,
             "remaining_time": 1.068950894,
             "test": [
              0.0002601373474
             ]
            },
            {
             "iteration": 1938,
             "learn": [
              8.492412466e-05
             ],
             "passed_time": 33.42427917,
             "remaining_time": 1.051511619,
             "test": [
              0.0002601373537
             ]
            },
            {
             "iteration": 1939,
             "learn": [
              8.49240881e-05
             ],
             "passed_time": 33.43486679,
             "remaining_time": 1.034068045,
             "test": [
              0.0002601373727
             ]
            },
            {
             "iteration": 1940,
             "learn": [
              8.49239714e-05
             ],
             "passed_time": 33.44572583,
             "remaining_time": 1.016639786,
             "test": [
              0.000260136979
             ]
            },
            {
             "iteration": 1941,
             "learn": [
              8.492363535e-05
             ],
             "passed_time": 33.45726277,
             "remaining_time": 0.9992385381,
             "test": [
              0.0002601371306
             ]
            },
            {
             "iteration": 1942,
             "learn": [
              8.492368878e-05
             ],
             "passed_time": 33.51047906,
             "remaining_time": 0.9830660352,
             "test": [
              0.0002601371325
             ]
            },
            {
             "iteration": 1943,
             "learn": [
              8.492393203e-05
             ],
             "passed_time": 33.58055621,
             "remaining_time": 0.9673411253,
             "test": [
              0.0002601372
             ]
            },
            {
             "iteration": 1944,
             "learn": [
              8.492303496e-05
             ],
             "passed_time": 33.60771893,
             "remaining_time": 0.9503468076,
             "test": [
              0.000260137341
             ]
            },
            {
             "iteration": 1945,
             "learn": [
              8.492376752e-05
             ],
             "passed_time": 33.62413358,
             "remaining_time": 0.9330437888,
             "test": [
              0.0002601373705
             ]
            },
            {
             "iteration": 1946,
             "learn": [
              8.492343006e-05
             ],
             "passed_time": 33.63658095,
             "remaining_time": 0.915633688,
             "test": [
              0.0002601374569
             ]
            },
            {
             "iteration": 1947,
             "learn": [
              8.491685247e-05
             ],
             "passed_time": 33.65178914,
             "remaining_time": 0.8983023796,
             "test": [
              0.0002601350294
             ]
            },
            {
             "iteration": 1948,
             "learn": [
              8.491728554e-05
             ],
             "passed_time": 33.66391869,
             "remaining_time": 0.8808926901,
             "test": [
              0.00026013504
             ]
            },
            {
             "iteration": 1949,
             "learn": [
              8.484619051e-05
             ],
             "passed_time": 33.68158676,
             "remaining_time": 0.8636304297,
             "test": [
              0.000260141038
             ]
            },
            {
             "iteration": 1950,
             "learn": [
              8.477662214e-05
             ],
             "passed_time": 33.69572523,
             "remaining_time": 0.8462791063,
             "test": [
              0.0002601476949
             ]
            },
            {
             "iteration": 1951,
             "learn": [
              8.477705521e-05
             ],
             "passed_time": 33.70700342,
             "remaining_time": 0.8288607399,
             "test": [
              0.0002601477355
             ]
            },
            {
             "iteration": 1952,
             "learn": [
              8.477615533e-05
             ],
             "passed_time": 33.7184517,
             "remaining_time": 0.8114527548,
             "test": [
              0.0002601477969
             ]
            },
            {
             "iteration": 1953,
             "learn": [
              8.477609627e-05
             ],
             "passed_time": 33.72986097,
             "remaining_time": 0.7940499512,
             "test": [
              0.0002601478256
             ]
            },
            {
             "iteration": 1954,
             "learn": [
              8.477652794e-05
             ],
             "passed_time": 33.74121799,
             "remaining_time": 0.7766520764,
             "test": [
              0.0002601478454
             ]
            },
            {
             "iteration": 1955,
             "learn": [
              8.469821414e-05
             ],
             "passed_time": 33.75512113,
             "remaining_time": 0.7593176532,
             "test": [
              0.0002601151653
             ]
            },
            {
             "iteration": 1956,
             "learn": [
              8.469766578e-05
             ],
             "passed_time": 33.76629866,
             "remaining_time": 0.7419268484,
             "test": [
              0.000260115358
             ]
            },
            {
             "iteration": 1957,
             "learn": [
              8.469766578e-05
             ],
             "passed_time": 33.77749019,
             "remaining_time": 0.7245426904,
             "test": [
              0.000260115358
             ]
            },
            {
             "iteration": 1958,
             "learn": [
              8.469766578e-05
             ],
             "passed_time": 33.78850395,
             "remaining_time": 0.7071611342,
             "test": [
              0.000260115358
             ]
            },
            {
             "iteration": 1959,
             "learn": [
              8.447790106e-05
             ],
             "passed_time": 33.80322344,
             "remaining_time": 0.6898617029,
             "test": [
              0.0002595729282
             ]
            },
            {
             "iteration": 1960,
             "learn": [
              8.447762407e-05
             ],
             "passed_time": 33.81421642,
             "remaining_time": 0.6724907907,
             "test": [
              0.0002595731162
             ]
            },
            {
             "iteration": 1961,
             "learn": [
              8.447735269e-05
             ],
             "passed_time": 33.82690234,
             "remaining_time": 0.6551591686,
             "test": [
              0.0002595738267
             ]
            },
            {
             "iteration": 1962,
             "learn": [
              8.447690275e-05
             ],
             "passed_time": 33.84225968,
             "remaining_time": 0.6378826328,
             "test": [
              0.0002595738631
             ]
            },
            {
             "iteration": 1963,
             "learn": [
              8.42907818e-05
             ],
             "passed_time": 33.86930894,
             "remaining_time": 0.6208223634,
             "test": [
              0.0002593693017
             ]
            },
            {
             "iteration": 1964,
             "learn": [
              8.429124299e-05
             ],
             "passed_time": 33.88202699,
             "remaining_time": 0.6034966639,
             "test": [
              0.0002593692445
             ]
            },
            {
             "iteration": 1965,
             "learn": [
              8.428011958e-05
             ],
             "passed_time": 33.8959002,
             "remaining_time": 0.5861956291,
             "test": [
              0.000259368281
             ]
            },
            {
             "iteration": 1966,
             "learn": [
              8.421187184e-05
             ],
             "passed_time": 33.90980116,
             "remaining_time": 0.5688985452,
             "test": [
              0.0002594248621
             ]
            },
            {
             "iteration": 1967,
             "learn": [
              8.414756498e-05
             ],
             "passed_time": 33.92619148,
             "remaining_time": 0.5516453899,
             "test": [
              0.0002594339085
             ]
            },
            {
             "iteration": 1968,
             "learn": [
              8.411506652e-05
             ],
             "passed_time": 33.95263844,
             "remaining_time": 0.5345514432,
             "test": [
              0.0002594367789
             ]
            },
            {
             "iteration": 1969,
             "learn": [
              8.411533649e-05
             ],
             "passed_time": 33.97438949,
             "remaining_time": 0.5173764897,
             "test": [
              0.0002594364792
             ]
            },
            {
             "iteration": 1970,
             "learn": [
              8.411542085e-05
             ],
             "passed_time": 33.99042143,
             "remaining_time": 0.5001127455,
             "test": [
              0.0002594362531
             ]
            },
            {
             "iteration": 1971,
             "learn": [
              8.411537586e-05
             ],
             "passed_time": 34.0066149,
             "remaining_time": 0.4828525442,
             "test": [
              0.0002594362784
             ]
            },
            {
             "iteration": 1972,
             "learn": [
              8.395099055e-05
             ],
             "passed_time": 34.02524777,
             "remaining_time": 0.4656268068,
             "test": [
              0.0002592543202
             ]
            },
            {
             "iteration": 1973,
             "learn": [
              8.391536717e-05
             ],
             "passed_time": 34.04714115,
             "remaining_time": 0.4484425886,
             "test": [
              0.0002592344313
             ]
            },
            {
             "iteration": 1974,
             "learn": [
              8.389993275e-05
             ],
             "passed_time": 34.07128317,
             "remaining_time": 0.4312820654,
             "test": [
              0.0002592406847
             ]
            },
            {
             "iteration": 1975,
             "learn": [
              8.382878601e-05
             ],
             "passed_time": 34.08729989,
             "remaining_time": 0.4140157882,
             "test": [
              0.000259248197
             ]
            },
            {
             "iteration": 1976,
             "learn": [
              8.382919237e-05
             ],
             "passed_time": 34.09973799,
             "remaining_time": 0.396709142,
             "test": [
              0.0002592482205
             ]
            },
            {
             "iteration": 1977,
             "learn": [
              8.382952139e-05
             ],
             "passed_time": 34.11425409,
             "remaining_time": 0.3794305308,
             "test": [
              0.0002592492027
             ]
            },
            {
             "iteration": 1978,
             "learn": [
              8.374431505e-05
             ],
             "passed_time": 34.12831115,
             "remaining_time": 0.3621498404,
             "test": [
              0.0002592230985
             ]
            },
            {
             "iteration": 1979,
             "learn": [
              8.374440926e-05
             ],
             "passed_time": 34.13919885,
             "remaining_time": 0.3448403925,
             "test": [
              0.0002592230168
             ]
            },
            {
             "iteration": 1980,
             "learn": [
              8.352436192e-05
             ],
             "passed_time": 34.15338163,
             "remaining_time": 0.3275690313,
             "test": [
              0.00025887435
             ]
            },
            {
             "iteration": 1981,
             "learn": [
              8.352420866e-05
             ],
             "passed_time": 34.16393319,
             "remaining_time": 0.310267809,
             "test": [
              0.0002588743943
             ]
            },
            {
             "iteration": 1982,
             "learn": [
              8.352463329e-05
             ],
             "passed_time": 34.17464904,
             "remaining_time": 0.2929748027,
             "test": [
              0.0002588744144
             ]
            },
            {
             "iteration": 1983,
             "learn": [
              8.352476546e-05
             ],
             "passed_time": 34.18830462,
             "remaining_time": 0.275712134,
             "test": [
              0.0002588743817
             ]
            },
            {
             "iteration": 1984,
             "learn": [
              8.336765375e-05
             ],
             "passed_time": 34.20378734,
             "remaining_time": 0.2584669068,
             "test": [
              0.0002585017331
             ]
            },
            {
             "iteration": 1985,
             "learn": [
              8.336768187e-05
             ],
             "passed_time": 34.21451214,
             "remaining_time": 0.2411899144,
             "test": [
              0.0002585017559
             ]
            },
            {
             "iteration": 1986,
             "learn": [
              8.333060352e-05
             ],
             "passed_time": 34.2281826,
             "remaining_time": 0.223938789,
             "test": [
              0.0002584953186
             ]
            },
            {
             "iteration": 1987,
             "learn": [
              8.31830679e-05
             ],
             "passed_time": 34.24215091,
             "remaining_time": 0.2066930638,
             "test": [
              0.0002582971194
             ]
            },
            {
             "iteration": 1988,
             "learn": [
              8.310961272e-05
             ],
             "passed_time": 34.2671657,
             "remaining_time": 0.1895117258,
             "test": [
              0.0002583094265
             ]
            },
            {
             "iteration": 1989,
             "learn": [
              8.30426923e-05
             ],
             "passed_time": 34.28633164,
             "remaining_time": 0.1722931238,
             "test": [
              0.0002583195741
             ]
            },
            {
             "iteration": 1990,
             "learn": [
              8.284741612e-05
             ],
             "passed_time": 34.31583573,
             "remaining_time": 0.1551192976,
             "test": [
              0.0002579699591
             ]
            },
            {
             "iteration": 1991,
             "learn": [
              8.268695342e-05
             ],
             "passed_time": 34.33667388,
             "remaining_time": 0.1378982887,
             "test": [
              0.0002577663743
             ]
            },
            {
             "iteration": 1992,
             "learn": [
              8.267725717e-05
             ],
             "passed_time": 34.35436085,
             "remaining_time": 0.120662582,
             "test": [
              0.0002577707893
             ]
            },
            {
             "iteration": 1993,
             "learn": [
              8.246743444e-05
             ],
             "passed_time": 34.3680398,
             "remaining_time": 0.1034143625,
             "test": [
              0.0002574422177
             ]
            },
            {
             "iteration": 1994,
             "learn": [
              8.246758068e-05
             ],
             "passed_time": 34.38197472,
             "remaining_time": 0.08617036272,
             "test": [
              0.0002574446657
             ]
            },
            {
             "iteration": 1995,
             "learn": [
              8.246771285e-05
             ],
             "passed_time": 34.40080792,
             "remaining_time": 0.06893949484,
             "test": [
              0.0002574446458
             ]
            },
            {
             "iteration": 1996,
             "learn": [
              8.246650503e-05
             ],
             "passed_time": 34.41405335,
             "remaining_time": 0.05169862796,
             "test": [
              0.00025744448
             ]
            },
            {
             "iteration": 1997,
             "learn": [
              8.239865802e-05
             ],
             "passed_time": 34.43670149,
             "remaining_time": 0.03447117267,
             "test": [
              0.0002574230918
             ]
            },
            {
             "iteration": 1998,
             "learn": [
              8.239765127e-05
             ],
             "passed_time": 34.45168704,
             "remaining_time": 0.01723446075,
             "test": [
              0.0002574231674
             ]
            },
            {
             "iteration": 1999,
             "learn": [
              8.239807028e-05
             ],
             "passed_time": 34.46309105,
             "remaining_time": 0,
             "test": [
              0.0002574231924
             ]
            }
           ],
           "meta": {
            "iteration_count": 2000,
            "launch_mode": "Train",
            "learn_metrics": [
             {
              "best_value": "Min",
              "name": "Logloss"
             }
            ],
            "learn_sets": [
             "learn"
            ],
            "name": "experiment",
            "parameters": "",
            "test_metrics": [
             {
              "best_value": "Min",
              "name": "Logloss"
             }
            ],
            "test_sets": [
             "test"
            ]
           }
          },
          "passed_iterations": 1999,
          "total_iterations": 2000
         },
         "name": "catboost_info",
         "path": "catboost_info"
        }
       },
       "layout": "IPY_MODEL_765ef7100e54497caead5cb96271cb26"
      }
     },
     "cc04b102cf3f4c1ebe8674582a3c0aeb": {
      "model_module": "@jupyter-widgets/base",
      "model_module_version": "2.0.0",
      "model_name": "LayoutModel",
      "state": {
       "align_self": "stretch",
       "height": "500px"
      }
     },
     "e5a3c72826934a6d8370ad688eadd13e": {
      "model_module": "catboost-widget",
      "model_module_version": "^1.0.0",
      "model_name": "CatboostWidgetModel",
      "state": {
       "_model_module_version": "^1.0.0",
       "_view_module_version": "^1.0.0",
       "data": {
        "catboost_info": {
         "content": {
          "data": {
           "iterations": [],
           "meta": {}
          },
          "passed_iterations": 0,
          "total_iterations": 0
         },
         "name": "catboost_info",
         "path": "catboost_info"
        }
       },
       "layout": "IPY_MODEL_cc04b102cf3f4c1ebe8674582a3c0aeb"
      }
     }
    },
    "version_major": 2,
    "version_minor": 0
   }
  }
 },
 "nbformat": 4,
 "nbformat_minor": 5
}

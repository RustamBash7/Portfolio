{
 "cells": [
  {
   "cell_type": "markdown",
   "id": "345f2b0c",
   "metadata": {},
   "source": [
    "# Анализ данных сервиса проката самокатов GoFast"
   ]
  },
  {
   "cell_type": "markdown",
   "id": "9b538a35",
   "metadata": {},
   "source": [
    "**Введение** В этом проекте по сервису аренды самокатов GoFast на основании предоставленных сведений о некоторых пользователях из нескольких городов, а также об их поездках сделана аналитика данных и проверка некоторыx гипотез, которые могут помочь бизнесу вырасти."
   ]
  },
  {
   "cell_type": "code",
   "execution_count": 1,
   "id": "dae819f6",
   "metadata": {},
   "outputs": [],
   "source": [
    "import pandas as pd\n",
    "import numpy as np\n",
    "from scipy import stats as st\n",
    "from matplotlib import pyplot as plt\n",
    "from math import factorial\n",
    "from math import sqrt\n",
    "from scipy. stats import norm\n"
   ]
  },
  {
   "cell_type": "markdown",
   "id": "4990eaec",
   "metadata": {},
   "source": [
    "#### Шаг 1. Загрузка данных"
   ]
  },
  {
   "cell_type": "code",
   "execution_count": 2,
   "id": "96a4a6ae",
   "metadata": {},
   "outputs": [
    {
     "name": "stdout",
     "output_type": "stream",
     "text": [
      "таблица users\n"
     ]
    },
    {
     "data": {
      "text/html": [
       "<div>\n",
       "<style scoped>\n",
       "    .dataframe tbody tr th:only-of-type {\n",
       "        vertical-align: middle;\n",
       "    }\n",
       "\n",
       "    .dataframe tbody tr th {\n",
       "        vertical-align: top;\n",
       "    }\n",
       "\n",
       "    .dataframe thead th {\n",
       "        text-align: right;\n",
       "    }\n",
       "</style>\n",
       "<table border=\"1\" class=\"dataframe\">\n",
       "  <thead>\n",
       "    <tr style=\"text-align: right;\">\n",
       "      <th></th>\n",
       "      <th>user_id</th>\n",
       "      <th>name</th>\n",
       "      <th>age</th>\n",
       "      <th>city</th>\n",
       "      <th>subscription_type</th>\n",
       "    </tr>\n",
       "  </thead>\n",
       "  <tbody>\n",
       "    <tr>\n",
       "      <th>0</th>\n",
       "      <td>1</td>\n",
       "      <td>Кира</td>\n",
       "      <td>22</td>\n",
       "      <td>Тюмень</td>\n",
       "      <td>ultra</td>\n",
       "    </tr>\n",
       "    <tr>\n",
       "      <th>1</th>\n",
       "      <td>2</td>\n",
       "      <td>Станислав</td>\n",
       "      <td>31</td>\n",
       "      <td>Омск</td>\n",
       "      <td>ultra</td>\n",
       "    </tr>\n",
       "    <tr>\n",
       "      <th>2</th>\n",
       "      <td>3</td>\n",
       "      <td>Алексей</td>\n",
       "      <td>20</td>\n",
       "      <td>Москва</td>\n",
       "      <td>ultra</td>\n",
       "    </tr>\n",
       "    <tr>\n",
       "      <th>3</th>\n",
       "      <td>4</td>\n",
       "      <td>Константин</td>\n",
       "      <td>26</td>\n",
       "      <td>Ростов-на-Дону</td>\n",
       "      <td>ultra</td>\n",
       "    </tr>\n",
       "    <tr>\n",
       "      <th>4</th>\n",
       "      <td>5</td>\n",
       "      <td>Адель</td>\n",
       "      <td>28</td>\n",
       "      <td>Омск</td>\n",
       "      <td>ultra</td>\n",
       "    </tr>\n",
       "  </tbody>\n",
       "</table>\n",
       "</div>"
      ],
      "text/plain": [
       "   user_id        name  age            city subscription_type\n",
       "0        1        Кира   22          Тюмень             ultra\n",
       "1        2   Станислав   31            Омск             ultra\n",
       "2        3     Алексей   20          Москва             ultra\n",
       "3        4  Константин   26  Ростов-на-Дону             ultra\n",
       "4        5       Адель   28            Омск             ultra"
      ]
     },
     "metadata": {},
     "output_type": "display_data"
    },
    {
     "name": "stdout",
     "output_type": "stream",
     "text": [
      "\n",
      "<class 'pandas.core.frame.DataFrame'>\n",
      "RangeIndex: 1565 entries, 0 to 1564\n",
      "Data columns (total 5 columns):\n",
      " #   Column             Non-Null Count  Dtype \n",
      "---  ------             --------------  ----- \n",
      " 0   user_id            1565 non-null   int64 \n",
      " 1   name               1565 non-null   object\n",
      " 2   age                1565 non-null   int64 \n",
      " 3   city               1565 non-null   object\n",
      " 4   subscription_type  1565 non-null   object\n",
      "dtypes: int64(2), object(3)\n",
      "memory usage: 61.3+ KB\n",
      "None\n",
      "\n",
      "таблица rides\n"
     ]
    },
    {
     "data": {
      "text/html": [
       "<div>\n",
       "<style scoped>\n",
       "    .dataframe tbody tr th:only-of-type {\n",
       "        vertical-align: middle;\n",
       "    }\n",
       "\n",
       "    .dataframe tbody tr th {\n",
       "        vertical-align: top;\n",
       "    }\n",
       "\n",
       "    .dataframe thead th {\n",
       "        text-align: right;\n",
       "    }\n",
       "</style>\n",
       "<table border=\"1\" class=\"dataframe\">\n",
       "  <thead>\n",
       "    <tr style=\"text-align: right;\">\n",
       "      <th></th>\n",
       "      <th>user_id</th>\n",
       "      <th>distance</th>\n",
       "      <th>duration</th>\n",
       "      <th>date</th>\n",
       "    </tr>\n",
       "  </thead>\n",
       "  <tbody>\n",
       "    <tr>\n",
       "      <th>0</th>\n",
       "      <td>1</td>\n",
       "      <td>4409.919140</td>\n",
       "      <td>25.599769</td>\n",
       "      <td>2021-01-01</td>\n",
       "    </tr>\n",
       "    <tr>\n",
       "      <th>1</th>\n",
       "      <td>1</td>\n",
       "      <td>2617.592153</td>\n",
       "      <td>15.816871</td>\n",
       "      <td>2021-01-18</td>\n",
       "    </tr>\n",
       "    <tr>\n",
       "      <th>2</th>\n",
       "      <td>1</td>\n",
       "      <td>754.159807</td>\n",
       "      <td>6.232113</td>\n",
       "      <td>2021-04-20</td>\n",
       "    </tr>\n",
       "    <tr>\n",
       "      <th>3</th>\n",
       "      <td>1</td>\n",
       "      <td>2694.783254</td>\n",
       "      <td>18.511000</td>\n",
       "      <td>2021-08-11</td>\n",
       "    </tr>\n",
       "    <tr>\n",
       "      <th>4</th>\n",
       "      <td>1</td>\n",
       "      <td>4028.687306</td>\n",
       "      <td>26.265803</td>\n",
       "      <td>2021-08-28</td>\n",
       "    </tr>\n",
       "  </tbody>\n",
       "</table>\n",
       "</div>"
      ],
      "text/plain": [
       "   user_id     distance   duration        date\n",
       "0        1  4409.919140  25.599769  2021-01-01\n",
       "1        1  2617.592153  15.816871  2021-01-18\n",
       "2        1   754.159807   6.232113  2021-04-20\n",
       "3        1  2694.783254  18.511000  2021-08-11\n",
       "4        1  4028.687306  26.265803  2021-08-28"
      ]
     },
     "metadata": {},
     "output_type": "display_data"
    },
    {
     "name": "stdout",
     "output_type": "stream",
     "text": [
      "\n",
      "<class 'pandas.core.frame.DataFrame'>\n",
      "RangeIndex: 18068 entries, 0 to 18067\n",
      "Data columns (total 4 columns):\n",
      " #   Column    Non-Null Count  Dtype  \n",
      "---  ------    --------------  -----  \n",
      " 0   user_id   18068 non-null  int64  \n",
      " 1   distance  18068 non-null  float64\n",
      " 2   duration  18068 non-null  float64\n",
      " 3   date      18068 non-null  object \n",
      "dtypes: float64(2), int64(1), object(1)\n",
      "memory usage: 564.8+ KB\n",
      "None\n",
      "\n",
      "таблица subscription\n"
     ]
    },
    {
     "data": {
      "text/html": [
       "<div>\n",
       "<style scoped>\n",
       "    .dataframe tbody tr th:only-of-type {\n",
       "        vertical-align: middle;\n",
       "    }\n",
       "\n",
       "    .dataframe tbody tr th {\n",
       "        vertical-align: top;\n",
       "    }\n",
       "\n",
       "    .dataframe thead th {\n",
       "        text-align: right;\n",
       "    }\n",
       "</style>\n",
       "<table border=\"1\" class=\"dataframe\">\n",
       "  <thead>\n",
       "    <tr style=\"text-align: right;\">\n",
       "      <th></th>\n",
       "      <th>subscription_type</th>\n",
       "      <th>minute_price</th>\n",
       "      <th>start_ride_price</th>\n",
       "      <th>subscription_fee</th>\n",
       "    </tr>\n",
       "  </thead>\n",
       "  <tbody>\n",
       "    <tr>\n",
       "      <th>0</th>\n",
       "      <td>free</td>\n",
       "      <td>8</td>\n",
       "      <td>50</td>\n",
       "      <td>0</td>\n",
       "    </tr>\n",
       "    <tr>\n",
       "      <th>1</th>\n",
       "      <td>ultra</td>\n",
       "      <td>6</td>\n",
       "      <td>0</td>\n",
       "      <td>199</td>\n",
       "    </tr>\n",
       "  </tbody>\n",
       "</table>\n",
       "</div>"
      ],
      "text/plain": [
       "  subscription_type  minute_price  start_ride_price  subscription_fee\n",
       "0              free             8                50                 0\n",
       "1             ultra             6                 0               199"
      ]
     },
     "metadata": {},
     "output_type": "display_data"
    },
    {
     "name": "stdout",
     "output_type": "stream",
     "text": [
      "\n",
      "<class 'pandas.core.frame.DataFrame'>\n",
      "RangeIndex: 2 entries, 0 to 1\n",
      "Data columns (total 4 columns):\n",
      " #   Column             Non-Null Count  Dtype \n",
      "---  ------             --------------  ----- \n",
      " 0   subscription_type  2 non-null      object\n",
      " 1   minute_price       2 non-null      int64 \n",
      " 2   start_ride_price   2 non-null      int64 \n",
      " 3   subscription_fee   2 non-null      int64 \n",
      "dtypes: int64(3), object(1)\n",
      "memory usage: 192.0+ bytes\n"
     ]
    }
   ],
   "source": [
    "users = pd.read_csv('/datasets/users_go.csv')\n",
    "rides = pd.read_csv('/datasets/rides_go.csv')\n",
    "subscription = pd.read_csv('/datasets/subscriptions_go.csv')\n",
    "print(\"таблица users\")\n",
    "display(users.head(5))\n",
    "print()\n",
    "print(users.info())\n",
    "print()\n",
    "print(\"таблица rides\")\n",
    "display(rides.head(5))\n",
    "print()\n",
    "print(rides.info())\n",
    "print()\n",
    "print(\"таблица subscription\")\n",
    "display(subscription.head(5))\n",
    "print()\n",
    "subscription.info()"
   ]
  },
  {
   "cell_type": "markdown",
   "id": "4498c143",
   "metadata": {},
   "source": [
    "В загруженных данных есть информация о пользователях, их поездках и подписках."
   ]
  },
  {
   "cell_type": "markdown",
   "id": "6eb9300b",
   "metadata": {},
   "source": [
    "#### Шаг 2. Предобработка данных"
   ]
  },
  {
   "cell_type": "code",
   "execution_count": 3,
   "id": "05d3cca4",
   "metadata": {},
   "outputs": [
    {
     "name": "stdout",
     "output_type": "stream",
     "text": [
      "user_id              0\n",
      "name                 0\n",
      "age                  0\n",
      "city                 0\n",
      "subscription_type    0\n",
      "dtype: int64\n",
      "\n",
      "user_id     0\n",
      "distance    0\n",
      "duration    0\n",
      "date        0\n",
      "month       0\n",
      "dtype: int64\n",
      "\n"
     ]
    },
    {
     "data": {
      "text/plain": [
       "subscription_type    0\n",
       "minute_price         0\n",
       "start_ride_price     0\n",
       "subscription_fee     0\n",
       "dtype: int64"
      ]
     },
     "execution_count": 3,
     "metadata": {},
     "output_type": "execute_result"
    }
   ],
   "source": [
    "rides[\"date\"] = pd.to_datetime(rides[\"date\"], format ='%Y-%m-%d')\n",
    "rides[\"month\"] = rides[\"date\"].dt.month\n",
    "print(users.isna().sum())\n",
    "print()\n",
    "print(rides.isna().sum())\n",
    "print()\n",
    "subscription.isna().sum()\n",
    "\n"
   ]
  },
  {
   "cell_type": "code",
   "execution_count": 4,
   "id": "5bf50133",
   "metadata": {},
   "outputs": [
    {
     "name": "stdout",
     "output_type": "stream",
     "text": [
      "2021-01-01 00:00:00 2021-12-30 00:00:00\n"
     ]
    }
   ],
   "source": [
    "print(rides[\"date\"].min(),rides[\"date\"].max())\n"
   ]
  },
  {
   "cell_type": "markdown",
   "id": "9209b584",
   "metadata": {},
   "source": [
    "Все даты принадлежат к одному году."
   ]
  },
  {
   "cell_type": "markdown",
   "id": "5f706d4d",
   "metadata": {},
   "source": [
    "Пропусков данных не обнаружено."
   ]
  },
  {
   "cell_type": "code",
   "execution_count": 5,
   "id": "b7c269c4",
   "metadata": {},
   "outputs": [
    {
     "name": "stdout",
     "output_type": "stream",
     "text": [
      "31\n"
     ]
    },
    {
     "data": {
      "text/plain": [
       "0"
      ]
     },
     "execution_count": 5,
     "metadata": {},
     "output_type": "execute_result"
    }
   ],
   "source": [
    "print(users.duplicated().sum())\n",
    "rides.duplicated().sum()"
   ]
  },
  {
   "cell_type": "code",
   "execution_count": 6,
   "id": "70903d29",
   "metadata": {},
   "outputs": [
    {
     "name": "stdout",
     "output_type": "stream",
     "text": [
      "<class 'pandas.core.frame.DataFrame'>\n",
      "Int64Index: 1534 entries, 0 to 1533\n",
      "Data columns (total 5 columns):\n",
      " #   Column             Non-Null Count  Dtype \n",
      "---  ------             --------------  ----- \n",
      " 0   user_id            1534 non-null   int64 \n",
      " 1   name               1534 non-null   object\n",
      " 2   age                1534 non-null   int64 \n",
      " 3   city               1534 non-null   object\n",
      " 4   subscription_type  1534 non-null   object\n",
      "dtypes: int64(2), object(3)\n",
      "memory usage: 71.9+ KB\n"
     ]
    }
   ],
   "source": [
    "users = users.drop_duplicates()\n",
    "users.info()"
   ]
  },
  {
   "cell_type": "code",
   "execution_count": 7,
   "id": "581e064f",
   "metadata": {},
   "outputs": [
    {
     "data": {
      "text/plain": [
       "array(['Тюмень', 'Омск', 'Москва', 'Ростов-на-Дону', 'Краснодар',\n",
       "       'Пятигорск', 'Екатеринбург', 'Сочи'], dtype=object)"
      ]
     },
     "execution_count": 7,
     "metadata": {},
     "output_type": "execute_result"
    }
   ],
   "source": [
    "users[\"city\"].unique()"
   ]
  },
  {
   "cell_type": "markdown",
   "id": "dab3442d",
   "metadata": {},
   "source": [
    "Неявных дубликатов в названиях городов не обнаружено."
   ]
  },
  {
   "cell_type": "markdown",
   "id": "b7243bfb",
   "metadata": {},
   "source": [
    "В ходе предобработки данных пропусков и неявных дубликатов данных не обнаружено, в таблице users обнаружены и удалены дубликаты, столбец date приведен к типу даты pandas, а таже проверено, что даты принадлежат к одному году,создан новый столбец с номером месяца на основе столбца date."
   ]
  },
  {
   "cell_type": "markdown",
   "id": "9e8f1b89",
   "metadata": {},
   "source": [
    "#### Шаг 3. Исследовательский анализ данных"
   ]
  },
  {
   "cell_type": "code",
   "execution_count": 8,
   "id": "af4ff466",
   "metadata": {},
   "outputs": [
    {
     "name": "stdout",
     "output_type": "stream",
     "text": [
      "Москва            168\n",
      "Тюмень            180\n",
      "Омск              183\n",
      "Сочи              189\n",
      "Краснодар         193\n",
      "Ростов-на-Дону    198\n",
      "Екатеринбург      204\n",
      "Пятигорск         219\n",
      "Name: city, dtype: int64\n"
     ]
    },
    {
     "data": {
      "image/png": "[encoded data removed]",
      "text/plain": [
       "<Figure size 432x288 with 1 Axes>"
      ]
     },
     "metadata": {
      "needs_background": "light"
     },
     "output_type": "display_data"
    }
   ],
   "source": [
    "a = users[\"city\"].value_counts(ascending = True)\n",
    "print(a)\n",
    "a.plot(kind=\"barh\")\n",
    "plt.xlabel(\"frequency\")\n",
    "plt.ylabel(\"sity\")\n",
    "plt.title(\"Распределение по городам\")\n",
    "plt.show()"
   ]
  },
  {
   "cell_type": "markdown",
   "id": "e7571366",
   "metadata": {},
   "source": [
    "Всех пользователей больше из Пятигорска, меньше всех в Москве."
   ]
  },
  {
   "cell_type": "code",
   "execution_count": 9,
   "id": "8c021c0d",
   "metadata": {},
   "outputs": [
    {
     "data": {
      "image/png": "[encoded data removed]",
      "text/plain": [
       "<Figure size 432x288 with 1 Axes>"
      ]
     },
     "metadata": {},
     "output_type": "display_data"
    }
   ],
   "source": [
    "#users[\"subscription_type\"].hist(bins=2)\n",
    "a = users[\"subscription_type\"].value_counts()\n",
    "a.plot(kind=\"pie\")\n",
    "plt.title(\"Распределение по подписке(%)\")\n",
    "plt.show()"
   ]
  },
  {
   "cell_type": "markdown",
   "id": "3d7a15d4",
   "metadata": {},
   "source": [
    "Пользователей без подписки больше, чем пользователей с подпиской."
   ]
  },
  {
   "cell_type": "code",
   "execution_count": 10,
   "id": "2d0df6e2",
   "metadata": {},
   "outputs": [
    {
     "data": {
      "image/png": "[encoded data removed]",
      "text/plain": [
       "<Figure size 432x288 with 1 Axes>"
      ]
     },
     "metadata": {
      "needs_background": "light"
     },
     "output_type": "display_data"
    }
   ],
   "source": [
    "users[\"age\"].plot(kind=\"hist\",bins=10)\n",
    "plt.ylabel(\"frequency\")\n",
    "plt.xlabel(\"age\")\n",
    "plt.title(\"Распределение по возрасту\")\n",
    "plt.show()\n"
   ]
  },
  {
   "cell_type": "markdown",
   "id": "010901b8",
   "metadata": {},
   "source": [
    " Распределение пользователей по возрастам по графику близко к  нормальному, с пиком в 25 лет, в диапазоне от 12 до 47 лет."
   ]
  },
  {
   "cell_type": "code",
   "execution_count": 11,
   "id": "67c81537",
   "metadata": {},
   "outputs": [
    {
     "data": {
      "image/png": "[encoded data removed]",
      "text/plain": [
       "<Figure size 432x288 with 1 Axes>"
      ]
     },
     "metadata": {
      "needs_background": "light"
     },
     "output_type": "display_data"
    }
   ],
   "source": [
    "rides[\"distance\"].plot(kind=\"hist\",bins=20)\n",
    "plt.ylabel(\"frequency\")\n",
    "plt.xlabel(\"distance\")\n",
    "plt.title(\"Распределение по расстоянию\")\n",
    "plt.show()"
   ]
  },
  {
   "cell_type": "markdown",
   "id": "950c90e1",
   "metadata": {},
   "source": [
    "Самая частая дистанция одной поездки пользователя от 2900м до 3600м, сами дистанции в в диапазоне от 0м до 7100м."
   ]
  },
  {
   "cell_type": "code",
   "execution_count": 12,
   "id": "98b451fd",
   "metadata": {},
   "outputs": [
    {
     "data": {
      "image/png": "[encoded data removed]",
      "text/plain": [
       "<Figure size 432x288 with 1 Axes>"
      ]
     },
     "metadata": {
      "needs_background": "light"
     },
     "output_type": "display_data"
    }
   ],
   "source": [
    "rides[\"duration\"].plot(kind=\"hist\",bins=30)\n",
    "plt.ylabel(\"frequency\")\n",
    "plt.xlabel(\"duration\")\n",
    "plt.title(\"Распределение по продолжительности поездки\")\n",
    "plt.show()"
   ]
  },
  {
   "cell_type": "markdown",
   "id": "4e715154",
   "metadata": {},
   "source": [
    "Самая частая продолжительность поездки 17-20 минут, время поездок в диапазоне от 1 минуты до 40 минут"
   ]
  },
  {
   "cell_type": "markdown",
   "id": "33a6d966",
   "metadata": {},
   "source": [
    "В ходе исследовательского анализа данных были выяснено, что всех пользователей больше из Пятигорска, меньше всех в Москве,пользователей без подписки больше, чем пользователей с подпиской,распределение пользователей по возрастам по графику близко к  нормальному, с пиком в 25 лет, в диапазоне от 12 до 47 лет,самая частая дистанция одной поездки пользователя от 2900м до 3600м, сами дистанции в в диапазоне от 0м до 7100м,самая частая продолжительность поездки 17-20 минут, время поездок в диапазоне от 1 минуты до 40 минут."
   ]
  },
  {
   "cell_type": "markdown",
   "id": "ec91745f",
   "metadata": {},
   "source": [
    "#### Шаг 4. Объединение данных"
   ]
  },
  {
   "cell_type": "code",
   "execution_count": 13,
   "id": "80c0a742",
   "metadata": {},
   "outputs": [
    {
     "name": "stdout",
     "output_type": "stream",
     "text": [
      "<class 'pandas.core.frame.DataFrame'>\n",
      "Int64Index: 18068 entries, 0 to 18067\n",
      "Data columns (total 12 columns):\n",
      " #   Column             Non-Null Count  Dtype         \n",
      "---  ------             --------------  -----         \n",
      " 0   user_id            18068 non-null  int64         \n",
      " 1   name               18068 non-null  object        \n",
      " 2   age                18068 non-null  int64         \n",
      " 3   city               18068 non-null  object        \n",
      " 4   subscription_type  18068 non-null  object        \n",
      " 5   distance           18068 non-null  float64       \n",
      " 6   duration           18068 non-null  float64       \n",
      " 7   date               18068 non-null  datetime64[ns]\n",
      " 8   month              18068 non-null  int64         \n",
      " 9   minute_price       18068 non-null  int64         \n",
      " 10  start_ride_price   18068 non-null  int64         \n",
      " 11  subscription_fee   18068 non-null  int64         \n",
      "dtypes: datetime64[ns](1), float64(2), int64(6), object(3)\n",
      "memory usage: 1.8+ MB\n",
      "None\n"
     ]
    }
   ],
   "source": [
    "summary_zero = users.merge(rides,on =\"user_id\") #промежуточная таблица\n",
    "summary = summary_zero.merge(subscription,on=\"subscription_type\") #объединенная таблица\n",
    "summary_ultra = summary.query(\"subscription_type == 'ultra'\") #таблица пользователей с подпиской\n",
    "summary_free = summary.query(\"subscription_type == 'free'\") #таблица пользователей без подписки\n",
    "print(summary.info())\n",
    "                          "
   ]
  },
  {
   "cell_type": "markdown",
   "id": "1b983671",
   "metadata": {},
   "source": [
    "Размер суммарной таблицы по количеству строк(18068) равен размеру таблицы rides по количеству строк(18068), что правильно, так как rides содержит информацию о поездках. "
   ]
  },
  {
   "cell_type": "code",
   "execution_count": 14,
   "id": "39977a2a",
   "metadata": {},
   "outputs": [
    {
     "data": {
      "image/png": "[encoded data removed]",
      "text/plain": [
       "<Figure size 432x288 with 1 Axes>"
      ]
     },
     "metadata": {
      "needs_background": "light"
     },
     "output_type": "display_data"
    }
   ],
   "source": [
    "summary_ultra[\"distance\"].plot(kind=\"hist\",bins=30)\n",
    "plt.ylabel(\"frequency\")\n",
    "plt.xlabel(\"distance\")\n",
    "plt.title(\"Распределение по расстоянию ultra\")\n",
    "plt.show() "
   ]
  },
  {
   "cell_type": "code",
   "execution_count": 15,
   "id": "b35fec5a",
   "metadata": {},
   "outputs": [
    {
     "data": {
      "image/png": "[encoded data removed]",
      "text/plain": [
       "<Figure size 432x288 with 1 Axes>"
      ]
     },
     "metadata": {
      "needs_background": "light"
     },
     "output_type": "display_data"
    }
   ],
   "source": [
    "summary_free[\"distance\"].plot(kind=\"hist\",bins=30)\n",
    "plt.ylabel(\"frequency\")\n",
    "plt.xlabel(\"distance\")\n",
    "plt.title(\"Распределение по расстоянию free\")\n",
    "plt.show()"
   ]
  },
  {
   "cell_type": "markdown",
   "id": "371c2ff3",
   "metadata": {},
   "source": [
    "Пик поездок пользователей по расстоянию у тех, кто с подпиской - более выражен(3000м-3300м), у тех, кто без подписки - более равномерно распределен(2100-3500м)."
   ]
  },
  {
   "cell_type": "code",
   "execution_count": 16,
   "id": "00065204",
   "metadata": {},
   "outputs": [
    {
     "data": {
      "image/png": "[encoded data removed]",
      "text/plain": [
       "<Figure size 432x288 with 1 Axes>"
      ]
     },
     "metadata": {
      "needs_background": "light"
     },
     "output_type": "display_data"
    }
   ],
   "source": [
    "summary_ultra[\"duration\"].plot(kind=\"hist\",bins=30)\n",
    "plt.ylabel(\"frequency\")\n",
    "plt.xlabel(\"duration\")\n",
    "plt.title(\"Распределение по продолжительности поездки ultra\")\n",
    "plt.show()"
   ]
  },
  {
   "cell_type": "code",
   "execution_count": 17,
   "id": "5ed6cb7e",
   "metadata": {},
   "outputs": [
    {
     "data": {
      "image/png": "[encoded data removed]",
      "text/plain": [
       "<Figure size 432x288 with 1 Axes>"
      ]
     },
     "metadata": {
      "needs_background": "light"
     },
     "output_type": "display_data"
    }
   ],
   "source": [
    "summary_free[\"duration\"].plot(kind=\"hist\",bins=30)\n",
    "plt.ylabel(\"frequency\")\n",
    "plt.xlabel(\"duration\")\n",
    "plt.title(\"Распределение по продолжительности поездки free\")\n",
    "plt.show()"
   ]
  },
  {
   "cell_type": "markdown",
   "id": "ebcc9bbc",
   "metadata": {},
   "source": [
    "Сделаны объединенные таблицы и проверены на количество строк с исходными.Построены графики на основе таблиц с последующими выводами.\n",
    "Пик поездок пользователей по расстоянию у тех, кто с подпиской - более выражен(3000м-3300м), у тех, кто без подписки - более равномерно распределен(2100-3500м).Пик поездок пользователей по времени у тех, кто с подпиской - более выражен(15 минут-17 минут), у тех, кто без подписки - более равномерно распределен(14 минут-20 минут)."
   ]
  },
  {
   "cell_type": "markdown",
   "id": "058d2da1",
   "metadata": {},
   "source": [
    "#### Шаг 5. Подсчёт выручки"
   ]
  },
  {
   "cell_type": "code",
   "execution_count": 18,
   "id": "9ca312b8",
   "metadata": {},
   "outputs": [
    {
     "data": {
      "text/html": [
       "<div>\n",
       "<style scoped>\n",
       "    .dataframe tbody tr th:only-of-type {\n",
       "        vertical-align: middle;\n",
       "    }\n",
       "\n",
       "    .dataframe tbody tr th {\n",
       "        vertical-align: top;\n",
       "    }\n",
       "\n",
       "    .dataframe thead th {\n",
       "        text-align: right;\n",
       "    }\n",
       "</style>\n",
       "<table border=\"1\" class=\"dataframe\">\n",
       "  <thead>\n",
       "    <tr style=\"text-align: right;\">\n",
       "      <th></th>\n",
       "      <th></th>\n",
       "      <th>ride_sum</th>\n",
       "      <th>distance_sum</th>\n",
       "      <th>duration_sum</th>\n",
       "      <th>subscription_fee</th>\n",
       "      <th>revenue</th>\n",
       "    </tr>\n",
       "    <tr>\n",
       "      <th>month</th>\n",
       "      <th>user_id</th>\n",
       "      <th></th>\n",
       "      <th></th>\n",
       "      <th></th>\n",
       "      <th></th>\n",
       "      <th></th>\n",
       "    </tr>\n",
       "  </thead>\n",
       "  <tbody>\n",
       "    <tr>\n",
       "      <th rowspan=\"5\" valign=\"top\">1</th>\n",
       "      <th>1</th>\n",
       "      <td>2</td>\n",
       "      <td>7027.511294</td>\n",
       "      <td>42.0</td>\n",
       "      <td>199</td>\n",
       "      <td>451.0</td>\n",
       "    </tr>\n",
       "    <tr>\n",
       "      <th>3</th>\n",
       "      <td>1</td>\n",
       "      <td>3061.777147</td>\n",
       "      <td>13.0</td>\n",
       "      <td>199</td>\n",
       "      <td>277.0</td>\n",
       "    </tr>\n",
       "    <tr>\n",
       "      <th>5</th>\n",
       "      <td>1</td>\n",
       "      <td>3914.646990</td>\n",
       "      <td>13.0</td>\n",
       "      <td>199</td>\n",
       "      <td>277.0</td>\n",
       "    </tr>\n",
       "    <tr>\n",
       "      <th>7</th>\n",
       "      <td>2</td>\n",
       "      <td>6478.080979</td>\n",
       "      <td>28.0</td>\n",
       "      <td>199</td>\n",
       "      <td>367.0</td>\n",
       "    </tr>\n",
       "    <tr>\n",
       "      <th>12</th>\n",
       "      <td>1</td>\n",
       "      <td>3577.151148</td>\n",
       "      <td>33.0</td>\n",
       "      <td>199</td>\n",
       "      <td>397.0</td>\n",
       "    </tr>\n",
       "  </tbody>\n",
       "</table>\n",
       "</div>"
      ],
      "text/plain": [
       "               ride_sum  distance_sum  duration_sum  subscription_fee  revenue\n",
       "month user_id                                                                 \n",
       "1     1               2   7027.511294          42.0               199    451.0\n",
       "      3               1   3061.777147          13.0               199    277.0\n",
       "      5               1   3914.646990          13.0               199    277.0\n",
       "      7               2   6478.080979          28.0               199    367.0\n",
       "      12              1   3577.151148          33.0               199    397.0"
      ]
     },
     "execution_count": 18,
     "metadata": {},
     "output_type": "execute_result"
    }
   ],
   "source": [
    "summary['duration'] = np.ceil(summary['duration'])\n",
    "summary_agg = summary.groupby(['month','user_id']).aggregate({'user_id':'count','distance':'sum',\n",
    "'duration':'sum','minute_price':'first','start_ride_price':'first','subscription_fee':'first'})\n",
    "\n",
    "summary_agg['revenue'] = (summary_agg['user_id']*summary_agg['start_ride_price']+\n",
    "summary_agg['minute_price']*summary_agg['duration']+summary_agg['subscription_fee'])\n",
    "summary_agg = summary_agg.drop(['minute_price','start_ride_price'],axis ='columns')\n",
    "summary_agg = summary_agg.rename(columns={'user_id':'ride_sum','distance':'distance_sum','duration':'duration_sum',})\n",
    "summary_agg.head(5)"
   ]
  },
  {
   "cell_type": "markdown",
   "id": "6ac7d134",
   "metadata": {},
   "source": [
    "Сделана сводная таблица для расчета выручки по месяцам по формуле : (стоимость старта поездки умножить на  количество поездок) плюс (стоимость одной минуты поездки умножить на общая продолжительность всех поездок в минутах) плюс стоимость подписки."
   ]
  },
  {
   "cell_type": "markdown",
   "id": "ebebd819",
   "metadata": {},
   "source": [
    "#### Шаг 6. Проверка гипотез"
   ]
  },
  {
   "cell_type": "markdown",
   "id": "5de59faf",
   "metadata": {},
   "source": [
    "##### Гипотеза о \"выгоде\" пользователей с подпиской по количеству времени на поездки"
   ]
  },
  {
   "cell_type": "markdown",
   "id": "d529fb10",
   "metadata": {},
   "source": [
    "Проверка гипотезы о том тратят ли пользователи с подпиской больше времени на поездки. Нулевая гипотеза, что количество времени одинаковое, альтернативная, что пользователи с подпиской тратят больше времени, чем пользователи без подписки. Для проверки гипотезы использование исходных данных о продолжительности каждой сессии — отдельно для подписчиков и тех, у кого нет подписки."
   ]
  },
  {
   "cell_type": "code",
   "execution_count": 20,
   "id": "ad5878c9",
   "metadata": {},
   "outputs": [
    {
     "name": "stdout",
     "output_type": "stream",
     "text": [
      "p-значение: 5.6757813771289775e-37\n",
      "Отвергаем нулевую гипотезу\n"
     ]
    }
   ],
   "source": [
    "alpha = 0.05\n",
    "results = st.ttest_ind(summary_ultra[\"duration\"], summary_free[\"duration\"],equal_var=False,alternative='greater' )\n",
    "print('p-значение:', results.pvalue)\n",
    "\n",
    "if results.pvalue < alpha:\n",
    "    print('Отвергаем нулевую гипотезу')\n",
    "else:\n",
    "    print('Не получилось отвергнуть нулевую гипотезу')"
   ]
  },
  {
   "cell_type": "markdown",
   "id": "34f63464",
   "metadata": {},
   "source": [
    " Гипотеза(альтернативная) о \"выгоде\" пользователей с подпиской по количеству времени на поездки не отвергается."
   ]
  },
  {
   "cell_type": "markdown",
   "id": "d5ae5a88",
   "metadata": {},
   "source": [
    "##### Гипотеза о том,что расстояние одной поездки пользователей с подпиской не превышает 3130 метров"
   ]
  },
  {
   "cell_type": "markdown",
   "id": "cc09737f",
   "metadata": {},
   "source": [
    "Расстояние одной поездки в 3130м метров — оптимальное с точки зрения износа самоката. Проверка гипотезы о том, что среднее расстояние, которое проезжают пользователи с подпиской за одну поездку, не превышает 3130 метров.Нулевая гипотеза, то что расстояние равно(не превышает) 3130 метров, альтернативная , что больше 3130 метров."
   ]
  },
  {
   "cell_type": "code",
   "execution_count": 21,
   "id": "d583ad5c",
   "metadata": {
    "scrolled": true
   },
   "outputs": [
    {
     "name": "stdout",
     "output_type": "stream",
     "text": [
      "p-значение: 0.9195368847849785\n",
      "Не отвергаем нулевую гипотезу\n"
     ]
    }
   ],
   "source": [
    "alpha = 0.05 \n",
    "results = st.ttest_1samp(\n",
    "    summary_ultra[\"distance\"], \n",
    "    3130,\n",
    "      alternative='greater')\n",
    "print('p-значение:', results.pvalue)\n",
    "\n",
    "if (results.pvalue < alpha):\n",
    "    print('Отвергаем нулевую гипотезу')\n",
    "else:\n",
    "    print('Не отвергаем нулевую гипотезу')"
   ]
  },
  {
   "cell_type": "markdown",
   "id": "e4251990",
   "metadata": {},
   "source": [
    " Гипотеза(нулевая) о том, что расстояние одной поездки пользователей не превышает 3130 метров не отвергается."
   ]
  },
  {
   "cell_type": "markdown",
   "id": "1bc4cafb",
   "metadata": {},
   "source": [
    "##### Гипотеза о том,что помесячная выручка от пользователей с подпиской по месяцам выше, чем выручка от пользователей без подписки"
   ]
  },
  {
   "cell_type": "markdown",
   "id": "bbecaba3",
   "metadata": {},
   "source": [
    "Проверка гипотезы о том, будет ли помесячная выручка от пользователей с подпиской по месяцам выше, чем выручка от пользователей без подписки. Нулевая гипотеза, что выручки пользователей с подпиской и без подписки равны, альтернативная, что выручка от пользователей по месяцам выше"
   ]
  },
  {
   "cell_type": "code",
   "execution_count": 22,
   "id": "d0a38ccf",
   "metadata": {
    "scrolled": true
   },
   "outputs": [
    {
     "name": "stdout",
     "output_type": "stream",
     "text": [
      "p-значение: 8.874140893976874e-40\n",
      "Отвергаем нулевую гипотезу\n"
     ]
    }
   ],
   "source": [
    "alpha = 0.05\n",
    "results = st.ttest_ind(summary_agg.loc[summary_agg[\"subscription_fee\"] > 0][\"revenue\"],\n",
    "                       summary_agg.loc[summary_agg[\"subscription_fee\"] == 0][\"revenue\"],equal_var=False,alternative='greater' )\n",
    "print('p-значение:', results.pvalue)\n",
    "\n",
    "if results.pvalue < alpha:\n",
    "    print('Отвергаем нулевую гипотезу')\n",
    "else:\n",
    "    print('Не получилось отвергнуть нулевую гипотезу')\n",
    "    "
   ]
  },
  {
   "cell_type": "markdown",
   "id": "f70055d8",
   "metadata": {},
   "source": [
    "Гипотеза(альтернативная) о том,что помесячная выручка от пользователей с подпиской по месяцам выше, чем выручка от пользователей без подписки не отвергается."
   ]
  },
  {
   "cell_type": "markdown",
   "id": "d80a1047",
   "metadata": {},
   "source": [
    "#####  Какой тест нужен для проверки гипотезы о снижении количества обращений в техподдержку после обновления серверов на основе файла с данными по каждому пользователю о количестве обращений до обновления и после него"
   ]
  },
  {
   "cell_type": "markdown",
   "id": "e5a7fe4d",
   "metadata": {},
   "source": [
    "Чтобы проверить эту гипотезу применим метод scipy.stats.ttest_rel().Ему достаточно передать всего два параметра: наборы данных до и после. Нулевая гипотеза - то, что количество обращений не изменится, альтернативная, то что изменится. Но при этом возможен вариант, когда количество обращений изменится, но в сторону увеличения... \n"
   ]
  },
  {
   "cell_type": "markdown",
   "id": "37120253",
   "metadata": {},
   "source": [
    "#### Шаг 7. Распределения"
   ]
  },
  {
   "cell_type": "markdown",
   "id": "c6ac13c3",
   "metadata": {},
   "source": [
    "##### Задание о количестве промокодов"
   ]
  },
  {
   "cell_type": "code",
   "execution_count": 23,
   "id": "4276a2d4",
   "metadata": {},
   "outputs": [
    {
     "name": "stdout",
     "output_type": "stream",
     "text": [
      "0.9502851068730583\n"
     ]
    },
    {
     "data": {
      "text/plain": [
       "<function matplotlib.pyplot.show(close=None, block=None)>"
      ]
     },
     "execution_count": 23,
     "metadata": {},
     "output_type": "execute_result"
    },
    {
     "data": {
      "image/png": "[encoded data removed]",
      "text/plain": [
       "<Figure size 432x288 with 1 Axes>"
      ]
     },
     "metadata": {
      "needs_background": "light"
     },
     "output_type": "display_data"
    }
   ],
   "source": [
    "# задаём параметры биномиального распределения\n",
    "n = 1169\n",
    "p = 0.1\n",
    "\n",
    "# задаём параметры нормального распределения равными\n",
    "# мат.ожиданию и дисперсии биномиального распределения\n",
    "mu = n * p\n",
    "sigma = sqrt(n * p * (1 - p))\n",
    "\n",
    "# задаём нормальное распределение\n",
    "distr = st.norm(mu, sigma) \n",
    "\n",
    "# считаем вероятность хвоста справа от 100 \n",
    "result = 1 - distr.cdf(100)\n",
    "print(result)\n",
    "\n",
    "x = np.arange (0, 1500, 1) # задание оси x для графика нормального распределения\n",
    "plt.plot (x, norm. pdf (x, mu, sigma))\n",
    "plt.ylabel(\"p\")\n",
    "plt.xlabel(\"n\")\n",
    "plt.title(\"График нормального распределения\")\n",
    "plt.show"
   ]
  },
  {
   "cell_type": "markdown",
   "id": "0722f8f0",
   "metadata": {},
   "source": [
    "При p=0.01 и n>200 можно аппроксимировать биномиальное распределение нормальным. Подбором n находим значение количества промокодов равное 1169 , которые подходит к условию задачи(5% вероятность невыполнения плана или 95% вероятность выполнения)"
   ]
  },
  {
   "cell_type": "markdown",
   "id": "571efc3e",
   "metadata": {},
   "source": [
    "##### Задание о push-уведомлениях"
   ]
  },
  {
   "cell_type": "code",
   "execution_count": 24,
   "id": "3dc07f3c",
   "metadata": {},
   "outputs": [
    {
     "name": "stdout",
     "output_type": "stream",
     "text": [
      "0.15371708296369768\n"
     ]
    },
    {
     "data": {
      "text/plain": [
       "<function matplotlib.pyplot.show(close=None, block=None)>"
      ]
     },
     "execution_count": 24,
     "metadata": {},
     "output_type": "execute_result"
    },
    {
     "data": {
      "image/png": "[encoded data removed]",
      "text/plain": [
       "<Figure size 432x288 with 1 Axes>"
      ]
     },
     "metadata": {
      "needs_background": "light"
     },
     "output_type": "display_data"
    }
   ],
   "source": [
    "# задаём параметры биномиального распределения\n",
    "n = 1000000\n",
    "p = 0.4\n",
    "\n",
    "# задаём параметры нормального распределения равными\n",
    "# мат.ожиданию и дисперсии биномиального распределения\n",
    "mu = n * p\n",
    "sigma = sqrt(n * p * (1 - p))\n",
    "\n",
    "# задаём нормальное распределение\n",
    "distr = st.norm(mu, sigma) \n",
    "\n",
    "# считаем вероятность хвоста слева от 399500 \n",
    "result = distr.cdf(399500)\n",
    "print(result)\n",
    "\n",
    "x = np.arange (350000, 450000, 1000) # задание оси x для графика нормального распределения\n",
    "plt.plot (x, norm. pdf (x, mu, sigma))\n",
    "plt.ylabel(\"p\")\n",
    "plt.xlabel(\"n\")\n",
    "plt.title(\"График нормального распределения\")\n",
    "plt.show"
   ]
  },
  {
   "cell_type": "markdown",
   "id": "4d2633bd",
   "metadata": {},
   "source": [
    "При p=0.4 и большом количестве n можно аппроксимировать биномиальное распределение нормальным. Вероятность того, что того, что уведомление откроют не более 399,5 тысяч пользователей составляет 15,37%\n"
   ]
  },
  {
   "cell_type": "markdown",
   "id": "f49ee245",
   "metadata": {},
   "source": [
    "**Итоговый вывод**\n",
    "В ходе проекта было сделано нижеследующее.\n",
    "1. Загружены данных с информация о пользователях, их поездках и подписках.\n",
    "2. В ходе предобработки данных пропусков и неявных дубликатов данных не обнаружено, в таблице users обнаружены и удалены дубликаты, столбец date приведен к типу даты pandas, а таже проверено, что даты принадлежат к одному году,создан новый столбец с номером месяца на основе столбца date.\n",
    "3. В ходе исследовательского анализа данных были выяснено, что пользователей больше всего из Пятигорска, меньше всех в Москве,пользователей без подписки больше, чем пользователей с подпиской,распределение пользователей по возрастам по графику близко к  нормальному, с пиком в 25 лет, в диапазоне от 12 до 47 лет,самая частая дистанция одной поездки пользователя от 2900м до 3600м, сами дистанции в в диапазоне от 0м до 7100м,самая частая продолжительность поездки 17-20 минут, время поездок в диапазоне от 1 минуты до 40 минут.\n",
    "4. Сделаны объединенные таблицы и проверены на количество строк с исходными.Построены графики на основе таблиц с последующими выводами.\n",
    "Пик поездок пользователей по расстоянию у тех, кто с подпиской - более выражен(3000м-3300м), у тех, кто без подписки - более равномерно распределен(2100-3500м).Пик поездок пользователей по времени у тех, кто с подпиской - более выражен(15 минут-17 минут), у тех, кто без подписки - более равномерно распределен(14 минут-20 минут).\n",
    "5. Сделана сводная таблица для расчета выручки по месяцам\n",
    "6. Произведена проверка гипотез, на их основе сделаны главные выводы.\n",
    "7. Сделаны задания на распределения количества промокодов и  push-уведомлений."
   ]
  },
  {
   "cell_type": "markdown",
   "id": "0a5276cf",
   "metadata": {},
   "source": [
    "Главные выводы.\n",
    "1. Гипотеза о том, что расстояние одной поездки пользователей не превышает 3130 метров не отвергается. \n",
    "2. Гипотеза о \"выгоде\" пользователей с подпиской по количеству времени на поездки не отвергается.\n",
    "3. Гипотеза о том,что помесячная выручка от пользователей с подпиской по месяцам выше, чем выручка от пользователей без подписки не отвергается.\n",
    "На основании проверки этих гипотез можно сделать вывод, что **пользователи с подпиской являются более выгодными для компании.**"
   ]
  },
  {
   "cell_type": "markdown",
   "id": "3469eaa8",
   "metadata": {},
   "source": [
    "Рекомендация.\n",
    " Уточнить критерии классификации по наличию подписки, если пользователь в течении месяца переходил из free в ultra и наоборот."
   ]
  }
 ],
 "metadata": {
  "ExecuteTimeLog": [
   {
    "duration": 50,
    "start_time": "2023-11-09T07:23:11.212Z"
   },
   {
    "duration": 436,
    "start_time": "2023-11-09T07:23:18.500Z"
   },
   {
    "duration": 215,
    "start_time": "2023-11-09T07:23:21.392Z"
   },
   {
    "duration": 3,
    "start_time": "2023-11-09T07:23:24.924Z"
   },
   {
    "duration": 77,
    "start_time": "2023-11-09T07:23:24.934Z"
   },
   {
    "duration": 102,
    "start_time": "2023-11-09T07:23:34.203Z"
   },
   {
    "duration": 93,
    "start_time": "2023-11-09T07:28:35.256Z"
   },
   {
    "duration": 86,
    "start_time": "2023-11-09T07:30:39.763Z"
   },
   {
    "duration": 101,
    "start_time": "2023-11-09T07:31:00.745Z"
   },
   {
    "duration": 97,
    "start_time": "2023-11-09T07:31:51.955Z"
   },
   {
    "duration": 394,
    "start_time": "2023-11-09T10:01:54.652Z"
   },
   {
    "duration": 225,
    "start_time": "2023-11-09T10:01:55.048Z"
   },
   {
    "duration": 69,
    "start_time": "2023-11-09T10:01:58.782Z"
   },
   {
    "duration": 59,
    "start_time": "2023-11-09T10:02:34.951Z"
   },
   {
    "duration": 22,
    "start_time": "2023-11-09T10:03:04.926Z"
   },
   {
    "duration": 4,
    "start_time": "2023-11-09T10:07:56.390Z"
   },
   {
    "duration": 5,
    "start_time": "2023-11-09T10:08:51.391Z"
   },
   {
    "duration": 5,
    "start_time": "2023-11-09T10:09:06.233Z"
   },
   {
    "duration": 528,
    "start_time": "2023-11-09T10:16:09.458Z"
   },
   {
    "duration": 136,
    "start_time": "2023-11-09T10:16:44.842Z"
   },
   {
    "duration": 181,
    "start_time": "2023-11-09T10:17:22.071Z"
   },
   {
    "duration": 130,
    "start_time": "2023-11-09T10:17:36.933Z"
   },
   {
    "duration": 129,
    "start_time": "2023-11-09T10:18:17.468Z"
   },
   {
    "duration": 112,
    "start_time": "2023-11-09T10:24:13.436Z"
   },
   {
    "duration": 376,
    "start_time": "2023-11-09T10:27:53.875Z"
   },
   {
    "duration": 227,
    "start_time": "2023-11-09T10:29:13.579Z"
   },
   {
    "duration": 183,
    "start_time": "2023-11-09T10:29:34.120Z"
   },
   {
    "duration": 266,
    "start_time": "2023-11-09T10:30:59.298Z"
   },
   {
    "duration": 134,
    "start_time": "2023-11-09T10:31:08.642Z"
   },
   {
    "duration": 142,
    "start_time": "2023-11-09T10:31:25.022Z"
   },
   {
    "duration": 200,
    "start_time": "2023-11-09T10:31:33.857Z"
   },
   {
    "duration": 2910,
    "start_time": "2023-11-09T10:36:52.765Z"
   },
   {
    "duration": 156,
    "start_time": "2023-11-09T10:37:21.826Z"
   },
   {
    "duration": 131,
    "start_time": "2023-11-09T10:44:46.660Z"
   },
   {
    "duration": 17,
    "start_time": "2023-11-09T11:06:55.306Z"
   },
   {
    "duration": 18,
    "start_time": "2023-11-09T11:07:15.445Z"
   },
   {
    "duration": 116,
    "start_time": "2023-11-09T11:10:01.453Z"
   },
   {
    "duration": 1433,
    "start_time": "2023-11-09T11:10:21.585Z"
   },
   {
    "duration": 51,
    "start_time": "2023-11-09T11:12:10.634Z"
   },
   {
    "duration": 444,
    "start_time": "2023-11-09T11:12:17.843Z"
   },
   {
    "duration": 234,
    "start_time": "2023-11-09T11:12:18.289Z"
   },
   {
    "duration": 22,
    "start_time": "2023-11-09T11:12:18.524Z"
   },
   {
    "duration": 119,
    "start_time": "2023-11-09T11:12:18.548Z"
   },
   {
    "duration": 460,
    "start_time": "2023-11-09T11:12:18.669Z"
   },
   {
    "duration": 128,
    "start_time": "2023-11-09T11:12:19.130Z"
   },
   {
    "duration": 183,
    "start_time": "2023-11-09T11:12:19.261Z"
   },
   {
    "duration": 152,
    "start_time": "2023-11-09T11:12:19.446Z"
   },
   {
    "duration": 143,
    "start_time": "2023-11-09T11:12:19.600Z"
   },
   {
    "duration": 30,
    "start_time": "2023-11-09T11:12:19.745Z"
   },
   {
    "duration": 227,
    "start_time": "2023-11-09T11:14:00.959Z"
   },
   {
    "duration": 1464,
    "start_time": "2023-11-09T11:21:31.318Z"
   },
   {
    "duration": 1320,
    "start_time": "2023-11-09T11:22:40.933Z"
   },
   {
    "duration": 537,
    "start_time": "2023-11-09T11:26:13.372Z"
   },
   {
    "duration": 475,
    "start_time": "2023-11-09T11:28:44.415Z"
   },
   {
    "duration": 3,
    "start_time": "2023-11-09T11:37:40.306Z"
   },
   {
    "duration": 147,
    "start_time": "2023-11-09T11:37:40.311Z"
   },
   {
    "duration": 17,
    "start_time": "2023-11-09T11:37:40.459Z"
   },
   {
    "duration": 104,
    "start_time": "2023-11-09T11:37:40.477Z"
   },
   {
    "duration": 233,
    "start_time": "2023-11-09T11:37:40.583Z"
   },
   {
    "duration": 130,
    "start_time": "2023-11-09T11:37:40.818Z"
   },
   {
    "duration": 168,
    "start_time": "2023-11-09T11:37:40.950Z"
   },
   {
    "duration": 141,
    "start_time": "2023-11-09T11:37:41.119Z"
   },
   {
    "duration": 150,
    "start_time": "2023-11-09T11:37:41.262Z"
   },
   {
    "duration": 49,
    "start_time": "2023-11-09T11:37:41.414Z"
   },
   {
    "duration": 56,
    "start_time": "2023-11-09T11:38:30.404Z"
   },
   {
    "duration": 3,
    "start_time": "2023-11-09T11:38:46.406Z"
   },
   {
    "duration": 163,
    "start_time": "2023-11-09T11:38:46.411Z"
   },
   {
    "duration": 19,
    "start_time": "2023-11-09T11:38:46.576Z"
   },
   {
    "duration": 5,
    "start_time": "2023-11-09T11:38:46.597Z"
   },
   {
    "duration": 192,
    "start_time": "2023-11-09T11:38:46.604Z"
   },
   {
    "duration": 140,
    "start_time": "2023-11-09T11:38:46.798Z"
   },
   {
    "duration": 173,
    "start_time": "2023-11-09T11:38:46.940Z"
   },
   {
    "duration": 172,
    "start_time": "2023-11-09T11:38:47.115Z"
   },
   {
    "duration": 174,
    "start_time": "2023-11-09T11:38:47.289Z"
   },
   {
    "duration": 26,
    "start_time": "2023-11-09T11:38:47.465Z"
   },
   {
    "duration": 451,
    "start_time": "2023-11-09T13:09:11.155Z"
   },
   {
    "duration": 335,
    "start_time": "2023-11-09T13:09:11.609Z"
   },
   {
    "duration": 26,
    "start_time": "2023-11-09T13:09:11.947Z"
   },
   {
    "duration": 4,
    "start_time": "2023-11-09T13:09:11.975Z"
   },
   {
    "duration": 594,
    "start_time": "2023-11-09T13:09:11.982Z"
   },
   {
    "duration": 125,
    "start_time": "2023-11-09T13:09:12.578Z"
   },
   {
    "duration": 166,
    "start_time": "2023-11-09T13:09:12.705Z"
   },
   {
    "duration": 159,
    "start_time": "2023-11-09T13:09:12.873Z"
   },
   {
    "duration": 223,
    "start_time": "2023-11-09T13:09:13.034Z"
   },
   {
    "duration": 90,
    "start_time": "2023-11-09T13:09:17.842Z"
   },
   {
    "duration": 50,
    "start_time": "2023-11-09T13:09:37.199Z"
   },
   {
    "duration": 175,
    "start_time": "2023-11-09T13:12:51.526Z"
   },
   {
    "duration": 70,
    "start_time": "2023-11-09T13:13:57.870Z"
   },
   {
    "duration": 158,
    "start_time": "2023-11-09T13:14:05.235Z"
   },
   {
    "duration": 166,
    "start_time": "2023-11-09T13:14:07.350Z"
   },
   {
    "duration": 188,
    "start_time": "2023-11-09T13:16:27.147Z"
   },
   {
    "duration": 152,
    "start_time": "2023-11-09T13:16:29.503Z"
   },
   {
    "duration": 185,
    "start_time": "2023-11-09T13:22:50.679Z"
   },
   {
    "duration": 149,
    "start_time": "2023-11-09T13:23:20.149Z"
   },
   {
    "duration": 14,
    "start_time": "2023-11-09T13:37:38.838Z"
   },
   {
    "duration": 17,
    "start_time": "2023-11-09T13:38:01.126Z"
   },
   {
    "duration": 442,
    "start_time": "2023-11-09T13:58:12.240Z"
   },
   {
    "duration": 101,
    "start_time": "2023-11-09T14:00:10.973Z"
   },
   {
    "duration": 33,
    "start_time": "2023-11-09T14:00:24.724Z"
   },
   {
    "duration": 123,
    "start_time": "2023-11-09T14:07:21.524Z"
   },
   {
    "duration": 14,
    "start_time": "2023-11-09T14:07:34.971Z"
   },
   {
    "duration": 19,
    "start_time": "2023-11-09T14:14:38.105Z"
   },
   {
    "duration": 2,
    "start_time": "2023-11-09T14:14:43.072Z"
   },
   {
    "duration": 95,
    "start_time": "2023-11-09T14:14:43.076Z"
   },
   {
    "duration": 22,
    "start_time": "2023-11-09T14:14:43.173Z"
   },
   {
    "duration": 4,
    "start_time": "2023-11-09T14:14:43.196Z"
   },
   {
    "duration": 151,
    "start_time": "2023-11-09T14:14:43.203Z"
   },
   {
    "duration": 137,
    "start_time": "2023-11-09T14:14:43.355Z"
   },
   {
    "duration": 179,
    "start_time": "2023-11-09T14:14:43.495Z"
   },
   {
    "duration": 280,
    "start_time": "2023-11-09T14:14:43.676Z"
   },
   {
    "duration": 176,
    "start_time": "2023-11-09T14:14:43.959Z"
   },
   {
    "duration": 200,
    "start_time": "2023-11-09T14:14:44.138Z"
   },
   {
    "duration": 173,
    "start_time": "2023-11-09T14:14:44.340Z"
   },
   {
    "duration": 178,
    "start_time": "2023-11-09T14:14:44.515Z"
   },
   {
    "duration": 174,
    "start_time": "2023-11-09T14:14:44.695Z"
   },
   {
    "duration": 15,
    "start_time": "2023-11-09T14:14:44.872Z"
   },
   {
    "duration": 16,
    "start_time": "2023-11-09T14:24:54.955Z"
   },
   {
    "duration": 17,
    "start_time": "2023-11-09T14:27:12.449Z"
   },
   {
    "duration": 250,
    "start_time": "2023-11-09T14:44:25.598Z"
   },
   {
    "duration": 22,
    "start_time": "2023-11-09T14:44:36.339Z"
   },
   {
    "duration": 19,
    "start_time": "2023-11-09T14:47:24.915Z"
   },
   {
    "duration": 21,
    "start_time": "2023-11-09T14:47:41.191Z"
   },
   {
    "duration": 93,
    "start_time": "2023-11-09T14:55:26.789Z"
   },
   {
    "duration": 29,
    "start_time": "2023-11-09T14:55:58.931Z"
   },
   {
    "duration": 37,
    "start_time": "2023-11-09T15:06:23.396Z"
   },
   {
    "duration": 19,
    "start_time": "2023-11-09T15:11:46.689Z"
   },
   {
    "duration": 27,
    "start_time": "2023-11-09T15:12:15.278Z"
   },
   {
    "duration": 789,
    "start_time": "2023-11-11T07:13:56.567Z"
   },
   {
    "duration": 81,
    "start_time": "2023-11-11T07:25:26.977Z"
   },
   {
    "duration": 3,
    "start_time": "2023-11-11T07:25:33.331Z"
   },
   {
    "duration": 341,
    "start_time": "2023-11-11T07:25:33.339Z"
   },
   {
    "duration": 25,
    "start_time": "2023-11-11T07:25:33.683Z"
   },
   {
    "duration": 4,
    "start_time": "2023-11-11T07:25:33.709Z"
   },
   {
    "duration": 583,
    "start_time": "2023-11-11T07:25:33.716Z"
   },
   {
    "duration": 103,
    "start_time": "2023-11-11T07:25:34.300Z"
   },
   {
    "duration": 148,
    "start_time": "2023-11-11T07:25:34.405Z"
   },
   {
    "duration": 144,
    "start_time": "2023-11-11T07:25:34.554Z"
   },
   {
    "duration": 161,
    "start_time": "2023-11-11T07:25:34.700Z"
   },
   {
    "duration": 157,
    "start_time": "2023-11-11T07:25:34.863Z"
   },
   {
    "duration": 138,
    "start_time": "2023-11-11T07:25:35.022Z"
   },
   {
    "duration": 153,
    "start_time": "2023-11-11T07:25:35.162Z"
   },
   {
    "duration": 161,
    "start_time": "2023-11-11T07:25:35.317Z"
   },
   {
    "duration": 88,
    "start_time": "2023-11-11T07:25:35.479Z"
   },
   {
    "duration": 19,
    "start_time": "2023-11-11T07:25:35.568Z"
   },
   {
    "duration": 5,
    "start_time": "2023-11-11T07:25:48.996Z"
   },
   {
    "duration": 5,
    "start_time": "2023-11-11T07:38:09.648Z"
   },
   {
    "duration": 5,
    "start_time": "2023-11-11T07:43:47.366Z"
   },
   {
    "duration": 12,
    "start_time": "2023-11-11T07:45:51.688Z"
   },
   {
    "duration": 6,
    "start_time": "2023-11-11T07:46:10.375Z"
   },
   {
    "duration": 4,
    "start_time": "2023-11-11T07:46:49.766Z"
   },
   {
    "duration": 5,
    "start_time": "2023-11-11T07:57:33.564Z"
   },
   {
    "duration": 6,
    "start_time": "2023-11-11T07:58:47.999Z"
   },
   {
    "duration": 5,
    "start_time": "2023-11-11T08:01:29.203Z"
   },
   {
    "duration": 4,
    "start_time": "2023-11-11T08:02:26.719Z"
   },
   {
    "duration": 3,
    "start_time": "2023-11-11T08:08:30.460Z"
   },
   {
    "duration": 11,
    "start_time": "2023-11-11T08:31:49.774Z"
   },
   {
    "duration": 15,
    "start_time": "2023-11-11T08:32:37.450Z"
   },
   {
    "duration": 24,
    "start_time": "2023-11-11T08:35:14.571Z"
   },
   {
    "duration": 43,
    "start_time": "2023-11-11T08:35:29.224Z"
   },
   {
    "duration": 28,
    "start_time": "2023-11-11T08:36:34.090Z"
   },
   {
    "duration": 29,
    "start_time": "2023-11-11T08:37:06.804Z"
   },
   {
    "duration": 25,
    "start_time": "2023-11-11T08:38:04.133Z"
   },
   {
    "duration": 615,
    "start_time": "2023-11-11T08:53:58.474Z"
   },
   {
    "duration": 7,
    "start_time": "2023-11-11T09:00:23.620Z"
   },
   {
    "duration": 12,
    "start_time": "2023-11-11T09:03:15.451Z"
   },
   {
    "duration": 12,
    "start_time": "2023-11-11T09:03:52.235Z"
   },
   {
    "duration": 10,
    "start_time": "2023-11-11T09:04:22.450Z"
   },
   {
    "duration": 9,
    "start_time": "2023-11-11T09:04:26.760Z"
   },
   {
    "duration": 48,
    "start_time": "2023-11-12T05:53:03.900Z"
   },
   {
    "duration": 1089,
    "start_time": "2023-11-12T05:53:15.999Z"
   },
   {
    "duration": 262,
    "start_time": "2023-11-12T05:53:17.090Z"
   },
   {
    "duration": 19,
    "start_time": "2023-11-12T05:53:17.353Z"
   },
   {
    "duration": 4,
    "start_time": "2023-11-12T05:53:17.373Z"
   },
   {
    "duration": 157,
    "start_time": "2023-11-12T05:53:17.378Z"
   },
   {
    "duration": 99,
    "start_time": "2023-11-12T05:53:17.536Z"
   },
   {
    "duration": 137,
    "start_time": "2023-11-12T05:53:17.636Z"
   },
   {
    "duration": 133,
    "start_time": "2023-11-12T05:53:17.774Z"
   },
   {
    "duration": 123,
    "start_time": "2023-11-12T05:53:17.908Z"
   },
   {
    "duration": 142,
    "start_time": "2023-11-12T05:53:18.033Z"
   },
   {
    "duration": 133,
    "start_time": "2023-11-12T05:53:18.177Z"
   },
   {
    "duration": 130,
    "start_time": "2023-11-12T05:53:18.312Z"
   },
   {
    "duration": 128,
    "start_time": "2023-11-12T05:53:18.443Z"
   },
   {
    "duration": 25,
    "start_time": "2023-11-12T05:53:18.573Z"
   },
   {
    "duration": 6,
    "start_time": "2023-11-12T05:53:18.599Z"
   },
   {
    "duration": 8,
    "start_time": "2023-11-12T05:53:18.606Z"
   },
   {
    "duration": 10,
    "start_time": "2023-11-12T05:53:18.615Z"
   },
   {
    "duration": 1343,
    "start_time": "2023-11-12T05:53:18.626Z"
   },
   {
    "duration": 422,
    "start_time": "2023-11-12T05:53:36.821Z"
   },
   {
    "duration": 219,
    "start_time": "2023-11-12T05:53:49.705Z"
   },
   {
    "duration": 75,
    "start_time": "2023-11-12T06:01:06.493Z"
   },
   {
    "duration": 2,
    "start_time": "2023-11-12T06:01:39.524Z"
   },
   {
    "duration": 7,
    "start_time": "2023-11-12T06:01:45.031Z"
   },
   {
    "duration": 5,
    "start_time": "2023-11-12T06:02:52.493Z"
   },
   {
    "duration": 5,
    "start_time": "2023-11-12T06:02:59.082Z"
   },
   {
    "duration": 5,
    "start_time": "2023-11-12T06:11:35.219Z"
   },
   {
    "duration": 4,
    "start_time": "2023-11-12T06:14:34.379Z"
   },
   {
    "duration": 14,
    "start_time": "2023-11-12T06:14:39.659Z"
   },
   {
    "duration": 7,
    "start_time": "2023-11-12T06:14:59.339Z"
   },
   {
    "duration": 5,
    "start_time": "2023-11-12T06:15:04.977Z"
   },
   {
    "duration": 10,
    "start_time": "2023-11-12T06:15:17.964Z"
   },
   {
    "duration": 6,
    "start_time": "2023-11-12T06:15:23.383Z"
   },
   {
    "duration": 11,
    "start_time": "2023-11-12T06:16:22.871Z"
   },
   {
    "duration": 44,
    "start_time": "2023-11-12T06:22:10.774Z"
   },
   {
    "duration": 262,
    "start_time": "2023-11-12T06:22:41.325Z"
   },
   {
    "duration": 1652,
    "start_time": "2023-11-12T06:23:02.925Z"
   },
   {
    "duration": 6,
    "start_time": "2023-11-12T06:23:50.006Z"
   },
   {
    "duration": 12,
    "start_time": "2023-11-12T06:30:02.634Z"
   },
   {
    "duration": 11,
    "start_time": "2023-11-12T06:31:03.826Z"
   },
   {
    "duration": 3,
    "start_time": "2023-11-12T06:33:47.224Z"
   },
   {
    "duration": 148,
    "start_time": "2023-11-12T06:34:22.796Z"
   },
   {
    "duration": 127,
    "start_time": "2023-11-12T06:35:47.495Z"
   },
   {
    "duration": 171,
    "start_time": "2023-11-12T06:55:19.479Z"
   },
   {
    "duration": 178,
    "start_time": "2023-11-12T06:56:17.023Z"
   },
   {
    "duration": 128,
    "start_time": "2023-11-12T06:56:53.986Z"
   },
   {
    "duration": 3,
    "start_time": "2023-11-12T07:05:58.511Z"
   },
   {
    "duration": 99,
    "start_time": "2023-11-12T07:05:58.520Z"
   },
   {
    "duration": 15,
    "start_time": "2023-11-12T07:05:58.621Z"
   },
   {
    "duration": 4,
    "start_time": "2023-11-12T07:05:58.638Z"
   },
   {
    "duration": 135,
    "start_time": "2023-11-12T07:05:58.643Z"
   },
   {
    "duration": 113,
    "start_time": "2023-11-12T07:05:58.780Z"
   },
   {
    "duration": 329,
    "start_time": "2023-11-12T07:05:58.895Z"
   },
   {
    "duration": 144,
    "start_time": "2023-11-12T07:05:59.225Z"
   },
   {
    "duration": 131,
    "start_time": "2023-11-12T07:05:59.372Z"
   },
   {
    "duration": 135,
    "start_time": "2023-11-12T07:05:59.504Z"
   },
   {
    "duration": 136,
    "start_time": "2023-11-12T07:05:59.640Z"
   },
   {
    "duration": 133,
    "start_time": "2023-11-12T07:05:59.777Z"
   },
   {
    "duration": 125,
    "start_time": "2023-11-12T07:05:59.911Z"
   },
   {
    "duration": 35,
    "start_time": "2023-11-12T07:06:00.038Z"
   },
   {
    "duration": 5,
    "start_time": "2023-11-12T07:06:00.076Z"
   },
   {
    "duration": 30,
    "start_time": "2023-11-12T07:06:00.082Z"
   },
   {
    "duration": 14,
    "start_time": "2023-11-12T07:06:00.114Z"
   },
   {
    "duration": 155,
    "start_time": "2023-11-12T07:06:00.130Z"
   },
   {
    "duration": 123,
    "start_time": "2023-11-12T07:06:17.498Z"
   },
   {
    "duration": 971,
    "start_time": "2023-11-12T12:02:38.081Z"
   },
   {
    "duration": 143,
    "start_time": "2023-11-12T12:02:39.054Z"
   },
   {
    "duration": 15,
    "start_time": "2023-11-12T12:02:39.198Z"
   },
   {
    "duration": 8,
    "start_time": "2023-11-12T12:02:39.215Z"
   },
   {
    "duration": 133,
    "start_time": "2023-11-12T12:02:39.228Z"
   },
   {
    "duration": 100,
    "start_time": "2023-11-12T12:02:39.362Z"
   },
   {
    "duration": 129,
    "start_time": "2023-11-12T12:02:39.464Z"
   },
   {
    "duration": 131,
    "start_time": "2023-11-12T12:02:39.595Z"
   },
   {
    "duration": 140,
    "start_time": "2023-11-12T12:02:39.728Z"
   },
   {
    "duration": 140,
    "start_time": "2023-11-12T12:02:39.870Z"
   },
   {
    "duration": 124,
    "start_time": "2023-11-12T12:02:40.011Z"
   },
   {
    "duration": 138,
    "start_time": "2023-11-12T12:02:40.137Z"
   },
   {
    "duration": 120,
    "start_time": "2023-11-12T12:02:40.276Z"
   },
   {
    "duration": 24,
    "start_time": "2023-11-12T12:02:40.399Z"
   },
   {
    "duration": 6,
    "start_time": "2023-11-12T12:02:40.425Z"
   },
   {
    "duration": 5,
    "start_time": "2023-11-12T12:02:40.451Z"
   },
   {
    "duration": 6,
    "start_time": "2023-11-12T12:02:40.458Z"
   },
   {
    "duration": 141,
    "start_time": "2023-11-12T12:02:40.465Z"
   },
   {
    "duration": 195,
    "start_time": "2023-11-12T12:02:40.607Z"
   },
   {
    "duration": 5,
    "start_time": "2023-11-12T12:10:25.189Z"
   },
   {
    "duration": 2,
    "start_time": "2023-11-12T13:09:04.701Z"
   },
   {
    "duration": 91,
    "start_time": "2023-11-12T13:09:04.705Z"
   },
   {
    "duration": 15,
    "start_time": "2023-11-12T13:09:04.798Z"
   },
   {
    "duration": 5,
    "start_time": "2023-11-12T13:09:04.814Z"
   },
   {
    "duration": 134,
    "start_time": "2023-11-12T13:09:04.820Z"
   },
   {
    "duration": 111,
    "start_time": "2023-11-12T13:09:04.956Z"
   },
   {
    "duration": 155,
    "start_time": "2023-11-12T13:09:05.069Z"
   },
   {
    "duration": 133,
    "start_time": "2023-11-12T13:09:05.226Z"
   },
   {
    "duration": 130,
    "start_time": "2023-11-12T13:09:05.360Z"
   },
   {
    "duration": 139,
    "start_time": "2023-11-12T13:09:05.492Z"
   },
   {
    "duration": 126,
    "start_time": "2023-11-12T13:09:05.632Z"
   },
   {
    "duration": 132,
    "start_time": "2023-11-12T13:09:05.759Z"
   },
   {
    "duration": 130,
    "start_time": "2023-11-12T13:09:05.893Z"
   },
   {
    "duration": 31,
    "start_time": "2023-11-12T13:09:06.024Z"
   },
   {
    "duration": 4,
    "start_time": "2023-11-12T13:09:06.057Z"
   },
   {
    "duration": 5,
    "start_time": "2023-11-12T13:09:06.063Z"
   },
   {
    "duration": 5,
    "start_time": "2023-11-12T13:09:06.069Z"
   },
   {
    "duration": 6,
    "start_time": "2023-11-12T13:09:06.076Z"
   },
   {
    "duration": 147,
    "start_time": "2023-11-12T13:09:06.083Z"
   },
   {
    "duration": 127,
    "start_time": "2023-11-12T13:09:06.231Z"
   },
   {
    "duration": 1242,
    "start_time": "2023-11-12T13:16:29.313Z"
   },
   {
    "duration": 143,
    "start_time": "2023-11-12T13:16:30.557Z"
   },
   {
    "duration": 18,
    "start_time": "2023-11-12T13:16:30.702Z"
   },
   {
    "duration": 38,
    "start_time": "2023-11-12T13:16:30.721Z"
   },
   {
    "duration": 167,
    "start_time": "2023-11-12T13:16:30.762Z"
   },
   {
    "duration": 97,
    "start_time": "2023-11-12T13:16:30.930Z"
   },
   {
    "duration": 146,
    "start_time": "2023-11-12T13:16:31.029Z"
   },
   {
    "duration": 140,
    "start_time": "2023-11-12T13:16:31.177Z"
   },
   {
    "duration": 140,
    "start_time": "2023-11-12T13:16:31.319Z"
   },
   {
    "duration": 139,
    "start_time": "2023-11-12T13:16:31.461Z"
   },
   {
    "duration": 127,
    "start_time": "2023-11-12T13:16:31.602Z"
   },
   {
    "duration": 134,
    "start_time": "2023-11-12T13:16:31.731Z"
   },
   {
    "duration": 128,
    "start_time": "2023-11-12T13:16:31.867Z"
   },
   {
    "duration": 25,
    "start_time": "2023-11-12T13:16:31.999Z"
   },
   {
    "duration": 5,
    "start_time": "2023-11-12T13:16:32.026Z"
   },
   {
    "duration": 29,
    "start_time": "2023-11-12T13:16:32.033Z"
   },
   {
    "duration": 16,
    "start_time": "2023-11-12T13:16:32.064Z"
   },
   {
    "duration": 14,
    "start_time": "2023-11-12T13:16:32.081Z"
   },
   {
    "duration": 131,
    "start_time": "2023-11-12T13:16:32.097Z"
   },
   {
    "duration": 183,
    "start_time": "2023-11-12T13:16:32.230Z"
   },
   {
    "duration": 76,
    "start_time": "2023-11-13T08:16:48.612Z"
   },
   {
    "duration": 1296,
    "start_time": "2023-11-13T08:17:01.996Z"
   },
   {
    "duration": 403,
    "start_time": "2023-11-13T08:17:04.473Z"
   },
   {
    "duration": 94,
    "start_time": "2023-11-13T08:17:15.419Z"
   },
   {
    "duration": 97,
    "start_time": "2023-11-13T08:17:54.317Z"
   },
   {
    "duration": 109,
    "start_time": "2023-11-13T08:18:23.768Z"
   },
   {
    "duration": 99,
    "start_time": "2023-11-13T08:18:51.319Z"
   },
   {
    "duration": 102,
    "start_time": "2023-11-13T08:21:02.911Z"
   },
   {
    "duration": 98,
    "start_time": "2023-11-13T08:22:54.763Z"
   },
   {
    "duration": 11,
    "start_time": "2023-11-13T08:35:26.490Z"
   },
   {
    "duration": 6,
    "start_time": "2023-11-13T08:36:31.948Z"
   },
   {
    "duration": 13,
    "start_time": "2023-11-13T08:37:47.560Z"
   },
   {
    "duration": 7,
    "start_time": "2023-11-13T10:04:32.318Z"
   },
   {
    "duration": 6,
    "start_time": "2023-11-13T10:05:11.708Z"
   },
   {
    "duration": 10,
    "start_time": "2023-11-13T10:06:07.698Z"
   },
   {
    "duration": 3,
    "start_time": "2023-11-13T10:16:41.515Z"
   },
   {
    "duration": 122,
    "start_time": "2023-11-13T10:16:41.520Z"
   },
   {
    "duration": 18,
    "start_time": "2023-11-13T10:16:41.644Z"
   },
   {
    "duration": 4,
    "start_time": "2023-11-13T10:16:41.664Z"
   },
   {
    "duration": 14,
    "start_time": "2023-11-13T10:16:41.670Z"
   },
   {
    "duration": 12,
    "start_time": "2023-11-13T10:16:41.685Z"
   },
   {
    "duration": 49,
    "start_time": "2023-11-13T10:16:41.699Z"
   },
   {
    "duration": 166,
    "start_time": "2023-11-13T10:16:41.750Z"
   },
   {
    "duration": 131,
    "start_time": "2023-11-13T10:16:41.918Z"
   },
   {
    "duration": 155,
    "start_time": "2023-11-13T10:16:42.050Z"
   },
   {
    "duration": 158,
    "start_time": "2023-11-13T10:16:42.207Z"
   },
   {
    "duration": 149,
    "start_time": "2023-11-13T10:16:42.366Z"
   },
   {
    "duration": 161,
    "start_time": "2023-11-13T10:16:42.517Z"
   },
   {
    "duration": 158,
    "start_time": "2023-11-13T10:16:42.680Z"
   },
   {
    "duration": 152,
    "start_time": "2023-11-13T10:16:42.843Z"
   },
   {
    "duration": 152,
    "start_time": "2023-11-13T10:16:42.997Z"
   },
   {
    "duration": 30,
    "start_time": "2023-11-13T10:16:49.805Z"
   },
   {
    "duration": 7,
    "start_time": "2023-11-13T10:18:36.922Z"
   },
   {
    "duration": 4,
    "start_time": "2023-11-13T10:27:22.497Z"
   },
   {
    "duration": 5,
    "start_time": "2023-11-13T10:27:30.663Z"
   },
   {
    "duration": 132,
    "start_time": "2023-11-13T10:32:32.859Z"
   },
   {
    "duration": 199,
    "start_time": "2023-11-13T10:33:48.075Z"
   },
   {
    "duration": 13,
    "start_time": "2023-11-13T10:42:12.687Z"
   },
   {
    "duration": 151,
    "start_time": "2023-11-13T10:42:27.242Z"
   },
   {
    "duration": 134,
    "start_time": "2023-11-13T10:44:22.753Z"
   },
   {
    "duration": 162,
    "start_time": "2023-11-13T10:45:15.211Z"
   },
   {
    "duration": 127,
    "start_time": "2023-11-13T10:45:24.793Z"
   },
   {
    "duration": 14,
    "start_time": "2023-11-13T10:45:45.819Z"
   },
   {
    "duration": 11,
    "start_time": "2023-11-13T10:46:42.013Z"
   },
   {
    "duration": 12,
    "start_time": "2023-11-13T10:46:56.379Z"
   },
   {
    "duration": 481,
    "start_time": "2023-11-13T10:47:58.461Z"
   },
   {
    "duration": 19,
    "start_time": "2023-11-13T10:49:13.629Z"
   },
   {
    "duration": 13,
    "start_time": "2023-11-13T10:50:07.404Z"
   },
   {
    "duration": 11,
    "start_time": "2023-11-13T10:57:35.055Z"
   },
   {
    "duration": 11,
    "start_time": "2023-11-13T10:57:50.460Z"
   },
   {
    "duration": 11,
    "start_time": "2023-11-13T10:58:00.697Z"
   },
   {
    "duration": 14,
    "start_time": "2023-11-13T11:02:47.758Z"
   },
   {
    "duration": 11,
    "start_time": "2023-11-13T11:03:11.829Z"
   },
   {
    "duration": 12,
    "start_time": "2023-11-13T11:16:22.841Z"
   },
   {
    "duration": 1120,
    "start_time": "2023-11-13T11:22:44.850Z"
   },
   {
    "duration": 126,
    "start_time": "2023-11-13T11:33:46.117Z"
   },
   {
    "duration": 9,
    "start_time": "2023-11-13T11:34:47.963Z"
   },
   {
    "duration": 123,
    "start_time": "2023-11-13T11:35:25.091Z"
   },
   {
    "duration": 115,
    "start_time": "2023-11-13T11:35:53.274Z"
   },
   {
    "duration": 132,
    "start_time": "2023-11-13T11:37:18.290Z"
   },
   {
    "duration": 96,
    "start_time": "2023-11-13T11:38:18.157Z"
   },
   {
    "duration": 13,
    "start_time": "2023-11-13T11:38:49.635Z"
   },
   {
    "duration": 137,
    "start_time": "2023-11-13T11:41:46.404Z"
   },
   {
    "duration": 136,
    "start_time": "2023-11-13T11:41:56.126Z"
   },
   {
    "duration": 159,
    "start_time": "2023-11-13T11:42:41.516Z"
   },
   {
    "duration": 152,
    "start_time": "2023-11-13T11:42:59.211Z"
   },
   {
    "duration": 231,
    "start_time": "2023-11-13T11:43:28.654Z"
   },
   {
    "duration": 134,
    "start_time": "2023-11-13T11:43:45.917Z"
   },
   {
    "duration": 121,
    "start_time": "2023-11-13T11:44:08.260Z"
   },
   {
    "duration": 1321,
    "start_time": "2023-11-13T11:45:00.765Z"
   },
   {
    "duration": 4,
    "start_time": "2023-11-13T11:49:51.134Z"
   },
   {
    "duration": 3,
    "start_time": "2023-11-13T11:49:55.421Z"
   },
   {
    "duration": 133,
    "start_time": "2023-11-13T11:51:22.199Z"
   },
   {
    "duration": 745,
    "start_time": "2023-11-13T11:53:01.614Z"
   },
   {
    "duration": 78,
    "start_time": "2023-11-13T11:53:58.385Z"
   },
   {
    "duration": 67,
    "start_time": "2023-11-13T11:54:41.669Z"
   },
   {
    "duration": 76,
    "start_time": "2023-11-13T11:55:07.093Z"
   },
   {
    "duration": 75,
    "start_time": "2023-11-13T11:55:50.767Z"
   },
   {
    "duration": 68,
    "start_time": "2023-11-13T11:56:53.790Z"
   },
   {
    "duration": 146,
    "start_time": "2023-11-13T12:40:49.621Z"
   },
   {
    "duration": 132,
    "start_time": "2023-11-13T12:42:25.077Z"
   },
   {
    "duration": 146,
    "start_time": "2023-11-13T12:43:12.807Z"
   },
   {
    "duration": 148,
    "start_time": "2023-11-13T12:44:07.436Z"
   },
   {
    "duration": 146,
    "start_time": "2023-11-13T12:45:10.580Z"
   },
   {
    "duration": 172,
    "start_time": "2023-11-13T12:45:18.699Z"
   },
   {
    "duration": 140,
    "start_time": "2023-11-13T12:45:31.339Z"
   },
   {
    "duration": 249,
    "start_time": "2023-11-13T12:45:54.442Z"
   },
   {
    "duration": 141,
    "start_time": "2023-11-13T12:48:40.112Z"
   },
   {
    "duration": 149,
    "start_time": "2023-11-13T12:49:21.860Z"
   },
   {
    "duration": 168,
    "start_time": "2023-11-13T12:51:13.269Z"
   },
   {
    "duration": 571,
    "start_time": "2023-11-13T12:56:19.839Z"
   },
   {
    "duration": 164,
    "start_time": "2023-11-13T12:56:56.941Z"
   },
   {
    "duration": 132,
    "start_time": "2023-11-13T12:57:07.989Z"
   },
   {
    "duration": 181,
    "start_time": "2023-11-13T12:57:45.761Z"
   },
   {
    "duration": 143,
    "start_time": "2023-11-13T12:59:50.528Z"
   },
   {
    "duration": 4,
    "start_time": "2023-11-13T13:01:15.546Z"
   },
   {
    "duration": 114,
    "start_time": "2023-11-13T13:01:15.553Z"
   },
   {
    "duration": 16,
    "start_time": "2023-11-13T13:01:15.669Z"
   },
   {
    "duration": 4,
    "start_time": "2023-11-13T13:01:15.687Z"
   },
   {
    "duration": 11,
    "start_time": "2023-11-13T13:01:15.693Z"
   },
   {
    "duration": 44,
    "start_time": "2023-11-13T13:01:15.706Z"
   },
   {
    "duration": 5,
    "start_time": "2023-11-13T13:01:15.751Z"
   },
   {
    "duration": 160,
    "start_time": "2023-11-13T13:01:15.758Z"
   },
   {
    "duration": 76,
    "start_time": "2023-11-13T13:01:15.931Z"
   },
   {
    "duration": 163,
    "start_time": "2023-11-13T13:01:16.009Z"
   },
   {
    "duration": 183,
    "start_time": "2023-11-13T13:01:16.175Z"
   },
   {
    "duration": 199,
    "start_time": "2023-11-13T13:01:16.360Z"
   },
   {
    "duration": 288,
    "start_time": "2023-11-13T13:01:16.561Z"
   },
   {
    "duration": 163,
    "start_time": "2023-11-13T13:01:16.851Z"
   },
   {
    "duration": 180,
    "start_time": "2023-11-13T13:01:43.191Z"
   },
   {
    "duration": 33,
    "start_time": "2023-11-13T13:07:44.948Z"
   },
   {
    "duration": 141,
    "start_time": "2023-11-13T13:07:48.686Z"
   },
   {
    "duration": 44,
    "start_time": "2023-11-13T13:09:37.273Z"
   },
   {
    "duration": 168,
    "start_time": "2023-11-13T13:16:09.850Z"
   },
   {
    "duration": 164,
    "start_time": "2023-11-13T13:17:09.258Z"
   },
   {
    "duration": 187,
    "start_time": "2023-11-13T13:17:23.731Z"
   },
   {
    "duration": 162,
    "start_time": "2023-11-13T13:17:55.337Z"
   },
   {
    "duration": 139,
    "start_time": "2023-11-13T13:19:19.545Z"
   },
   {
    "duration": 145,
    "start_time": "2023-11-13T13:19:29.018Z"
   },
   {
    "duration": 161,
    "start_time": "2023-11-13T13:19:53.000Z"
   },
   {
    "duration": 313,
    "start_time": "2023-11-13T13:19:59.759Z"
   },
   {
    "duration": 6,
    "start_time": "2023-11-13T13:58:42.039Z"
   },
   {
    "duration": 152,
    "start_time": "2023-11-13T14:12:26.595Z"
   },
   {
    "duration": 152,
    "start_time": "2023-11-13T14:12:56.875Z"
   },
   {
    "duration": 4,
    "start_time": "2023-11-13T14:13:11.226Z"
   },
   {
    "duration": 118,
    "start_time": "2023-11-13T14:13:11.240Z"
   },
   {
    "duration": 17,
    "start_time": "2023-11-13T14:13:11.360Z"
   },
   {
    "duration": 5,
    "start_time": "2023-11-13T14:13:11.379Z"
   },
   {
    "duration": 15,
    "start_time": "2023-11-13T14:13:12.376Z"
   },
   {
    "duration": 17,
    "start_time": "2023-11-13T14:13:12.394Z"
   },
   {
    "duration": 6,
    "start_time": "2023-11-13T14:13:12.413Z"
   },
   {
    "duration": 163,
    "start_time": "2023-11-13T14:13:15.815Z"
   },
   {
    "duration": 128,
    "start_time": "2023-11-13T14:13:15.980Z"
   },
   {
    "duration": 176,
    "start_time": "2023-11-13T14:13:16.111Z"
   },
   {
    "duration": 171,
    "start_time": "2023-11-13T14:13:16.289Z"
   },
   {
    "duration": 218,
    "start_time": "2023-11-13T14:13:16.463Z"
   },
   {
    "duration": 35,
    "start_time": "2023-11-13T14:13:16.683Z"
   },
   {
    "duration": 165,
    "start_time": "2023-11-13T14:13:16.720Z"
   },
   {
    "duration": 172,
    "start_time": "2023-11-13T14:13:16.887Z"
   },
   {
    "duration": 176,
    "start_time": "2023-11-13T14:13:17.060Z"
   },
   {
    "duration": 196,
    "start_time": "2023-11-13T14:13:17.237Z"
   },
   {
    "duration": 27,
    "start_time": "2023-11-13T14:13:17.435Z"
   },
   {
    "duration": 7,
    "start_time": "2023-11-13T14:13:17.464Z"
   },
   {
    "duration": 5,
    "start_time": "2023-11-13T14:13:17.473Z"
   },
   {
    "duration": 5,
    "start_time": "2023-11-13T14:13:17.481Z"
   },
   {
    "duration": 7,
    "start_time": "2023-11-13T14:13:17.488Z"
   },
   {
    "duration": 173,
    "start_time": "2023-11-13T14:13:17.532Z"
   },
   {
    "duration": 3,
    "start_time": "2023-11-13T14:37:58.956Z"
   },
   {
    "duration": 114,
    "start_time": "2023-11-13T14:37:58.964Z"
   },
   {
    "duration": 16,
    "start_time": "2023-11-13T14:37:59.080Z"
   },
   {
    "duration": 12,
    "start_time": "2023-11-13T14:37:59.128Z"
   },
   {
    "duration": 15,
    "start_time": "2023-11-13T14:37:59.142Z"
   },
   {
    "duration": 24,
    "start_time": "2023-11-13T14:37:59.160Z"
   },
   {
    "duration": 4,
    "start_time": "2023-11-13T14:37:59.186Z"
   },
   {
    "duration": 179,
    "start_time": "2023-11-13T14:37:59.192Z"
   },
   {
    "duration": 227,
    "start_time": "2023-11-13T14:37:59.373Z"
   },
   {
    "duration": 159,
    "start_time": "2023-11-13T14:37:59.602Z"
   },
   {
    "duration": 154,
    "start_time": "2023-11-13T14:37:59.762Z"
   },
   {
    "duration": 193,
    "start_time": "2023-11-13T14:37:59.918Z"
   },
   {
    "duration": 48,
    "start_time": "2023-11-13T14:38:00.113Z"
   },
   {
    "duration": 153,
    "start_time": "2023-11-13T14:38:00.163Z"
   },
   {
    "duration": 175,
    "start_time": "2023-11-13T14:38:00.318Z"
   },
   {
    "duration": 187,
    "start_time": "2023-11-13T14:38:00.494Z"
   },
   {
    "duration": 193,
    "start_time": "2023-11-13T14:38:00.683Z"
   },
   {
    "duration": 27,
    "start_time": "2023-11-13T14:38:00.877Z"
   },
   {
    "duration": 5,
    "start_time": "2023-11-13T14:38:00.906Z"
   },
   {
    "duration": 19,
    "start_time": "2023-11-13T14:38:00.933Z"
   },
   {
    "duration": 36,
    "start_time": "2023-11-13T14:38:00.956Z"
   },
   {
    "duration": 49,
    "start_time": "2023-11-13T14:38:00.994Z"
   },
   {
    "duration": 177,
    "start_time": "2023-11-13T14:38:01.045Z"
   },
   {
    "duration": 165,
    "start_time": "2023-11-13T14:38:01.224Z"
   },
   {
    "duration": 3,
    "start_time": "2023-11-13T14:44:14.366Z"
   },
   {
    "duration": 118,
    "start_time": "2023-11-13T14:44:14.371Z"
   },
   {
    "duration": 28,
    "start_time": "2023-11-13T14:44:14.528Z"
   },
   {
    "duration": 4,
    "start_time": "2023-11-13T14:44:14.561Z"
   },
   {
    "duration": 11,
    "start_time": "2023-11-13T14:44:14.566Z"
   },
   {
    "duration": 13,
    "start_time": "2023-11-13T14:44:14.579Z"
   },
   {
    "duration": 4,
    "start_time": "2023-11-13T14:44:14.594Z"
   },
   {
    "duration": 136,
    "start_time": "2023-11-13T14:44:14.688Z"
   },
   {
    "duration": 76,
    "start_time": "2023-11-13T14:44:14.825Z"
   },
   {
    "duration": 163,
    "start_time": "2023-11-13T14:44:14.902Z"
   },
   {
    "duration": 190,
    "start_time": "2023-11-13T14:44:15.068Z"
   },
   {
    "duration": 336,
    "start_time": "2023-11-13T14:44:15.261Z"
   },
   {
    "duration": 50,
    "start_time": "2023-11-13T14:44:15.599Z"
   },
   {
    "duration": 166,
    "start_time": "2023-11-13T14:44:15.651Z"
   },
   {
    "duration": 201,
    "start_time": "2023-11-13T14:44:15.819Z"
   },
   {
    "duration": 217,
    "start_time": "2023-11-13T14:44:16.022Z"
   },
   {
    "duration": 205,
    "start_time": "2023-11-13T14:44:16.247Z"
   },
   {
    "duration": 32,
    "start_time": "2023-11-13T14:44:16.455Z"
   },
   {
    "duration": 6,
    "start_time": "2023-11-13T14:44:16.488Z"
   },
   {
    "duration": 11,
    "start_time": "2023-11-13T14:44:16.495Z"
   },
   {
    "duration": 26,
    "start_time": "2023-11-13T14:44:16.509Z"
   },
   {
    "duration": 14,
    "start_time": "2023-11-13T14:44:16.538Z"
   },
   {
    "duration": 196,
    "start_time": "2023-11-13T14:44:16.556Z"
   },
   {
    "duration": 171,
    "start_time": "2023-11-13T14:44:16.757Z"
   },
   {
    "duration": 1563,
    "start_time": "2023-11-13T15:01:37.460Z"
   },
   {
    "duration": 435,
    "start_time": "2023-11-13T15:01:39.025Z"
   },
   {
    "duration": 18,
    "start_time": "2023-11-13T15:01:39.462Z"
   },
   {
    "duration": 6,
    "start_time": "2023-11-13T15:01:39.482Z"
   },
   {
    "duration": 109,
    "start_time": "2023-11-13T15:01:39.490Z"
   },
   {
    "duration": 13,
    "start_time": "2023-11-13T15:01:39.601Z"
   },
   {
    "duration": 13,
    "start_time": "2023-11-13T15:01:39.616Z"
   },
   {
    "duration": 173,
    "start_time": "2023-11-13T15:01:39.631Z"
   },
   {
    "duration": 99,
    "start_time": "2023-11-13T15:01:39.805Z"
   },
   {
    "duration": 188,
    "start_time": "2023-11-13T15:01:39.907Z"
   },
   {
    "duration": 205,
    "start_time": "2023-11-13T15:01:40.097Z"
   },
   {
    "duration": 209,
    "start_time": "2023-11-13T15:01:40.304Z"
   },
   {
    "duration": 46,
    "start_time": "2023-11-13T15:01:40.514Z"
   },
   {
    "duration": 166,
    "start_time": "2023-11-13T15:01:40.561Z"
   },
   {
    "duration": 182,
    "start_time": "2023-11-13T15:01:40.728Z"
   },
   {
    "duration": 187,
    "start_time": "2023-11-13T15:01:40.912Z"
   },
   {
    "duration": 197,
    "start_time": "2023-11-13T15:01:41.102Z"
   },
   {
    "duration": 35,
    "start_time": "2023-11-13T15:01:41.301Z"
   },
   {
    "duration": 6,
    "start_time": "2023-11-13T15:01:41.338Z"
   },
   {
    "duration": 27,
    "start_time": "2023-11-13T15:01:41.346Z"
   },
   {
    "duration": 6,
    "start_time": "2023-11-13T15:01:41.375Z"
   },
   {
    "duration": 8,
    "start_time": "2023-11-13T15:01:41.383Z"
   },
   {
    "duration": 192,
    "start_time": "2023-11-13T15:01:41.392Z"
   },
   {
    "duration": 233,
    "start_time": "2023-11-13T15:01:41.586Z"
   }
  ],
  "kernelspec": {
   "display_name": "Python 3 (ipykernel)",
   "language": "python",
   "name": "python3"
  },
  "language_info": {
   "codemirror_mode": {
    "name": "ipython",
    "version": 3
   },
   "file_extension": ".py",
   "mimetype": "text/x-python",
   "name": "python",
   "nbconvert_exporter": "python",
   "pygments_lexer": "ipython3",
   "version": "3.11.7"
  },
  "toc": {
   "base_numbering": 1,
   "nav_menu": {},
   "number_sections": true,
   "sideBar": true,
   "skip_h1_title": true,
   "title_cell": "Table of Contents",
   "title_sidebar": "Contents",
   "toc_cell": false,
   "toc_position": {},
   "toc_section_display": true,
   "toc_window_display": false
  }
 },
 "nbformat": 4,
 "nbformat_minor": 5
}
